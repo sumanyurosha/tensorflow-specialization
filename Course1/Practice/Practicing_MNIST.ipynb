{
  "nbformat": 4,
  "nbformat_minor": 0,
  "metadata": {
    "colab": {
      "name": "Practicing MNIST.ipynb",
      "provenance": [],
      "authorship_tag": "ABX9TyOk3AsFF6uod/cHFN0gMjmG",
      "include_colab_link": true
    },
    "kernelspec": {
      "name": "python3",
      "display_name": "Python 3"
    }
  },
  "cells": [
    {
      "cell_type": "markdown",
      "metadata": {
        "id": "view-in-github",
        "colab_type": "text"
      },
      "source": [
        "<a href=\"https://colab.research.google.com/github/sumanyurosha/tensorflow-specialization/blob/master/Course1/Practice/Practicing_MNIST.ipynb\" target=\"_parent\"><img src=\"https://colab.research.google.com/assets/colab-badge.svg\" alt=\"Open In Colab\"/></a>"
      ]
    },
    {
      "cell_type": "code",
      "metadata": {
        "colab": {
          "base_uri": "https://localhost:8080/"
        },
        "id": "JfWsHNg9fWWm",
        "outputId": "1f96058e-47ad-4c46-b9bc-787f4cc72992"
      },
      "source": [
        "import tensorflow as tf\r\n",
        "print(tf.__version__)"
      ],
      "execution_count": 1,
      "outputs": [
        {
          "output_type": "stream",
          "text": [
            "2.3.0\n"
          ],
          "name": "stdout"
        }
      ]
    },
    {
      "cell_type": "code",
      "metadata": {
        "colab": {
          "base_uri": "https://localhost:8080/"
        },
        "id": "OC2dyM6AfnWU",
        "outputId": "e563f6bc-5c0d-456f-8646-33aa2e8eb6dc"
      },
      "source": [
        "mnist = tf.keras.datasets.fashion_mnist\r\n",
        "\r\n",
        "(training_images, training_labels) , (testing_images, testing_labels) = mnist.load_data()\r\n",
        "\r\n",
        "print(len(training_images))\r\n",
        "print(len(testing_images))"
      ],
      "execution_count": 3,
      "outputs": [
        {
          "output_type": "stream",
          "text": [
            "60000\n",
            "10000\n"
          ],
          "name": "stdout"
        }
      ]
    },
    {
      "cell_type": "code",
      "metadata": {
        "colab": {
          "base_uri": "https://localhost:8080/"
        },
        "id": "ziuI9DMahOvg",
        "outputId": "aaf14408-4bee-4709-cc45-ba481c672247"
      },
      "source": [
        "testing_images.shape"
      ],
      "execution_count": 10,
      "outputs": [
        {
          "output_type": "execute_result",
          "data": {
            "text/plain": [
              "(10000, 28, 28)"
            ]
          },
          "metadata": {
            "tags": []
          },
          "execution_count": 10
        }
      ]
    },
    {
      "cell_type": "code",
      "metadata": {
        "id": "nnHTeNoMf3YV"
      },
      "source": [
        "training_images = training_images / 255.\r\n",
        "testing_images = testing_images / 255."
      ],
      "execution_count": 4,
      "outputs": []
    },
    {
      "cell_type": "code",
      "metadata": {
        "id": "PRCoyLIKgXMd"
      },
      "source": [
        "import numpy as np\r\n",
        "from tensorflow import keras"
      ],
      "execution_count": 5,
      "outputs": []
    },
    {
      "cell_type": "code",
      "metadata": {
        "colab": {
          "base_uri": "https://localhost:8080/"
        },
        "id": "c8RSLNRdgbM8",
        "outputId": "a25f4221-e3ec-489f-cdc2-87bebf6fcbd4"
      },
      "source": [
        "class MyCallback(keras.callbacks.Callback):\r\n",
        "    def on_epoch_end(self, epoch, logs={}):\r\n",
        "        if (logs.get(\"loss\") < 0.4):\r\n",
        "            print(\"\\nStopping training since loss is less than 0.4 !!\")\r\n",
        "            self.model.stop_training = True\r\n",
        "\r\n",
        "callback = MyCallback()\r\n",
        "\r\n",
        "model = keras.models.Sequential([\r\n",
        "    keras.layers.Flatten(),\r\n",
        "    keras.layers.Dense(128, activation=\"relu\"),\r\n",
        "    keras.layers.Dense(10, activation=\"softmax\")\r\n",
        "    ])\r\n",
        "\r\n",
        "model.compile(loss=\"sparse_categorical_crossentropy\",\r\n",
        "              optimizer=\"SGD\",\r\n",
        "              metrics=[\"accuracy\"])\r\n",
        "\r\n",
        "model.fit(training_images, training_labels, epochs=10, callbacks=[callback])"
      ],
      "execution_count": 21,
      "outputs": [
        {
          "output_type": "stream",
          "text": [
            "Epoch 1/10\n",
            "1875/1875 [==============================] - 3s 2ms/step - loss: 0.7378 - accuracy: 0.7623\n",
            "Epoch 2/10\n",
            "1875/1875 [==============================] - 3s 2ms/step - loss: 0.5146 - accuracy: 0.8246\n",
            "Epoch 3/10\n",
            "1875/1875 [==============================] - 3s 2ms/step - loss: 0.4709 - accuracy: 0.8382\n",
            "Epoch 4/10\n",
            "1875/1875 [==============================] - 3s 2ms/step - loss: 0.4465 - accuracy: 0.8451\n",
            "Epoch 5/10\n",
            "1875/1875 [==============================] - 3s 2ms/step - loss: 0.4278 - accuracy: 0.8515\n",
            "Epoch 6/10\n",
            "1875/1875 [==============================] - 3s 2ms/step - loss: 0.4139 - accuracy: 0.8577\n",
            "Epoch 7/10\n",
            "1875/1875 [==============================] - 3s 2ms/step - loss: 0.4030 - accuracy: 0.8591\n",
            "Epoch 8/10\n",
            "1870/1875 [============================>.] - ETA: 0s - loss: 0.3926 - accuracy: 0.8637Stopping training since loss is less than 0.4 !!\n",
            "1875/1875 [==============================] - 3s 2ms/step - loss: 0.3927 - accuracy: 0.8637\n"
          ],
          "name": "stdout"
        },
        {
          "output_type": "execute_result",
          "data": {
            "text/plain": [
              "<tensorflow.python.keras.callbacks.History at 0x7fdf23d0f860>"
            ]
          },
          "metadata": {
            "tags": []
          },
          "execution_count": 21
        }
      ]
    },
    {
      "cell_type": "code",
      "metadata": {
        "colab": {
          "base_uri": "https://localhost:8080/"
        },
        "id": "vdFaxDR3hEPo",
        "outputId": "4d0d6cce-4997-4972-dab7-973434aee54e"
      },
      "source": [
        "model.evaluate(testing_images, testing_labels)"
      ],
      "execution_count": 18,
      "outputs": [
        {
          "output_type": "stream",
          "text": [
            "313/313 [==============================] - 0s 1ms/step - loss: 0.5734 - accuracy: 0.8054\n"
          ],
          "name": "stdout"
        },
        {
          "output_type": "execute_result",
          "data": {
            "text/plain": [
              "[0.5733595490455627, 0.805400013923645]"
            ]
          },
          "metadata": {
            "tags": []
          },
          "execution_count": 18
        }
      ]
    },
    {
      "cell_type": "code",
      "metadata": {
        "id": "2fTfnToJkZtI"
      },
      "source": [
        ""
      ],
      "execution_count": null,
      "outputs": []
    }
  ]
}