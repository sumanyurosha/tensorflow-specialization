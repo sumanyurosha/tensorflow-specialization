{
  "nbformat": 4,
  "nbformat_minor": 0,
  "metadata": {
    "colab": {
      "name": "Customizing Models and Training Algorithm.ipynb",
      "provenance": [],
      "authorship_tag": "ABX9TyOFhOS5vCV4Idp9RqmclN41",
      "include_colab_link": true
    },
    "kernelspec": {
      "name": "python3",
      "display_name": "Python 3"
    }
  },
  "cells": [
    {
      "cell_type": "markdown",
      "metadata": {
        "id": "view-in-github",
        "colab_type": "text"
      },
      "source": [
        "<a href=\"https://colab.research.google.com/github/sumanyurosha/tensorflow-specialization/blob/master/Hands-on%20ML/chapter12/Customizing_Models_and_Training_Algorithm.ipynb\" target=\"_parent\"><img src=\"https://colab.research.google.com/assets/colab-badge.svg\" alt=\"Open In Colab\"/></a>"
      ]
    },
    {
      "cell_type": "code",
      "metadata": {
        "id": "6AzVdDE09RHy",
        "colab_type": "code",
        "colab": {}
      },
      "source": [
        "import tensorflow as tf\n",
        "from tensorflow import keras"
      ],
      "execution_count": 1,
      "outputs": []
    },
    {
      "cell_type": "markdown",
      "metadata": {
        "id": "eNGg2TV1uSob",
        "colab_type": "text"
      },
      "source": [
        "# **Custom Loss Functions**"
      ]
    },
    {
      "cell_type": "code",
      "metadata": {
        "id": "1D7fgbElx_d0",
        "colab_type": "code",
        "colab": {
          "base_uri": "https://localhost:8080/",
          "height": 289
        },
        "outputId": "b3fc4286-50b6-4063-ace6-6a10807b99ef"
      },
      "source": [
        "model = tf.keras.models.Sequential([\n",
        "    tf.keras.layers.Flatten(input_shape=[28, 28]),\n",
        "    tf.keras.layers.Dense(300, activation='relu'),\n",
        "    tf.keras.layers.Dense(100, activation='relu'),\n",
        "    tf.keras.layers.Dense(10, activation='softmax')\n",
        "])\n",
        "\n",
        "model.summary()"
      ],
      "execution_count": 2,
      "outputs": [
        {
          "output_type": "stream",
          "text": [
            "Model: \"sequential\"\n",
            "_________________________________________________________________\n",
            "Layer (type)                 Output Shape              Param #   \n",
            "=================================================================\n",
            "flatten (Flatten)            (None, 784)               0         \n",
            "_________________________________________________________________\n",
            "dense (Dense)                (None, 300)               235500    \n",
            "_________________________________________________________________\n",
            "dense_1 (Dense)              (None, 100)               30100     \n",
            "_________________________________________________________________\n",
            "dense_2 (Dense)              (None, 10)                1010      \n",
            "=================================================================\n",
            "Total params: 266,610\n",
            "Trainable params: 266,610\n",
            "Non-trainable params: 0\n",
            "_________________________________________________________________\n"
          ],
          "name": "stdout"
        }
      ]
    },
    {
      "cell_type": "code",
      "metadata": {
        "id": "0Ajg0gSxuQGE",
        "colab_type": "code",
        "colab": {}
      },
      "source": [
        "def huber_fn(y_true, y_pred):\n",
        "    error = y_true - y_pred\n",
        "    is_error_small = tf.abs(error) < 1\n",
        "    squared_loss = tf.square(error) / 2\n",
        "    linear_loss = tf.abs(error) - 0.5\n",
        "    return tf.where(is_error_small, squared_loss, linear_loss)"
      ],
      "execution_count": 3,
      "outputs": []
    },
    {
      "cell_type": "code",
      "metadata": {
        "id": "2zV00r_lx6K2",
        "colab_type": "code",
        "colab": {}
      },
      "source": [
        "model.compile(loss=huber_fn, optimizer='nadam')"
      ],
      "execution_count": 4,
      "outputs": []
    },
    {
      "cell_type": "code",
      "metadata": {
        "id": "EQJNxiA3zLGr",
        "colab_type": "code",
        "colab": {}
      },
      "source": [
        "tf.keras.models.save_model(model, 'my_model_with_custom_loss.h5')"
      ],
      "execution_count": 5,
      "outputs": []
    },
    {
      "cell_type": "code",
      "metadata": {
        "id": "O2sCYA35zxyS",
        "colab_type": "code",
        "colab": {}
      },
      "source": [
        "model = tf.keras.models.load_model('my_model_with_custom_loss.h5', \n",
        "                            custom_objects={'huber_fn': huber_fn})"
      ],
      "execution_count": 6,
      "outputs": []
    },
    {
      "cell_type": "markdown",
      "metadata": {
        "id": "PPCJDz_D1P1l",
        "colab_type": "text"
      },
      "source": [
        "# What if you want to add a threshold to measure whether the error is small or not? "
      ]
    },
    {
      "cell_type": "code",
      "metadata": {
        "id": "ZXdLxePHyen6",
        "colab_type": "code",
        "colab": {}
      },
      "source": [
        "def create_hubor(threshold=1):\n",
        "    def huber_fn(y_true, y_pred):\n",
        "        error = y_true - y_pred\n",
        "        is_error_small = tf.abs(error) < 1\n",
        "        squared_loss = tf.square(error) / 2\n",
        "        linear_loss = threshold * tf.abs(error) - threshold**2 / 2\n",
        "        return tf.where(is_error_small, squared_loss, linear_loss)\n",
        "    return huber_fn\n"
      ],
      "execution_count": 7,
      "outputs": []
    },
    {
      "cell_type": "code",
      "metadata": {
        "id": "BU34_n1_0wt0",
        "colab_type": "code",
        "colab": {}
      },
      "source": [
        "model.compile(loss=create_hubor(2.0), optimizer='nadam')"
      ],
      "execution_count": 8,
      "outputs": []
    },
    {
      "cell_type": "code",
      "metadata": {
        "id": "UFTXTuqW04VJ",
        "colab_type": "code",
        "colab": {}
      },
      "source": [
        "tf.keras.models.save_model(model, 'my_model_with_custom_loss_2.h5')"
      ],
      "execution_count": 9,
      "outputs": []
    },
    {
      "cell_type": "code",
      "metadata": {
        "id": "2mITNewE0Ifv",
        "colab_type": "code",
        "colab": {}
      },
      "source": [
        "model = tf.keras.models.load_model('my_model_with_custom_loss_2.h5', \n",
        "                                   custom_objects={'huber_fn': create_hubor(2.0)})"
      ],
      "execution_count": 10,
      "outputs": []
    },
    {
      "cell_type": "markdown",
      "metadata": {
        "id": "_WAgWZms1aF2",
        "colab_type": "text"
      },
      "source": [
        "# You have to pass the threshold whenever you load the model, so we can overcome this problem by subclassing keras.losses.Loss class"
      ]
    },
    {
      "cell_type": "code",
      "metadata": {
        "id": "KcX1xM0t0m-l",
        "colab_type": "code",
        "colab": {}
      },
      "source": [
        "class HuborLoss(keras.losses.Loss):\n",
        "    def __init__(self, threshold=1.0, **kwargs):\n",
        "        self.threshold = threshold\n",
        "        super().__init__(**kwargs)\n",
        "\n",
        "    def call(self, y_true, y_pred):\n",
        "        error = y_true - y_pred\n",
        "        is_error_small = tf.abs(error) < 1\n",
        "        squared_loss = tf.square(error) / 2\n",
        "        linear_loss = threshold * tf.abs(error) - threshold**2 / 2\n",
        "        return tf.where(is_error_small, squared_loss, linear_loss)\n",
        "    \n",
        "    def get_config(self):\n",
        "        base_config = super().get_config()\n",
        "        return {**base_config, 'threshold': self.threshold}"
      ],
      "execution_count": 11,
      "outputs": []
    },
    {
      "cell_type": "code",
      "metadata": {
        "id": "suNQcZB92yBS",
        "colab_type": "code",
        "colab": {}
      },
      "source": [
        "model.compile(loss=HuborLoss(2.), optimizer='nadam')"
      ],
      "execution_count": 12,
      "outputs": []
    },
    {
      "cell_type": "code",
      "metadata": {
        "id": "RRF2jaWP4mxk",
        "colab_type": "code",
        "colab": {}
      },
      "source": [
        "keras.models.save_model(model, 'my_model_with_custom_loss_3.h5')"
      ],
      "execution_count": 13,
      "outputs": []
    },
    {
      "cell_type": "code",
      "metadata": {
        "id": "9SAQPRQM4wmi",
        "colab_type": "code",
        "colab": {}
      },
      "source": [
        "model = keras.models.load_model('my_model_with_custom_loss_3.h5', \n",
        "                                custom_objects={'HuborLoss': HuborLoss})"
      ],
      "execution_count": 14,
      "outputs": []
    },
    {
      "cell_type": "markdown",
      "metadata": {
        "id": "SB5MDTE56wUD",
        "colab_type": "text"
      },
      "source": [
        "# **Custom Activation**"
      ]
    },
    {
      "cell_type": "code",
      "metadata": {
        "id": "5BZmUXzC490u",
        "colab_type": "code",
        "colab": {}
      },
      "source": [
        "def my_softplus(z):\n",
        "    return tf.log(tf.exp(z) + 1.)"
      ],
      "execution_count": 15,
      "outputs": []
    },
    {
      "cell_type": "markdown",
      "metadata": {
        "id": "O3xt4Cuk6_Lc",
        "colab_type": "text"
      },
      "source": [
        "# **Custom Initializer**"
      ]
    },
    {
      "cell_type": "code",
      "metadata": {
        "id": "loasdVnE6-rT",
        "colab_type": "code",
        "colab": {}
      },
      "source": [
        "def my_glorot_initializer(shape, dtype=tf.float32):\n",
        "    stddev = tf.sqrt(2. / shape[0] + shape[1])\n",
        "    return tf.random.normal(shape, stdev=stdev, dtype=dtype)"
      ],
      "execution_count": 16,
      "outputs": []
    },
    {
      "cell_type": "markdown",
      "metadata": {
        "id": "MVJK50av7oeN",
        "colab_type": "text"
      },
      "source": [
        "# Custom Regularizer"
      ]
    },
    {
      "cell_type": "code",
      "metadata": {
        "id": "bPlfcL7X8Sdu",
        "colab_type": "code",
        "colab": {}
      },
      "source": [
        "def my_l1_regularizer(weights):\n",
        "    return tf.reduce_sum(tf.abs(0.01 * weights))"
      ],
      "execution_count": 17,
      "outputs": []
    },
    {
      "cell_type": "markdown",
      "metadata": {
        "id": "3y3AcdzB8S6q",
        "colab_type": "text"
      },
      "source": [
        "# **Custom Constraint**"
      ]
    },
    {
      "cell_type": "code",
      "metadata": {
        "id": "V5itC0937rvV",
        "colab_type": "code",
        "colab": {}
      },
      "source": [
        "def my_postivie_weight(weights):\n",
        "    return tf.where(weights < 0., tf.zeros_like(weights), weights)"
      ],
      "execution_count": 18,
      "outputs": []
    },
    {
      "cell_type": "code",
      "metadata": {
        "id": "pw5O8PRB8iKl",
        "colab_type": "code",
        "colab": {}
      },
      "source": [
        "layer = keras.layers.Dense(30, \n",
        "                           activation=my_softplus,\n",
        "                           kernel_initializer=my_glorot_initializer,\n",
        "                           kernel_regularizer=my_l1_regularizer,\n",
        "                           kernel_constraint=my_postivie_weight)"
      ],
      "execution_count": 19,
      "outputs": []
    },
    {
      "cell_type": "markdown",
      "metadata": {
        "id": "sxpsEtCR9dIl",
        "colab_type": "text"
      },
      "source": [
        "**If for a function we need to save the hyperparameter with the model, we will have to subclass it**"
      ]
    },
    {
      "cell_type": "code",
      "metadata": {
        "id": "KA_3cbpK9nGY",
        "colab_type": "code",
        "colab": {}
      },
      "source": [
        "class MyL1Regularizer(keras.regularizers.Regularizer):\n",
        "    def __init__(self, factor):\n",
        "        super().__init__()\n",
        "        self.factor = factor\n",
        "\n",
        "    def __call__(self, weights):\n",
        "        return tf.reduce_sum(tf.abs(self.factor * weights))\n",
        "\n",
        "    def get_config(self):\n",
        "        return {'factor': self.factor}"
      ],
      "execution_count": 20,
      "outputs": []
    },
    {
      "cell_type": "markdown",
      "metadata": {
        "id": "SJKs42JMD1Cb",
        "colab_type": "text"
      },
      "source": [
        "# **Custom Metrics**\n"
      ]
    },
    {
      "cell_type": "code",
      "metadata": {
        "id": "bikRMGJW-RgQ",
        "colab_type": "code",
        "colab": {}
      },
      "source": [
        "class HuborMetric(keras.metrics.Metric):\n",
        "    def __init__(self, threshold=1., **kwargs):\n",
        "        super().__init(**kwargs)\n",
        "        self.threshold = threshold\n",
        "        self.hubor_fn = create_hubor(threshold)\n",
        "        self.total = self.add_weight('total', initializer='zeros'),\n",
        "        self.count = self.add_weight('count', initializer='zeros')\n",
        "    \n",
        "    def update_state(self, y_true, y_pred):\n",
        "        metric = self.hubor_fn(y_true, y_pred)\n",
        "        self.total.assign_add(tf.reduce_sum(metric))\n",
        "        self.total.assign_add(tf.cast(tf.size(y_true)), dtype=tf.float32)\n",
        "\n",
        "    def result(self):\n",
        "        return self.total / self.count\n",
        "\n",
        "    def get_config(self):\n",
        "        base_config = super().get_config()\n",
        "        return {**base_config, 'threshold': self.threshold}\n"
      ],
      "execution_count": 21,
      "outputs": []
    },
    {
      "cell_type": "markdown",
      "metadata": {
        "id": "AteMWeK2-hTF",
        "colab_type": "text"
      },
      "source": [
        "# **Custom Layers**"
      ]
    },
    {
      "cell_type": "code",
      "metadata": {
        "id": "XICSi9yf--W0",
        "colab_type": "code",
        "colab": {}
      },
      "source": [
        "my_exponential_layer = keras.layers.Lambda(lambda x: tf.exp(x))"
      ],
      "execution_count": 22,
      "outputs": []
    },
    {
      "cell_type": "code",
      "metadata": {
        "id": "5EyBkn87GC_q",
        "colab_type": "code",
        "colab": {}
      },
      "source": [
        "class MyDenseLayer(keras.layers.Layer):\n",
        "    def __init__(self, units, activation=None, **kwargs):\n",
        "        self.units = units\n",
        "        self.activation = keras.activations.get(activation)\n",
        "        super().__init__(**kwargs)\n",
        "\n",
        "    def build(self, batch_input_shape):\n",
        "        self.kernel = self.add_weight(name='kernel',\n",
        "                                      shape=[batch_input_shape[-1], self.units],\n",
        "                                      initializer='glorot_normal')\n",
        "        self.bias = self.add_weight(name='bias', shape=[self.units], initializer='zeros')\n",
        "        super().build(batch_input_shape)\n",
        "\n",
        "    def call(self, X):\n",
        "        return self.activation(X @ self.kernel + self.bias)\n",
        "\n",
        "    def compute_output_shape(self, batch_input_shape):\n",
        "        return tf.tensorShape(batch_input_shape.as_list()[:-1] + [self.units])\n",
        "\n",
        "    def get_config(self):\n",
        "        base_config = super().get_config()\n",
        "        return {**base_config, 'units': self.units,\n",
        "                'activation': keras.activations.serialize(self.activation)}"
      ],
      "execution_count": 23,
      "outputs": []
    },
    {
      "cell_type": "code",
      "metadata": {
        "id": "BH-N52i0Fs4y",
        "colab_type": "code",
        "colab": {
          "base_uri": "https://localhost:8080/",
          "height": 289
        },
        "outputId": "46be51e7-3960-4366-d611-10dabc2bc4e1"
      },
      "source": [
        "model_with_custom_layers = keras.models.Sequential([\n",
        "    keras.layers.Flatten(input_shape=[28, 28]),\n",
        "    MyDenseLayer(300, activation='relu'),\n",
        "    MyDenseLayer(100, activation='relu'),\n",
        "    MyDenseLayer(10, activation='softmax')\n",
        "])\n",
        "\n",
        "model_with_custom_layers.summary()"
      ],
      "execution_count": 24,
      "outputs": [
        {
          "output_type": "stream",
          "text": [
            "Model: \"sequential_1\"\n",
            "_________________________________________________________________\n",
            "Layer (type)                 Output Shape              Param #   \n",
            "=================================================================\n",
            "flatten_1 (Flatten)          (None, 784)               0         \n",
            "_________________________________________________________________\n",
            "my_dense_layer (MyDenseLayer (None, 300)               235500    \n",
            "_________________________________________________________________\n",
            "my_dense_layer_1 (MyDenseLay (None, 100)               30100     \n",
            "_________________________________________________________________\n",
            "my_dense_layer_2 (MyDenseLay (None, 10)                1010      \n",
            "=================================================================\n",
            "Total params: 266,610\n",
            "Trainable params: 266,610\n",
            "Non-trainable params: 0\n",
            "_________________________________________________________________\n"
          ],
          "name": "stdout"
        }
      ]
    },
    {
      "cell_type": "code",
      "metadata": {
        "id": "PlZWc0QuIMtq",
        "colab_type": "code",
        "colab": {
          "base_uri": "https://localhost:8080/",
          "height": 102
        },
        "outputId": "eb54654a-54a0-4589-ac14-6dac19a7027a"
      },
      "source": [
        "model_with_custom_layers.layers[1].get_config()"
      ],
      "execution_count": 25,
      "outputs": [
        {
          "output_type": "execute_result",
          "data": {
            "text/plain": [
              "{'activation': 'relu',\n",
              " 'dtype': 'float32',\n",
              " 'name': 'my_dense_layer',\n",
              " 'trainable': True,\n",
              " 'units': 300}"
            ]
          },
          "metadata": {
            "tags": []
          },
          "execution_count": 25
        }
      ]
    },
    {
      "cell_type": "code",
      "metadata": {
        "id": "QklAVPwpIRiN",
        "colab_type": "code",
        "colab": {
          "base_uri": "https://localhost:8080/",
          "height": 255
        },
        "outputId": "51b79bda-7448-43a3-e19c-70f731db9578"
      },
      "source": [
        "model.layers[1].get_config()"
      ],
      "execution_count": 26,
      "outputs": [
        {
          "output_type": "execute_result",
          "data": {
            "text/plain": [
              "{'activation': 'relu',\n",
              " 'activity_regularizer': None,\n",
              " 'bias_constraint': None,\n",
              " 'bias_initializer': {'class_name': 'Zeros', 'config': {}},\n",
              " 'bias_regularizer': None,\n",
              " 'dtype': 'float32',\n",
              " 'kernel_constraint': None,\n",
              " 'kernel_initializer': {'class_name': 'GlorotUniform',\n",
              "  'config': {'seed': None}},\n",
              " 'kernel_regularizer': None,\n",
              " 'name': 'dense',\n",
              " 'trainable': True,\n",
              " 'units': 300,\n",
              " 'use_bias': True}"
            ]
          },
          "metadata": {
            "tags": []
          },
          "execution_count": 26
        }
      ]
    },
    {
      "cell_type": "markdown",
      "metadata": {
        "id": "4xFB8uMwMHV0",
        "colab_type": "text"
      },
      "source": [
        "### **Let's try to make a custom Model based on below Architecture**\n",
        "\n",
        "![CustomModel.jpg](data:image/jpeg;base64,/9j/4AAQSkZJRgABAQEAYABgAAD/2wBDAAIBAQIBAQICAgICAgICAwUDAwMDAwYEBAMFBwYHBwcGBwcICQsJCAgKCAcHCg0KCgsMDAwMBwkODw0MDgsMDAz/2wBDAQICAgMDAwYDAwYMCAcIDAwMDAwMDAwMDAwMDAwMDAwMDAwMDAwMDAwMDAwMDAwMDAwMDAwMDAwMDAwMDAwMDAz/wAARCAJZA1EDASIAAhEBAxEB/8QAHwAAAQUBAQEBAQEAAAAAAAAAAAECAwQFBgcICQoL/8QAtRAAAgEDAwIEAwUFBAQAAAF9AQIDAAQRBRIhMUEGE1FhByJxFDKBkaEII0KxwRVS0fAkM2JyggkKFhcYGRolJicoKSo0NTY3ODk6Q0RFRkdISUpTVFVWV1hZWmNkZWZnaGlqc3R1dnd4eXqDhIWGh4iJipKTlJWWl5iZmqKjpKWmp6ipqrKztLW2t7i5usLDxMXGx8jJytLT1NXW19jZ2uHi4+Tl5ufo6erx8vP09fb3+Pn6/8QAHwEAAwEBAQEBAQEBAQAAAAAAAAECAwQFBgcICQoL/8QAtREAAgECBAQDBAcFBAQAAQJ3AAECAxEEBSExBhJBUQdhcRMiMoEIFEKRobHBCSMzUvAVYnLRChYkNOEl8RcYGRomJygpKjU2Nzg5OkNERUZHSElKU1RVVldYWVpjZGVmZ2hpanN0dXZ3eHl6goOEhYaHiImKkpOUlZaXmJmaoqOkpaanqKmqsrO0tba3uLm6wsPExcbHyMnK0tPU1dbX2Nna4uPk5ebn6Onq8vP09fb3+Pn6/9oADAMBAAIRAxEAPwD9/KKKKACiiigAooooAKKKKACiiigAooooAKKKKACiiigAooooAKKKKACiiigAooooAKKKKACiiigAooooAKKKKACiiigAooooAKKKKACiiigAooooAKKKKACiiigAooooAKKKKACiiigAooooAKKKKACiiigAooooAKKKKACiiigAooooAKKKKACiiigAooooAKKKKACiiigAooooAKKKKACiiigAooooAKKKKACiiigAooooAKKKKACiiigAooooAKKKKACiiigAooooAKKKKACiiigAooooAKKKKACiiigAooooAKKKKACiiigAooooAKKKKACiiigAooooAKKKKACiiigAooooAKKKKACiiigAooooAKKKKACiiigAorN8Y+KLXwR4R1TWb6RIbPSbSW8nd22qiRoXYk9hgGvJP+CfP7WsX7aX7Muk+M2ihtdTM0tlqdtGflt7iNuQPZkKMPZ6APbaKKKACiiigAooooAKKKKACiiigAooooAKKKKACiiigAooooAKKKKACiiigAooooAKKKKACiiigAooooAKKKKACiiigAooooAKKKKACiiigAooooAKKKKACiiigAooooAKKKKACiiigAooooAKKKKACiiigAooooAKKKKACiiigAooooAKKKKACiiigAooooAKKKKACiiigAooooAKKKKACiiigAooooAKKKKACiiigAooooAKKKKACiiigAooooAKKKKACiiigAooooAKKKKACiiigD4n/wCC6/7Sb/Bj9kE+F9OuPL1n4iXP9mBVPzizUb7ggeh+SP8A7amvlr/g3c+Pt54c+Nnif4c3Dk6X4k086vaoxAEdzblVYr/vRsc4/wCeQ9K+/Pj5+xzofxG+MWq/FPxO/wDbM/hrwzLYeHdNmTNvpkmyV5brH8UrFlC/3dgPXG35a/4JRfss2Xxb/Yv+GnjjSja6V478C+Kby6sdRZD/AKVamYi4spSvJjkjZwOu1jkdwQD9JqKKKACiiigAooooAKKKKACiiigAooooAKKKKACiiigAooooAKKKKACiiigAooooAKKKKACiiigAooooAKKKKACiiigAooooAKKKKACiiigAooooAKKKKACiiigAooooAKKKKACiiigAooooAKKKKACiiigAooooAKKKKACiiigAooooAKKKKACiiigAooooAKKKKACiiigAooooAKKKKACiiigAooooAKKKKACiiigAooooAKKKKACiiigAooooAKKKKACiiigAooooAKKKKACiiigDA+Kv/JL/ABJ/2C7r/wBFNXyp/wAEHf8AlHno3/YY1D/0bX1X8Vf+SX+JP+wXdf8Aopq+VP8Agg7/AMo89G/7DGof+jaAPsqiiigAooooAKKKKACiiigAooooAKKKKACiiigAooooAKKKKACiiigAooooAKKKKACiiigAooooAKKKKACiiigAooooAKKKKACiiigAooooAKKKKACiiigAooooAKKKKACiiigAooooAKKKKACiiigAooooAKKKKACiiigAooooAKKKKACiiigAooooAKKKKACiiigAooooAKKKKACiiigAooooAKKKKACiiigAooooAKKKKACiiigAoorz39of9qDwd+zB4ctL/wAVX8scupzi107T7OBrq/1SY4/dwQJlnPIzgYGRkjIoA9Cor57P7XvxB1hRcaR8E9Y+wyfNEdW8Q2VjcsvYtCpkKZH8LEMO4BpP+Gqvip/0RSL/AMLC1/8Ajdc31ygtOdfeb/Va38r+4+haK+ev+Gqvip/0RSL/AMLC1/8AjdH/AA1V8VP+iKRf+Fha/wDxuj67h/5194/qtb+V/cfQtFfPX/DVXxU/6IpF/wCFha//ABuj/hqr4qf9EUi/8LC1/wDjdH13D/zr7w+q1v5X9x9C0V89f8NVfFT/AKIpF/4WFr/8bo/4aq+Kn/RFIv8AwsLX/wCN0fXcP/OvvD6rW/lf3H0LRXz1/wANVfFT/oikX/hYWv8A8bo/4aq+Kn/RFIv/AAsLX/43R9dw/wDOvvD6rW/lf3H0LRXz1/w1V8VP+iKRf+Fha/8Axuj/AIaq+Kn/AERSL/wsLX/43R9dw/8AOvvD6rW/lf3Hs3xV/wCSX+JP+wXdf+imr5U/4IO/8o89G/7DGof+ja7Txb+0f8VfEvhTU9OX4MQxNqFpLbBz4vtSELoVzjy+2a8j/wCCflv8Xv2Kv2b7LwJefC6z16a0vbm7N3D4pt4FYSvuA2lCePrR9dw/86+8Pqtb+V/cfeVFfPX/AA1V8VP+iKRf+Fha/wDxuj/hqr4qf9EUi/8ACwtf/jdH13D/AM6+8Pqtb+V/cfQtFfPX/DVXxU/6IpF/4WFr/wDG6P8Ahqr4qf8ARFIv/Cwtf/jdH13D/wA6+8Pqtb+V/cfQtFfPX/DVXxU/6IpF/wCFha//ABuj/hqr4qf9EUi/8LC1/wDjdH13D/zr7w+q1v5X9x9C0V89f8NVfFT/AKIpF/4WFr/8bo/4aq+Kn/RFIv8AwsLX/wCN0fXcP/OvvD6rW/lf3H0LRXz1/wANVfFT/oikX/hYWv8A8bo/4aq+Kn/RFIv/AAsLX/43R9dw/wDOvvD6rW/lf3H0LRXz1/w1V8VP+iKRf+Fha/8AxugftXfFCI7pPgmzRrywh8XWbSEf7IZFBP1YD3o+u4f+dfeL6rW/lf3H0LRXkfwP/bL8NfGrx3eeEn07xD4S8Y2FsLuTRdftBbXE0OcGSFlZo50U8Fo3YDIr1yuhNNXRi007MKKKKYgooooAKKKKACiiigAooooAKKKKACiiigAooooAKKKKACiiigAooooAKKKKACiiigAooooAKKKKACiiigAooooAKKKKACiiigAooooAKKKKACiiigAooooAKKKKACiiigAooooAKKKKACiiigAooooAKKKKACiiigAooooAKKKKACiiigAooooAKKKKACiiigAooooAKKKKACvj74b3v/C/f2uvib4y1iCK4TwBqr+DPDKuuf7PSJFa8kUdN8srgFuu2MDOK+wa+Pf2P/8Aka/jf/2U/Wv/AEKOvNzaTWHdup35bFOurntVFFFfIn0oUUUUAFFFFABRRRQAUUUUAFFFFABRRRQAUUUUAFFFFABRRRQAUUUUAFFFFABRRRQB4v8AtyeAZdT+D83jXRZXsPGnwzWTxFoN9GcNFJCu6SFv70csasjKeDkelfUHwm8dJ8UPhX4Z8TRx+VH4i0q11NU/uCaFJAPw3V4d+07/AMm3+Pv+xdv/AP0nkr0n9jn/AJNE+Ff/AGJ+k/8ApFDX02STbpyi+jPBzaKU011PSKKKK9o8kKKKKACiiigAooooAKKKKACiiigAooooAKKKKACiiigAooooAKKKKACiiigAooooAKKKKACiiigAooooAKKKKACiiigAooooAKKKKACiiigAooooAKKKKACiiigAooooAKKKKACiiigAooooAKKKKACiiigAooooAKKKKACiiigAooooAKKKKACiiigAooooAKKKKACiiigAr49/Y/8A+Rr+N/8A2U/Wv/Qo6+wq+Pf2P/8Aka/jf/2U/Wv/AEKOvLzj/d/mj0cr/j/I9qooor5M+jCiiigAooooAKKKKAPhL/gst/wUm+LH7C3j74F+E/hF4X8FeKPEfxl12bQIIPEQnEYuC9rFbhXjmiCBnuMMXJAAHTmvOvEv7b3/AAUb+CPh2fxH4v8A2YfhZ4o0LSwbi+tPCuvP/aBgUZYxobiYswAPCoxPZTWV/wAF7v8AlIP/AME+f+yrQf8Apw0qv1HrvcoU6UHyp3vffucaUp1Jrmatb8jxf9gD9uLwr/wUP/Zg0L4neEorqys9UaW2vNNu2U3WlXcTlJbeXaSMggMDxuR0bA3Yr2ivyb/ZF+PNt+xb+0N/wU317TYx/wAIt4A1K38U2drEo8n+0prS8knRV6DdMkan8PSvlP4IeJ/2Sv2hfgna+Ov2hP2w/iE/7QXiW3OozahYX+qW8fg+4k+ZLe3hjtzFiLgMAdpIITaMGq+pXk2r206X3V/wF9atFJ769bbOx/QhRX4v+HP29fG/7Qv/AAba/HXW9T8b3PiHxf8ADPV28N2/iuzaS2n1a3hv7Fre6L/K+54pcE8MRjdyWrpP2vv+CT2u+Df+Ce3iL9obU/jf8XLr9oTwv4Z/4TKTW4vEEkOnwSQwi4ksoLZMLHAFDIuD1VSeMrUfU0nyzlbW35f5lfWbq8VfS5+vlFflV+2/+198Z/ir/wAEC/hH8SvCV74lttU8Wx6OfiBrXhqHGq2GllHS+urdVwVYyomSuMB25C5I84/Yw+Gn7Nnjf44fD7xB+xr+0hrPh/4iadrcMviHw74x1q+ZfGGmdbuBrW4QF52UfK0eQvJwCAwSwb5XKT2utr7d+w3iVzJJf0+3c/Zyivxz/wCCrn7Xvw/+NH/BU+++CXxk+OPiH4QfA/4a+G7O71jTdIkuYLjxZrF0ouFiaW3jdvJW2mhJ3cAqccvuXl/2KP2rfhR+yz/wVK+E/gT9mr46698Rfgz8Wmu9K17wnq8t7djw1epAXtZ7Z7mNGAkcKvBOAH3Z+XFLAycObra+2n3kvFx5+Xztvr9x+2lFFFcB2BRRRQAUUUUAFFFFAHDftO/8m3+Pv+xdv/8A0nkr0n9jn/k0T4V/9ifpP/pFDXm37Tv/ACbf4+/7F2//APSeSvSf2Of+TRPhX/2J+k/+kUNfSZH8EvU8LN/iiekUUUV7h5AUUUUAFFFFABRRRQAUUUUAFFFFABRRRQAUUUUAFFFFABRRRQAUUUUAFFFFABRRRQAUUUUAFFFFABRRRQAUUUUAFFFFABRRRQAUUUUAFFFFABRRRQAUUUUAFFFFABRRRQAUUUUAFFFFABRRRQAUUUUAFFFFABRRRQAUUUUAFFFFABRRRQAUUUUAFFFFABRRRQAUUUUAFFFFABXx7+x//wAjX8b/APsp+tf+hR19hV8e/sf/API1/G//ALKfrX/oUdeXnH+7/NHo5X/H+R7VRRRXyZ9GFFFFABRRRQAUUUUAfmF/wcH/AA3+JOpfH79kv4gfD74YeMvignwq8ZSeI9T0/wAP2EtxJsgnsJ1jZkRvLMnkuqsQeh4OK0NV/wCCyH7UnxA086V4G/YR+KWneJ7s7La58UXL2ul2/wDtyu0MQOCfu71zjrX6W0V1rEx5FCUE7epzOhLmcoytf0Pgf9k7/gkrrfh//gnL8YvBXxN1a0u/i5+0W2qax401W1cSQW9/dq4hjjO3mOHKnGCNzSbTtIr5/wD2eP24vEP7GX7Pul/Cn4vfsY+PvEHxU8EWKaHp954b8IQ6lpPilYEEcE/2sKdpcKu9gH5yQMnYP14ooWKbv7RXvr2B4dK3I7WPzG+P3wk+Pvxw/wCCBXxa03xz8OdJ074p+Nit7p3g7who4We0tTf2jwwSRRZL3Cxo5YjJCgA8qa+qv27vh5rvjj/glH8UPC2j6RqOp+JNT+Gt9p1ppltA0l1c3LaeyLCkYG4uW+UKBnNfR9FQ8Q207bO/5f5Fqil16WPzf+Ftn+0v+yj/AMESPgcfhT4Ihv8A4g+C7O1PifwZrenuuo31gJJDPbwozKUuOV4IJKltoLYB+W/2yvBvhj/gqzrXhDw98DP2VPiN8I/jK/iG0v8AUPHmqeEx4btfDUEbb7iWW4RlE7g4K/LuJX5fmOD+4lFawxnLJzS1u39/fuZSwvMuVvT+vuPzG/bH+HPjH9gv/gpzr3x+tPg1qXxy+FPxb8P6dpvjCDSdMi1LWPD+oWMfkRXMVuR80bQrFnsSXBK7UDdJ+yx+038RP2yv23/C1z8Ov2d2+E/wK8MwTz+IfEHjPwnFpmr6xcNGRDFYpjchV9uWBb5S+4r8oP6K0VH1m8bOOtrX/wCAX7C0rp6XuFFFFcp0BRRRQAUUUUAFFFFAHDftO/8AJt/j7/sXb/8A9J5K9J/Y5/5NE+Ff/Yn6T/6RQ15t+07/AMm3+Pv+xdv/AP0nkr0n9jn/AJNE+Ff/AGJ+k/8ApFDX0mR/BL1PCzf4onpFFFFe4eQFFFFABRRRQAUUUUAFFFFABRRRQAUUUUAFFFFABRRRQAUUUUAFFFFABRRRQAUUUUAFFFFABRRRQAUUUUAFFFFABRRRQAUUUUAFFFFABRRRQAUUUUAFFFFABRRRQAUUUUAFFFFABRRRQAUUUUAFFFFABRRRQAUUUUAFFFFABRRRQAUUUUAFFFFABRRRQAUUUUAFFFFABRRRQAV8f/ACxuPhv+0v8cfB2oKI57rxL/wl2nsxwbu0v4wSyjuEljdCfUYr7AryP9qP9kPSf2lIdN1GLVtV8I+M/D+46N4j0p9tzZbiC0boflmhYgbo34PYjrXLjMP7ek6Z0YWv7GopklFeSW3ws/ap0BPsi3nwK8RRQfJHqF1Lqen3FyB0eSGOKRFY9SFbGelSf8IL+1T/AM+HwA/8G+r/APyLXzn9kYnt+J7n9pUO/wCB6vRXlH/CC/tU/wDPh8AP/Bvq/wD8i0f8IL+1T/z4fAD/AMG+r/8AyLR/ZOJ7fiP+0qHf8D1eivKP+EF/ap/58PgB/wCDfV//AJFo/wCEF/ap/wCfD4Af+DfV/wD5Fo/snE9vxD+0qHf8D1eivKP+EF/ap/58PgB/4N9X/wDkWj/hBf2qf+fD4Af+DfV//kWj+ycT2/EP7Sod/wAD1eivKP8AhBf2qf8Anw+AH/g31f8A+RaP+EF/ap/58PgB/wCDfV//AJFo/snE9vxD+0qHf8D1eivKP+EF/ap/58PgB/4N9X/+RaP+EF/ap/58PgB/4N9X/wDkWj+ycT2/EP7Sod/wPV6K8jvvCX7Uum2M1xNZfABIYEaSRv7W1c7VAyT/AMevoK439nX4k/tC/tR/CLS/G3hS2+A82i6t5giFxqerRzRMjsjo6/Zjhgynue3rR/ZOJ7fiH9pUO/4H0dRXlH/CC/tU/wDPh8AP/Bvq/wD8i0f8IL+1T/z4fAD/AMG+r/8AyLR/ZOJ7fiH9pUO/4Hq9FeUf8IL+1T/z4fAD/wAG+r//ACLR/wAIL+1T/wA+HwA/8G+r/wDyLR/ZOJ7fiH9pUO/4Hq9FeUf8IL+1T/z4fAD/AMG+r/8AyLR/wgv7VP8Az4fAD/wb6v8A/ItH9k4nt+If2lQ7/ger0V5R/wAIL+1T/wA+HwA/8G+r/wDyLR/wgv7VP/Ph8AP/AAb6v/8AItH9k4nt+If2lQ7/AIHq9FeUf8IL+1T/AM+HwA/8G+r/APyLR/wgv7VP/Ph8AP8Awb6v/wDItH9k4nt+If2lQ7/ger0V5R/wgv7VP/Ph8AP/AAb6v/8AItJJ4B/arkQqtp+z/Cx4Eh1PV5Nnvt+zrn6ZH1FH9k4nt+If2lQ7/gQft2fESLwB+zD4niVftGreJLZtA0izTmS9vLsGGONF6k5YscdlNfRvwM8Cy/C/4J+D/DM7iWfw7odlpkjjo7QwJGT+JWvJfgB+xZqnh74iR+PPij4qj8f+MrVCmlQxWQtdJ8OBvvm1hySZTwDM534GBjnP0JXvZfhHh6dpbs8bG4lVp3WyCiiiu84wooooAKKKKACiiigAooooAKKKKACiiigAooooAKKKKACiiigAooooAKKKKACiiigAooooAKKKKACiiigAooooAKKKKACiiigAooooAKKKKACiiigAooooAKKKKACiiigAooooAKKKKACiiigAooooAKKKKACiiigAooooAKKKKACiiigAooooAKKKKACiiigAooooAKKKKACiiigAooooAKKKKACiiigAooooAKKKKACiiigD5h/4K8ftLn9mn9ifxHPaS+XrXiof2Bp2GwytOrCSQe6xCQj3218n/wDBur+0q3m+LvhRfS5XH/CQ6Vubp9yK4Qf+Qm/76r6K/bv/AGJ9T/bJ+N8Go+K7h7b4X/DnQZry2sYpSJNa1ORXds4+7GipEC3U5Kj+LHzP/wAEoP2Tryw+EPw1+OngmO4k8S6Xrt5pPiTT0lwmr6TJKY5GUE482EMHA/iCD+IDIB+rlFFFABRRRQAUUUUAFFFFABRRRQAUUUUAFFFFABRRRQAUUUUAFFFFABRRRQAUUUUAFFFFABRRRQAUUUUAFFFFABRRRQAUUUUAFFFFABRRRQAUUUUAFFFFABRRRQAUUUUAFFR3V3FYwGWaSOGJcZd2CqM8dTUlABRRRQAUUUUAFFFFABRRRQAUUUUAFFFFABRRRQAUUUUAFFFFABRRRQAUUUUAFFFFABRRRQAUUUUAFFFFABRRRQAUUUUAFFFFABRRRQAUUUUAFFFFABRRRQAUUUUAFFFFABRRRQAUUUUAFFFFABRRRQBgfFX/AJJf4k/7Bd1/6KavlT/gg7/yjz0b/sMah/6Nr6r+Kv8AyS/xJ/2C7r/0U1fKn/BB3/lHno3/AGGNQ/8ARtAH2VRRRQAUUUUAFFFFABRRRQAUUUUAFFFFABRRRQAUUUUAFFFFABRRRQAUUUUAFFFFABRRRQAUUUUAFFFFABRRRQAUUUUAFFFFABRRRQAUUUUAFFFFABRRRQAUUUUAFFFFAHwz/wAF5v2nbz4Ifsu6V4Y0maW11bx7qHlieNirQ21qY5pSp9S5gX6M1fTP7Gnxxf8AaS/Zc8EeNpY1hutd0yOW6RTkLOuY5ce29Gx7EV+VP/BbPxX4k/aJ+Nmva/p0E8nw3+FVxD4UW+Jxby6nLue4WPP3nDLsbHAEK56jP1H/AMEQfEfif4P6Hrnwa8cW81le21vD4r8N+YS0V7p10qmRoW6FVkZWI6hpWBGQaAP0AooooAKKKKACiiigAooooAKKKKACiiigAooooAKKKKACiiigAooooAKKKKACiiigAooooAKKKKACiiigAooooAKKKKACiiigAooooAKKKKACiiigAoorM8YeNNH+Hvh251fXtV07RdKs13T3l/cpbwQjplnchR+JoA06K8Mu/wDgo98JIpiLXXNb1iEEgXOk+GdU1G1kx3SaC3eNh7qxBqL/AIeRfCz/AJ+PG3/hDa3/APIlVyy7C5l3PeKK8H/4eRfCz/n48bf+ENrf/wAiUf8ADyL4Wf8APx42/wDCG1v/AORKOSXYXPHue8UV4P8A8PIvhZ/z8eNv/CG1v/5Eo/4eRfCz/n48bf8AhDa3/wDIlHJLsHPHue8UV4P/AMPIvhZ/z8eNv/CG1v8A+RKP+HkXws/5+PG3/hDa3/8AIlHJLsHPHue8UV4P/wAPIvhZ/wA/Hjb/AMIbW/8A5Eo/4eRfCz/n48bf+ENrf/yJRyS7Bzx7nvFFeD/8PIvhZ/z8eNv/AAhtb/8AkSj/AIeRfCz/AJ+PG3/hDa3/APIlHJLsHPHues/FX/kl/iT/ALBd1/6KavlT/gg7/wAo89G/7DGof+ja7zx//wAFDvhnrngTWrK2l8bSXN3YTwRJ/wAIPrQ3O0bKoybXA5I618//APBJr9p7wz+zD+xxpvhPxtZ+NdH1631K8uJLYeD9VudqSSbkO+K3ZOR70ckuwc8e5+h1FeD/APDyL4Wf8/Hjb/whtb/+RKP+HkXws/5+PG3/AIQ2t/8AyJRyS7Bzx7nvFFeD/wDDyL4Wf8/Hjb/whtb/APkSj/h5F8LP+fjxt/4Q2t//ACJRyS7Bzx7nvFFeD/8ADyL4Wf8APx42/wDCG1v/AORKP+HkXws/5+PG3/hDa3/8iUckuwc8e57xRXg//DyL4Wf8/Hjb/wAIbW//AJEo/wCHkXws/wCfjxt/4Q2t/wDyJRyS7Bzx7nvFFeD/APDyL4Wf8/Hjb/whtb/+RKP+HkXws/5+PG3/AIQ2t/8AyJRyS7Bzx7nvFFeD/wDDyL4Wf8/Hjb/whtb/APkSlX/gpF8Kc/Pe+MIU6tJN4K1qONB6szWoAHuTRyS7Bzx7nu9Fcl8J/j14K+O2nTXXg3xVoXiWK1Ki4/s+9Sd7Ynosig7oz14YA8V1tSUFFFFABRRRQAUUUUAFFFFABRRRQAUUUUAFFFFABRRRQAUUUUAFFFFABRRRQAUUUUAFFFFABRRRQAUUUUAFFFFABRRRQB8F/wDBcvwPpXw5/wCCclrpGi2UVjYW/iazKxxj7zMtwzux6s7MSzMcliSScmvqr4C+B9K134N/CzWLmzifVNE8O2f2K6xiWESWcayIGHJVhjKnglVOMqCPmv8A4OAf+TCU/wCxlsf/AECevqn9m3/k3bwF/wBi5p//AKTR0AdrRRRQAUUUUAFFFFABRRRQAUUUUAFFFFABRRRQAUUUUAFFFFABRRRQAUUUUAFFFFABRRRQAUUUUAFFFFABRRRQAUUUUAFFFFABRRRQAUUUUAFFFFABXxH8VPsP7af7VXiK2123e78E/B2+XSrHTJGLWeq6qY1knuZk+6/khljRSCMlznnA+3K+IP2Yhjx18bvf4m6zn/vqOuzAQUqyUjkx03Gk7HrEMKW0KxxosccahVVRgKB0AHpT6KK+kPngooooAKKKKACiiigAooooAKKKKACiiigAooooAKKKKACiiigAooooAKKKKACiiigDxX9ovQ7v4CakPjX4Ihjs/EfhNDca7Zwr5cfijTBgz28+OrqoLpIQxUr78fbvhDxRa+N/Cel61YP5ljq9pFe27/3o5EDqfyYV8rftKKH/AGd/HQIyDoF9wf8Ar3evcv2Of+TRPhX/ANifpP8A6RQ14OZwjGopLqe3l024NPoekUUUV5p6IUUUUAFFFFABRRRQAUUU1pVWQKWAZskAnk460AOorz61+MOt+IfiONG0jwXrR0y0uTDqGsaj/oVvGozkwKwLzexAA9+9aPjP4Rf8J14hN1d+IvE9vp5iWM6ZY3xtIHIJyzNGBJk5AIDgcUAbHjL4g6F8O9OF3r2r6bo9uxIV7u4WIOR2XJ5PsKzIPjNomr/DifxToz3fiLS4SyqNLt2nmnZX2FUTALEH+Wa1tS8EaPrcNil/pllqA03m1N3CJ2gONuVL5O7Hfqa04oVt4wiKqIowFUYAoA5L4YfFaf4lz3m7wr4o8O29sqGOTWbVbc3JbOQqBmIxgZzjqKzPC3xH8d6x4uhtNR+HD6RpTyMsmoPr1tMY1GcN5SAsc4HGeM+1ehUUAFFFFABRRXKfGb42eGf2f/Alz4j8V6pDpemW5EalstLcynO2GGMfNJK2PlRQSfSgDqncRqSSAAMkntXzt8S/+CnXw48KeIbrQfCq678UPE1o2yXTvCVib5bc+stzlbdADwf3hI9K8pnl8dftn6vea740vfEPgz4c3q+TpfgeCZrK5u4AcGXU5ExIWkxnyFYKqkK247s+jeCfAei/Dbw5BpGgaXY6PplqMRW1pCsUa+pwO57k8nvXpUMulNc09EefXzCMHyw1ZU0f9sX40eK7Zmi+DPhjw5vP7ptZ8bmR1XsXjt7OQZx2D/jVn/hob46/9Ct8Jf8Awfah/wDIlbFFdyy2iu5wvMKxj/8ADQ3x1/6Fb4S/+D7UP/kSj/hob46/9Ct8Jf8Awfah/wDIlbFFP+zqPYP7QrdzH/4aG+Ov/QrfCX/wfah/8iUf8NDfHX/oVvhL/wCD7UP/AJErYoo/s6j2D+0K3cx/+Ghvjr/0K3wl/wDB9qH/AMiUf8NDfHX/AKFb4S/+D7UP/kStiij+zqPYP7QrdzH/AOGhvjr/ANCt8Jf/AAfah/8AIlH/AA0N8df+hW+Ev/g+1D/5ErYoo/s6j2D+0K3cx/8Ahob46/8AQrfCX/wfah/8iUf8NDfHX/oVvhL/AOD7UP8A5ErYoo/s6j2D+0K3c+Pf+CxPxZ+J3jT9kNbPxbongPT9J/ty0k83SNUu7m48wLLtG2WBF28nJ3Z6cV9BfBD49/Gyw+C3hCCy8M/CySzh0SyjgefW79ZHjECBSwFqQGxjIBIz3rw3/gs3/wAmcr/2HrT/ANBlr6I+BX/JEfB3/YDsv/RCVhHA0nVcOlkbSxlVUlLrdml/w0N8df8AoVvhL/4PtQ/+RKP+Ghvjr/0K3wl/8H2of/IlbFFb/wBnUexj/aFbuY//AA0N8df+hW+Ev/g+1D/5Eo/4aG+Ov/QrfCX/AMH2of8AyJWxRR/Z1HsH9oVu5j/8NDfHX/oVvhL/AOD7UP8A5EoX9of46hufCvwmI7ga/qAz+P2Stiij+zqPYP7Qrdzm9V/bs+KPgm5SbXPgU2o6Sn/HxceGPFcepXS+6W01vbs/0DZ6V6L8A/28Phx+0NrraJpmqXWi+Ko13SeHtetH0zVEHtDJjzPcxlgK56uS+KPwL8JfGe3t18S6HZanJZtvtbhlKXNo3ZopVIdDnnKkcgVhUyuL/hs2p5lJfGj6xor4v8F/Hnx3+xp4uWPxxrWqePvhLfyBBrd1H5+seFGPANyyAefa8cykF06nI6/Ynh/xDYeLNEtdS0u9tNS06+iWa2urWZZobhGGQyOpIYHsQa8mpSlTlyzR6tOpGceaJcooorMsKKKKACiiigAooooAKKKKACiiigAooooAKKKKACiiigAooooAKKKKACiiigAooooAKKKKACiiigAooooAK+If2Y/+R5+Nv/ZTdZ/9Cjr7er4h/Zj/AOR5+Nv/AGU3Wf8A0KOu/Lf43yOHMP4J61RRRX0J4J43+3l+2r4d/wCCfn7NmrfE7xVp2r6ro2kXFtbS22mLG1y7TzLEpAdlXALAnnpXzHJ/wXrWFC8n7K/7V0caDczN4GcBQOpPzU7/AIOa/wDlEP43/wCwrpH/AKXRVr+Kf+Dib9mfwTZxy6pqvjyx84lIVufBepQGdv7qF4lBP41x1KrVRxcuVWX6nVTppwUlG7u/0PbP2D/+CkHw1/4KH+EtXv8AwLcarZ6p4cnFtrWhazafY9U0iRt20SxZYYba2GViPlIOCCB73X5mf8Epfhv4r+LH/BSv9oT9qG88Ja/8Nvhp43sodM0Ww12yOm3Wq+UsG+9kgY5UAQFtx4JnbB4asT4SftNfHj/grh4v8aeLvAPxw0b9nn4ReGdYm0bwwsel2t9qfiVovv3U/nsNsZymAvHzFcZUsXCu+Vcyu3f/AIcJUFzPldkrf8MfqdRXwt/wT+/4KIeL9Zsfjd8Mvijc6X4y+Kn7P1u97PqWgRhYfGFg0DTwTRRqAFlOFjZVGNzLjkmvnH9k/wCMX7Tv/BSf4Ny/FLwl+1l4F8H+M777Xc6X8MNP0exuEsVildI7e68xjODJsHzsrcODk9Bf1mOlldsn6vLW7tY/SL9r79qi0/ZE+HGleIrzw/rfiSPVdfsNBW20tA0sLXUnliZgf+WadW9q9Vr4F/ae/bE+PPwg/wCCaHwk8a+KbC1+HXxc13xlouieJbCCKC5ijimvpIZAATIi+bCqPwxKeZgHitf9vr9pL4sfFz9s3wp+zD8BfFGneBfFF1oMnjLxh4tuLWO9fQ9KWUW8cUMLghppJXUnoQGj5AZjR7ZLX009Rexb09dfQ9x/ad/bu8O/stfH/wCDPw91jSNYv9T+Neq3Ok6Vc2nl+RYyQeRuabcwbaftC42gng17lX4v/tSeCPjp8Hv+Cr/7GPg34ueMrL4naHp3iy5vvDXi4aathfXnnfZVubW6iT93uhaKMqy9VmGTkYH2V+z7+1X488af8Fv/AI9/CbUtde58A+DvCWlalpGlm3iUWlxNDZNI4kCiRsmWThmI+bjtUwrtyakutvwuVOjaKcX0v+J9rUV8PXv7Wfj+L/gvtafBtdecfDmT4aHXm0j7PFtN75zr5vmbfM6Acbse1c541tf2uf2zf2hfiJa2Pjeb9l34T+Cb/wDs3RLuXQIL3UvFZGc3YkmO1YTjI2kcMowSCRft10TetiPYvq+lz9BK+UZ/+CtPg9f2AfG37QcXhrxHJ4d8D6pc6Vc6aTCt5cSQXqWbMh3FNpdwwyc4HrXnv/BKT9qv4laz+0z8Y/gN8T/H/h74s6j8OIrHVdI8X6VHDCb+0uVIaGZIfkEkbBc9SCzAkjbXyTH/AMqzP7QX/Y46v/6kEFZTru149n+BrCgua0u6/E+gvDv/AAcSt4i0Gy1qH9lT9pWbQL+3S8g1O28Nme2mgdQySo4+V0ZSCGDYIIINfYf7E37c/wAPv2/fhD/wmPw+1C5ntbe4NlqNhewfZ7/SLpQC0E8RJ2sAQcglSOhNfE37E3/BaTwx8IP2F/hJ4fn+Cf7Smr3HhjwNo+nS3um+ApJtPvGgsIY2lhn8wB4WKFlfGCpB71a/4N5tP034geKf2i/jDbapoen3PxZ8YvqH/CF2d4kl34WgSa5ZPtcI5imkMzgjGP3fXsJpVpOUVzXuVUpRUZPltY+vv+Cfn7d/h3/goh8Dbrx54Y0jWNF0601m60VrfU/L84yQBCzDYzDad4xzng17lX4zf8Etv257P/gnd/wQj8dfEiawXV9Tt/iDqenaLpzMVW/v5/s6xISOdowztjnbG2Oa9i8WfCn9u34afs7z/HJvjxpeueKtP03/AISS8+GreFYE0o2+zzpLFZQRL5iR7hkYJK4DZO41DE3grq7td2Jnh/eaTsr2R+m9Ffm58cv+C3Or+Ov2HPgjr3wY0TT7j4uftDamPD2iabfN5tvod3HIIbuSQfxrFIVC5wCJFYjAKm9qvw7/AG0f2IvFfgXxpf8AxWvP2ivDupa1a2HjTwnaeFYLe4sbec7ZLmxaMbykJOcHbwBkYzjT6xH7KujP2EvtOx9df8Nf6J/w3Z/woT+zdT/4SP8A4QT/AIT7+0Pk+x/ZP7Q+w+T97f5vmfN93bt754r1uvzm/aM/aQ8F/sn/APBe3U/G/j7XrHw94d0n9mktJPcSANM//CSsywxL1klbadqLljjgV6t/wTY+I/xv/a717V/jb421ebwn8KvFX7zwH4DWytvtC2BGI729n2GXfIBvWNXx8+em0UQrXly9bjnStHm6WPsOiiiug5ziv2kv+TefHX/YAvv/AEnevcf2Of8Ak0T4V/8AYn6T/wCkUNeHftJf8m8+Ov8AsAX3/pO9e4/sc/8AJonwr/7E/Sf/AEihrxM1+KJ7OWfDI9Ioooryj0wooooAKKKKACiisfxp480v4fabBdatc/Zorq6isoQEZ3mmkbaiKqgkkn0HQE9qAK918UNFtPiJa+FDd79du7Z7sW0aFzFEuPmkI4TOeN2M4rn/AAH8DW0XxxP4p8Q6xceJPEbb4rWd08iDT7dj/qooQSo46sckmtzwR8KtF8Aapq2oWFux1HXLhrm9vJ3Ms85JJCljyEXOFUcACukoAKKKKACiiigAooooAKKKKAGXFwlpbvLK6xxRKXd2OAoHJJPpXw/oPjm7/bn+LsXxCvlWP4ceEby4t/BmmOpYajcI3ltrDngEkCRIlIO0FmBycn2P/gpH8UrnwL+z0mg6XNJHrnxE1W08LWQiI83ZcyAXLLn+7biY5xxway/Cnhaw8EeGrDR9KtY7LTdMgS2tYIxhYo0ACqPwFell1BTlzy6HnZhXcI8kepoUUUV7x4gUUUUAFFFFABRRRQAUUUUAFFFNkbbGT6CgD5m/aR/4KHL8M/iLe+EfCGiWviHVtKUDUr26uzDZ2ErAFYsKpaR8ZLAFQvAzknHnP/DyP4j/APQB8E/+TX/xdfOXgi7k1W01G/uGMt5qWq3tzcyt96aRrh8sffitqvqMuyWhVw0KtW7clfe259PRy6goLmV2dT+1b+0V41/ax+Fg8K6rZeF9LtRexXvnWgnMm5AwA+ZiMfMfyrufB37f/wAQ/BvhHStIh0XwZLFpVnDZpI/2nc6xoEBOGxkgV47RXZ/q7glLms7+rNvqVC3Ly6Hui/8ABSb4jIwJ8PeCpADkoHuULD0zuOPrg17z+yZ+2Rpv7Tiapp8umyeH/E+hhXvNOecTK8TcLNE+BvQng/KCp4PYn4SrvP2K53sf24PB5hYx/bdN1G3n2n/WxrEHCn2DAH8K83Nsoo4eh7ajdWav1vd2/U5MZgKMaTlBWaP0Yooor50+dCiiigAooooAZcW6Xdu8UqLJFIpR0YZVgeCCO4rz79k/xlH+yB8d7f4RTq6+BvHs1zqfhG4kkO3Sb0APcaWAeBGwBli6cs64bOa9Erzn9qj4UyfFn4OajDYGWDxJo3/E38PXcJ2zWWowAvBIh7HcNp9QxFcmMoe1p2W62OrCV3Tnfoz7KorkfgH8R4vi/wDBDwl4oimW4GvaRbXruq7fneJS4I/hIbcCvYgjtXXV80fRBRRRQAUUUUAFFFFABRRRQAUUUUAFFFFABRRRQAUUUUAFFFFABRRRQAUUUUAFFFFABRRRQAUUUUAFFFFABXxD+zH/AMjz8bf+ym6z/wChR19vV8Q/sx/8jz8bf+ym6z/6FHXflv8AG+Rw5h/BPWqKKK+hPBPgH/g5r/5RD+N/+wrpH/pdFX2H+0l+zf4Q/az+C+ueA/HGk2+r6Br9q1vKkiAvAxHyzRMR8kqHDKw5BArrfEfhjTfGGlPY6tp1jqllIQz295As8TEHIJVgQcHnpV6svZ+85Pql+v8Amac/upLo/wDL/I/L/wD4Jg/tA61+zn8YPGv7BvxY1WW41rw7Z3CeAfEdxH5X9u6VLEXSLaTy6I7MuCeEkT/lmM/JH7A37LP7IfwGj8Z/Cb9sPwlpnhD4reB9WmMWr65qd7Z2niTT3YmGa3aORUbAHYfMrIeTuA/eHUPAeh6t4jttYutG0q51ezAW3vpbSN7mADJASQjcvU9D3NZXxM+BHgf40rbDxj4N8KeLBZEm3Gs6Rb3/AJBPXZ5qNt/CsHhduttr9jdYla9L9u58Hf8ABIrRfg1bal8aPiB+zx8CLzQ/C+kW76RoPiJtXu/+LgeUpleKCG5z5SCZFUSc8sPRgPlbxhc/8E+/22fhvq3j7xs837MPxj064uf7Z0rS7yWy1SyvI3blbfy/LnZsA5jjVssQcEZr9udA8P2HhTRrfTtLsbTTdPtE8uC1tYVhhgX+6qKAqj2ArlfFf7NPw58eeK49e1zwB4J1nXImDJqN9odrcXaEdCJXQuD+NN4d8qjp9wlXXM5a/efkrrXivx741/4IIfAjUfiFfatqupTfFXRV06+1Xf8Ab7zTV1WRbWSfeS24oPlJJymw5PU+/ftVeKNK/wCCcf8AwWq0j9oP4gSXNn8LPit4EbwFNrqQNJb+H9UjuLe4jFztBIjkjtgFIHUueiE1+i9/oVjqlnHb3Nna3FvCyvHFLCrojL90gEYBHb0qv4v8F6P8QfD9xpOvaTput6VdjbPZahapc28w9GjcFT+Io+rtLfXT8Be3Teq01/E/Jj9t3/goL4E/bJ/4Kx/sfaD8Nr0eKfD3g7xm8t54ltELadcXc6QH7LBLjDtHGis+0kDzUHUGum8d/tE+G/8AgnF/wcA/FPxz8Xp7nwp4D+LPgfT7fQ/EEtpNNZyT20dnG8JMaMd2YJM+ny5+8K/Svwv8D/BXgfStNsdF8IeF9IstGlafT7ey0qC3isZGILPEqKBGxIGSoBOK0/F/gPQ/iFpyWev6NpWuWkcglSDULSO5jVx0YK4IBHrT9hN+83re/wCFh+2j8NtLW/G5+Un7MH7Uvh39s3/g44tPHngyHV38ITfC+507TdSvbJ7VdXEM/wA9xCrgN5W9mQMQMmNuK8a+CviT4LftZ/tHfGvU/wBun4ma3oni/wALeJri00rwTq+uXOk6TYaehIjNvHGV809RhDkgBiG35r9ybPw5p+nTQyW9hZwSW8QgiaOBVMUY6IpA4X2HFc54z/Z78A/EfxNba14h8D+ENe1mzx9nv9R0a3urmDHTZI6Flx7Gp+rO2rvrfbQaxCWytpbzPy//AOCJ+p/DZ/8AgrN8bV+FHg268C/Du/8AA2nS+GLS5tJrVtXtIrhYn1BFm/eGOWXcQzHJGCeeBxMf/Ksz+0F/2OOr/wDqQQV+y0fhPSodeXVE0zT11NLcWi3gt0E6wg5EYfG7ZnnbnFJ/wiOlf2PLp/8AZmn/AGCdi8lt9mTyZGJ3ElMYJJ55HWhYZ8vLfv8AiL6x73Nbt+B+ZX7Df/Bwd+yx8GP2LPhF4N8Q+O9Ts/EHhLwTo+j6lbr4dv5FiurawhilQOsRVsOjAEEg9jVL/gkFZar+1X/wVb+Ov7TfhXwpq/gj4OeK9Ji0XTY7+1NqfEd2ptt14sfAP/HvI7HnBuMZLbq/TAfB/wAJA/8AIreHf/BbD/8AE10EEKW0KxxoscaAKqqMBQOgAqo0Z3jzvReQnWgk+Rb+Z+B/wA/Zd8VftS/8G63im28F2Mur+IPBfxZu/FcOmwoWl1FLZI1kiQDktslZgBydmByRX3d8Qv8Agvn8CL79iK817RfE1rqvxC1LQ/sdr4GjjkbWDqksXl/ZGhKZwsrEM2NpCkjOQD99aNoFj4ctDBp9laWEBYuY7eFYkLHqcKAMn1rlLT9mv4c2HxA/4SyDwB4Kh8VeYZf7Zj0O1XUN5zlvPCeZk5PO7vSjh5QXuPpYcq8Zv3l1ufi/P+xB8QP+CcX7HH7HHxm17w1qmqH4MeJr/X/GujWcRkvNKstTmhk3lfWKOFVf+67jPAJr7v8AjJ/wXK+HHiOHwR4Z/Z/1TRPi98T/AIiarZ2Ol6LC8yQ6fBIwae4vWC5hWKIMSp+YHkjAavuSeBLqB45UWSORSrowyrA9QR3Fcj4D/Z48AfCvXrnVfDHgbwf4c1O9z9ovNL0W2s5588ne8aKzZPXJojh5Q0pvTQJV1PWa1Pz/AP2rP2Ovh/8Ats/8HBGneGPiVocfiHRdM/Z7bU4bVpGRBcnXLm1Ehx1KpdSlfRwjdVFbX/BKj9oK/wD2Nf2gdZ/Yk+I9xK+p+DEkvvhzrtyghXxNor5lSHHQyxAyAYJyI3XAMXP6Hf2Paf2v/aH2W2+3+T9n+0+UPO8rO7ZvxnbnnGcZqK78M6bqGrwahPp9jNf2o2w3MkCtNCOeFcjI6noe5q1QtLnW9/w7EuvePJLa39MvUUUV0HOcV+0l/wAm8+Ov+wBff+k717j+xz/yaJ8K/wDsT9J/9Ioa8O/aS/5N58df9gC+/wDSd69x/Y5/5NE+Ff8A2J+k/wDpFDXiZr8UT2cs+GR6RRRRXlHphRRRQAUUUUAFch4/+G9p468c+Eb67v8Ayx4au5dQisCAReSmIojnJyPL3EjAPJrr68+8WfD7U9X/AGi/CHiOGOM6Xo+m39tcuZAGV5fL2AL1P3TQB6DRRRQAUUUUAFFFFABRRRQAUUUUAfIX7YN0PGP/AAUE+E2iN88PhXw7q3iJ0JyvmStFaxtj1H7zB967mvPfj3/ylK0j/smkv/pyWvQq+gy3+D8zwswf74KKKK9A4AooooAKKKKACiiigAooooAKbN/qm+hp1Nm/1TfQ0DPyP+HH/IuSf9ft3/6USVvVg/Dj/kXJP+v27/8ASiSu8+F+saJoHxA0q88SaZLrOhW84e9so3KNcx85UMCCO3cV99lsnHAUmlf3I/kfaQ+FHf8A7FH7PGm/tOfGg+GtVvr7T7UafNd+babfM3IUAHzAjHzHtXmfjDRk8O+LdU0+JmeOxu5bdGb7zBHKgn34r76/YS+K/wAG/GXxyNn4F+Heo+GNc/s6aT7bPevKvlApuTaZGHOV7dq8V+N/xp+A14niuwsfhZqlt4jdrqCLUG1BykdzlgJdvm4xv5xj8K8yhmleWNnTdKdrR093TfV69f0FzO58vV3X7Gv/ACe74F/68tT/APSeuFruv2Nf+T3fAv8A15an/wCk9dmff7jL1j/6UjHGfwJeh+jVFFFfEHyIUUUUAFFFFABRRRQBk/8ABKjWJf8AhQHijw7NI0p8EeOdc0RCxz8guTcL+G24GPrX01Xyt/wSs/5AXxx/7Kzq/wD6S2NfVNfJVNJtH1NPWCYUUUVBYUUUUAFFFFABRRRQAUUUUAFFFFABRRRQAUUUUAFFFFABRRRQAUUUUAFFFFABRRRQAUUUUAFFFFABXxB+zyH0L42/HjQbtGh1C18e3epsh/it7yOOaBx9Vz+INfb9fPX7WX7LPinxV4xg+IPwu1TTtK8b21utnqOn6kp/s3xNaoSyRTMoLRyoWbZKvPzFW+Xp04SsqVRSexz4qk6lNxW4tFePy/tFePPDB+yeIf2f/jAmpx/LMNFsLbVbMsOpSdJlDD04FM/4as8Qf9EC/aB/8JiL/wCSK9365R/mPE+qVv5T2OivHP8AhqzxB/0QL9oH/wAJiL/5Io/4as8Qf9EC/aB/8JiL/wCSKf1uj/MH1St/Kex0V45/w1Z4g/6IF+0D/wCExF/8kUf8NWeIP+iBftA/+ExF/wDJFH1uj/MH1St/Kex0V45/w1Z4g/6IF+0D/wCExF/8kUf8NWeIP+iBftA/+ExF/wDJFH1uj/MH1St/Kex0V45/w1Z4g/6IF+0D/wCExF/8kUf8NWeIP+iBftA/+ExF/wDJFH1uj/MH1St/Kex0V45/w1Z4g/6IF+0D/wCExF/8kUf8NWeIP+iBftA/+ExF/wDJFH1uj/MH1St/Kex0V4ve/tc63ptnLcT/AAH+P0MECGSSR/DMQVFAyST9o6AVi/DX/goAnxk8LJrfhT4PfG3xDpEsjRJeWHh+CeFnU4ZQy3BGQetH1uj/ADB9Urfyn0FRXjn/AA1Z4g/6IF+0D/4TEX/yRR/w1Z4g/wCiBftA/wDhMRf/ACRR9bo/zB9UrfynsdFeOf8ADVniD/ogX7QP/hMRf/JFH/DVniD/AKIF+0D/AOExF/8AJFH1uj/MH1St/Kex0V45/wANWeIP+iBftA/+ExF/8kUf8NWeIP8AogX7QP8A4TEX/wAkUfW6P8wfVK38p7HRXjn/AA1Z4g/6IF+0D/4TEX/yRR/w1Z4g/wCiBftA/wDhMRf/ACRR9bo/zB9UrfynsdFeOf8ADVniD/ogX7QP/hMRf/JFH/DVniD/AKIF+0D/AOExF/8AJFH1uj/MH1St/Kex0V45/wANWeIP+iBftA/+ExF/8kUqftSeJ7tvLtvgD8eWnfiMT+HoYYy3bc5uMKPc0fXKP8wfVK38ptftg+LLXwX+y948vrxtsf8AYtzboO8kksZjjQe7O6gfWvpX9mbwxd+CP2b/AIf6Nfp5V/pHhrTrK5T+5LHaxo4/Aqa+efhV+yx45/aP8cad4i+Muh2Phfwp4fuI7/R/B0GoC8murtDlLi/lj/dsE4KQoSMn584wfr2vFx2IjVn7uyPXwVCVKHvbsKKKK4jsCiiigAooooAK868X+K9YsP2lPBukW88y6Nf6ZfzXkQjBSSRPL8slsZBGWxyK9FrjvEXxRk0P41eG/Cgs0ki12yu7trkyENCYNmFC45zv9eMUAdjRRRQAUUUUAFFFFABRRRQAUUUUAfHPx7/5SlaR/wBk0l/9OS16FXnvx7/5SlaR/wBk0l/9OS16FX0GW/wfmeDmH8YKKKK9A4QooooAKKKKACiiigAooooAKbN/qm+hp1I67kI9RigZ+R3w4/5FyT/r9u//AEokrerM0PQ7jwZrGv8Ah2/jaDUtB1e7trmN1KnmZ2VwDztZSCp6EdK06+/ylp4Klb+VfkfaU9YKx6L+y9+0VefswfE3/hJrHTbbVJvsclp5E8jIuHKknI5yNv61w/iTWm8R+Ib/AFB0Eb39zJcMinIQuxbA/OqVFdaoU1UdZL3nZN+mxQV3X7Gv/J7vgX/ry1P/ANJ64WvQv2GNKuPEn7bGgy2kbSweHdKvbi/kUErbiVBFGpPQMxPA9Aa8vP5JYKSfVx/9KRzY3+BL0P0Sooor4k+RCiiigAooooAKKKKAOa/4JWf8gL44/wDZWdX/APSWxr6pr5W/4JWf8gL44/8AZWdX/wDSWxr6pr5Kr8b9T6ml8C9AoooqCwooooAKKKKACiiigAooooAKKKKACiiigAooooAKKKKACiiigAooooAKKKKACiiigAooooAKKKKACiiigAooooAKKKKACiiigAooooAKKKKACiiigDA+Kv8AyS/xJ/2C7r/0U1fKn/BB3/lHno3/AGGNQ/8ARtfVfxV/5Jf4k/7Bd1/6KavlT/gg7/yjz0b/ALDGof8Ao2gD7KooooAKKKKACiiigAooooAKKKKACiiigAooooAKKKKACiiigAooooAK5LX73wzH8YPD8F7GD4pks7ptMfY5KwjZ5wyPlH8PXn0rra5HxB8NoNZ+Mnh7xO1/5VxotldWsdptH78TbMtnORt2+negDrqKKKACiiigAooooAKKKKACiiigD45+Pf8AylK0j/smkv8A6clr0KvPfj3/AMpStI/7JpL/AOnJa9Cr6DLf4PzPBzD+MFFFFegcIUUUUAFFFFABRRRQAUUVBqGpW+kWb3F1PDbQR8vLK4RF+pPAoAnryP8AaG/a/wBP/Zohkude8HePLzS4hk6lpmnw3NoB/tP5wKf8DC1w/wAef+Co/wAOvhJfPpehtc+PPEABC2mi4lhVh2eblf8AvgMfavLdOuP2of2xobiW9ubL4QeA9QjJctAq3f2c85XP77dt6ktEDzXJUxC+Gnq/LU6qeHfxVNF5nnP7TH7av7P37Ser2+sy2HxR8OeJLWLyV1TTLGyV7iPskytOVkUds4Izwa0v2YP2YNN/aysbq/8ADni74mWOjWhMZ1HVdC0+CCaTvHHskcuR3wMDuckCuE/Yy/4JvQftGfFLVtWvZ9TX4ZaNfNFa3cyeVceIgrEDyyPuoQNzMM4DBQScsP1B8F+DdM+HnhPT9D0WzisNK0qBLa1t4x8sSKMAc8k+pPJOSTmpwVbFP3uZxXk2r/czsrYhUV7Oi3/kfAn7X/7Hlr+yd8GLnxVd/ErxBfTfaYrS0tP7NtVNzK7cjOOyK7f8Brv/AAf/AMEzLbx14T0zWtO+K/iCaw1a1jvLd/7KtfmjkUMp6ehFeU/8FwfjBHrPj3wn4ItpS39i20mp3yq3AkmwsSsP7yojH6S+9fQf/BI34yx/Ez9k2y0h3H9oeDrh9NmTPJiJMkTY9NrFf+AGtYZhWeIdL2krf4pf5jnWxCoKpzO5iL/wSfEjATfFHxK0RPziPTrWNiPZsHB98V9CfAD9nbw1+zZ4M/sbw5by/vn868vblxJd6hL/AM9JXwNx7DgADoBXdUV0ylKTvOTfq2/zPPqYmrUVpu4UUUUjAKKKKACiiigAooooA5r/AIJWf8gL44/9lZ1f/wBJbGvqmvlb/glZ/wAgL44/9lZ1f/0lsa+qa+Sq/G/U+ppfAvQKKKKgsKKKKACiiigAooooAKKKKACiiigAooooAKKKKACiiigAooooAKKKKACiiigAooooAKKy/GfjfR/h14cudX17VLDRtLs0Lz3d7OsMMQHqzECvhf42/wDBZvUvHfjN/B/7OfgXUPiXrBBQ6s9rN9iibOCVjADMo4y7si8jqKAPvtmCKSTgDkk9q8c+Mf8AwUG+DHwEuJbfxN8RPDtpewj57O3n+13Kn0McIZgfqBXzFo//AAT5/aK/a6tI7j48/GK90DRrhQZfDPhnZHuXrtkZAsWc47S/WvWPhx/wRd/Z5+HckMreC31+5iAzLrF/NciQj+Jo9wjJPptx7UAcRqP/AAX++B0OoS21hY+PtXdSRE1tpEYWf/dDTK35qKrD/gthL4gOfDXwA+L+uRN9yQaeUVvT7iye3519h+Cvgz4Q+G1nHb+H/C3h7RIYgAq2OnRQY/75UV01AHww/wDwWG8Y2Q8y7/Zg+LsEA+8628rlfw8gfzpI/wDgvF4F8Pll8W/Df4q+FXAyBcaVG2f++pE/lX3RUN7p9vqUWy4ghnT+7IgYfkaAPkz4Yf8ABb39nz4k3awTeJNS8MTO21RrWnPCn4yR+YgH1YV9L/Dn4ueFvi/pH2/wr4i0TxFZj702nXsdyqH0OwnB9jXBfFf9gT4NfGxJf+Ei+HHha6nm+9cwWS2tzn182La+fxrwHxp/wQ38A6Xcx6n8LPFnjT4V6/ADsubDUZbiOQ9twZhJ+UgHtQB9u0V+cfib4vftlfsCXvn+JtOsPjZ8P9NX97qNrAPtawryXdkAmRgOrSLIvHXvX0v+yB/wUy+GH7YtsbXSNTbQvE0IH2jQtXK292h7+XztlA9UJI7gUAfQtFFFABRRRQAUUUUAYHxV/wCSX+JP+wXdf+imr5U/4IO/8o89G/7DGof+ja+q/ir/AMkv8Sf9gu6/9FNXyp/wQd/5R56N/wBhjUP/AEbQB9lUUUUAFFFFABRRRQAUUUUAFFFFABRRRQAUUUUAFFFFABRRRQAUUUUAFefeLfAGqat+0b4Q8RQRI2laRpt/bXUhkAKPL5ewBepztPTpXoNef+LPHOraX+0V4R0GCTGj6rp19cXaeUDuki8vy/mxkfePAPNAHoFFFFABRRRQAUUUUAFFFFABRRRQB8c/Hv8A5SlaR/2TSX/05LXoVee/Hv8A5SlaR/2TSX/05LXoVfQZb/B+Z4OYfxgooor0DhCiiigAops0yW8TPIyoijLMxwAPc14P+0B/wUd+GfwE820Orf8ACTa8p2LpejEXEu70dwdie4Jz7VE5xgrydi4QlN2irnvVcX8ZP2h/Bn7P+hm/8W+ILDSI8fu4pH3TzeyRLl2/AV8n6L8av2nP2yr0z+DdHsvhd4QmHlrfahGDNIp/jVpELscdDGgX3rvvhp/wSh8CaXqA1jx3f6z8RvEkrCW4utTuXWF37/uw2WHs7N0rD205/wAKPzei/wAzf2MIfxX8kYGq/wDBTTxD8b71tK+Bvw51rxPdfcl1PVIvIs7RvcBsdMH5nX6Gsay/4Jy/E/8AaR8Rpqfxx+Is0+niTzF0TR5SYl77RlVjjx04Rj796+zvDHhPS/BOjRado+nWWl2EAxHb2kCwxJ9FUAVoUfV+b+K7/ghfWOX+ErfmcD8EP2YvA37Ouk/ZfCPh6y0wsMS3ODLcz/78rZY/TOPaux8ReH7TxXoV3pl/F59lfxNBPFuK+YjDDKSOcEZB+tXaK6FFJWS0MHJt3ZDYWMOl2UVtbQxW9vboI4oo1CpGoGAoA4AA7VNRRVEn55/8FGv2Zo/hl+zr4r8ca1LFqPjXxp4ptprq4X5o7C2Am8q1hJGdqoEBPG4qOMAV9D/sxfsyQ/DPxdoHjzw3LHaWPi7wzaQ+IdOYkJJOsEbRXUXGN2dysvQ7ywOcg8l/wWb/AOTOV/7D1p/6DLX0R8Cv+SI+Dv8AsB2X/ohK4YUoqu12S/U7Z1JexT73/Q6qiiiu44gooooAKKKKACiiigAooooA5r/glZ/yAvjj/wBlZ1f/ANJbGvqmvlb/AIJWf8gL44/9lZ1f/wBJbGvqmvkqvxv1PqaXwL0CiiioLCiiigAooooAKKKKACiiigAooooAKKKKACiiigAooooAKKKKACiiigAooooAK+b/ANuP/gpp4F/YoCaRdLdeI/HF9D5lhoFgN0rFjhDK3SNWPTgscHCmuc/4KTf8FCL/APZrTR/Anw4tLfxL8XfFsyQ2GmiI3H2GJsgTOikfMTgIpOPvMeFwav7A/wDwTOg+DOqH4lfFKceM/jJrchvLu+u5PtEWku38EORjzAODJ2xhMAcgHkfw/wD+Cc/xa/by+Idp45/aY12Sz8NBRdad4N025MfkBuVRwvyxADAbBaVuhZcV97fCz4R+Gfgj4Ot9A8JaHpvh/R7b7lrZQiNScAFm7sxwMsxJOOTXR0UAFFFFABRRRQAUUUUAFFFFABXzP+23/wAEtPh1+2XYyag9svhXxomXg1/TYVSV37eegwJhwOSQw7MK+mKKAPzj+Hf7YPxe/wCCXev6X4I/aCsbjxX8PZm+zaT400/fcyQDPyrKx5fA/hfEgHQuABX6CeAfiBonxS8IWOv+HdUstZ0bUoxLbXdpKJIpVPoR37EdQeDUPxM+GehfGLwLqXhvxLplrq+i6tC0FzbTpuV1I6j0YdQw5BAIORX5zeK9D8Y/8ELviVDqvh99Q8a/ALxdeol9ZXJZ7vQpu5VhiMOw6MQBIE2kAgNQB+m9FYHwt+KGhfGj4e6T4p8NahDqmh63bi5tLmI8Op4II6hgQVKnkEEHkVv0AFFFFAGB8Vf+SX+JP+wXdf8Aopq+VP8Agg7/AMo89G/7DGof+ja+q/ir/wAkv8Sf9gu6/wDRTV8qf8EHf+Ueejf9hjUP/RtAH2VRRRQAUUUUAFFFFABRRRQAUUUUAFFFFABRRRQAUUUUAFFFFABRRRQAVyuu/FGLQ/i3oPhQ2kkkuu2lzdrcBwFhEGzIK4yc7/XtXVVyevaf4al+L/h+4vZgvimKzul02PewLwnZ5x2j5Tj5etAHWUUUUAFFFFABRRRQAUUUUAFFFFAHxz8e/wDlKVpH/ZNJf/TktehV578e/wDlKVpH/ZNJf/TktehV9Blv8H5ng5h/GCivMP2kv2v/AAN+yrpUE3ivUnjvL1Gez0+2iM11d7cA7VHAGTjcxUe9fNmkftkfH/8AbAv3g+FXge08IeHZQVGvaypfaM43q7ARk/7KJIR610zxEIvl3fZGEKE5Lm2Xdn2D8Rviv4b+EWgvqfibW9N0SyQH95dzrHvPooPLH2AJr5k8T/8ABVe08f6gdC+DngzxB498RSEhGktmgtIVBx5jc79vT7wQepFHhX/gk/pnjPVYtf8Ai54y8R+P/EZfdKBcmGzC/wDPMAgybc/3WQf7Ir6g8A/DTw/8K9CTTPDei6bolgnSGzt1iUn1OB8x9zk1H76f91fe/wDIr9zD+8/uR8c6j+xR8dv2utUW5+LnjmDwxoD4b+wtGcuAOu0op8vPbczSGvoz4BfsVfDj9mxEk8M+HbddSVdraldn7ReP6/vG+7n0QKPavVq4z40/Hjw98BvD8N7rk1w817KLexsLKBrm91GY9I4Yl+Zj+g7kU1Rp0/3kvvYnVqVPcj9yOzorxe1/aF+JutQ/aNO+AnjFrOTmI3+rWFlOR/tRPIWU+xqT/heHxb/6IFr/AP4Uum//ABdc39sYJae1X3nQsqxj/wCXbPZKK8b/AOF4fFv/AKIFr/8A4Uum/wDxdH/C8Pi3/wBEC1//AMKXTf8A4ul/bGB/5+r7x/2TjP8An2z2SivG/wDheHxb/wCiBa//AOFLpv8A8XR/wvD4t/8ARAtf/wDCl03/AOLo/tjA/wDP1feH9k4z/n2z2SivG/8AheHxb/6IFr//AIUum/8AxdH/AAvD4t/9EC1//wAKXTf/AIuj+2MD/wA/V94f2TjP+fbPMf8Ags3/AMmcr/2HrT/0GWvoj4Ff8kR8Hf8AYDsv/RCV8x/txeE/jP8AtafBIeFLL4L6to8w1CG9+0T6/p8q4QOCuBIDk7v0r0v4f/Ev4veDPAWiaPJ8B9dnfSrCCzaRfEmnASGONULAb++Kwjm2DVZy9orWXU3llmLdJR9m73Z73RXjf/C8Pi3/ANEC1/8A8KXTf/i6P+F4fFv/AKIFr/8A4Uum/wDxdb/2xgf+fq+8w/snGf8APtnslFeN/wDC8Pi3/wBEC1//AMKXTf8A4uj/AIXh8W/+iBa//wCFLpv/AMXR/bGB/wCfq+8P7Jxn/PtnslFeN/8AC8Pi3/0QLX//AApdN/8Ai6P+F4fFv/ogWv8A/hS6b/8AF0f2xgf+fq+8P7Jxn/PtnslFeN/8Lw+Lf/RAtf8A/Cl03/4uqmqftX+Kvh/H9r8a/Brx1oGjqMy6hZSW2rx2q93lWBy6qO5waqObYKTsqi+8mWV4uKu6bPb6KzfCHjDS/H3hy01fRb+11PTL6MSQXNvIHjlU+hH8u1aVehvqjhOa/wCCVn/IC+OP/ZWdX/8ASWxr6pr5W/4JWf8AIC+OP/ZWdX/9JbGvqmvk6vxv1PqKXwL0CiiioLCiiigAooooAKKKKACiiigAooooAKKKKACiiigAooooAKKKKACiiigArxD9vn9tDRP2KPgbc67es1xr+qB7LQNOiG6W+uyvy8c/IhILHHHA5LAH2+vzf8DeE0/4Kpf8FNta8Xah5tz8KPglMmn6XFuBg1S9STdnGMFGdWkb1RIQeDQB6f8A8Ep/2A9W+CcGofFn4ly3Oo/FjxyjzXBuZN76ZBKQ5Rv+mzkKX/u4CjGDn7RoooAKKKKACiiigAoorkPjb8efCP7OngeXxF4z1u00PSomEayTZZ55D0jjRQXkc9lUE0AdfRXyjL/wU11fWf8ASPD3wJ+KOq6XJzDdXQtNPadezCKSXeFI5GQDjtTf+HkPjP8A6N3+In/gxsP/AI5Wnsan8r+4z9tT/mR9YUV8n/8ADyHxn/0bv8RP/BjYf/HKP+HkPjP/AKN3+In/AIMbD/45T9hU/lf3B7an/MvvPrCivk//AIeQ+M/+jd/iJ/4MbD/45R/w8h8Z/wDRu/xE/wDBjYf/AByj2FT+V/cHtqf8y+8+sKzfF/hHTPH/AIW1DRNZsbfUtJ1SB7a7tZ0DxzxsMMrD0xXzD/w8h8Z/9G7/ABE/8GNh/wDHKP8Ah5D4z/6N3+In/gxsP/jlHsKn8r+4PbU/5l958/8Awn8Van/wRw/bQm+HmuvqNx8CfiTdeb4dvZX87+yrhtoOfTazBJB1K+XJ1BB/TCvzx/bf+Mus/trfADVPBmq/s9fEK0unxdaVqAvtPZtOu0B8uT/WcqclWA6ozAEHBG5+y1+3R8Zfhl8DdC8O+O/gj4x8Ra/okAsjqVlf2ii8hQBY3kDyZ83aAGP8RGe5FHsKn8r+4PbU/wCZfefeVFfJ/wDw8h8Z/wDRu/xE/wDBjYf/AByj/h5D4z/6N3+In/gxsP8A45R7Cp/K/uD21P8AmX3n0j8Vf+SX+JP+wXdf+imr5U/4IO/8o89G/wCwxqH/AKNqx4w/4KDeNvEvhLVNOj/Z6+IUb39nLbK7ajYYUuhUE/vPevHv+Cdvxx+Iv7F37M9j4F1X4G+NtZvLS+ubo3NpfWSRsJX3AYaTORR7Cp/K/uD21P8AmX3n6R0V8n/8PIfGf/Ru/wARP/BjYf8Axyj/AIeQ+M/+jd/iJ/4MbD/45R7Cp/K/uD21P+ZfefWFFfJ//DyHxn/0bv8AET/wY2H/AMco/wCHkPjP/o3f4if+DGw/+OUewqfyv7g9tT/mX3n1hRXyf/w8h8Z/9G7/ABE/8GNh/wDHKP8Ah5D4z/6N3+In/gxsP/jlHsKn8r+4PbU/5l959YUV8n/8PIfGf/Ru/wARP/BjYf8Axyj/AIeQ+M/+jd/iJ/4MbD/45R7Cp/K/uD21P+ZfefWFFfJ//DyHxn/0bv8AET/wY2H/AMco/wCHkPjP/o3f4if+DGw/+OUewqfyv7g9tT/mX3n1hRXyf/w8h8Z/9G7/ABE/8GNh/wDHKVf+Ckvi2E77j9nr4kpAvMjRXlhK4HfCCUFj7Uewqfyv7g9tT/mX3n1fRXlP7Nv7Zfgn9qKTULPQZtT07X9HVW1LQtYsnsdSsAxwC8TdVP8AeQsvvXq1ZGgUUUUAFFFFABRRRQAVxviL4Xy658bPDfitbuOOHQrG7tHtyhLTGfZgg5wMbP1rsq878X+GdYvf2k/BuqW8Nw2i2OmX8V5Kr4jSR/L8sMueScNjigD0SiiigAooooAKKKKACiiigAooooA+Ofj3/wApStI/7JpL/wCnJa9Crz349/8AKUrSP+yaS/8ApyWvQq+gy3+D8zwcw/jHw/8At0W0d3/wUs+A8csaSxsYcq65B/0puxr7gr4i/bf/AOUmXwF+sX/pS9fbtbUPjn6/oZ1/gh6fqFFFFdRyiE7Rk9q8Y/YW8Nx/FjxH4s+M+q4u9S8Rajc6RoJfkabpNtK0SogP3TI6O746nHvXstx/x7v/ALpry7/gmD/yZh4b/wCvzUv/AEvuK+T4tqyjhoxi9G9T6bhinGVeUnukfQFFFFfnZ90FFFFABRRRQAUUUUAFFFFABRRRQAUUUUAFFFFABRRRQB80af4E/wCGff2257DRIlt/CfxQ0m41eaxj+WKz1S1eJZZUXooljlUsB1Zc9q9rrgPjT/ydv8MP+wPrn/tnXf1+p8OVJTwEXJ90fnGfQjDGyUfI5r/glZ/yAvjj/wBlZ1f/ANJbGvqmvlb/AIJWf8gL44/9lZ1f/wBJbGvqmvPq/G/U9Cl8C9AoooqCwooooAKKKKACiiigAooooAKKKKACiiigAooooAKKKrazrNr4d0e71C+njtbKxhe4uJpDhIY0UszMewABJ+lAFmivyI+CH/BXT9rj/grd8W/Hjfsl+EfhR4X+EfgXURp0Xinx4l5JNrUnJwiwnALKA+wJlFkTc2WAr1b/AIJ1/wDBYv4meL/+CgHib9lH9pnwX4Y8HfF7S7T+0NE1Lw3JMdJ8QwLCJm2CZmbcY90isDghJFKqyYIB+kNFFFAHzf8A8FYf2jZP2aP2H/FmqWc7W2s66q6DpjrwyzXAYMwPYrCszg+qCj/gk/8As8yfs3/sP+EdMvFZdV1yM67fqwwY5LnDqh91j8tT7g14/wD8Flox8Xvif+zz8IT+8tfGPi8XuoRjqIITHET/AN8XE/8A3zX3bBCttCkaKFSNQqqBwAOgoAfRRRQAUUUUAFFFFABXxRZamn7RP7Y/xC8U6rbR3Nl8N77/AIRDw4soyLWSNA99MFPG95GVd3XagHrn7Xr4h/Zj/wCR5+Nv/ZTdZ/8AQo67cvinWVzjx8mqLsetUUUV9GfPhRRRQAUUUUAFFFFABRRRQAUUUUAFFFFABRRRQAUUUUAFFFFABRRRQAUUUUAFFFFAHjn7ZfhO9s/h/F8QfDkhs/GfwzkOvaXcKceakYzcW74+9HLEGUqfavs34b+Nrb4l/DvQfEdmGW08Qadb6lAG6iOaJZFz+DCvmD9pL/k3nx1/2AL7/wBJ3r3H9jn/AJNE+Ff/AGJ+k/8ApFDXhZpFKaa6nt5bJuDT6HpFFFFeYeiFFFFABRRRQAVwWo+PdUl/aS07wvaFBpcOgy6rqOYsks0wigAbtyspx/s10PxG+ImlfCvwbe67rNwLexsU3Mf4pG/hRR3ZjwB6mq3wo17U/GHgmw1nW9Hi0TVNQjMjWoffJDEWJjVzgHdtIJXsSaAOlooooAKKKKACiiigAooooAKKKKAPjn49/wDKUrSP+yaS/wDpyWvQq89+Pf8AylK0j/smkv8A6clr0KvoMt/g/M8HMP4x8Rftv/8AKTL4C/WL/wBKXr7dr4i/bf8A+UmXwF+sX/pS9fbtbUPjn6/oZ1/gh6fqFFFFdRyjLj/j3f8A3TXl3/BMH/kzDw3/ANfmpf8ApfcV6jcf8e7/AO6a8u/4Jg/8mYeG/wDr81L/ANL7ivj+MP4FP1/Q+q4W/jT9P1PoCiiivz8+2CiiigD4O/aO/wCClPx20z/goj4k+AnwY+EHg/x5e+GfDFp4nubvV/Eh0pvJmZUIGVKnDugwDnkntWZ47/4KvfHr9jyC18Q/tE/s0Hwx8NBLHBqnirwl4oi11dELkKss1sqCTy9xALAjGR1OAYPgp/ysv/GX/sjmm/8ApZa19Zft4+A9I+J/7E/xZ0HXo45dI1HwjqcdyHAwgFrIwfnoVIDA9ioPau9+zi4wcVZpd76/M41zyUpKXV9rHoXgDx7o/wAU/A2j+JfD2oW+q6Fr9nFqGn3tu26O6glQOjqfQqQa16/B79nz/gqL44/Y6/4N4PgtB4c1TTNH8ZeNPF194I0bXdWAaDQbEXM7yXrbvl/chlVdwKqCDghcVufGjxp8IP2RfhHq/wAWPhR+314y8e/GjwvANWTStW8bw6lpni+dWUyWsthgAxyL5gVVbK5GCSBVPL5czV+rS07fkJYyNk/JNn7i0V+Rn7fH7cHxP/aF1v8A4J5+IPhT4u1P4d3nx3e+GpQ20zvaRPPDpqOZYSwS4+zmadoxICNwBI5Na/7Vf7NPjj/gk58WPgr8UvDX7Qvxq8bWvjH4maT4R8V6P4x1pdQsNStr9pA8giCKqMoQ4wOONuMc5LCaK7s3fT00LeJ3stFb8T9XKK/ML/guT+0WngT9q74Q+BPiV8S/iJ8GvgH4o0e+ur/xL4Nlkgur7V45UVLS4mRHdIFiIb5VJJl54GV7n/gmb8Jrr4ffGGbxF8Iv2oW+Nf7Ol1oztf6L4i1z+3NZ0m/BcrJBKFDQphV3JJgnc/ykhSJ+rWp+0b38v17le3vU5Ev69D9BKK/DP4T/ALZvgL/gq54l8a+O/j5+1pqnwP8ADun69PpngrwL4a8Vx6A0NlGFK31ycM80khYYJ4yj4+UqB9Tf8EX/ANvP/hNP2rvi3+zhbfEyX42+EPh3p9rrvgzx3dXaXl/qVjKsAube5nT5ZmhnuFjV8BsKwPAUC6mClCLfVb6fqRDFRk0ls9j9JqKKK4jrCiiigDxT40/8nb/DD/sD65/7Z139cB8af+Tt/hh/2B9c/wDbOu/r9P4Y/wBwj6v8z874i/32XovyOa/4JWf8gL44/wDZWdX/APSWxr6pr5W/4JWf8gL44/8AZWdX/wDSWxr6prjq/G/U7aXwL0CiiioLCiiigAooooAKKKKACiiigAooooAKKKKACvAP+CnfwN+JP7QH7F3jDRfg94x13wP8ULaD+0PDd/pepGwae7iyRbSv08qVdyHdwCytkbc17/WL8RviJonwj8A6z4p8S6la6N4f8PWUuo6jfXL7IbS3iQvJIx9AoJoA/HX9lr/g57074Lf8EzfFi/G+K+/4aV+ENz/wiFz4dvIWju/Euo4mW2ncAfKP3EguD/C0RPWWMH7B/wCCKHwP+Nt5+yZqHjX9prxh4j8X+Mfi9v1GXwvrD7tP8NadNuKWa2xG1WdHJdSPlUrHj5Tn8QP2k/EXjv8Ab0/aT+Iv/BRT4ffB/QJfhf8AB/xfpUa6Tf2Tt/wlNvbFt99cqD87xqtr520YQTJ97ynJ/on+Bv8AwUD8K/tA/wDBPKD9ojw1Y6hqXh+TwrdeJG0q32teh7WGR57IDOPOWSJ4x2JAPQ0AYPx3+LXwp/4I9fs9Q3fhn4Ua4ND1nWmjg8OfDbwstzcXF5LE8jzG3i2gDbDhn7fLX5Yf8E0fjBYf8FdP+DivWPj14nvbD4bT/DLSG0vwv4A1ebyPEl8qW8sO6SEgZ2faJ5XwSVLIuCoLV+qH/BKn/gp94O/4Kv8A7ND/ABG8JafdaF9k1S40q/0e9uI5rvT5IyChk2cYkjZHGP7xGTg1+X//AAcK6NoPgX/guj+xzrfw12Wfxj1jWrIa6umAC5uLUahbxWzzBerNGbuPLfejTB4UUAfuxRRRQB8K/tHD+3/+C6vwLsJvmg0rwhd6iit93ey6kuceoMan8BX3VXwp+02//CLf8FyPgLqk3y2+seFrvSgzdN6rqDAD3LTIPxFfddABRRRQAUUUUAFFFFABXxD+zH/yPPxt/wCym6z/AOhR19vV8Q/sx/8AI8/G3/spus/+hR135b/G+Rw5h/BPWqKKK+hPBPn/AP4Kb/txf8O7P2Q9c+Kf/CO/8JT/AGPd2dt/Z32z7J5vnzpFnzNj427s/d5xXm7/ALXP7YEUZY/si6OwUZIX4oacWP0+TrXE/wDBzX/yiH8b/wDYV0j/ANLoq4D43/8ABwl8Qv2cvB/9ueNv2Ovi14U0lnEK3+rXv2e0WQ8Krym32pkkdSK46lVRqNSk0rL9fJnXTpOUE4xu7v8ATzR9RfsGf8FMNH/bN8aeMvAer+FNa+HHxX+HbqviLwrqkqTvbIxwssM6fJLGcryACNy8YIJ+m6/Or/glp+zp428UftLfFH9s/wCKkOi+GLn4p6NFDo/h7SdQj1GKx0qKOAiaW4j+SRyltFjaf75OCQB80/Bj9rLw3/wVNk8SfEL40ftfXXwC0uHWJ7Hwl4H8N+MrXw/NZ2kYG26ui58yZ3J/iGPlOMAgAjXaiubd3t00B0E5Pl2VvPU/auivzd/4Jh/8FBtf8WeKvj58FtK8Z2/x0ufg9pX9reB/FpuY7ibxTbvCWWC4liYpI8c7RxbxgkE55FfLX7GPxL8Pf8FAfC0utfEP9tj4s/DH9oaa6uUl8Nvra6BpOk3CzOIYobZ1WOWPaI8qG3Z3AjNV9ajZW6/oL6s9b9P1P2A/ae+JXjn4W+BNNv8AwB4GPxA1e51qzsrrTxfrZ/ZbOWTbPdb2GD5S/Nt6tXo9fnv+3h46+NH7O3/BM34Qt4r8fQXXxO/4Trw/peu+IPDEz21vqsMt86kAhUJV4PLD/KFZtxAwRVr9tTx94x/bX/4KRaf+yn4U8f8AiH4XeGtA8GN478Wa54dmNvrOoE3CW0NhDN0jQefFKxx82cfw8t1rP7tPUhUrr79fQ9t/bI/b5l/ZS/ah/Z9+HSeGY9aT44a1eaQ9816YDpAg+zfOE2N5mftHTK429ea+ka/G79rD9k3xh+yN/wAFQv2JtBvfiX4x+JXgKTxdeTaJL4qnW91XSrpja/aYWugA0sTKIGQMMqRIBxX05+zV8YvFevf8HAH7Rvgy98R61d+EtD8F6Pdado0t472NjNJBYF5I4idqsxdySBk7j61MK0uZqS62/C5c6K5U49r/AI2PvWivz+v/AIz+Lk/4OPrLwMPEuuDwY3wpOotoYvZPsBufPced5Odm/AA3YzWP+0n8APGnxU+MXjLWv2jf2oJfgb4AgvvJ8F6B4M8YRaEJrIbsXF3NKqyPMflJUZUHdg4xV+30dl1sR7HVXfS5+jNfEU3/AAV4vG/4Je/EX9oiLwNbfavAus3mkpob6o3l3nkajHZ7zN5eV3B9+NhxjGe9ec/8EYP2ln1D9rP40fBjRPjJqfx3+HXhKw0/W/DvibVLv7dextMPLubY3PAlRXxjHAwcdTXz5H/yrM/tBf8AY46v/wCpBBWU8Q3G8ez/AANYUEpcsu6/E+pvhR/wUL/bE+L3wu8N+N9G/ZL8Mah4Z8U6Xba1p8sXxKtEnuLW4iWaJhG8YKko6nawBGea97/4J9/8FE/DP7ffhbxItjpGq+E/GngPUDpHivwzqYBudFvAXUrvX5ZELRuA4x9w5AIxXwz+xz/wUW/a68B/sU/CzSPC37Gd/wCJtB0bwVpNnpOuDxbEq6taxWMKQ3Qh8vcBIiq+zORuxmuz/wCDfDxP4d8d/Ez9ofxVrl9f6b8ffGfiT+0PHXhK705rBfDirLceTFCrktKgaWQGQnOdoIHBaaVZuUVdu/dW+7RDqUkoydkrdn+erPqf/glr+31L/wAFHf2bb3x/N4Zj8KNaeILzQ/sSXpuwwtxGfM3lE+95nTHGOtfSNfh9+wb+3XrP/BPf/ggV4s8a+GbK1vvFmqfFC+0DQ0ukLwRXVwIiJHUEZ2JHIwGcFgoPBr6c8Z/8EsPjB4A+B1/8UtI/ag+Nt58atL0hteNteask3h66vEh86S0+w7Nnks4ZF9AV44xV0sQ3BaXdrsmpQSm9bK9kfpLRX5K+K/8Agst8SP2sP2P/ANmnQ/h1Ppvgz4qftF6/c+GdU1eGHzl8PLaTJDdXNvGxPzMJEcbs7VLAc4Ye2N/wTB+Mv7Kfizwz41+EHx7+KHxB1211eA+IvD3xB8Rm50fXbFyRc4GzMMgBDJtBwRWixHN8CuiHQ5fjdmfRX/DZEn/Dyz/hn7+wU8r/AIVp/wALB/tr7Ud27+1PsH2XyduMfx793tt717pX5Zf8FA/27fB3/BOr/gtpqXxG8ZtPLbw/s5LY6ZYW4/f6tfP4kd4rZD0UsI3YseFVGPOMH6G/4JeeCviD8c9Etv2i/iX8QdV1K/8AibYJqOi+DdJ1Rz4Z8L2UijykSNWImuNgBd3ztZmGNwzShWvNw3d/uQ50rRU9lb8T7HooorpOY4r9pL/k3nx1/wBgC+/9J3r3H9jn/k0T4V/9ifpP/pFDXh37SX/JvPjr/sAX3/pO9e4/sc/8mifCv/sT9J/9Ioa8TNfiiezlnwyPSKKKK8o9MKKzNb8Z6R4amgj1DVNPspLqVYYUnuFjaV2OFVQTkknsK5n4ofGG98DaxDpeleEfEXibUrmHzo/scSpaRgkgeZOxCpyOnJx2oA7msnxn4p/4RDw5PfrYahqrxEKlrYxebNM5IUKB06kZJOAOTwKy/F/hPVviR4GtLRtW1LwleTqkl4dNkjeVPl+eJZGU4GT95QDxVv4b/DjTvhX4YTStMN28AkaZ5Lq4eeaaRuWdmYkkk/h7UAUPAFnrni3wuZPHGlaNFdveG5trGIC4WzjGDEHY5DSqcncvHPFddRRQAUUUUAFFFFABRRRQAUUUUAFFFFAHxz8e/wDlKVpH/ZNJf/TktehV578e/wDlKVpH/ZNJf/TktehV9Blv8H5ng5h/GPiL9t//AJSZfAX6xf8ApS9fbtfEX7b/APyky+Av1i/9KXr7drah8c/X9DOv8EPT9QooorqOUZcf8e7/AO6a8u/4Jg/8mYeG/wDr81L/ANL7ivUbj/j3f/dNeXf8Ewf+TMPDf/X5qX/pfcV8fxh/Ap+v6H1XC38afp+p9AUUUV+fn2wUUUUAfl98bvHHxE/Y5/4LjfEL4s2fwG+MXxR8IeJvh1p/h22uvB+ifa0W5WaKVsuzKmFERBAJIJHFWv2vf2s/2jv+CjHwI8Q/B/4U/sx/FH4ct46tf7J1bxX4+eHRbfSLSUhZzHGGZ5SYyy/Kc4JwpOK/Teiuv6ytHyq6t36HN7B6rm0Z+YP/AAUP/wCCLutJ/wAEzvgn4D+DOm6T4m8Wfs96vaa3aadqKxRweKGGWvVcSEJmaUiQq5wQGTPIrJ+K/wC0J4O+JnwXPhj4RfsU31n8f9Zhis4dN174SW1to/hy8JXznur2aFLd4I/nwyt82F+7nj9VKKaxcrWnrZ3+/uDwyveOh+af7aX7KXxIv/2oP+CeEtv4Pj1Nfhrq95J4wuvCmimDRNDd49N3OI0BW3gLxy7AccIfQ16v/wAFw/gx4t+NvwX+DNn4Q8Oax4lu9G+MfhzWL6HTrV7h7SzhNx5tw4UHbGm5dzHgZFfatFQsTK8Xb4f87lewVpLufGn/AAUF+MPjb4PftE+FJPFPwi/4XB+zZq2kyQa1b6X4YXXtU0HV1k3RXMludxktzHhfkTIJYkkhQfk34Pfsr2n7QP8AwV1+HfxU/Z3+EPjT4L/CvQLK6Tx9q2o6RL4Ys/E7SROsdtDp8m1nwcBiIwuSGIBUMf19opwxPJGyWtrf0u4pUOaV2+t/6Z+N37E3wA0j/gkndePPhl8fv2dJfiF4Rl1+41XwR450XwHH4ra9tJCF+yXAjiklgdQisquAMvIOgBP1t/wS70Lxh40+N/xL+Is/wZ8JfBf4U6skFj4E0x/Cdpo/im6gXaLiW8MOHSJ5Yt6RSDJEinogLfbdFOpinNO61f8AWwU8OoWSeiCiiiuQ6AooooA8U+NP/J2/ww/7A+uf+2dd/XAfGn/k7f4Yf9gfXP8A2zrv6/T+GP8AcI+r/M/O+Iv99l6L8jmv+CVn/IC+OP8A2VnV/wD0lsa+qa+Vv+CVn/IC+OP/AGVnV/8A0lsa+qa46vxv1O2l8C9AoooqCwooooAKKKKACiiigAooooAKKKKACiiigAr54/4KZfsCn/gpP+zfN8L7v4heKfh/4d1O6SbWH0GOIz6vCmSLWRpAcRFsMwA+YooPGQfoeigDzz4Hfsq+Av2d/wBnLSPhP4Y8N6Za+A9H0v8AshdLkt0khu4WUrL56kYlaXLGRmB3s7Fs5NeGf8E5v+CSugf8EzfFvxCj8D+OPFd/8O/HV7JfweCdTEU2meH5Xcn/AEVsbwNjeWQ2dyqm7JXNfW1FAH5k/H//AINrtFn+M2teN/2c/jh8RP2Xb7xVJ5uuaZ4VLvpF64JIZLeOeDy8FnIXeyLuO1UGQfUv+CdX/BCT4efsNfFS8+KHifxR4o+N/wAaNQXZJ418Yyfabq0XG3/RkdnMTbAF3l3faNoZVJWvuSigAooooA+Dv+C2Mg+FGt/AX4tgbF8C+M44bqRPvtDLsnZMDkgraOP+BH1r7q0vU4NZ0y3vLWRZra6iWaKRTlZEYAqR7EEV4h/wUl/Zof8Aav8A2OvF3ha1TfrEUA1PSQBktd2/7xEHvIA0f/bSuO/4I5ftBz/H39h3w8t+U/tbwc7eG7sB8uRbqoiZh1DGJo856kE96APqeiiigAooooAKKKKACviH9mP/AJHn42/9lN1n/wBCjr7er4h/Zj/5Hn42/wDZTdZ/9Cjrvy3+N8jhzD+CetUUUV9CeCfD/wDwcRfC3xN8Zf8Aglp4x0Hwj4f1rxRrlzqelvDp+lWUl5dSql7EzFY4wWICgk8cAV9k+O/AWi/FLwXqXh3xHpdjrehazbta31jeQiWC6iYYKsp4IrXorPkXM5dy+d8qj2PzP/4J0+DPiN+wb+1T8Rf2WvFfhzx5rfwM18zXnw68Umxnv7PS7edW3WE1wiskK4LACQpteMnH75a8h/Yg+CXgz/gmBoPin4XftM/s62fim2stZuLzwj46sfh4niqPX7KRjiGSSKCWSKRdoYJJggSYwNoJ/Y6isfq1rWe23+Rt9Ybvdbnwr/wT08O+O9duvjL4+8N/A74d/Bjw1rFm1t8MrGfwjb6Hr2obY2xJqQgYMsDTojCNwrYbOcAE+F3nxi+F3xh+EN9on7W37JviJ/jsDNbammgfDae5fxDKGbypbHUbRW4ZdoyZwAQfmI5r9XqKr2Glrk+21vY/Ii2/Y1+MXg7/AIImfCDwTrPhbxbqPimx+KGl6zHoCxPqOoeH9IGpPJHHN5YYqsUWHboIw+DtIIHvX7XPgnxH+xP/AMFTdH/aj0/wX4l8deAfFHgp/AnjGLw9Zm+1Lw+y3MVxDfC2T55Yj5MaNtB2BGJ5ZAfv2il9WSVk+34D9u29V3/E/KL9qX4y+Of28/8AgpV+yb4l8E/C34jx/BzwN4qlmk8Sal4fubIXdy4g86RoZFEsNvEqogllVFdzKFzszXZfE608b/sC/wDBaT4hfHPVPhv478bfCz4r+FLHRYr/AMIaX/a91pt7bx2qBJreNvMVT9nb58YO9QM84/Suij2HW+t7/oHt+ltLWPzF/Z40b4ofHv8A4Ly2nxq1j4O+PPh/4AuvhzNo+nXWu2flyOFlyhuAhZbeV2Z8Qs28KqkgbsV5L+xr4K8Mfs7/AB4+MR/a/wDgt40+IHxX8QeI5rnQ9bvfBNz4ysdX05v9TBZPHHPFHg7vlO0KpVcjbtH7KUUvq3W+t7/eP6x0tpa33H5o/wDBMf4feL9A/wCCtfxj8Uar8FNW+Dngvxf4K0//AIRWw/sqK3tI7WCZIwkptswQ3TYaRrcsHUHkHGT5+n7MfxHH/BvZ8cfA3/CBeMf+Ez1jxVqlzYaD/Y9x/aV7E+uQyo8cGzzHVowXBAIKgnpX63UU/qyta/f8Q+sO97dvwPzb/Y9/4Kh+I/2f/wBk74YeAdX/AGSv2vLnVvBHhHS9BvJ7X4fk2089pZxQO0ZaZW2M8Z2llBwRkCrP/BM39mD4t/EP/gph8Xf2qfib4Hn+Fdh420aHQ/D/AIburiJ76WAfZ1865SNjskCWkeQ4DbpWwMKCf0bopqhtzO9iXWWvKrXPxW+Av/BL34qfHv8A4IOeLPhy3hbWvCvxK0r4k3Xi3QdK161fTJb1ovKCj9+FwskbyhHbClgMkDJH1J41/wCCruv+MP2XLvwRoHwi+Lo/aI1PRToi+Hbjwnd29paam0XkyTm9Zfs32ZH3SB/N5UL0zkfoLRSjh+Ve6+linX5neS63Px21z/gkd8Wv2P8A9jz9lLxb4N8PJ40+Jf7P3iC78SeI/DllcR+bfw3sqT3MED5xLJGsSRYUkvklQcAH6P8AjT/wUs8d/tW6V4c8Afs3eC/ifoHj7X9Us11vX/Eng2awsPBFksivdtO12nlSTbQYwibw2W2ndtz99UULD8ukHZCdfm1mrs+GviP+yenxi/4Lu2/iPxd8PR4o+H9r8BTpcWqarov2vSU1M65JmASuhiFwbWaX5Ad3lyNxgmsL/gnL4a+JP/BPz9rfxt+zxrHhLxpq3wPv7mTXPhp4phsrjUbDRYJSXfS7i4RWWAKd+wSlcFD1EqV+gVFV7FJ8y3uL2za5XtYKKKK3MDjf2iHSP4BeNWlQyxLoV6XQNt3r5D5Ge2fWuv8A2WfAXjzVv2WfBBs/HkGmWV74Z0uXTETRI5ZNNiNvGwiZmb97hCE3EA8ZxXG/tJf8m8+Ov+wBff8ApO9e4/sc/wDJonwr/wCxP0n/ANIoa8TNfiiezlnwyMnwR4A+Lvh/Wng1jxnoHiDRbuUiaWSxa2vreIgj9yY8IG5z8wPPesm3+H3i34MfEVbvRdK8W+PbJoArXOoeL1Uqzfe/0aQLHxgYOc17pRXlHpnnPjbSPAnw7hHivXvC1nHe3UyyzXKaMdQuIJiN2WaNHZcYPzDjPeup+HvxK0T4qeHBq2g3yX9gZGiMioybXXGVKsAQRkcEd63azPE3hGw8XeG77SryJvsWoo0c6wyNCzA9TuQgg+4NAGnRXF/DL4WXvwtS+jXxR4g8Q2LoPslrqsqTNakZ4E20OwPA+YnGKpfDD44TeKvEsvhvxDoF/wCGPFMETT/ZJMz21zCCAZYp1GxlyRwcEE4xQB6DRRRQAUUUUAFFFFABRRRQAUUUUAFFFFAHxz8e/wDlKVpH/ZNJf/TktehV578e/wDlKVpH/ZNJf/TktehV9Blv8H5ng5h/GPiL9t//AJSZfAX6xf8ApS9fbtfEX7b/APyky+Av1i/9KXr7drah8c/X9DOv8EPT9QooorqOUR13qQehGK8i/wCCcerxeGPhrr/w4uz5HiH4f65e291bPw72888lxb3A9UkSTgj+6a9erzb4nfAB/EXxCsfHHhXWW8J+ONOt2s/t62wubfUbY8/Z7qEkeZHuwQQysvZhXi55lssbh+SHxLVHr5NmEcJW5p7PRnutFfP1/wCOv2h7K48uDQ/hBfRgcTnUtQgL+5Tym2/Tc31NQ/8ACxP2jf8AoWPg/wD+Dm//APjFfCf6u4/+T8UfZf25gv5z6Hor54/4WJ+0b/0LHwf/APBzf/8Axij/AIWJ+0b/ANCx8H//AAc3/wD8Yo/1ex/8gf25gv5z6Hor54/4WJ+0b/0LHwf/APBzf/8Axij/AIWJ+0b/ANCx8H//AAc3/wD8Yo/1ex/8gf25gv5z6Hor54/4WJ+0b/0LHwf/APBzf/8Axij/AIWJ+0b/ANCx8H//AAc3/wD8Yo/1ex/8gf25gv5z6Hor5O+NP7VHxx+AXw5vvFPiLw98I4NK08xrIY9Xv2di8ixqFHkjJyw/AE9q6a1+Jv7RN7bRzReGvg9JFKodGXWr8hlIyCP3FL/V/HXtyfih/wBt4O1+c+i6K+eP+FiftG/9Cx8H/wDwc3//AMYo/wCFiftG/wDQsfB//wAHN/8A/GKf+r2P/kF/bmC/nPoeivnj/hYn7Rv/AELHwf8A/Bzf/wDxij/hYn7Rv/QsfB//AMHN/wD/ABij/V7H/wAgf25gv5z6Hor54/4WJ+0b/wBCx8H/APwc3/8A8Yo/4WJ+0b/0LHwf/wDBzf8A/wAYo/1ex/8AIH9uYL+c+h6K+eP+FiftG/8AQsfB/wD8HN//APGKni1n4/eLrGWzvZPhj4QScbDf6ebzU7qEdykcixR7vQsSB3U048OY9u3J+InnuCSvzkPjfxjH4/8A28dB0nSsXUfgLw7eya1MhytpNePAIISf75WFmx6EGvWq4n4FfAjR/gH4Tl0/TZLy+vL+drzU9TvpPNvNUuW+9NK/c+g6AdK7av0TK8F9Uw0aN7tHw2Y4v6ziJVUjmv8AglZ/yAvjj/2VnV//AElsa+qa+Vv+CVn/ACAvjj/2VnV//SWxr6prwqvxv1PapfAvQKKKKgsKKKKACiiigAooooAKKKKACiiigAooooAKKKKACiiigAooooAKKKKACvzd8ZeIJP8AglT/AMFOW1Mw3Fh8GfjY2+6Cc2un35PzuqL90pIwbGP9XOwGdvH6RV5Z+2P+ynoP7ZHwI1bwZrqBDcL5+n3gX95p90oPlyqfxII7qzDvQB6kjiRQQQQRkEd6Wvg3/gmB+2l4m8LePpv2cPjBbPp3jrwjCYNJv55f+QtBH92PJ++wjKlGGd6Kc8qc/eVABRRRQAUUUUAFfEvwW0658A/tE/G/wtqUfkXsviyXxNaZP/H1ZX6K8ci+oDI6H0K4r7arxj9qD9kCP49+JdC8U6L4jvvBnjfw0kkFnqltCtxFc27kF7a5hYgSxFgDjIKnkEV0YWt7KopswxNL2tNxRhUVwGu+Af2l9DvPItPCnwr12JBgXkevXNp52P4jE8J2Z67QzY9TVL/hGf2oP+id/DL/AMKmb/4zXtf2hQ7nj/UK3Y9MorzP/hGf2oP+id/DL/wqZv8A4zR/wjP7UH/RO/hl/wCFTN/8Zp/2hQ7h9Qrdj0yivM/+EZ/ag/6J38Mv/Cpm/wDjNH/CM/tQf9E7+GX/AIVM3/xmj+0KHcPqFbsemUV5n/wjP7UH/RO/hl/4VM3/AMZrI8caz+0J8M/Ds2reIvCfwf0PS7cZlu7/AMZPbwp9WaIDPtR/aFDuH1Ct2PY6K8h8HXP7R/j/AMK6frekeBPhjeaXqsC3NpcDxNcIJ4mGVcBoAcEYIOOQQe9aX/CM/tQf9E7+GX/hUzf/ABmj+0KHcPqFbsemUV5n/wAIz+1B/wBE7+GX/hUzf/GaP+EZ/ag/6J38Mv8AwqZv/jNH9oUO4fUK3Y9Mory+80T9pywtJZ5fh98MUihQyOx8UzfKoGSf9TXMfBD4h/tAftDfC7SfGHhfwN8NLzQ9ZjaS2kbxNMjfK7IwZfJ4IZSMe1H9oUO4fUK3Y93orzP/AIRn9qD/AKJ38Mv/AAqZv/jNH/CM/tQf9E7+GX/hUzf/ABmj+0KHcPqFbsemUV5n/wAIz+1B/wBE7+GX/hUzf/GaP+EZ/ag/6J38Mv8AwqZv/jNH9oUO4fUK3Y9MorzP/hGf2oP+id/DL/wqZv8A4zR/wjP7UH/RO/hl/wCFTN/8Zo/tCh3D6hW7HplFeZ/8Iz+1B/0Tv4Zf+FTN/wDGaP8AhGf2oP8Aonfwy/8ACpm/+M0f2hQ7h9Qrdj0yivM/+EZ/ag/6J38Mv/Cpm/8AjNH/AAjP7UH/AETv4Zf+FTN/8Zo/tCh3D6hW7HplFeZ/8Iz+1B/0Tv4Zf+FTN/8AGals/Cf7TtxdIkngH4XwIxw0j+KJyqD1IEBP5Cj+0KHcPqFbsVP2z/HEHgn9m3xQrZlv9cspNG0u1Qbpb68uVMUUSKOSSzfkCe1fVHwB8E3Pw0+BHgrw5eY+2eH9BsdNnwcjzIbeONsfipryH4UfsT6rf/FXSfHfxR1vS/EWr+Ht0mh6Npto0Wl6JM3BnBcl55sDAdwAvVVBr6MryMbiFVneOyPUwdB0oWluwooorjOsKKKKACiiigDzrwD4S8Z/D34iXNnNqreJPBuoCW5hnv5c6hpUpOfJ3f8ALWI5O3PK4x0Az6IrB1BHIPII7024gS7t3ikG6ORSjA9weDXEfAr4b6j8JNI1PQZbr7bodres+hvJIXmgtXVW8h8jojlwpySVI6YoA7qiiigAooooAKKKKACiiigAooooA+Ofj3/ylK0j/smkv/pyWvQq89+Pf/KUrSP+yaS/+nJa9Cr6DLf4PzPBzD+MfEX7b/8Ayky+Av1i/wDSl6+3a+Iv23/+UmXwF+sX/pS9fbtbUPjn6/oZ1/gh6fqFFFFdRyhRRRQAUUUUAFFFFABRRRQAUUUUAfn9/wAFx/i99n0zwb4Htb3DXDS6vqNsueVXEduW7YJ8/j1UGvoT/gmb8Xo/i7+x/wCGHN3Jd6hoMbaRfGQ5dHiOEBPf90YyD7+ua+TP+CkH7POp6p4J8S/GXxU81tqeta1baboelZx/Z+nKsio0o/56yBA5X+De2ck/L9C/sL/s56n+y/4jtJtJeXUPAvxF0e1v3Q5MmjagsIfB9Y5FZ8N2Kqp7E+ZTc/rLk1o/6R6VRQ+rKKev9XPquiiivTPNCiiigAooooAKKKKACiiigDmv+CVn/IC+OP8A2VnV/wD0lsa+qa+Vv+CVn/IC+OP/AGVnV/8A0lsa+qa+Sq/G/U+ppfAvQKKKKgsKKKKACiiigAooooAKKKKACiiigAooooAKKKKACiiigAooooAKKKKACiiigD5w/wCChf7All+2H4LttS0O5i8NfEvw263WheIIQY50ZMssDyLhxGWOQRyjYI7g+TfsN/8ABSTUPBWon4RftGyyeEPiTozLDaalqoENvrcJIWNjLnYZCQfn+7IMEHdmvuivFv2zf2EPAn7b3gf+zfFNl9n1W1QjTtatVAvNPY+jfxJnqjcH2PNAHtCOJFBBBBGQR3pa/NyP9oD48/8ABI6a10j4lWUvxY+ECSLbWPiK1Yi906PoqOWyQQBwkhxxhZOMV9q/syfthfD79rzwl/a3gfX7fUfLA+02Un7q9sm44kiPzDr94ZU9iaAPTqKKKACiiigAooooAKKKKACor65NlZSyiKWcxoWEcQBeTHYZIGT7mnXNzHZ27yzOkUUSl3d22qijkkk9AK+Kf2sv+CxGj+DfFdt4E+C2lp8VviBqMjWypYlpbKyfGB8yD98QeSEIUBTlhQB51/wUp/4KjfGr4AK+naH8Prb4f2N/ujs9W1vULO61G6UcF4baOVguCep344JxXyL+wl8PvH3/AAVB/a30W0+IPiTxF4s8M+GH/tXWG1K8kniihDZECqTtTzXATCgfLu/u190fs7/8Eqb7xT45/wCFx/tCaxJ4y+INwn20aKQv9n6VIuTGh2nEmwBcIoCA5+/1r0H/AIJJ/sZj9l34EXGu6pBs8XfEGYarqAZMNZwHc0Fv6/Krlm/2nI/hFAH1VZWUOm2UVvbxRwW8CLHFHGu1Y1AwFAHAAA6VLRRQAUUUUAfN3/BV79pT/hmX9irxTqFtdfZdc16L+xNKKvtk86cFWde+Uj8x/qor5T/4N1/2lft2geLfhVqF3mSxca5o8bv/AMs2wlwij0DeW2B/z0Y17V/wUR/Yw139uT4tW8es30mi/DP4baPNqBMLbrjWdRkUu0SjoipGkeXOf9YQBnOPmH/gk7+y9qfw+8BeA/2hfCsl5qM8Wq3WheKdGCBvN015DG91Eeu6LKOUwdwj47ggH640UUUAFFFFABRRRQAUUUUAFFFFABRRRQAUUUUAFFFFABRRRQAUUUUAFeeeKpdei/aS8JC1OpHw/Lpd8t+E3fZRKDGYi/8ACH+9gnnrXodcZ4j+KE2h/G3w14UW0jkh12xu7t7guQ0Rh2YAHQ53/pQB2dFFFABRRRQAUUUUAFFFFABRRRQB8c/Hv/lKVpH/AGTSX/05LXoVee/Hv/lKVpH/AGTSX/05LXoVfQZb/B+Z4OYfxj4i/bf/AOUmXwF+sX/pS9fbtfEX7b//ACky+Av1i/8ASl6+3a2ofHP1/Qzr/BD0/UKKKK6jlCiis3xd4x0rwD4fuNV1vUbLSdNtV3TXN3MsUUY92JxS23GaVFeJj/goV8LrhmNpq2r6lCCVE9loV7cQuf8AZdYiD+Bo/wCHgXw3/wCe/if/AMJrUP8A4zWH1qj/ADr70bfVq38r+49sorxP/h4F8N/+e/if/wAJrUP/AIzR/wAPAvhv/wA9/E//AITWof8Axmj63Q/nX3of1Wt/I/uPbKK8T/4eBfDf/nv4n/8ACa1D/wCM0f8ADwL4b/8APfxP/wCE1qH/AMZo+t0P5196D6rW/kf3HtlFeJ/8PAvhv/z38T/+E1qH/wAZo/4eBfDf/nv4n/8ACa1D/wCM0fW6H86+9B9VrfyP7jzn/gs3/wAmcr/2HrT/ANBlr6I+BX/JEfB3/YDsv/RCV8df8FL/ANo7w9+0N+zaPD/hO38S6jqv9rW915LaBeQjy0WQMdzxgfxDvXsnwp/bn8AeGfhd4b028fxPFeafpVrbTp/wjd+2yRIVVhkRYOCD0rmjiaPt5PmVrLqbyw9X2MVyvd9D6LorxP8A4eBfDf8A57+J/wDwmtQ/+M0f8PAvhv8A89/E/wD4TWof/Ga6frdD+dfejD6rW/kf3HtlFeJ/8PAvhv8A89/E/wD4TWof/GaP+HgXw3/57+J//Ca1D/4zR9bofzr70H1Wt/I/uPbKK8T/AOHgXw3/AOe/if8A8JrUP/jNH/DwL4b/APPfxP8A+E1qH/xmj63Q/nX3oPqtb+R/ce2UV4n/AMPAvhv/AM9/E/8A4TWof/Gas6F+3v8ACzWtah0+XxG+kXVyQsI1ewuNPSUk4ADzIq/rTWJot2Ul94nhqqV3F/cex0UiOJFBBBBGQR3pa3MDmv8AglZ/yAvjj/2VnV//AElsa+qa+Vv+CVn/ACAvjj/2VnV//SWxr6pr5Kr8b9T6ml8C9AoooqCwooooAKKKKACiiigAooooAKKKKACiiigAooooAKKKKACiiigAooooAKKKKACiiigCtq2kWmv6ZNZX1tb3tncoY5oJ4xJHKp6hlOQR7GvkX4+/8EbfAnjbxHF4n+Geqan8HfF9omIbrw8TFauwOcvCpUgnoSjLnuDX2HRQB+cek/E79tr9ifVhY+IfCsfx08LRPtS8scz3rJ2w8Y84HufMif8A3u9elfDz/guT8Kr68/szx/pfi34Y69E2ye01fTZJY42/341LY/3kWvtKue8e/CXwt8VLH7N4m8N6F4hg27dmo2EV0APbepx+FAHn+hf8FBvgd4kS3Np8WPATNcgGOOTWYIpDnsUZgwPsQDXoOg/Fjwt4piV9M8S6BqKPyrW2oQyhvptY18+ePP8AgjR+zt48klkbwEmkTzEkyaXqFxbYPsgcxj8Fry7Xf+DeL4K6hIWstd+IGn5P3Bf28qr9N0GfzNAH3Nc+JtOsoTJNqFlEg5LPOqgfiTXHeL/2rfhj4AUHW/iH4K0vPIFzrVvGfyL18dQf8G7PwueUfa/GvxAuY16L51suPx8o11/g/wD4IG/AHwzJuvLbxdr/ADnF/q+0flAkdAHpPxM/4Kzfs/fC6xaW5+JGi6tJt3LBo27UXf2BiDKD9WFeF+Kv+Cw/jz40QSxfAP4G+MPFcav5R1jVLKQWsbHp8kWR68tKuMcivpn4Vf8ABO/4JfBaaKXw/wDDXwvBcw8pc3Vt9tnU+oknLsD9DXsltbR2cCxRRpFGgwqIu1VHoAKAPzv8L/8ABP39pD9siSTUPjz8VdQ8K+HNTYPP4T0KYDdH/wA8mCHyUGPUyn15r6//AGcf2KPhj+yhYKngjwnp2lXnk+RLqLJ519crnJ3zNlzk84BA9uK9UooAKAMCiigAooooAKKKKAMD4q/8kv8AEn/YLuv/AEU1fKn/AAQd/wCUeejf9hjUP/RtfVfxV/5Jf4k/7Bd1/wCimr5U/wCCDv8Ayjz0b/sMah/6NoA+yqKKKACiiigAooooAKKKKACiiigAooooAKKKKACiiigAooooAKKKKACuU13W/Dlt8XNAsby2R/E11Z3UmnTmDc0UK7POAf8AhzleO+K6uuS1/wCHdnrHxg8P+JZL8xXujWd1bQ2ny4nWbZub1+XaOnrQB1tFFFABRRRQAUUUUAFFFFABRRRQB8c/Hv8A5SlaR/2TSX/05LXoVee/Hv8A5SlaR/2TSX/05LXoVfQZb/B+Z4OYfxj4i/bf/wCUmXwF+sX/AKUvX27XxF+2/wD8pMvgL9Yv/Sl6+3a2ofHP1/Qzr/BD0/UKKKK6jlCvCPgX4Ji/bF+JfiTxv4sjXVfBGgapLo/hXRLhRJYzPbNtm1B0PyyOZNyoT91Qa90uDiB/9015d/wTB/5My8OH1vdSJ9/9PuK+X4qxM6WGUYO3Mz6PhqhCpiHKavZHvlraxWNukUMaQxRjaiIoVVHoAOlSUUV+bn3oUUUUAFFFFABRRRQAUUUUAFFFFABRRRQAUUUUAFZXjLwPo3xD0GfS9d0uw1jTrlSstteQLNG4PswNatFNNrVC33PmP4XaVqP7N37S158NGur2+8F+INMfW/CpuZGlbS/JdI7ixDtkmNd8bICflBxXuFcB8aR/xlx8MP8AsD65/wC2dd/X6rw/XnWwMZVHd6r7j83zyjCljJRgrLRnNf8ABKz/AJAXxx/7Kzq//pLY19U18rf8ErP+QF8cf+ys6v8A+ktjX1TXmVfjfqelS+BegUUUVBYUUUUAFFFFABRRRQAUUUUAFFFFABRRRQAUUUUAFFFFABRRRQAUUUUAFFFFABRRRQAUUUUAFFFFABRRQTigAorzTxL+2d8IvB2sTafqnxP8AWF9bsUmt5tftVlhYcFWXflT7GqH/DevwR/6K38Of/Chtf8A4ugD1qivJf8AhvX4I/8ARW/hz/4UNr/8XR/w3r8Ef+it/Dn/AMKG1/8Ai6APWqK8l/4b1+CP/RW/hz/4UNr/APF0f8N6/BH/AKK38Of/AAobX/4ugD1qivJf+G9fgj/0Vv4c/wDhQ2v/AMXR/wAN6/BH/orfw5/8KG1/+LoA9aoryX/hvX4I/wDRW/hz/wCFDa//ABdH/DevwR/6K38Of/Chtf8A4ugD1qivJf8AhvX4I/8ARW/hz/4UNr/8XR/w3r8Ef+it/Dn/AMKG1/8Ai6AO7+Kv/JL/ABJ/2C7r/wBFNXyp/wAEHf8AlHno3/YY1D/0bXqvxJ/bq+C2ofDrX4IPiv8AD2aabTbiOONNftSzsYmAAG/kk181/wDBF79qv4Z/Cb9hjStG8UeP/B/h7Vo9VvpHs9R1eC2nVWlyrFHYHBHTigD9CaK8l/4b1+CP/RW/hz/4UNr/APF0f8N6/BH/AKK38Of/AAobX/4ugD1qivJf+G9fgj/0Vv4c/wDhQ2v/AMXR/wAN6/BH/orfw5/8KG1/+LoA9aoryX/hvX4I/wDRW/hz/wCFDa//ABdH/DevwR/6K38Of/Chtf8A4ugD1qivJf8AhvX4I/8ARW/hz/4UNr/8XR/w3r8Ef+it/Dn/AMKG1/8Ai6APWqK8l/4b1+CP/RW/hz/4UNr/APF0f8N6/BH/AKK38Of/AAobX/4ugD1qivJf+G9fgj/0Vv4c/wDhQ2v/AMXT7f8Abu+Cl1OkafFr4cs8jBVH/CQ2oyT/AMDoA9XoqtpGsWmv6bDeWN1b3tpcLvint5BJHKvqrAkEfSrNABRRRQAUUUUAFFFFABXn/iz4e6nq/wC0X4Q8RwxxnS9H02+trlzIAyvL5ezC9T9016BXnfi/xHrNn+0n4O023luV0S90y/lvI1TMTyJ5flljjgjLY5oA9EooooAKKKKACiiigAooooAKKKKAPjn49/8AKUrSP+yaS/8ApyWvQq89+Pf/AClK0j/smkv/AKclr0KvoMt/g/M8HMP4x8Rftv8A/KTL4C/WL/0pevt2viL9t/8A5SZfAX6xf+lL19u1tQ+Ofr+hnX+CHp+oUUUV1HKMuP8Aj3f/AHTXl3/BMH/kzDw3/wBfmpf+l9xXqNx/x7v/ALpry7/gmD/yZh4b/wCvzUv/AEvuK+P4w/gU/X9D6rhb+NP0/U+gKKKK/Pz7YKKKKAPjv9qD/gsv4Y/Zq/aq1P4O2nwf+PfxQ8YaPpNvrd3H4D8MQ6zHDazYCuwFwsigEqpJQLlgMnNY3hj/AILzfCq28d6PoXxI8DfGz4EHXphbWeo/Enwe+h6a0pGQjXBd0TPPzMQoxywHNcj8FP8AlZf+Mv8A2RzTf/Sy1r6Y/wCCmHwE0j9pj9gb4s+D9ahikttQ8NXs0Duufs1zDE00Ey+hSVEb8Peu5xoxcYSW6Wt+5yJ1GpST2bPb7W6jvraOaGRJYZlDxyI25XUjIII4IIqSvx8/Ys/4LAa1+zD/AMECvg94k/sV/G/xK1TWpPht4S064mKpqF0k0yWrSkHd5UUKxoQCCxVVyu7cPVvjLqH7c/7CXwm1b45+OPjT8OPiX4c8JQDWPEnw/tvCUWmwpaBl86Gyv0Qzl0VmKtKMfIM5yamWDkpOLa3aXnYaxUWrpPa78j9LaK/Nv9v7/grL8Q/CfiD9jTVPgRb6Tq2l/tHm8P8AZmsRKq3JkhsPsgllAZ4Viku2aXy/mIRgOcVS+KXxu/bE/wCCeHxt+FPiH4s/Ez4bfE74bfE3xxYeDNS0nTPDP9mS6DJfMwie3lGHdV2HmV2PGCDnISwk2k20r3066DeJjdqz0/U/TGivg3/gp9+2r8RvB/7W/wANfgJ8OPiH4I+CuoeOdFu9en8beKrGO8hbypRFHYWkcpELXDfO5EnUbAME89V+xxN+1z8IP2ij4Q+MGreFfjT8K9Q0htQtfiTpllaaHdabcjcRbT2ccgEiMq8NFGcb1JfGQI+rvk5216f1p+JftlzcqTPsiivzL+FX7Uv7UH/BX3xP418RfAL4h+FvgL8H/BWuz+HtL1W+8Nw6/qviy4hUGSVknBihg+ePG3DDfyWIIHtn/BOH9uPxr47+P/xP/Zz+Msuiaj8Yfg7FaXlzruiwmDT/ABRp91FHLHcpCVBikjE0SSKBt3MNvcBzw0op6q63XVCjXjJrTR7PufZFFFFcxuFFFFAHinxp/wCTt/hh/wBgfXP/AGzrv64D40/8nb/DD/sD65/7Z139fp/DH+4R9X+Z+d8Rf77L0X5HNf8ABKz/AJAXxx/7Kzq//pLY19U18rf8ErP+QF8cf+ys6v8A+ktjX1TXHV+N+p20vgXoFFFFQWFFFFABRRRQAUUUUAFFFFABRRRQAUUUUAFFFFABRRRQAUUUUAFFFFABRRRQAUUUUAFFFFABRRRQAV8lfGjWbv8Aa5/aQ17wRBrmqaf8O/h3FFa+IbTT52t/+Ei1GdRJ9mklTDCGGMLvRWBZpcHgc/WtfHf7H6D/AITH45Sfxv8AE/WAzdyAYgPyHFcGZVpU6DcNztwFOM6yUtjsfC/7L/w48F6WllpngTwlaW8YACrpUJJ9yxUlj7kk1pf8KN8Ff9Cf4W/8FMH/AMRXU0V8j7ST1bPpeSK2Ry3/AAo3wV/0J/hb/wAFMH/xFH/CjfBX/Qn+Fv8AwUwf/EV1NFHPLuHKuxy3/CjfBX/Qn+Fv/BTB/wDEUf8ACjfBX/Qn+Fv/AAUwf/EV1NFHPLuHKuxy3/CjfBX/AEJ/hb/wUwf/ABFH/CjfBX/Qn+Fv/BTB/wDEV1NFHPLuHKuxy3/CjfBX/Qn+Fv8AwUwf/EUf8KN8Ff8AQn+Fv/BTB/8AEV1NFHPLuHKuxy3/AAo3wV/0J/hb/wAFMH/xFH/CjfBX/Qn+Fv8AwUwf/EV1NFHPLuHKuxy3/CjfBX/Qn+Fv/BTB/wDEUf8ACjfBX/Qn+Fv/AAUwf/EV1NFHPLuHKuxy3/CjfBX/AEJ/hb/wUwf/ABFH/CjfBX/Qn+Fv/BTB/wDEV1NFHPLuHKuxy3/CjfBX/Qn+Fv8AwUwf/EUf8KN8Ff8AQn+Fv/BTB/8AEV1NFHPLuHKuxy3/AAo3wV/0J/hb/wAFMH/xFH/CjfBX/Qn+Fv8AwUwf/EV1NFHPLuHKuxy3/CjfBX/Qn+Fv/BTB/wDEUf8ACjfBX/Qn+Fv/AAUwf/EV1NFHPLuHKuxy3/CjfBX/AEJ/hb/wUwf/ABFH/CjfBX/Qn+Fv/BTB/wDEV1NFHPLuHKuxy3/CjfBX/Qn+Fv8AwUwf/EVFe/ADwJqVq8E/grwnNDINro+kW5Vh6EbK66ijnl3Dlj2PnT4j+FW/YAFl8Q/hraS6d4P026VvGXhi2d2sruwdgr3UMRJWKaHO/KBQygg8CvtrSNWttf0m1vrOZLi0vYUnglQ5WWNgGVgfQgg186/tRwrcfs1fEBHUMreHb8EHv/o8lemfsduZP2R/hYzEknwhpJJPUn7FDX0+UV51KTU3ex8/mdKMKicep6PRRRXrHmhRRRQAUUUUAFcd4i+KMmh/Grw34UFokkWu2V3dtcGQhoTBswoXHOd/r2rsa5HX7/wzF8YvD1vew7vFMtndNpkuxjshGzzhkfKM5Xr+FAHXUUUUAFFFFABRRRQAUUUUAFFFFAHxz8e/+UpWkf8AZNJf/TktehV578e/+UpWkf8AZNJf/TktehV9Blv8H5ng5h/GPiL9t/8A5SZfAX6xf+lL19u18Rftv/8AKTL4C/WL/wBKXr7drah8c/X9DOv8EPT9QooorqOUZcf8e7/7pry7/gmD/wAmYeG/+vzUv/S+4r1G4/493/3TXl3/AATB/wCTMPDf/X5qX/pfcV8fxh/Ap+v6H1XC38afp+p9AUUUV+fn2wUUUUAfk38Uf25PhZ+wd/wcT/FPxJ8WPFcXhHRdX+FWmaZaXMljdXYmuDcQSBNtvHIw+SNzkgDjrnFdR+3h/wAFwfhz+07+zL4v+GP7Mtx4q+LvxR8f6ZJoOnRaB4cvfJ00XS+VJPPJNFGqBY3Y55w2N2ACR+mN3oVjqE3mT2drNJjG6SFWP5kU+y0m10zP2e2t7fd18uMJn8q7Pb07xk46q3XTT5fqc3sZ6pS0flrr8z8Xv+Cj3/BJrXf2b/8AgkF+zfoemeFLz4iyfA/xJDr3jjQ9NSSZ9Viui0uobAnzsiyER5UZEZLcBTWh8ctF/wCCavhj9mSPxd8P/h94K+JnjXXreBfDvgPTdav5dc1W8mKhbR7aKSSaGQbju3JwVI5OAf2ZrltH+Bvgrw74xm8Q6f4P8LWOv3DM8up2+kwRXkrN94tKqByT3yatY2VrTvu3o7Xv3IeEV/dt81fY/Lr9trwXB8PP2pv+CXGj2/g2D4dxWWtXw/4RiG9a9TQGaPS2a185gDJ5bMVLEckGvcv+DhT/AJIL8B/+y6eFf/QrmvveeyhuZY3khikeE5jZkBKH2PalubOK9VRNFHKFYOodQ21h0Iz3rP6z70JW+G/5tl/V9JK+9vyR8Ef8FUfiF8Bdf/ah+H3wz/af+GWjy/DfXdIu7rQfiDq17LBZ6fqhdVksGkjCG3LRqr72lwTs4GM18rfs4eG9I+Bn/BWf4dfDf9jv4p+L/HXwU1ixu5/iDocOrya74Y8LxGGURGO5O5I3cncBvL7wo3HdtH7J+KPCWleN9Hk07WtM0/V9Pm/1lte2yXEMn1RwQfyqt4H+HPh74ZaR/Z/hvQdG8PWG4v8AZtMso7SHcep2RqBn8KcMUow5bPba+nrYUqDlPm/4f0Pwt/4Ji/shfss/AdviF8IP2wPB2geEfib4P1+5m0zWvFmpXGlWnibSWIWKW1lMscUoVkc5XkrInUhgPtf/AII7+HvglrX7U3xc134C/A2y8LfDzQ7aHQtK+JcGo3rw+NN7RvcQW8Nwu1o4p4GBlR2H7tP7/H3r4++E/hb4q2kMHijw14f8SQW7b4o9V06G8SJvVRIrAH6VraNotn4d0uCx0+0trGytl2Q29vEsUUS+iqoAA9gKqtjHUTve789PuFTwqg1a2nlqWqKKK4TrCiiigDxT40/8nb/DD/sD65/7Z139cB8af+Tt/hh/2B9c/wDbOu/r9P4Y/wBwj6v8z874i/32XovyOa/4JWf8gL44/wDZWdX/APSWxr6pr5W/4JWf8gL44/8AZWdX/wDSWxr6prjq/G/U7aXwL0CiiioLCiiigAooooAKKKKACiiigAooooAKKKKACiiigAooooAKKKKACiiigAooooAKKKKACiiigAooooAK+Pf2P/8Aka/jf/2U/Wv/AEKOvsKvj39j/wD5Gv43/wDZT9a/9Cjry84/3f5o9HK/4/yPaqKKK+TPowooooAKKKKACiiigDx39rX9v74P/sKWuiTfFjxtY+DYvEbzJprXNtcTfamiCGQDyY3xt8xOuPvV5f4J/wCC6X7JHxB1mCw0746eDVubmQRRi9M9ghY4wN88aKOvUnFfM3/Bfq0i1D9vz/gn9BPFHPBN8VIY5I5FDJIpv9KBBB4II7V+g3xb/ZF+F/x28CX/AIa8W+AfCet6LqUTQzW9xpkPAYEbkYKGRxnhlIYHkEV2ezpRpxlO+v8An6HLz1JTlGNtP8jtvDPijTfGvh+01bRtQsdW0vUIhNa3llOs9vcxno6SKSrKfUHFX6/ND/gix8RY/wBi6x/ap+Auv6rPd+EP2YvEE2q6Te3DAvbaJeR3F4kbHgbk8mVyem6Vu2K7D4U/8FCv2q/2tfhUPiv8J/gJ4Hh+Gl3G11omm+K/Estr4k8TWyk4lhWJGgg34OwSMwPBBIIJmeFkpNLZddt9UVGunFN79t9tz7/or4ivv+Czuk+Jf+CUnjX9pTwx4P1FbzwNcNp2p+GNZl+zzWl9HdwW88DyIGB2iYMGA54BCnIHHfFn/gqT+0h4A/Zz/wCF/Qfs9+HU+DFtZQ6vcaff+JmTxYdNcKxvTCkbQRgI2/yy7MF5OOcJYWo9PO263G8RBfdf5H6HUV8gftQf8FfvC3wF/YM+Hfxt0fw1q3if/hbc+naf4V0QzxWkk95fQvLFFcSsSkSr5bh2G7BHGetZMn7Yn7UH7PPjrwbJ8Yvg94M1rwT4z1iDRJb74b397qV/4YlnOI5ruCaMeZbrg+ZLGQFAzg5AMrDzav8A1oP20L2PtWivkX9rX/gol408I/tb6b+z/wDBP4dWvj/4oXehJ4l1K+1fU/sGg+G7BpXiD3MiBpWkLIuI1UEiVCCc4GT8G/8Ago98R/Af7ZHhf4DftB/DjSPC3izx/b3Nz4S8R+FNQe/0DXPs0TSzxEShZoJFVTwwbOR0yCT6vNx5vn52H7aN7fI+0KKKKwNQooooAKKKKACiiigDhv2nf+Tb/H3/AGLt/wD+k8lek/sc/wDJonwr/wCxP0n/ANIoa82/ad/5Nv8AH3/Yu3//AKTyV6T+xz/yaJ8K/wDsT9J/9Ioa+kyP4Jep4Wb/ABRPSKKKK9w8gKKKKACiiigArk9e+G1trPxf8P8Aid74xXWi2d1axWu0YnWbZubOc/LtHQd66yvPvFvw/wBT1b9o3wh4ihiRtK0jTb+2uZDIAyPL5ewBepztPTpQB6DRRRQAUUUUAFFFFABRRRQAUUUUAfHPx7/5SlaR/wBk0l/9OS16FXnvx7/5SlaR/wBk0l/9OS16FX0GW/wfmeDmH8Y+Iv23/wDlJl8BfrF/6UvX27Xx/wD8FBPgh8QL79oT4e/FDwZ4cXxVB4JQNc6fFcBJ3ZJTJwp5YEHHy5OR0q94E/4K9eAdQ8QLo/jHRfE3gHUlGJv7Rtd8MUmcbSV/eD6tGBVwqRp1JKel2KdOVSnFw1sj6yorD8B/Erw/8UdDTUvDmtabrdg/AnsrhZlB9Dg8H2PNbldid9Uceq0Y2RPMjZfUYryn/gmXdJZfszf8I/IQup+Fdd1TTdQgJ+eGUXksgyO2VdSPUGvWK8h8U/CXxJ8MPjTd/EX4di0u7jWoFg8R+Hbu4Nvb61sGI545MER3Cj5csNrA4JHWvB4hy6pi8OlS+KLvY9rI8dDDV26mz0Poqivn7Uv24Ne0e7aCb4G/Fh5E+8beCynjJ9nW4IIqv/w3nrH/AEQv4xf+AFr/APH6/P8A+yMZ/wA+2fbf2nhP+fiPomivnb/hvPWP+iF/GL/wAtf/AI/R/wAN56x/0Qv4xf8AgBa//H6P7Jxn/Ptj/tPCf8/EfRNFfO3/AA3nrH/RC/jF/wCAFr/8fo/4bz1j/ohfxi/8ALX/AOP0f2TjP+fbD+08J/z8R9E0V87f8N56x/0Qv4xf+AFr/wDH6P8AhvPWP+iF/GL/AMALX/4/R/ZOM/59sP7Twn/PxH0TRXzP4m/4KNz+DNDn1LVvgx8WtP0+22+bcT2dokceWCjJM/ckD8avj9vTWCP+SF/GL/wAtf8A4/R/ZOM/59sP7Swv/PxH0TRXzt/w3nrH/RC/jF/4AWv/AMfo/wCG89Y/6IX8Yv8AwAtf/j9H9k4z/n2w/tPCf8/EfRNFfO3/AA3nrH/RC/jF/wCAFr/8fo/4bz1j/ohfxi/8ALX/AOP0f2TjP+fbD+08J/z8R9E0V87f8N56x/0Qv4xf+AFr/wDH6P8AhvPWP+iF/GL/AMALX/4/R/ZOM/59sP7Twn/PxH0TRXzt/wAN56x/0Qv4xf8AgBa//H6t6f8Atf8AjLxpby2+hfBfxvY6gw2xTeIJrSwsoyf4nYSvIQOuEQk01k+NbsqbE80wiV3URJ8XfEdvqX7cXw+0i3bzrvTPDer314qc/Zo5ZLWOMv6bmR8Z/umvTq8x/Z5+A998M7vW/EnijVU8RePfFsqzavqKIUhjVBiO2gU8rDGDgdz1Pt6dX6Vk+DlhcLGjPf8AzPz/ADXFxxOJlVhsc1/wSs/5AXxx/wCys6v/AOktjX1TXyt/wSs/5AXxx/7Kzq//AKS2NfVNeNV+N+p7FL4F6BRRRUFhRRRQAUUUUAFFFFABRRRQAUUUUAFFFFABRRRQAUUUUAFFFFABRRRQAUUUUAFFFFABRRRQAUUUUAFfHv7H/wDyNfxv/wCyn61/6FHX2FXx7+x//wAjX8b/APsp+tf+hR15ecf7v80ejlf8f5HtVFFFfJn0YUUUUAFFFFABRRRQB+V//BwPrNp4d/bw/YD1DULq2sbCx+KMVxc3NxKsUNvGt9pbM7uxAVQASSTgAV90/FT/AIKJ/An4L+Br/wAR+Ivi58PbPS9OjMkjR67bXEr4BOyOKN2eRzjhEUsTwBWv+0p+xX8Kf2xLfSYvif4E8P8AjePQWlfT11SDzRaGTaJCnIxu2Ln/AHRXnvgz/gjz+y58P/EVvqul/Aj4bQ31q26GSXR47gRt2IWTcuR2OMiuz2lKVOMZ30/zObkqRnKUba/5HwT+zJ8FfGf7WP8AwTx/bo+PVtpOpadq/wC00upT+FdMli23cukWMM8doCv9+QPKgA+9tBGQwrpP+Cc/wS8DfGX9gr4f+KdP/bR+N3hOx0/w9aQanpEXjjTrKDw1NFGIpbUxPb7okjdGVA3VQpBIOa/WG3t0tIEiiRI4o1CIiLhUA4AA7Cvln4tf8ERf2VPjj8TZvGHiT4LeF7vX7qY3NxPby3NjFdSk5Z5YYJUikYnklkOSSTmtPraldS016WfS1tTN4Zqzjr+HmfAvj/QvhXbf8G7P7UmsfCHXPiN4m8N+IvEk15d6v4x8n7Tqt8NQsEnuIDEqhoXKhgxAJYtnGMD75/4KJQrD/wAEYfi4iKqonwov1VVGAoGmNgAV7f4i/Zh+Hviv4Dv8L77wdoEvw8e1jsT4eW0WPT/IjZXSMRLgBQyqeO4rd8ZfDDw/8QvhtqPg/W9Js9S8MatYPpd5ps6boLi1dPLaFh3UocY9KzliU2n2d/y/yNI0Wk15W/P/ADPyy8KeKPgNF/wQB/Zm0L9o7Qdd1jwN4rj0/SrfULBXVdAvWaZYbuWdXUwIil/mORgEbWzg8l+2RD8Xf+CNXw98L+O/g/8AtU678XvCsuu2Vhb/AA58VPba3datBM2xY7e5UmYrjA/dKpGVOT0P6tL+yz8OR8Ao/hY3gvw9N8OorP7Anh6azWWwWAHcEEbZGA3I7g4I5FeP/s8f8EZP2Yv2VPirb+NvAnwj0LR/FFkxktb+W6u75rNzxvhW4lkSJuThkUEZ4IrWOKgm3K9rt20af+XyMpYedkl2Wut/+CfEnxL+Fdne/wDBf/4w6f4z+MnxE+BknxJ8H6DqvhO+0HWrfSU1mK3to7a4tHlmjdXZZo3ZUUg8OeeK7m9+B3wa8F/8FNvgF4b1z9oH48/Gb4o6de32r+HbC61yw1ex0Hy4P3z3pSFHgSVFIABy3l49M/d/7Uv7FXwp/bY8JW+ifFPwNoXjOwsnaS1+2xFZ7NmxuMMyFZYs4GdjDOBnOKwf2SP+CbvwO/YUkvZfhR8OdD8JXeoxiK5vY2lur2aMHPlm4neSXZnB27sZA44qfrUXHre1una2+5X1d83S179e99j2+iiiuA7AooooAKKKKACiiigDhv2nf+Tb/H3/AGLt/wD+k8lek/sc/wDJonwr/wCxP0n/ANIoa82/ad/5Nv8AH3/Yu3//AKTyV6T+xz/yaJ8K/wDsT9J/9Ioa+kyP4Jep4Wb/ABRPSKKKK9w8gKKKKACiiigArzzxd4t1mw/aQ8H6PbzSromoabfzXkQiBR5I/L8slsZGMtwCM16HXKa78UY9D+LegeFDaPJLrtndXa3AcBYRDsyCuOc7/XtQB1dFFFABRRRQAUUUUAFFFFABRRRQB8c/Hv8A5SlaR/2TSX/05LXoVefftCRm0/4Kh+H5JBtS7+HFxHCT/GyaghYD6Ag/jXoNfQZb/B+Z4OYfxgrk/ir8C/B/xw0j7D4s8O6XrkA+6bmH95H/ALkgw6/8BIrrKK72k1ZnEm07o+T/ABv/AMEo/DmmaudZ+F3ijxH8M9ZRfkFndSTWzEdAQzCTB7/OR7VxeofEv9rH9lG+kufEej2HxX8OI3zzWESmZV9R5SLIvTktGw96+5KK53hY703y+n+R0LEy2mub1/zPmT4S/wDBVb4c+NLxdN8VDUvh5rwIV7TWoGSIE+koGAPdwlfRXhzxdpXjCzNxpOp6fqkAODJaXCTID9VJFYPxW+APgv446d9m8WeGtJ1xdu1JLiAedEP9iQYdf+AkV8t+Mv8AgkhJ4D1ltd+DXj7XPBesDlbe6uHaBx/d82MBwvsyyZpXrw3XMvuYWoz2fL+KPtOivjSL45ftM/ssRiLxz4KsvipocS5bVdAYi5Qd9yogJAxnmFev3vTtfhD/AMFX/hH8UtT+wXmoah4Pvt2wJr0C28Zbv+9VmjX/AIGy1SxML2lo/MTw80rx1XkfS1FVtI1m08QadFeWF1b3tpOu6KeCQSRyD1DAkEVZroOcKKKKACiiigD4g/4Lb/GK48L/AAl8M+DrSYJ/wk13JdXoVhuMNvsKKR1w0jg59Yq+hP2Ffi5L8bf2U/B2u3V0l3qJs/sl9IDkmeEmNi3ox2hj/vV8G/8ABSrwb4i+M2r+I/i5c7rPwbpWoQeGPD0co+fUUQyeZcIO0RkWQq38QYY4FfQn/BNXwH4j/Ze1ybwXrm678O+N7CHxH4d1GNf3LSmJDPbt/dlCFDt7iNiK8ynVk8S30f8ASPSqU4rDJLf+rn2TRRRXpnmhRRRQAUUUUAFFFFABRRRQBzX/AASs/wCQF8cf+ys6v/6S2NfVNfLH/BKyM/8ACMfGqbrFcfFfWWjYfxBYbOM/kyMPwr6nr5Kr8b9T6ml8C9AoooqCwooooAKKKKACiiigAooooAKKKKACiiigAooooAKKKKACiiigAooooAKKKKACiiigAooooAKKKKACvjr9kacWvxG+O+nSfJeW3xJ1K4kibhljmWKSJsejLyD3r7Fr5u/aE+CvjP4f/HN/ib8OtItPEFvrNklp4u8Pi4W3u9S8ni3urVmGwzojOhV2UOoUZyBXFmFCVag4w3OvBVo0qqlLY7mivCv+HhvgLTJHt9dsPHfhjUYiVlsdT8K3yzxEcEHy43U/UMR70v8Aw8a+FX/QS8Rf+ExqX/xivlfqdf8Akf3H0X1mj/MvvPdKK8L/AOHjXwq/6CXiL/wmNS/+MUf8PGvhV/0EvEX/AITGpf8Axij6pX/kf3MPrNL+Zfee6UV4X/w8a+FX/QS8Rf8AhMal/wDGKP8Ah418Kv8AoJeIv/CY1L/4xR9Ur/yP7mH1ml/MvvPdKK8L/wCHjXwq/wCgl4i/8JjUv/jFH/Dxr4Vf9BLxF/4TGpf/ABij6pX/AJH9zD6zS/mX3nulFeF/8PGvhV/0EvEX/hMal/8AGKP+HjXwq/6CXiL/AMJjUv8A4xR9Ur/yP7mH1ml/MvvPdKK8L/4eNfCr/oJeIv8AwmNS/wDjFH/Dxr4Vf9BLxF/4TGpf/GKPqlf+R/cw+s0v5l957pRXhf8Aw8a+FX/QS8Rf+ExqX/ximWv/AAUl+E19bpLDq2vzRSDcrp4a1JlYeoIg5o+qV/5H9zD6zS/mX3nu9FeF/wDDxr4Vf9BLxF/4TGpf/GKP+HjXwq/6CXiL/wAJjUv/AIxR9Ur/AMj+5h9ZpfzL7z3SivC/+HjXwq/6CXiL/wAJjUv/AIxR/wAPGvhV/wBBLxF/4TGpf/GKPqlf+R/cw+s0v5l957pRXhf/AA8a+FX/AEEvEX/hMal/8Yo/4eNfCr/oJeIv/CY1L/4xR9Ur/wAj+5h9ZpfzL7z3SivC/wDh418Kv+gl4i/8JjUv/jFH/Dxr4Vf9BLxF/wCExqX/AMYo+qV/5H9zD6zS/mX3nulFeF/8PGvhV/0EvEX/AITGpf8Axij/AIeNfCr/AKCXiL/wmNS/+MUfVK/8j+5h9ZpfzL7z3SivC/8Ah418Kv8AoJeIv/CY1L/4xSSf8FG/hfsPkXPim7m6JDD4W1IySnsqgwgZP1o+qV/5H9zD6zR/mX3nZfta6xb6D+y78Qrq6kWKCPw7fBmY45MDqB9SSAPc161+yXp0+j/sq/DO0uYngubXwppcMsbjDRutnEGUj1BBr52b4a+Kf2/NX0C31bwv4h8C/CbTbyPUdVg16JbXUvFDxMGithbgs0VvvAZ2kKluAF7j7JRBGgVQAqjAAHAFfR5Vhp0ab592eFmNeNSaUNkLRRRXqHnhRRRQAUUUUAFcf8Q4vC3hfxToXivXpfsl7ZyHSbC5Zn8tWuiq7WC/L8xUfM3A9RmuwrF+IngPT/if4I1PQNUj8yx1SBoJQPvLnoy+jKQCD6gUAbWaK5XRvGek+Etd0bwVd6u0+vnTVkh+0IVe+SMbGcNjaW+UkqDnqcYrqqACiiigAooooAKKKKACiiigD5M/4KIaa/gH45/BT4j4/wBBtNVuPCeptjiOLUEUQyMeyrNEg5/v119eiftSfBkftAfATxJ4WSQQXt/bebp85OPs15EwltpM4P3ZkjJ46A18+/s4fGY/Gv4cLeXlo+meINJuJNJ17TpBh9P1CA7ZoyMnjPzL6qy17OV1VZ036nkZlTd1UR31FFFeueUFFFFABRRRQAV5j8bv2OPht+0LDIfE/hXTrm9k5/tC3T7Neg+vnJhm+jEj2r06iplFSVpK5UZOLvE+PtT/AOCZPiH4N3z6j8EPifr3g+UnzG0vUZDcWNw/TLYGOw+/HJ9awT+2P+0V+zTrHlfE/wCGieKdDV9rapocJzjpu3R7o+eyukZ+lfb9Fc/1ZL+G3H8vuN1iG/4iv+f3ng/wR/4KQ/Cf44BYIfEKeHtUJ2tp+ubbKUN6BiTGxz2VifavcrG/g1O0Se2miuIJRuSSJw6OPUEcGvM/jf8AsXfDT9obfJ4m8LWM9+y4F/bA212PfzEwWx6Nke1fOc3/AATM+I/wA1s6h8Ffipd6bCZC/wDZerswgI9G2q8cn/Aoh9aOetD4lzLy/wAg5aM9nb1/zPt6ivjeP9uf4vfs1OIPjP8ADC5vdMXga/4cxJEQOrOuSmT7tH/u16v8Ev8Agov8JfjtNDbad4lj0vU5yAthq6fY5iT0UEkxsfZXNXHEU27Xs+z0Jlh5pXtdeWp53/wWSt47P9jGKKJEiii1yzRERdqooSUAADoK+iPghbxz/BPwUXRHMei2ToWXOxvs6DI9Dgn86+ef+CzDiT9jdCCCDrtoQR3+WWvon4Ff8kR8Hf8AYDsv/RCVEf8AeJeiKl/Aj6s6qiiiuo5gooooAKKKKACiiigAqvquqQaJpdzeXUqQWtpE000jnCxooJZifQAGrFeM/tPyal8aNd0f4I+GJmh134gxu2rXajI0bRUIF1O3X5nB8pARhmc8jFZVaipwc2aUqbqTUUe4f8E0/h/N4F/ZE0C6u0kS/wDF9xd+KLhZF2uPt073EYYdmETxA57g171VPw/odv4Y0Gy020Ura6fbx20Kk5KoihVBPfgCrlfKb6n1G2gUUUUAFFFFABRRRQAUUUUAFFFFABRRRQAUUUUAFFFFABRRRQAUUUUAFFFFABRRRQAUUUUAFFFFABRRRQAUUUUAFFFFABRRRQAUUUUAFFFFABRRRQAUUUUAeW/tqfHi2/Zp/Zb8aeMbhkEul6bItmjNjzrmQeXCnrzIy9O2a+YP+CBn7Tknxb/Zi1DwVqV152reArvZDvbLyWU5Z4z6nbJ5q+w21m/8FkfDfjL9rXxZ4e+DXga1Lw6LaSeL/E17OTHaWUKrIluruAcsdsxCAZJ29gSPmn/gjN4L8R/s+/FfwX8Ur5A3w/8AiNNdeDZLmCXmxvS6mAToRwryRqqsCRlucHGQD9maKKKACiiigAooooAKKKKACiiigAooooAKKKKACiiigAooooAKKKKACiiigDm/iT8KtI+KenW0OpJMk1jMtxZ3ltIYbqzkBB3RyDlc4wfUGsb4nfGtvhBr9mupaDq9x4cnhHmazZp9oWzl3EbZY1+cLjad4BHOK72igCHT7+LVbCC5t3EkFzGssbjo6sMg/kamrk/ip8J4vidaWe3V9a0K/wBNdpLO8025MTxMRg7l5VxgdGBp1na+J/BXw5ji86Pxlr1scNJOU0/7Wu//AGQyqwT2wSOozQB1VFc54U8fT61o19dapoWreHW04FpkvBG4cBSxaNo2YOAB14+lUPh5+0F4N+Kt+bTQdfsr69CGQ2vzRzqo6nYwDYH0oA7KioE1O2eZoxcQGRTtZRIMqfQip6ACiiigAr5N/bC+B198CPHNz8afh/ot9qst88cXjjQbLLHU7NRgX0EXe6hwM4++hbPIzX1lRVQnKEuaO5M4KUeWWx8v/Dn4kaL8WfCNrrmgX0WoabeAlJEyCrA4ZHU8q6kEFSAQQc1uVm/tA/sH6hqXxF1D4hfCjxGvgzxnqQV9U0+5i87RfETIAAZ4hzHIQMebHz3IJya878V/tGat8DYo4/il4D8UeFdrbJtXsLY6tohPZluIQXVTzgSRqRjmveoZhTmrT0Z4dfAzg7x1R6tRXE+C/wBpHwB8RLaOTRfGfhrUPNGVSPUIvM/FCQwPsRXTf8JbpX/QS0//AMCE/wAa7lJPVM43FrRmhRWf/wAJbpX/AEEtP/8AAhP8aP8AhLdK/wCglp//AIEJ/jTuhGhRWf8A8JbpX/QS0/8A8CE/xo/4S3Sv+glp/wD4EJ/jRdAaFFZ//CW6V/0EtP8A/AhP8aP+Et0r/oJaf/4EJ/jRdAaFFZ//AAlulf8AQS0//wACE/xo/wCEt0r/AKCWn/8AgQn+NF0BfdBIhVgGUjBBGQa8N+Mv/BOP4R/G27ku9Q8MRaZqMrb3vNJf7HI7HklgvyMT6lSfevY/+Et0r/oJaf8A+BCf40f8JbpX/QS0/wD8CE/xqJxhNWkrlRlKLvF2PzY/4KBfsW69+y58BvM0r4h63rfgSbU4Ijoeptva1lw5jdGHy8fMDhU6jr2/Qr4BI8fwL8GCR/McaFZbmC43H7OnavnD/gsdr1jqP7H6x295azyf27aHbHMrHG2XsDX0H8DvFOmRfBXwerajYqy6JZAg3CAg+QnvXLRhGFeSjtZHTWnKdGLlvdnc0Vn/APCW6V/0EtP/APAhP8aP+Et0r/oJaf8A+BCf4123RyGhRWf/AMJbpX/QS0//AMCE/wAaP+Et0r/oJaf/AOBCf40XQGhRWf8A8JbpX/QS0/8A8CE/xpG8XaUiknU9PAHJJuU4/Wi6DU0aK828dftf/DP4dQE6j400J5t2xbazuReXMjdlWKLc5P4VW0jxv8T/ANoXRv8Ai2fgK+0SCb5f7e8axNpttGpON8VsMzzHByMqi8cntWNTE0oL3mbU8PUn8KNj46fHOz+C/h1GS0utd8Q6i4ttI0OxXzLzU7huERUHIXP3nxhR+Vek/sW/s1ar8LNLvfGPjqW21D4n+Loo/wC1ZoR+50q3XmLT7friKMkliPvuWYk8VZ/Zb/Yl0X9nbVb7xJqOp33jT4g6ynl6h4k1JVExT/njAg+WCEf3F68ZJwMe2V4WKxcqzstEe1hsKqSu9WFFFFcZ1hRRRQAUUUUAFFFFABRRRQAUUUUAFFFFABRRRQAUUUUAFFFFABRRRQAUUUUAFFFFABRRRQAUUUUAFFFFABRRRQAUUUUAFFFFABRRRQAUUUUAFFFFABRRRQBzHxL0q3s/h74tuYoUS4vNMuDNIB80m2BlXJ9AOg9z6mvk7/giD4ZsPGH/AATa0zT9TtIb2yn1i/3xSrlSROGU+xBAII5BAI5FfXPxV/5Jf4k/7Bd1/wCimr5U/wCCDv8Ayjz0b/sMah/6NoA+yqKKKACiiigAooooAKKKKACiiigAooooAKKKKACiiigAooooAKKKKACiiigAooooAKKKKACqi6FZJqQvBZ2ouwpUTiFfMAPUbsZwcCrdFAHCa3+zR4G8Q+Lzr114etW1hrhbprtJJI3aRSCGO1gD0HUVd+J3wU0X4ty2b6s2qo1hu8k2WoTWmN2M58thnoOvSuuooAzfCPha28FeHLXS7Nrp7azUpG1xO88pBJPzOxLN17mtKiigAooooAKR0EiFWAZWGCCOCKWigDzDx3+xT8IvibdST678NvBeo3Ex3STSaTCJXPqXVQxP41zP/Dsn4Af9En8Hf+Af/wBevdaKAPCv+HZPwA/6JP4O/wDAP/69H/Dsn4Af9En8Hf8AgH/9evdaKAPCv+HZPwA/6JP4O/8AAP8A+vR/w7J+AH/RJ/B3/gH/APXr3WigDwr/AIdk/AD/AKJP4O/8A/8A69H/AA7J+AH/AESfwd/4B/8A1691ooA8K/4dk/AD/ok/g7/wD/8Ar0f8OyfgB/0Sfwd/4B//AF691ooA8K/4dk/AD/ok/g7/AMA//r0f8OyfgB/0Sfwd/wCAf/1691ooA/NP/gtP+xj8K/gP+xouu+DvAvh/w7q/9v2lt9rsrfZJ5bJMWXOeh2j8q+jPgP8A8E4fgV4i+B3gzUL74XeErm9vtCsbi4mktMtLI9ujMxOepJJ/GuB/4OAf+TCU/wCxlsf/AECevqn9m3/k3bwF/wBi5p//AKTR0Aef/wDDsn4Af9En8Hf+Af8A9ej/AIdk/AD/AKJP4O/8A/8A69e60UAeFf8ADsn4Af8ARJ/B3/gH/wDXo/4dk/AD/ok/g7/wD/8Ar17rRQB4V/w7J+AH/RJ/B3/gH/8AXoH/AATK+AIP/JJ/B3/gH/8AXr3WigDh/hz+zN8O/hDcrP4X8DeE9BuEG1Z7HSoYZQPTeF3frXcUUUAFFFFABRRRQAUUUUAFFFFABRRRQAUUUUAFFFFABRRRQAUUUUAFFFFABRRRQAUUUUAFFFFABRRRQAUUUUAFFFFABRRRQAUUUUAFFFFABRRRQAUUUUAFFFFABRRRQAUUUUAYHxV/5Jf4k/7Bd1/6KavlT/gg7/yjz0b/ALDGof8Ao2vsPVNNh1nTLizuU822u4mhlTJG9GBDDI55BNcv8D/gN4T/AGbvAMPhfwVpCaHoUE0k8dqk8swV3OXO6Rmbk+9AHX0UUUAFFFFABRRRQAUUUUAFFFFABRRRQAUUUUAFFFFABRRRQAUUUUAFFFFABRRRQAUUUUAFFFFABRRRQAUUUUAFFFFABRRRQAUUUUAFFFFABRRRQAUUUUAFFFFABRRRQB8Q/wDBwD/yYSn/AGMtj/6BPX1T+zb/AMm7eAv+xc0//wBJo6x/2sv2T/DH7ZfwqHg7xdJqsWki9iv92nzrDN5kYYL8zKwx85yMV3fg3wtbeBfB+laJZGU2ej2cNjAZW3OY4kCLuOBk4UZ4oA0qKKKACiiigAooooAKKKKACiiigAooooAKKKKACiiigAooooAKKKKACiiigAooooAKKKKACiiigAoopk7OsLmNVaQKdqs20E9snBwPfBoAfRXyt+zL+3n8RP2ufhV4k8ZeDfhR4Zk0bQde1XQLcX3jeWCbWpNPnaCSa226c8ZieRGVGd0JKnIUc17D8Mvj3qHjS08Axat4F8WaBqfjXQP7buUNuLiy8PSBImNndXI2hZ/3uFXb8xjfpiiPvK67J/KSbX4JsHo3F9G1807P8dD0iiiigAooooAKKK8P/ZU/a+vf2lvix8ZPDknhWHRrH4SeJI/DH9qwaqb2HWbr7NHcTBF8mMx+UJolYEt87MP4ckWrcV0V/kmlf75L7wei5nte3zab/JP7j3CivlCz/wCCkfijw7+2X4I+Gfjj4IeKPBHhj4py3tp4O8VXOs2l0dQubaBrhorqyizJZl4UZ03uzdAyqQwX6voWsVPo/wCtez8nqD0k4Pf+tV3W+q0umugUV83eHf28PEMX7cuifB3xX8KtU8LWPjXR9R1jwr4gOswXh1COxaITrdWqLutCVmjZMu+d4B2tlR9I0LWCmtnt8m0/xTQPSTi91/kn+TCivFvir+2ZYeGvj7Z/CTwbos/jr4m3FgNXvNNguVtbHw9YltqXWo3RV/IR2BWNEjlmkIJWMqCws/Df4/8AjXWf2kLz4eeKvh7aaELbw6PECa7pmvnU9On3XAgW2G+2gkEvEjNlAoCrgtuO0j71uXre3na97eln801ugl7t2+lr+V7Wv63X3p7M9goopCcCgBaKy/BnjXSviJ4attZ0O/ttU0q9DG3u7d98M6qxUsjdGXKnBHB6gkVqUAFFFFABRRRQAUUV4v8AtN/tU6l8B/jH8GvB+leGrLxHc/FnxK+iOX1VrSbSreG1lu7i8EQgkEyxxQkFS8fzSRjPNHVR7tL79P6ey6h0cuyb+SV3+B7RRRXjH7Nf7VGpfH/44fGbwvJ4astM0j4Ua7beHoNXttVa8Gs3L2kd1ODGYI/JMKzwowDSfMzc8ci1lyre1/kmlf75L7wei5n3t89X+Sf3Hs9FFFABRRRQAUUUUAFFeL/tC/tUan8Gf2iPg14A0zw1Za/N8V9VvLOW4fVWtptHtrS0e5nuvJEDiVAFRMGSP55k617RQtVzedv6/wA/Xswejt5X/P8Ay2/zQUUUUAFFFFABRRRQAUV4p+1x+1fqP7NvjL4R6HpXhqy8T33xV8ZW/hVIpNVazlsI2iluJ7xUEEglWGCCV2UtH/CN3Nel/FTx/wD8Ks+HuqeIP7F8QeIv7Lh87+zdDs/tmoXfIG2GLI3tznGRwDQtYuS2vb5pJ/k15fiOzUlDq0n8m2vzTOgorIk8d6Tb+J9N0Sa9hg1rV7SW+tbCRsXEkMRjEsmzrtQyxqT0BdR1IrXoEnfYKKKKACiiigAooooAKKK8W/ZC/ap1P9qDXfipFc+GbLQ9M+HfjG58H2d7baq18mtyW0cTXEwDQReWElkMW35/mif5jRH3pOK3Sv8AJNL85L7weiUns3b5tN/lF/ce00V5L+3N+03L+xv+yp4x+JcGiW3iSbwrZi4i0qbUGsP7RkZ1jjgSURS4keR0RRsIJYcivTPDF5e6j4b0+41K1jsdRnto5Lq2jl81LeUqC6B8DcFbIBwM46Cha3a6fr/Xy0vugelr9b/hb/P59NmXqKK5z4g/ET/hX82gp/YfiLWv7d1aHSt2k2X2kaf5gY/abnkeXbrt+aTnG5eOaOtu/wCoHR0VwPxd/aC0b4afDv4g6zbXek6hefDjSpNV1a0mvTbx2irbtcBZpFjkMRaJS33GOCp24YZP2V/i7qvx/wD2bfA3jnW/Dw8J6p4w0S11mbRhdm7OmfaI1lWEylI97KrKCdi854oj73Nbpa//AG9e338r+70B6Wv1vb5Wv93MvvO+ooooAKKKKACiisvWvG2k+HNd0fTL7ULa21HX5pLfTrZ3xLePHE0rhF6nbGjMT0AHuKANSiiigAoorxT/AIKA/tfSfsM/s233xDj8M/8ACXmy1Cx05dJj1EWVzeyXd1HaxJCxjcM/mSp8pxxuOeMFX1S7tL5t2X4jSue10V4L8G/23D4y/a11/wCB/i7wrJ4S+IWi+G7fxdCtrqK6npmqabLM1v5kU/lxSB0mUoySRJ1BUsOR71T6KXR/o2n9zTXqib6tdV+qTX4NP5hRRXOfCr4i/wDC1PB0esf2H4j8O+ZcT2/2LXLL7HeL5UrxbzHk4R9m9Dn5kZT3oGdHRXi3wA/ap1P43/tMfGbwM3hmysNH+E19p+lprVvqrXX9rXVzai7kiMRgjELQxSQbgHk5l68c+00bpS6NJr0eq+9B1a7aBRRXgHws/bQ1P4keNvj9Yv4X0fT9H+COox6VFqza672+szixS9uA/wDowNv5KTQq2PN+YtzxzEqkYqTl9lOT9E0m/va+8qMJSaS6tJervZfgz3+ivjb4Qf8ABWuTxT4I+A3irxp8NL3wb4X/AGi9Qg0jwtd2+spqU9rd3CSSWqXsJhhaJZ0jJR4jMBuXfszx7D8Lv2qNT+JX7aHxN+Fi+GrKDSPhrpWl3k+vQ6q0zXNzfiV0tWtzAgjdIohIxEj8TR9MmtnCSk4PdNp+TirtPs7Nb913RnzLl5ltZP1Tdk13V+3Z9me0UUUVBQUV4t+xv+1XqX7VUnxKmufDNloOm+BfGd94Psbu21Vr9NbNmEWe5G6CLywJmeLbhvmhb5jV/wDbm/abl/Y3/ZU8Y/EuDRLbxJN4VsxcRaVNqDWH9oyM6xxwJKIpcSPI6Io2EEsORSckoKfRpNekkmvvTWm5UYuU3TW6bXzTs/xR61RVHwxeXuo+G9PuNStY7HUZ7aOS6to5fNS3lKgugfA3BWyAcDOOgq9VSi4txZnGSlFSXUKKKKRQUUUUAFFFFABRRRQAUUUUAFFFFABRRRQAUUUUAFFFFABRRRQAUUUUAFeKf8FG/wBpNf2Qv2Fvil8RQ4W88N+HrmTTlP8Ay1vpF8q1Qe7TyRL+Ne11yfxf+Avgb9oTw4mj+PvBfhPxxpEcomSx8QaRb6nbJICCHEcyMoYEDnGeKyr0va03T76fJ7287bGtCoqdSM2r2d/uPl7/AIJ+f8E7/F/7Lvwq/Z/0mX4k+KLnw74E0Ce613wzcR2MdpcaxcwAmQPDbRzuqTXF42JppAWMZwWUEeV/ET4h+KPGPxL/AG6/HfgLx5a+GNX8D+GovBvhe41nW2XTtNvLKz+2alfKkrNHDtlu4IfMChFaBc96/RjR9GtPD2lW9jp9rbWNlaRiKC3t4liihQDAVVUAKAOgArxD43/sI+H/ABt4S1iy8FW/hfwPc+KteXXvFSHw8l3YeNmKOstvqsMckEtzDJvBZfOUMVAfejPG+uLk605yWnMpJW6OTSv6KLkur2S2VssJ+6hBS1acW79VHW3q5JeW992fLH7PH7MusfEr4n/DT4l2KfEv4XfCTwj4Elu/EV7eePJhqvj3VmEckV1dCyvpVnW38uZ2e7J8xpihiaOvI/gD8ade1/8AZg/Z1+H9t4r8Q2msftCfE+bx9rl3ca9cNcaB4b+1TavFZfaZJDIPOtYbSMqX+7cHd/rV3fZf7Jn/AASe8F/ssfGXV/GWjWnhrw2mu6XPpWo+GPB+l3GkeG9USZkYyXNjLdXELyJsKxtEsOFllDCQFdvsPg79ir4Q/D228IQ6F8MvA2kReAJp7jw2lpotvENElnAE0lvhf3buFXcw5OBk1tzpVFUXdO3/AHEc2n3Tahbb3Vy6Iy5H7N03q7NX/wC4fImuqavK929WpdLHxro3wfn/AG2/2oP2tPEGreJ/iFpHwp8PXNn4PtovD/iK6tbrULvTLYXN99nYOfJQXE5jdYwBKYUU/KjK2B+xxZ+L/wDgof8ACz4O/FrxT4p0/wAKyeMPE0PimDUE8VSz6k0FtO8sPh/TLKMiG2h8qNY7qRneaUJP5kfzBo/0h8G/D/Qfh1p1zZ+H9E0jQrS8vJ9QuINOs47WOe5ncyTTuqABpJHZmdz8zMSSSTXF/Bj9jL4Sfs6eLtZ1/wABfDTwP4O1zxC7Salf6PotvZ3F4WbcwZ0UNtLfMVzjPOM1jQ9xxv8AZUf/AAJaydv70rPyStZptGtb31K3Vy/8Basl8o793rdNJnYfEvx/p3wo+HWveKNYnW20nw5p1xqd7MxwIoYY2kdj9FU18wf8ElLCH4Mf8E2tG+IPji8tNFvviG+ofE7xNfXsoijt31Sd73dI7YAEcEkKc9BGK+nPiT8LfDPxl8IXXh/xf4c0LxVoN8NtzpusafFfWdwPR4pVZG6nqKx9d/Zp+HPij4Px/DzU/h/4J1HwBFHHEnhm60O1m0dEjYMii0ZDCArAEDbwQCKlcy52t2kl5K7cr+r5Hb+75jdnyJ7Jtv1taNvROS/7e8jwvwX428OftT/HyH4h2epeHfE+veA9Fv7nwF4Qt9WhNzD5yrFLqN6y7/s0tx8kEauMwxPIWBd5Ei7j9nb49/FnxLba5c/Gz4WeEvgvptkIE0+7t/iDFr4v5JGZSrf6JbrDg7AMs24vgDiuw+B37JXwq/Zik1F/hr8Mvh98PX1gRrft4Z8O2ekm+Ee7YJfs8ab9u5sbs43HHU1sfGn4G+Dv2jfh3feEfHvhjQ/GHhjUthutL1ezS7tZijBkJRwRlWAIPUEAiqdkrR106+rbenXX07JLQSu372mvT0Wmulvx1u23qfIH7LXhHWfhL/wV++N1pd+LdQ+IPhCPwLper3GveIzBPfeDbya5mzpEV0iII7V4YvtXkYAX5HP3tzfclneRajaRXFvLHPBOgkjkjYMkikZDAjggjoa4jwV+y38Nvhv8HLz4eeH/AAH4S0TwLqVvNa3mg2OlQ2+n3cUybJVkhVQr714YsCWHXNdZ4T8KaZ4E8L6domi2FppWj6Pax2VjZWsQigtII1CRxog4VVUAADgAU1ZQVP8AlVl56yevpdJd0tdd07ubqP7W/wAlFaetm32vofCv/BHGBh+1d+2tP4pbb8TZ/i1Kt5DcH/SV0JLWIaOyg8+QYTJsI4PzeldR/wAFmfE8fjb9nfw54G8O+JdR0nxF49+IWi+Dku9J1N7N7AtOt1dvLJEytiGyhuJChbaCVLA4GPpP4j/ssfDj4ueM7XxH4j8FeHdV8RWUH2WHVpbNRfJATkw+eoEhiJ5MZbaT2p/jr9l34bfE7wloegeIvAXg/WtC8M30epaTpt5pEE1pp1zHuCSxRFdiMN74IH8R9amOkaMX9j2a9VDlT/8AAlHbu9yn8VSS+3zteTldr5RbXyWx8n/BL9oVv2k/23vj5rSeOLrwx4R8N6RpXwx8Glr4+Xc6ldKLmbUktydrymS909EcjO0oCRvIr5w1PWb3wn/wTI+NnhfX7LW9N+OegS2XwO1G3i1y7n0rXtXvprdbXW7cNJky3cV7BcTMTvbytrghRn9Nb39kL4V6m3iI3Pw78GXB8XalFrGtmXSIH/ta8iULFcT5X95IgA2s2SpGRg80l9+x/wDCzVPhuPB938PvCV54Y/tJNZbTbnTIpreW+Rw63TqwO+bcoO9ssccmpjCLjyT1TST+9OTXa/NVXb3o7cqK53GXNDRp3XyVoprrblpt9dJWfvO/yN8LPCukTftV6Z8BdN1eTR/2ffgJ8MdM8R3sEGqSR2/iu5vGmige4nD5ewghtJZDGG8pnkG4FUC14B4L8XeP/wBoD4C/BLwPoOseJdKt/i18ctY8QeCJp9Rukl07wHpssl2jyKXDS25CwiOOXKmK4jQYUiv1D+JP7Lvw4+MWtWeo+KvA3hbxBfWFqbGGa/02KdhbFg32c7h80O4BvLbKZAOM810M3w28O3PirTddk0DRX1vRrOXT9P1FrGI3VjbSlDLBFLt3pG5jj3IpCt5a5B2itlNuftJ6u9/V+09om/PSMPKHMle6tjyJQ9nDRWsvL93yO3zcp+cuXs7/AIzeILDxB4z+BHxK1Oy8fePNM8NfFj9oG28K+AZ7jxZehilpcwQ3+sSTmXcYVi07UJRGWEIZnYx4SLZ+rX7dPxqsf2eP2Lvib44vGleDw34avL2JYZ3ikuJRCwhjR0IYM8hRQVIOWGK3bz9lf4Z3/hzwvo8nw+8GHR/BGoDVvD1gNGt1tdFuxvxPbxBNkUmZJDuUA5cnrzXTeOPAOhfE7w1No3iTRdJ8Q6PcvHJNY6nZx3dtK0brJGWjkBUlXRWUkcMoI5ArCdPnwrwzflfrb2cIX9bxb+aWy03hNRxKrpaXvbzc5St6WaXqm927/kt8IfhD44+E37QvwS8LeJPiB45tr74V/BTUPF/xV1NfEV20djb3exI7NVMhT7QzQ3zmcjzdxaQOBFEq9V+yN438c67+z1+x78FoPFOv6ZB8apNf8aeLNUi1iebU7HSYHOopokV2ztPHIwvbWF3DiVI43wwJyP0v1n4J+DvENz4mnvfCvh25uPGdgula/O+nRGbW7RUdEt7l9u6aNVlkVVckASNgDJrF1j9k/wCGev8AgDw/4VuvAfhV/DvhIqdD09dNijg0fCFP9HVQPK+RmU7MZVmByCRW7qc0nKS63t/2/UlZ90uaGjvfld/jlfBQaiop9N+t+SMbrs787v0vG3wq35z61+1L4n+EPxi+NuifCTUpdE8BePPiT4V+EngnU5ZGudO0XXZoZRrl9aLKWQ+Uihdo/dtcx8gkvmDxb8YfBXwN/bG+OPxU8Grf+JNO/ZT+EdxFaDUNXmvT4l8RXm6e5u90js0rrb20Ec045Il67VSv0h8c/sp/DL4mfB+2+H2v/D/wbq/gWzaJ7fw/c6PA+m27RNujKQbdi7TyMAdT6mpvDv7Mfw58I6t4hvtL8CeELC78WWUOm61LBpECNqlrDCIIrebC/PEkQCCM/KFGMYrBxlyNJ+9ZpS9aagr9km5yS1tzR1fKjZSj7ROS928W16T5nbzcVGLfW0nZc7t8X/s9+BdZF78L/jN8RPHdjpsnhnwzfeNtWuYfFD6lq3jgS2DecZIkItbTSYPNLx28HmpvEBLIynzPYv8Agjdoko/YY0XxVqLwv4m+J+pX/jzXgkgdobvVLhrtYXx0aO3kt49p5AjAr1X4VfsQfB34G/D3XvCng74YeBfDHhvxTDJb6zp2m6LBbwarFIrI0c6qo8xSrsu1sgBiBxXc/D74eaD8J/BWm+G/DGjaZ4f0DR4FtrHTtPtkt7a0iHREjQBVH0FdMpx55yirJpJLsrtyXp8Fv8N7LYwUZcsVN3a1b7tK0X66zvv8XXc/NfSPEfiz/gqB4c+Lesap4i07wP4ej8e3vgXSdXvPE0ltL4LtbG6W3DWOnwkB9XuHR3We4kRo/OiEYdF2Pr/Hfw54Zk/4KgWHg5viJ45g+FHxt8GXtt4teDxdfC0l1XTlW9higvftG6zL2Vw8kiWxjUxxxjAWRgftrR/2Jfg94f8AjNq3xEsvhf4DtfHevBxqGvx6HbjULvepVy8uzcS6khjnLA4JNT6J+xz8J/DfhDwloFh8N/BNpongK/8A7V8OWEWjQLb6Jd/P/pFum3Ecvzud6/Nlic55rGlFRjTU/spJ+bceWTff+dLrK19rvapJuU3Hq215e9zRS9LKN/5b23svgL9o39qXSn+A/wC0h471XXNZ/sX4M3tx8K/hf4bttUn+0ya3a20MX9pSYfzJ7trueMJJIW8mKAuMNI7HU8ZeCtUtPjV+yv8ACay8feIIrD4S/Di/8b/ELxJba/cMbi3jt0slkZhIUklluHvHWRgWRot4OYwK+2fEP7BvwU8W6v4v1DU/hR8Pr+/8fvC/iS4n0K2eXXDFIksf2himZNskUb/Nn5kUnkV19x8DPBN3Nqkkvg/wtJJrekpoGos+kwE6hpyBwllMdn7y3USyARNlB5j4HzGp9/k396yvfVOShJc3zqS533SUdlqvd5rbR1St/K5R0+UIuK825bvT8jv2R9K8Wa14S/Y0XWfGHjHRbj4j/ETVfiFpWn3nia8Mek+GYnubpIpzJKTcNctd6fAvnmTCSKFCvJJu6H4o6TP8Vv2U/wBqz4vP4i8danqHxQ8cXXhD4OaFYeJL6Ii/tHGl2VxaBZgzO97HPPjlI443YKBuNfpJ8Zv2XtI8W+HtOvPCeh+BND8d+EtJuNJ8G67qHh9LxfCcc0axt9njRomRQqINkboMIBkCuT/Yc/4J2eBP2Mvg/wCCNHt9B8N6l4s8I6Wti/iOPTRHc3cxXbPdLuLNFJOctIVbLFuSa0tCXNHVR1S11s3HVPpJRpxV/wCaTkkxKUouM9HK6b7ac7s12cqj0X2YqLtufNdz8abvwL+1z8TvHvie5TxRqf7JnwQj00wCUebrGuXFsupapJGOpPk21grMB8v2jnrVr9jH4ZeLv2kLn4A/FDxn4z07S9Y1CI+Nri7tvE8l7qvjCSazfdp8FshFtZaRB9oBMUZlLmKLeEkLO/29oHwC8EeFvGXinxDp3hHw5Za7442f8JDqEOnxLc62EjESC4fbmUBAFAYkYrD+BH7HHwn/AGXrPVLf4c/DfwT4Ii1xi2oLoujQWf23JJ2yFFBZRk4U8DJwBmmqkr87SvZNdlLmnOVvJykmuyilZkOmuXkjts/NcsYL5pRd+7k3dGt8L/hj4Z8N+KPFHi/w/eXt/N4/uYL++nbWZ76zkaGFYENvG8jRQrsQZEIUMeTk18oftD/tOaB4z/an+MNj491qbTfhF+zX4ZsdR1jR4bl4X8T6tfwTXMfmqjB5oobeJRHB915pyzAmNMfYvwx+F3hz4K+A9N8L+EdD0vw34c0eMw2Om6dbLb2tohYsVRFACgsxPHcmuT8a/scfCf4j/ETU/F2v/DfwVrPinWtIk0C/1e80eCa9u7CRGje2eVlLGNkdkIzyrEdOKxrQk1am9k0vLS0dNtOnZ2a+FJ7U5JfH1tf703r5q/re3W5+a3w30zxx49/Z+/Ym+HWm+K/Edx8QviT4nvfid4p1GXXrieTTNOhV72SK6HmYlET3enwiKUFSY9mAGNfUf/BHFBrlr8ePE9r4i1zWdB8RfEvUItCg1XWp9TmisrFU083O6Z2ZftNza3UnGF6bQAMD6j8F/ATwN8OLnR59A8HeF9FuPD+lnRNLmstLggl0+wZ1drSJ1UMkJdEYxqQpZQSMjNT/AAo+DHhL4E+F20TwX4a0TwrpElzLevZ6VZx2sLzyuXklKoAC7MSSTya6eaMZzcFpLm07XlC1vSNOK9W++mHLKUY8+6a+ek7/ADcpv5JbanwV+1N+2JoviFv2n/HvjXWL1PA/7Pm/wh4X8NWV7JBJq3iAael3LeyJGwaWUPPDFBuysQhllABO5ee8E/DHxfr/AMT/ANjb4L2HjTxJc674O8GX/jf4ia5Frs8rl2QWhEnzlJZmvrm72bwSj26nBEZWvubxZ+wv8GfHfifxbres/CzwFqesePbVLHxHfXOiW8lxrUCbdsc8hXdIo8uPgn/lmn90Y7Xw38JPCvg3X/7V0jwz4f0rVP7Og0f7ZZ6dDBcfYoCxhtfMVQ3kxl3KR52qXbAGTWVFKKip6/Df/FGM9V6zkpPySjtFX0qtyvy6fEl6ScLL5QUkv7zct5M/Py4/ZE8H+Nv29tH+GV94m8a3Hwu/Zi8B32u6vfal4puhfz6l4gupn2XOoh1nCR2dvOxIkVvLlVWYqzBvOPg4uvD4MfswfDjUvE/i7T9L8dfF7WPF2gvquvXaXdt4H06ea6s7e5kkkDypMGsI1WYsdl0q9Tiv0w8bfsv/AA5+JPjH/hINf8D+F9Y1pkjilvLvTopZblIzmNZSR+9CHlA+QhJK4NaPin4HeDfHPxA8O+K9Z8LaDqviXwgsy6Hql3YxzXWkiYKJfIkYFo9wRc7SPuinRbg4t9Hd+fvuom+7T5Yra0OaOvNoVbTUorZr7rw5Hbte8pPvLlfTX82vi3408MaT8ZP24/2hXNxNq3gLR4vh54Rig1e4hubm9t7RftPlKkoba+oahbW/y/KGiGMGuq8YfB3xV+wN+zN8H9Rfx34vk+Nvj620P4OWl1qOty3mj6BLqE0T3F8LaQmOS7iSCZ/OfJllPzZUhV+5bL9lH4Y2EfiBI/h74L2eK9Xj1/WVfRrd11TUI5Flju5gyEPMkqq6ueVcbgQea0/jX8BfBP7SPgWTwx4/8KeH/Gfh6WeO5bTtZsY7y2MsbbkfY4I3Keh69fWoprkhBduRPtZX57dufnqJ+qtYqo+ecpf47fPl5L9+Tkg+zd7nwn8IfF3gbwx/wUf+J97o3ivXj8O/2fPhmYNaa61+4nTWtbujJc3d8zvITcXEVlaorzAkgy4yNtUv2MP+Cemq/tHf8E+vCPjH4neLPinZ+KNa0zWPEum6Tp/jPUbKOzGrJNLCtwY5RJNJHHNHt3P+7WNI8YEm/wC4tP8A2RvhXpVz4llt/hx4Hjbxnp8Wk68Boltt1iyihWCO1nXZiSFYlVBGwK7VAxitLxl4L8T317o9h4a17QvDHhWG1ntNStV0JrjUCpjCQGyn89YLby+SRJbXCt8oCrg5itByoSpJ6uNk9rXc5S+Tco8v8qVvMdOXLUjNbJ3a3vaMYr8pOX8zd/I+Tf8AglzrNz+1n8Ev2bPiDNq2uXN58O/h9Hp+tX39pz+RrGo3VpbxSW8sW7y53j8kTPI4LI7xBWyZAGft+6hqPxR/4KM/BzwZpfiXW/DGieAfDGt/ELxvqFjqc1sttpwQWdspRWEZkd3uWR2XKGEODlAK+wvg98IPDnwD+GWjeD/COk2uieHdAtxa2VnbptSJRySfVmJLMx5ZmJOSTS6x8HfCPiLVdbv9Q8LeHL6+8S6aujavcXGmQyy6rYr5m20uGZSZYB5suI3JUeY/HzHPRjZurVdSn3k16vma+Sm07dUrO92zLDRjTp+zd9kvkrJ/NxTXq77I/Ij9kfSvFmteEv2NF1nxh4x0W4+I/wARNV+IWlafeeJrwx6T4Zie5ukinMkpNw1y13p8C+eZMJIoUK8km7074rfGq8+Nn7CH7Rvx08b6lr7a5ceINa8EfCfw7p9/PbSaHd2l1JpunfZYYmUtqU98hlaXBkC7VUqikH9HJv2efAdx4r8Ka4/g3wwdX8CWklh4bu/7Mh83QbeRUR4rU7f3KFY0XCYGFA6VT0z9lr4b6L8SpvGNr4F8KweKJ7p799TTTYhcfaXXY9wG2/LM6/K0gw7DgkionGMk6auovm9VdwSaf83JC1+kpSdmnYuEmpKo0nK6b7O3PJpr+XnmnbtFLzPgfXv2uptR0v4v6r8cdYuLnw7+zH4T0vRr7w3Z3bW7eLvFM2kJf3lzKsbKZQmVSFD+7QrPMRlFZOR/Zw1/xZ8OvD37Mn7NGkSPqN94n8Fan8TPHLnxQdKm8R6lLdhptPlv13zhEurmdrkQq8zCBUYbDID+ivjD9ir4Q/EHxr4k8Sa58MvA2reIfGOlnRNc1O60W3lu9Vsiuw280pXc8ZXCkE8hVHQDEXxV/Yf+Dfxy0HwzpfjH4W+AfE2m+C8DQbTUdCtriHSFAVdkCMhEaYVQUA2kKuRwKrmbk5yS1s2ltdKd7f8Ab0oyS7RUNkmRy8sFCL2Ts3/24l8+VTi2usnPd2XxD4y+Glv4asPgF8F73xro/iO1+KXxZu/iFrv2G8Z9D0jTtKkW6/suzMjk/ZVvxp8C5I3yPIdql9g+xf8Ago38ME+Ln7DnxS0v7frul3UfhnUbyxutI1a5024guorWV4W8y3kRmUOFJRiUbHzKa7zVP2ffAut+NvC/iS78H+GrnXvBFvLa+Hr+TTomn0SKQKrpbNtzEpVEGExwoFdPrOj2viHSLqwvreK6sr6F7e4glXck0bqVZWHcEEgj3rHEQc8NKjB2bvbydlGL76RjH5pu+pvh5qGIjWnqla/n70pPy1cn2VrKyPzX+Df7ZvjLxZ+0D+zB4r1q+1WTwd8TvhTq2naToIZopdc1SOHR5TdN0PmTSNOkbHhYozLkCRiOu8FeHLT4Uf8ABQf4S/Dy78Yax/Y/wB+Fd7rWvPdeILqWHUL6/dorWJ1lkPmmK3tdSlQuGkCKpJ+XNfckPwt8NW+qaBepoOkJd+FLWSy0WYWiB9KgkVEeOA4/dqyxopC44UDpWZdfs8+BL74i6x4vn8HeGpvFPiHS10XU9Wk06Jry+sV3YtpJSu5ovmb5CcHPI4Fb4iblNzpaazev972nLf0dT8FZLrzYemoUlTn2itPJwvb1jG3m3d36fk1pHhdZ/wDgkUYfCloLj4k/ttfEdLaWyfU5ZGgsdUvWuxFNuZigTRIVLMRv2OCc8V9Z/wDBO7w9JD/wUR/aMmh8V6zq+leF7PQvB5gu9UllgvdTgt2u7+5htWcx28cQvbW3VIVVECbeTkn6t8F/s0fDv4daJ4V07QvAvhLSrLwM0j+HYrbSYEGhNJG0cjW3y5hZ0ZlZkwWDMCSCa0fAnwZ8JfC/XfEWqeHPDWh6HqXi6+Op63d2NlHBNq10QF86d1AMj4GMsT+tOLjCb5Phs1HulywjGPokp+rknurlT5px97du77XcnKTXZt8iXlFrqfK37RH7QmkfEP8AbU8Y+CfF+vPonwn+Bfg6z8VeKbKO5eB/Et/fyTra28gQh5beKK2dvJXiaaeJWDbQp2/+CJ8d7q37BGheKtU1XVNT1P4g6jfeK5I9Qv3vLjTbe8mMtjaMzMxXy7E2g2k8de+a9x8a/sk/C74k/FAeNvEHw98G614vGlyaKNavdIgnvhZSBle381lLbCruCM9HYdGOem+Gnwx8O/BnwLpvhjwloeleG/Dujwi3sdN021S2tbWMfwpGgCjuenJJNZ0fchJPd6ffJt376ciXblttvVb3pK217/dFLT587ffmXY+H/gTLpH/BSr4V/E7x18QPHeueHk1HxtqfgjwnaaVqgtZfBsVleGziMEJDJ/adw8bTGZ42lVZkEZQKDXkXxd/an1f4G67+278RPDuveIdW1aW7sPhh4G0661WWYf2tDAkdxdpGW2xJHearBFlFUExRr998n9D/AAj+xr8JfAHxr1T4kaJ8NfBGk+P9bZnvvENpo0EWo3LOMOzTBd+5/wCI5y3cmoNV/Yg+DuuweK47z4X+A7pPHWow6t4iEuiW7f25dxSLLFNc5X966yKGBbPOT1JzmqacIwntycrt391Sd/NKd33kuquac9pucf5+ZX7XbS+T5LeUX3sfFn7UGjS/CuD4D6hJ4q1j4jfCrw9YWvwj8YT6Zr1x/a3h7WNRWyjsvEcE6SZluRJJErOSzot0GQ8uDX+K+ueGvBf/AAUF+OPxWFnNrX/DJvwih07RLGXUpjLqOqm2fUrjau/5tlrFYq+Bj9+Swyc191J+yZ8MYvHcfidfAXhNdfjvF1AXy6ZEJjdKAqXBOPmlRQFRzlkAwpA4rV0P4B+CPDPjbxP4k0/wl4dtPEHjQIuv6jFp8S3OsKkaxKJ3xmQBFVcNkYAq6rnOLadpvnaa6SlG3zSc6jXVc0UtIozpqMWoyV4rlVu6jJP8VGCfR2k95Nn56+JLXxZ4c8Hfsg3EHijWvEv7R/xb8X6V4m13U4r6YrHohiN3rEQhVvKi0uKCRIFiChN7RNgyncfEfjWfGfx28AePfFmgeJfGMdz8c/2gbLwj8MrC08S30KJbabcpDcagzLLnyAlhqDrH/q1813KMfL2frb8J/wBmX4efAmaaXwb4K8M+GpbiBbR5NP0+OBzApJSAMBkQqSdsYOxcnAFXNF+AXgTw3beGYdO8FeErCHwW8svh6O20e3iXQXlVkla0CoBAXV3VjHt3B2Bzk1rzQVX2kFZc17dlzU3yr0VNJPvKT00ItJ0+WT97ltfu+Wpq/WVS7XaKjsfKH/BNSG61f9uT9qTVX8Ya34hsNO1XSfCqR6hqsk4ur+xtDLqN5Fbs5WCMz3iwBIlWNRbBQMik/wCCmljL+0n+2X+zP8CbDVrrSvO1u8+JetXFmkMk9nbaND/obbJkkjIa+uIMB0YEwnjivrb4efBfwj8JL/X7rwv4Z0Lw/deKtRk1fWZtPso7eTVbx/vzzsoBkkP95smqM/7Nvw6uvi7H8QZPAPguTx7DF9nj8StodsdXSP8AuC62ecF9t2KzWvsub7Kje2nvRV012SnaVuytp0t/8vbfaulf+V+7r58ml++uvX80fhX+0fefsvf8E8f2hf2iNbJ8UftTeG9aufhz4s13VWQpbXVvqS2dj5cKhIbaxSO6guvLRUV9zFiT8w96+FX7P2o+F/i7pviTxF8S4fBusf8ACJS6FaJH4ol1vWvEt9qskMMOq6k7bYRsmVRbW8KtEjSPskCjy1+rNR/ZW+GOr3Xi6e5+HXgWe48fxeR4nmfQbUyeIo9oXbeNszcDaAP3hbgD0rH8HfsM/Br4ffCv/hB9E+FvgLS/B5ukvm0e20S3SzluE+5O8YXDyLxtdssMLgjAxKV42n2S00+zyz5f5b3lJebV1eKkU3aV4/zSffqnC/flso69L62bi/z/APAHxKuvgF/wTd/aBvfEtp4i0n40/CTSm+GGrw2mv3j6dr+syrEdP1e1YybhPfNe2ckr5EhICvnaM914X+LOj6P48X4UeLPGdzcfCb9mf4YaJqnido9TeS48e6vexyJCJZVfzLiFVtnbygxE89ygfcE2n7Wvv2Rfhfqvwnu/At34B8KXng/UbxdQvNIuNNimtb25WRJRPMjAiSTfGjb3yxKjJ4pPE37IHwq8Z/EOHxbq3w48E6j4nttIfQIdVuNGt5LuLT3Vka1WQruERR3XaDja7DoxBdRzkm1u0uml1CWttl+8nKVlovdt8NmoqPXa79bOUNL9fchy331d73uflz4C8Pef/wAE2fgNYWXiPW/Dvij9o74vQ+K9Ukt/EEsc2lWDzNq0v2mZXDt9n0eygixKxUBwSCQpHpXjT9v/AMUXPj79oj4jeGtcaykv/E/hr4KfDi0v7kmz0+5nlRbnWJLViFyJtQzllyfsiRtjlR98337HHwm1Pwd4P8PXPw28EXGg/D64S78NadJotu1roUyqVWS3jK7Y2AY8qAcnPXmofEP7FXwh8W+DvFnh/U/hn4Iv9E8d6l/bHiKyn0eB4dbvdwf7RcKV/eShlBDtkgjINW+XnaS9y+ivra1KNr7r93CUfLmvdvafetd/E1q7ac3NUne3+OUHbry20W/xp4D8Q+DfAX/BT6+ttK8Z+ILnwp+z58NrrVfGF7f65NcJ4i167MmJpy7lbi4hs7S9ZiBiPdsAURbV4HV/E2qeHP8AghI0Vndxp8T/ANrTxJ9jkEMoaWHUfFN/veNscq8GnTYweVEAr9ENN/Y8+FGi3OtTWfw48E2kniPRI/DeptBo1vH9t0yOMxJZPhRmAIdoj+7jAxwKh1n9in4OeJPCfhvQdT+FHw31TRfByKmg2N74as7mDRgucfZ0eMiLqfuY6n1qbKS5KiutE+l4upKc4+klyxS+yortrSk4y54aNarraSpqMX52fO3/ADX7vT4c8P8Awwsfg7/wWi+DvwvGtaj8W/DHgf4cXWqwWuuvCR8JntlS3tbmGO1jht1NzF+6BniecBcpIFJB5H4VfHLxN43+Fvh++8Ha5NoHiH9tP44Xx1DXrOUC+8P+HLe3lNukT8+VcS6XpsIiY8r9qLryAa/TD4c/s/8AgP4PaZqNl4R8E+EfCtnrDF7+DR9Ht7GO9YggmVYkUOcEjLZ61jWf7Hvwr034P6d8P7X4e+ELTwVpFwt3YaNb6XFFaWM6sWWaJFUeXKGJIkXDZJ55qlJ3Tnq+v95Or7SSfqlGN92k776TypJxhoun921Nwi16NuVujtbbX4D+OP7UuofsRfGz9qfxb8Kori4+Hfwi+HGl6ZfQ3d7Pd6Y3jOe7YRys0jtukitZ4GumDbmBTzDuANe7+M/B/gz9jX4Xj4wap8SPEniTxr8NvA2qeJ9ank1dZ/8AhMvMtRia6UhituJR/o0ETRwIz/Kh2Db9Q6f8CPBOk/C+68EW3hHw1D4OvoZbe60NNNhGn3UcufNWSHbscPk7twO4k5zmub+H37E3we+FXwm1DwH4d+F3gHSfBeruJdQ0ODQrYWGoOCCGmiKbZSCq4Lg42rjoKylFypOnfW1lLrrzN+ivLTyjGL+FSLi4qpGbWl7uPSyUEvnaLv5ybW7R8M/8EcfCZbVLbwP8XLaTw38RPhRZ6dd2Ok22uzCDXJtdt31e41C4RfLFzcG5F6vlurxwCB9u45kPvH/BTnXLT4h/GP8AZ0+D1zc28Fl4x8cxeJ9b8+QJG2m6IFuwj54xJfNp8YHcvjqa+l4vgv4Rh+LDePF8M6EvjV9NXRjrosY/7Q+xK5kFt52N/lb2Lbc4zTfE/wAEfB3jX4j+H/GGseF9B1TxV4TSePRdWurGOW80pZtolEEjAtHv2LnaRnFbymnUhNKyjJSsu6d4/ik3st0tLGMYyUJxk7uUbX73Vpem7tv0bu2z8w/2o/2opP2gf2NviN8TJvE+q2/jP4keM7n4afB7SdO1KW3PhpY9TGlC/CRsAtw8olnlncZWN4oQQDh/aPF76Z+xx/wUl+FTabrfivWvD3j/AOEuq6NHpzeILu/i1u+sZ9KWzNtHJK0cc0kczLuiCA7y7H7zV9OT/wDBPz4IPFrez4R/DcSeItZj8RakzeHbZhf6lGzPHdTDaPMkV2ZgSerserEnR8E/s9T33jTw141+Il54e8V+PvCtjdafpl9pmiHS9P0xLllM721vLPcyxySJHDG7NcPlY/lCB3DZUYqKipej817Jw+b5pSk21rdNp2staz5nJra915fvFJfJRjGO99Hbc+HPCV/4zb9ozUv2cbWW21fw98BvAen6nfW3iPxjc2Vhqd9qLzzG4vZ8SXl7Y2cSrEkRBR2bMrArGVn8I/A3XdW/a6/Z3+C/h74leKfEGlfC74d6j4p8W+KbXWLmJb+PUpzbWSRIJWVSVN6IGJZ4o0jZXJiUn7h+Kf7GXwk+OPxN0bxp4y+GngfxT4s8PII9N1bVdFt7u7s1DblVZHUnCsSyj+FiSMHmu0034f6DovjDU/ENnomkWmv61DBb6jqcNnHHeX8UG/yUllA3yLH5j7AxIXe2MZNONnZz11k353U7a+XOvlFK7VrKd/e5e0UvL4Ob7+WXzleye+J+z98EtN/Zw+Deg+CNI1DX9V07w9bm3hvNb1B9Q1C5BdnLTTv80jEseT7DtXZUUU5ScnzPcSSSsgooopDCiiigAooooAKKKKACiiigAooooAKKKKACiiigAooooAKKKKACiiigAooooAKKKKACiiigAooooAKKKKACiiigAooooAKKKKACiiigAooooAKKKKACiiigAooooAKy/GvjfRvhv4Wvdc8Q6tp2h6Lpsfm3d/f3KW9tbJ03PI5CqMkdT3rUr4r/AOCmfiy98Ffta/s16t4o8O+L9e+Cui6rqupa+2g6Bea6tprKWyLpEt1bWkcszRK7zshEbBZhGxwVU0r+9GO13a/9fclpd2V1e40tG97Jv+v1etld2drH0loP7V3w58ReCdd8RxeL9HtdF8MSLHq91fymwXTCyI6ecJwhQOjoyFgA4dSpIIpmhftbfDbxF4L8S+IIPGOjRaT4MONemu5DaNo3yCQG4SUK8QZCHUsoDKQVyDmvkz9qHwjbeKP2sf2fvHF98PtZ8OfCO58Q6r4r8VmPw9KbrUtbgsYYdEu9Ut4I2mXAEpj89dyPHArhH2oPOfjl8Hvi98Tvhf8AtW/EXSPCnijSNb/aXutC+G/g7R202Zr7S9FQmwk1i+hVd9qrJd3c5EoVoo0j37ScBPncHyL3uif814xSb6OUm7LRqHvt7pOPJzLnfu6Xfld3a30UVe+qcvd6pv7t8Fftr/CX4jeOdJ8M6H8QvC+p+Idc0IeJrHToL1TcXGmlUcXQTqEKSI4zglWDYxzXP/Aj/goZ8MP2g/DnxC8QaN4gtLbwn8ONWk0jUNb1B/sdpI8Sr50qtIFxEspeIMcbnifHG0n5d8L/AAzuP2cP25vFNzoXgXxdqmh/s8fBT7D4ami0eVode1O833V5KkoUJLO62NlAI4izgyFQoRfl80+COka18Kvh7+xN4Z8V+BvibqPggpq3i/xOLbwre3L6p4vdEu7UXcCIZIYvtd5eSRvcrGnmW8cjFUQPWi5ZTtB6bffOaTXf3Kb93RuUorS+mfvKPvrXf7qcZNeXvTSvqklJ621/RLwx+2R8L/GNt4jksPGuiMPB9nFqGurNIbd9GgkMgja5WQK0O7ypCA4BIXOMEE8x8J/21fCkngjwVJ44+IHw0j134gwXmqaAdGvpFs9W02MSTpcw+fh9i2iq8khwgIYg7cV8LP4h+Il5+wp+2p8QT8O/G2j/ABN+MPjKfw7BbQ6Bdyz2lhuh0K1aJFj824EFssly0kSNGfN+ViQyr6tr/wCz7e+Kv2wvBWoy+CPFlt8Jf2YPhCZdF0u70l1Gv6rdABbSPAKTPDbafFvjjLEPOiN95lOXOlD2ktFyxfe16cqkl6r3Yr+Ztr005W24R1alJdtpxhH5NuTfZJfP6R8c/t5fD3U/2YL74geCPiR8OZ7S9uJdG0LVtUvnOkXGqiXyEt5DF+9b9/hCsYLHIx1Fb3ir9tH4ZfCe81bSPGnxB8G6L4h8KaLFrfiG2e/CLptuzLF5rBuVRpTtQN8zEgAE1+fPwr+H/igfsm/sbeCNX8DePp5fHXxCm+JPj5v+EfuA/wBsjM+seTcKwHkK+oT26Brnyl22rHO3BOt+1X8LvH2rP+2j8cz4S8Wz+ILq2tPhf8ONM/sO5luY7dIhaS6vBCqGSVPP1K7dJI1I8uOQgkNmrqxnDmil7yvp092MErPzqT5f8KvpYKfJOUdfddrP/FOW68qcOb1dtbo+/wDXv2vfhn4b8FeFfEFx4y0Z9M8dQLdeG2tpDdTa/E0QmD2kMQaWcCMhz5anavJwKvfA/wDad+HP7TGl3d58PPHfhLxtBpxRb06JqsF61gzglUnWNi0Lna3yuFb5Txwa/O39ofxZ4a/YU/ah+C+veHrvxF4ZtfAvwobwHquqX3gG+8XaR4NtS1vJa/aYdOmEtney+VuPmkI8S88ivtD/AIJkfDH4f/Cn9irwhZfDLxgfiD4V1L7VrCeJTKrnXLq7uZbi6uCFAVC08kn7sAbMbTyprXlg+eUHeKbS/wDApJX9Yrm6b2SaTZgpStBSVpNJv5xTdvSTt10Tba0R33xZ/al+HfwK1H7J4v8AF+iaBcraNqEsd1Pg2tqCVNxNjPkw7htEkm1C3ygluK63wv4s07xp4U0/XNLu4rzSdVtI760ukPyTwSIHSQZ7FSD+NfkX8S/Fvjf4mfsS/F7wzf8Aw0+Jk/xK+NfxYbw18Qr+fwnqDJouhyar9lt0tWEJ+1wppcSeX9n3xp5ru7KzqJP1D+Kvj2w+DPwJhvpPCuv6jpka2Omvoul2D3t7BBPLFbsBDbiRmEMchdxHu+WJsZ61gm3Q9qt3ypdFdxUrPy96Kut9fI2mkq3s+3Nf0UuVNevLJ27cvcreBP2u/hp8XLi6tPDfjbSNSuINPm1Q/Z5OWso2CPeRlhtktw7ACZd0bEEBjg48I/4Jo/tsr4//AGfNAv8A4ofEWG+8ZfEJ9S8XaJYalDbWl3b+HWu5FsGKQRRIY1tVhZpdv3pDuPSvnXQ/h98Svhj/AME/Pj78MfAWjeKPGWjW15D8Pvg/4il0K5/taDRdX+zx3EDloxK1pprTSD7SQEKQDJ/d8dF8JfEPxA/YM/Z7/aj8EReEfHvjjxf8NtPmk8HeJI/DzFdX0n+yYBpVrDJFGqSm3naaIW8APliN2ZQWLMpT5Y1KiV7Qur9ftOPlJKVN9f8Al4k2tSlDnlCmnvO3p9lN94t866a8l0nofWPw9/bm8GRfC+08Y+MPiL8Mo/DfjDxLcaV4N1LSr6QW2rQecYYI90v37nerq/l5jyMg45rv/gr+0z4A/aMfXF8DeLdF8TyeGrtbLVI7G4DvYysgdA69QHQhlbG1xypIr86/EHhzwf4a1j9iX4CeItN1+Pwj8MdBk+IXiGzuNCup5rq4sYBZ6e1xbxRvIn2i9uJ5wkqqxMYRlDnZX1X+wH8FPEP/AAuz43fHLxVpV54bv/jPq1imkaHeReVd6do2m2xtrN7mPrHcT7pZmjPzRrIiNhlZR0OmlKUU7pcyT7qLjDX+85KenaPN5GHtOaMZJWbUW125ryt6KPK77XaXXT3T4qfHzwf8E/sKeJ9es9MudULixs/mmvL7YAX8m3jDSyBAQWKKdoOTgVR8S/tRfD7wn4O0DXrzxbo50zxXALnQ3t5ftMmtRGMS77WKINJOPLIc+WrYXk4HNfIfwn+I8nhP/gop+0hYfEz4eeP/ABD4p8W3Njo3gjyvCl3qGjap4YWyj/0aO+EZs7dDdSXTXAnljUs653YAFfwmbz9lj9uj47+KdV+HviPUr3SvC2h+G/g7oGgaDPPZPpMdpvmsrGSKP7Pb7r/5Zt7RiNI4WfbGFNc6k/ZqfePMra9L8tus7uKaW3v78qvs4++4Lo7a6dUua/SO7Te65dVzPl+urv8Aa++F9jongvUn8e+F/sPxFuY7TwxMl+jrrkr5KpBgneeGzjptbOMGsa2/b/8Agne/CjX/AB1D8UPBk3g/wtqbaNqusR6lG1pZ3ihCYC4OC5EiEBc7gwIzmvh34Ef8E7vHdn4p/ZZ+E/jyx1G58PfC7TPEHxN8cXsFrJJpF9repXEqRaRFPt8t/L+23m5ASTEvQBwa5bwb8EPHv7TX7Enh3wmvg7xz4a1P9pL45T+KvHN3daBPbLoGjW9294qyCRB5Si3sLC2jMqqru+F3jrqo3ny9G7Ly/eRhd+X8R37RT2esOSS5l01fR25Jz0XdpQ06OTjunb9MfAH7Tfw++KvxP8ReC/DfjDQNb8V+EooptZ0qzu1ludNWUsE81R905VgR1UjBwaq6D+1r8NvFHxSt/Bem+MtEvvEl49zFbWkE28XUtsM3MMcgHlvLCOZI1YugB3KMGvz8+I3gX4k2vh/9u7xN8LfBPjDSvGFjo9l4B8CJDpcsEjaZYWqvNJYu+03E0017fSo0W/LxIS25l3aMPgafxr+wz4h8X/BjRvi3r/xD8AfDO+0fwD/bXhSbwtbeFLiW2WKS20ywmihllvGRSDP/AKRlo9gnG8o2TqJUnV7QUvXmUmvTRRvfq2r3S5tI026kabe8uX0a5FK/fVytbpG/V2+8E/a5+Gkvjx/DSeM9Ek1eOee0eOObfEtxBE801sZgPK+0JFHI7Q7vMCozFcKTXkmn/wDBUT4ffFb9njxp408GeLPCukw6VrU3hjQNT8VPNbabq2ohlhjJRQJjE9yXiAUb28vIGGXPnPw3+Lngyw/4J/Qa58Lvg74yvNQ+CXgO9uvDx1zwRd6bqOm6qLBka2tku4UnnupWLiWS3Do2X3SMzAHy+L4Wan4R/ZY/Ya+D1v4M8eX2hDxJaa/4rmGgz75ptMt3v83CkD7OtzqbxSA3Ji4Ri23FbulatKk3onCN9tJyacl6Ri2lre6epjGrelGqlq1OVn/cjflfq5RV/JrQ+9viJ+0n4Q+BGmafH488TaLo+r3Fk15LaxM8sjJGo8+dIVDS/Z4yfmlK7UBG4jNJ4g/ay+GXhXVvC9jqHjzwtbXPjWzl1HQlbUYyNUtY4DcSXETA4MKwqzmTOwKM5r4r0TWvGvwj+IP7XmsXXgnxX4r+Ovj7xA2heBLNNIuHs7nQlsoo9KKXhT7NDZJLLcSzs0ihX8zcN5UHB+E/7DniP4WfGP4V6D4l0nX/ABH4G/ZE+C+I5F02ZrTxh4ivPmlhtWZcTrFHYr8iZIM8aMMMVOHtVye1nomlL0vCc2rd42jFr+aVjX2bUvZw1abXq1KEIv0k5SafWMb+R+gvwQ+Pngz9pTwFH4o8BeJdJ8WeHpbia0W/02cTQmaFzHKmR3VlIP8AgRXX18vf8EbvAepeBP8Agnt4IbX9K1jSvFHiU3XifX01OyezuZNR1G4kvbktFJiRQsk7RjeqkiIEDaVJ+oa3q03TlyPdb+vX5X2Mqc1Ncy21t6X0+drX8wooorMsKKKKACiiigAooooAKKKKACiiigAooooAKKKKACiiigAooooAKKKKACiiigAooooAKKKKACiiigAooooAKKKKACiiigAooooAKKKKACiiigAooooAKKKKACiiigAooooAKKKKACiiigAooooAKKKKACiiigAooooAKKKKACiiigAooooAKKKKACiiigAooooAKKKKACiiigAooooAKKKKACiiigAooooAKKKKAPGNO/Y5Hg34ieMdf8IfEPx14OTx7qf9taxp1kmm3drJe+RFA1xEbu0mkjZo4YgVDmP5MhFJJPefBT4MaB+z78NNP8J+GbVrTSdOMsih3LyTSzSvNNNIx+88kskjsf7znAA4rq6KFpFRWysvktEvRLRIHq+Z+vze79X39e4UUUUAFFFFAHj/AMP/ANkS28Dftd+NPjFL4q1/WNa8Z6RZ6E+n3cVr9j0yztJJpIYrbZEsqjfPIzbnbcSD2FewUUULSKitl/nf822D1k5Pd/okl+CSCiiigAooooAKKKKACiiigAooooAKKKKACiiigAooooAKKKKACiiigAooooAKKKKACiiigAooooAKKKKACiiigAooooAKKKKACiiigAooooAKKKKACiiigAooooAKKKKACiiigAooooAKKKKAP//Z)"
      ]
    },
    {
      "cell_type": "code",
      "metadata": {
        "id": "ao8bdFG_MG_a",
        "colab_type": "code",
        "colab": {}
      },
      "source": [
        "# First let's make a Residual Block as a Custom Layer\n",
        "\n",
        "class ResidualBlock(keras.layers.Layer):\n",
        "    def __init__(self, n_layers, units, activation=None, **kwargs):\n",
        "        self.hidden_layers = [ keras.layers.Dense(units, activation=activation)\n",
        "         for _ in range(n_layers) ]\n",
        "        super().__init__(**kwargs)\n",
        "\n",
        "    def call(self, input):\n",
        "        x = input\n",
        "        for layer in self.hidden_layers:\n",
        "            x = layer[x]\n",
        "            \n",
        "        return x + input\n"
      ],
      "execution_count": 27,
      "outputs": []
    },
    {
      "cell_type": "code",
      "metadata": {
        "id": "7wmX7EBJPDXG",
        "colab_type": "code",
        "colab": {}
      },
      "source": [
        "# Let's start making our Custom Model using Subclassing API\n",
        "\n",
        "class MyCustomModel(keras.models.Model):\n",
        "    def __init__(self, n_iters, output_dim, **kwargs):\n",
        "        super().__init__(**kwargs)\n",
        "        self.n_iters = n_iters\n",
        "        self.dense1 = keras.layers.Dense(30, activation='relu')\n",
        "        self.residualBlock1 = ResidualBlock(2, 30, activation='relu')\n",
        "        self.residualBlock2 = ResidualBlock(2, 30, activation='relu')\n",
        "        self.dense2 = keras.layers.Dense(output_dim)\n",
        "\n",
        "    def call(self, x):\n",
        "        x = keras.layers.Flatten(shape=[28, 28])\n",
        "        x = self.dense1(x)\n",
        "        for i in range(1 + self.n_iters):\n",
        "            x = self.residualBlock1(x)\n",
        "        x = self.residualBlock2(x)\n",
        "        x = self.dense2(x)\n",
        "\n",
        "        return x\n"
      ],
      "execution_count": 28,
      "outputs": []
    },
    {
      "cell_type": "markdown",
      "metadata": {
        "id": "T7KxkkM1NZ8-",
        "colab_type": "text"
      },
      "source": [
        "# **Custom Training Loops**"
      ]
    },
    {
      "cell_type": "code",
      "metadata": {
        "id": "cvR5Bx54UKmm",
        "colab_type": "code",
        "colab": {
          "base_uri": "https://localhost:8080/",
          "height": 51
        },
        "outputId": "3ae2bce1-88ea-4c62-f209-c7f2ec74fd93"
      },
      "source": [
        "mnist = keras.datasets.mnist\n",
        "\n",
        "(x_train, y_train), (x_test, y_test) = mnist.load_data()"
      ],
      "execution_count": 29,
      "outputs": [
        {
          "output_type": "stream",
          "text": [
            "Downloading data from https://storage.googleapis.com/tensorflow/tf-keras-datasets/mnist.npz\n",
            "11493376/11490434 [==============================] - 0s 0us/step\n"
          ],
          "name": "stdout"
        }
      ]
    },
    {
      "cell_type": "code",
      "metadata": {
        "id": "2fmhRY2UUgbO",
        "colab_type": "code",
        "colab": {
          "base_uri": "https://localhost:8080/",
          "height": 34
        },
        "outputId": "49bb00b4-6994-4a18-bf76-25103cf1853b"
      },
      "source": [
        "print(x_train.shape, x_test.shape)"
      ],
      "execution_count": 30,
      "outputs": [
        {
          "output_type": "stream",
          "text": [
            "(60000, 28, 28) (10000, 28, 28)\n"
          ],
          "name": "stdout"
        }
      ]
    },
    {
      "cell_type": "code",
      "metadata": {
        "id": "PDVcgP8Xbdgt",
        "colab_type": "code",
        "colab": {}
      },
      "source": [
        "x_train = x_train/255.\n",
        "x_test = x_test/255."
      ],
      "execution_count": 35,
      "outputs": []
    },
    {
      "cell_type": "code",
      "metadata": {
        "id": "2fIGCz-8NX9X",
        "colab_type": "code",
        "colab": {}
      },
      "source": [
        "l2_regularizer = keras.regularizers.l2(0.05)\n",
        "\n",
        "model = keras.models.Sequential([\n",
        "    keras.layers.Flatten(input_shape=[28, 28]),\n",
        "    keras.layers.Dense(300, activation='elu', kernel_initializer='he_normal',\n",
        "                       kernel_regularizer=l2_regularizer),\n",
        "    keras.layers.Dense(100, activation='elu', kernel_initializer='he_normal',\n",
        "                       kernel_regularizer=l2_regularizer),\n",
        "    keras.layers.Dense(10, activation='softmax')\n",
        "])"
      ],
      "execution_count": 36,
      "outputs": []
    },
    {
      "cell_type": "code",
      "metadata": {
        "id": "4saDb0z-O0V1",
        "colab_type": "code",
        "colab": {}
      },
      "source": [
        "def random_sample(X, y, batch_size):\n",
        "    idx = np.random.randint(len(X), size=batch_size)\n",
        "    return X[idx], y[idx]"
      ],
      "execution_count": 37,
      "outputs": []
    },
    {
      "cell_type": "code",
      "metadata": {
        "id": "BdwODbbsPPJd",
        "colab_type": "code",
        "colab": {}
      },
      "source": [
        "def print_status_bar(iterations, total, loss, metrics=None):\n",
        "    metrics = \" - \".join([\"{}: {:.4f}\".format(m.name(), m.result())\n",
        "     for m in [loss] + (metrics or [])])\n",
        "    end = \"\" if iterations < total else \"\\n\"\n",
        "    print(\"\\r{}/{}\".format(iterations, total) + metrics, end=end)"
      ],
      "execution_count": 38,
      "outputs": []
    },
    {
      "cell_type": "code",
      "metadata": {
        "id": "Z4JvbdrcSqFg",
        "colab_type": "code",
        "colab": {}
      },
      "source": [
        "n_epochs = 5\n",
        "batch_size = 32\n",
        "n_steps = len(x_train) // batch_size\n",
        "optimizer = keras.optimizers.Nadam()\n",
        "loss_fn = keras.losses.mean_squared_error\n",
        "mean_loss = keras.metrics.Mean()\n",
        "metrics = [keras.metrics.MeanAbsoluteError()]"
      ],
      "execution_count": 39,
      "outputs": []
    },
    {
      "cell_type": "code",
      "metadata": {
        "id": "9WAkk_jqUGEC",
        "colab_type": "code",
        "colab": {}
      },
      "source": [
        "for epoch in range(1, 1 + n_epochs):\n",
        "    print(\"Epoch {}/{}\".format(epoch, n_epochs))\n",
        "    for step in range(1, n_steps + 1):\n",
        "        x_batch, y_batch = random_sample(x_train, y_train)\n",
        "        with tf.GradientTape as tape:\n",
        "            y_pred = model(x_batch, training=True)\n",
        "            main_loss = tf.reduce_mean(loss_fn(y_batch, y_pred))\n",
        "            loss = tf.add_n([main_loss] + model.losses)\n",
        "        gradients = tape.gradient(loss, model.trainable_variables)\n",
        "        optimizer.apply_gradients(zip(gradients, model.trainable_variables))\n",
        "        mean_loss(loss)\n",
        "        for metric in metrics:\n",
        "            metric(y_batch, y_pred)\n",
        "        print_status_bar(step*batch_size, len(y_train), mean_loss, metrics)\n",
        "    print_status_bar(len(y_train), len(y_train), loss, metrics)\n",
        "    for metric in [mean_loss] + metrics:\n",
        "        metric.reset_status()\n",
        "\n"
      ],
      "execution_count": 34,
      "outputs": []
    }
  ]
}