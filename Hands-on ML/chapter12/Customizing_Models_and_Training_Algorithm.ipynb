{
  "nbformat": 4,
  "nbformat_minor": 0,
  "metadata": {
    "colab": {
      "name": "Customizing Models and Training Algorithm.ipynb",
      "provenance": [],
      "authorship_tag": "ABX9TyMHROKYMBpmtqBk8xsMN+6M",
      "include_colab_link": true
    },
    "kernelspec": {
      "name": "python3",
      "display_name": "Python 3"
    }
  },
  "cells": [
    {
      "cell_type": "markdown",
      "metadata": {
        "id": "view-in-github",
        "colab_type": "text"
      },
      "source": [
        "<a href=\"https://colab.research.google.com/github/sumanyurosha/tensorflow-specialization/blob/master/Hands-on%20ML/chapter12/Customizing_Models_and_Training_Algorithm.ipynb\" target=\"_parent\"><img src=\"https://colab.research.google.com/assets/colab-badge.svg\" alt=\"Open In Colab\"/></a>"
      ]
    },
    {
      "cell_type": "code",
      "metadata": {
        "id": "6AzVdDE09RHy",
        "colab_type": "code",
        "colab": {}
      },
      "source": [
        "import tensorflow as tf\n",
        "from tensorflow import keras"
      ],
      "execution_count": 27,
      "outputs": []
    },
    {
      "cell_type": "markdown",
      "metadata": {
        "id": "eNGg2TV1uSob",
        "colab_type": "text"
      },
      "source": [
        "# **Custom Loss Functions**"
      ]
    },
    {
      "cell_type": "code",
      "metadata": {
        "id": "1D7fgbElx_d0",
        "colab_type": "code",
        "colab": {
          "base_uri": "https://localhost:8080/",
          "height": 289
        },
        "outputId": "c9c39dd9-b45c-4086-e4f3-f8f69a6ef75e"
      },
      "source": [
        "model = tf.keras.models.Sequential([\n",
        "    tf.keras.layers.Flatten(input_shape=[28, 28]),\n",
        "    tf.keras.layers.Dense(300, activation='relu'),\n",
        "    tf.keras.layers.Dense(100, activation='relu'),\n",
        "    tf.keras.layers.Dense(10, activation='softmax')\n",
        "])\n",
        "\n",
        "model.summary()"
      ],
      "execution_count": 3,
      "outputs": [
        {
          "output_type": "stream",
          "text": [
            "Model: \"sequential\"\n",
            "_________________________________________________________________\n",
            "Layer (type)                 Output Shape              Param #   \n",
            "=================================================================\n",
            "flatten (Flatten)            (None, 784)               0         \n",
            "_________________________________________________________________\n",
            "dense (Dense)                (None, 300)               235500    \n",
            "_________________________________________________________________\n",
            "dense_1 (Dense)              (None, 100)               30100     \n",
            "_________________________________________________________________\n",
            "dense_2 (Dense)              (None, 10)                1010      \n",
            "=================================================================\n",
            "Total params: 266,610\n",
            "Trainable params: 266,610\n",
            "Non-trainable params: 0\n",
            "_________________________________________________________________\n"
          ],
          "name": "stdout"
        }
      ]
    },
    {
      "cell_type": "code",
      "metadata": {
        "id": "0Ajg0gSxuQGE",
        "colab_type": "code",
        "colab": {}
      },
      "source": [
        "def huber_fn(y_true, y_pred):\n",
        "    error = y_true - y_pred\n",
        "    is_error_small = tf.abs(error) < 1\n",
        "    squared_loss = tf.square(error) / 2\n",
        "    linear_loss = tf.abs(error) - 0.5\n",
        "    return tf.where(is_error_small, squared_loss, linear_loss)"
      ],
      "execution_count": 4,
      "outputs": []
    },
    {
      "cell_type": "code",
      "metadata": {
        "id": "2zV00r_lx6K2",
        "colab_type": "code",
        "colab": {}
      },
      "source": [
        "model.compile(loss=huber_fn, optimizer='nadam')"
      ],
      "execution_count": 5,
      "outputs": []
    },
    {
      "cell_type": "code",
      "metadata": {
        "id": "EQJNxiA3zLGr",
        "colab_type": "code",
        "colab": {}
      },
      "source": [
        "tf.keras.models.save_model(model, 'my_model_with_custom_loss.h5')"
      ],
      "execution_count": 8,
      "outputs": []
    },
    {
      "cell_type": "code",
      "metadata": {
        "id": "O2sCYA35zxyS",
        "colab_type": "code",
        "colab": {}
      },
      "source": [
        "model = tf.keras.models.load_model('my_model_with_custom_loss.h5', \n",
        "                            custom_objects={'huber_fn': huber_fn})"
      ],
      "execution_count": 10,
      "outputs": []
    },
    {
      "cell_type": "markdown",
      "metadata": {
        "id": "PPCJDz_D1P1l",
        "colab_type": "text"
      },
      "source": [
        "# What if you want to add a threshold to measure whether the error is small or not? "
      ]
    },
    {
      "cell_type": "code",
      "metadata": {
        "id": "ZXdLxePHyen6",
        "colab_type": "code",
        "colab": {}
      },
      "source": [
        "def create_hubor(threshold=1):\n",
        "    def huber_fn(y_true, y_pred):\n",
        "        error = y_true - y_pred\n",
        "        is_error_small = tf.abs(error) < 1\n",
        "        squared_loss = tf.square(error) / 2\n",
        "        linear_loss = threshold * tf.abs(error) - threshold**2 / 2\n",
        "        return tf.where(is_error_small, squared_loss, linear_loss)\n",
        "    return huber_fn\n"
      ],
      "execution_count": 12,
      "outputs": []
    },
    {
      "cell_type": "code",
      "metadata": {
        "id": "BU34_n1_0wt0",
        "colab_type": "code",
        "colab": {}
      },
      "source": [
        "model.compile(loss=create_hubor(2.0), optimizer='nadam')"
      ],
      "execution_count": 15,
      "outputs": []
    },
    {
      "cell_type": "code",
      "metadata": {
        "id": "UFTXTuqW04VJ",
        "colab_type": "code",
        "colab": {}
      },
      "source": [
        "tf.keras.models.save_model(model, 'my_model_with_custom_loss_2.h5')"
      ],
      "execution_count": 16,
      "outputs": []
    },
    {
      "cell_type": "code",
      "metadata": {
        "id": "2mITNewE0Ifv",
        "colab_type": "code",
        "colab": {}
      },
      "source": [
        "model = tf.keras.models.load_model('my_model_with_custom_loss_2.h5', \n",
        "                                   custom_objects={'huber_fn': create_hubor(2.0)})"
      ],
      "execution_count": 17,
      "outputs": []
    },
    {
      "cell_type": "markdown",
      "metadata": {
        "id": "_WAgWZms1aF2",
        "colab_type": "text"
      },
      "source": [
        "# You have to pass the threshold whenever you load the model, so we can overcome this problem by subclassing keras.losses.Loss class"
      ]
    },
    {
      "cell_type": "code",
      "metadata": {
        "id": "KcX1xM0t0m-l",
        "colab_type": "code",
        "colab": {}
      },
      "source": [
        "class HuborLoss(keras.losses.Loss):\n",
        "    def __init__(self, threshold=1.0, **kwargs):\n",
        "        self.threshold = threshold\n",
        "        super().__init__(**kwargs)\n",
        "\n",
        "    def call(self, y_true, y_pred):\n",
        "        error = y_true - y_pred\n",
        "        is_error_small = tf.abs(error) < 1\n",
        "        squared_loss = tf.square(error) / 2\n",
        "        linear_loss = threshold * tf.abs(error) - threshold**2 / 2\n",
        "        return tf.where(is_error_small, squared_loss, linear_loss)\n",
        "    \n",
        "    def get_config(self):\n",
        "        base_config = super().get_config()\n",
        "        return {**base_config, 'threshold': self.threshold}"
      ],
      "execution_count": 28,
      "outputs": []
    },
    {
      "cell_type": "code",
      "metadata": {
        "id": "suNQcZB92yBS",
        "colab_type": "code",
        "colab": {}
      },
      "source": [
        "model.compile(loss=HuborLoss(2.), optimizer='nadam')"
      ],
      "execution_count": 29,
      "outputs": []
    },
    {
      "cell_type": "code",
      "metadata": {
        "id": "RRF2jaWP4mxk",
        "colab_type": "code",
        "colab": {}
      },
      "source": [
        "keras.models.save_model(model, 'my_model_with_custom_loss_3.h5')"
      ],
      "execution_count": 30,
      "outputs": []
    },
    {
      "cell_type": "code",
      "metadata": {
        "id": "9SAQPRQM4wmi",
        "colab_type": "code",
        "colab": {}
      },
      "source": [
        "model = keras.models.load_model('my_model_with_custom_loss_3.h5', \n",
        "                                custom_objects={'HuborLoss': HuborLoss})"
      ],
      "execution_count": 31,
      "outputs": []
    },
    {
      "cell_type": "markdown",
      "metadata": {
        "id": "SB5MDTE56wUD",
        "colab_type": "text"
      },
      "source": [
        "# **Custom Activation**"
      ]
    },
    {
      "cell_type": "code",
      "metadata": {
        "id": "5BZmUXzC490u",
        "colab_type": "code",
        "colab": {}
      },
      "source": [
        "def my_softplus(z):\n",
        "    return tf.log(tf.exp(z) + 1.)"
      ],
      "execution_count": 32,
      "outputs": []
    },
    {
      "cell_type": "markdown",
      "metadata": {
        "id": "O3xt4Cuk6_Lc",
        "colab_type": "text"
      },
      "source": [
        "# **Custom Initializer**"
      ]
    },
    {
      "cell_type": "code",
      "metadata": {
        "id": "loasdVnE6-rT",
        "colab_type": "code",
        "colab": {}
      },
      "source": [
        "def my_glorot_initializer(shape, dtype=tf.float32):\n",
        "    stddev = tf.sqrt(2. / shape[0] + shape[1])\n",
        "    return tf.random.normal(shape, stdev=stdev, dtype=dtype)"
      ],
      "execution_count": 34,
      "outputs": []
    },
    {
      "cell_type": "markdown",
      "metadata": {
        "id": "MVJK50av7oeN",
        "colab_type": "text"
      },
      "source": [
        "# Custom Regularizer"
      ]
    },
    {
      "cell_type": "code",
      "metadata": {
        "id": "bPlfcL7X8Sdu",
        "colab_type": "code",
        "colab": {}
      },
      "source": [
        "def my_l1_regularizer(weights):\n",
        "    return tf.reduce_sum(tf.abs(0.01 * weights))"
      ],
      "execution_count": 35,
      "outputs": []
    },
    {
      "cell_type": "markdown",
      "metadata": {
        "id": "3y3AcdzB8S6q",
        "colab_type": "text"
      },
      "source": [
        "# **Custom Constraint**"
      ]
    },
    {
      "cell_type": "code",
      "metadata": {
        "id": "V5itC0937rvV",
        "colab_type": "code",
        "colab": {}
      },
      "source": [
        "def my_postivie_weight(weights):\n",
        "    return tf.where(weights < 0., tf.zeros_like(weights), weights)"
      ],
      "execution_count": 37,
      "outputs": []
    },
    {
      "cell_type": "code",
      "metadata": {
        "id": "pw5O8PRB8iKl",
        "colab_type": "code",
        "colab": {}
      },
      "source": [
        "layer = keras.layers.Dense(30, \n",
        "                           activation=my_softplus,\n",
        "                           kernel_initializer=my_glorot_initializer,\n",
        "                           kernel_regularizer=my_l1_regularizer,\n",
        "                           kernel_constraint=my_postivie_weight)"
      ],
      "execution_count": 38,
      "outputs": []
    },
    {
      "cell_type": "markdown",
      "metadata": {
        "id": "sxpsEtCR9dIl",
        "colab_type": "text"
      },
      "source": [
        "**If for a function we need to save the hyperparameter with the model, we will have to subclass it**"
      ]
    },
    {
      "cell_type": "code",
      "metadata": {
        "id": "KA_3cbpK9nGY",
        "colab_type": "code",
        "colab": {}
      },
      "source": [
        "class MyL1Regularizer(keras.regularizers.Regularizer):\n",
        "    def __init__(self, factor):\n",
        "        super().__init__()\n",
        "        self.factor = factor\n",
        "\n",
        "    def __call__(self, weights):\n",
        "        return tf.reduce_sum(tf.abs(self.factor * weights))\n",
        "\n",
        "    def get_config(self):\n",
        "        return {'factor': self.factor}"
      ],
      "execution_count": 39,
      "outputs": []
    },
    {
      "cell_type": "markdown",
      "metadata": {
        "id": "SJKs42JMD1Cb",
        "colab_type": "text"
      },
      "source": [
        "# **Custom Metrics**\n"
      ]
    },
    {
      "cell_type": "code",
      "metadata": {
        "id": "bikRMGJW-RgQ",
        "colab_type": "code",
        "colab": {}
      },
      "source": [
        "class HuborMetric(keras.metrics.Metric):\n",
        "    def __init__(self, threshold=1., **kwargs):\n",
        "        super().__init(**kwargs)\n",
        "        self.threshold = threshold\n",
        "        self.hubor_fn = create_hubor(threshold)\n",
        "        self.total = self.add_weight('total', initializer='zeros'),\n",
        "        self.count = self.add_weight('count', initializer='zeros')\n",
        "    \n",
        "    def update_state(self, y_true, y_pred):\n",
        "        metric = self.hubor_fn(y_true, y_pred)\n",
        "        self.total.assign_add(tf.reduce_sum(metric))\n",
        "        self.total.assign_add(tf.cast(tf.size(y_true)), dtype=tf.float32)\n",
        "\n",
        "    def result(self):\n",
        "        return self.total / self.count\n",
        "\n",
        "    def get_config(self):\n",
        "        base_config = super().get_config()\n",
        "        return {**base_config, 'threshold': self.threshold}\n"
      ],
      "execution_count": 41,
      "outputs": []
    },
    {
      "cell_type": "code",
      "metadata": {
        "id": "5EyBkn87GC_q",
        "colab_type": "code",
        "colab": {}
      },
      "source": [
        ""
      ],
      "execution_count": null,
      "outputs": []
    }
  ]
}