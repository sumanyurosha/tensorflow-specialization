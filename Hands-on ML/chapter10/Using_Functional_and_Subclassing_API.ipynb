{
  "nbformat": 4,
  "nbformat_minor": 0,
  "metadata": {
    "colab": {
      "name": "Using Functional and Subclassing API.ipynb",
      "provenance": [],
      "authorship_tag": "ABX9TyOQ1h3YlYTu8l2YWIiQiZLe",
      "include_colab_link": true
    },
    "kernelspec": {
      "name": "python3",
      "display_name": "Python 3"
    }
  },
  "cells": [
    {
      "cell_type": "markdown",
      "metadata": {
        "id": "view-in-github",
        "colab_type": "text"
      },
      "source": [
        "<a href=\"https://colab.research.google.com/github/sumanyurosha/tensorflow-specialization/blob/master/Hands-on%20ML/chapter10/Using_Functional_and_Subclassing_API.ipynb\" target=\"_parent\"><img src=\"https://colab.research.google.com/assets/colab-badge.svg\" alt=\"Open In Colab\"/></a>"
      ]
    },
    {
      "cell_type": "code",
      "metadata": {
        "id": "ALmm9c-qtza0",
        "colab_type": "code",
        "colab": {}
      },
      "source": [
        "from tensorflow import keras\n",
        "from sklearn.datasets import fetch_california_housing\n",
        "from sklearn.model_selection import train_test_split\n",
        "from sklearn.preprocessing import StandardScaler"
      ],
      "execution_count": 1,
      "outputs": []
    },
    {
      "cell_type": "code",
      "metadata": {
        "id": "JKKtfn1FuDGM",
        "colab_type": "code",
        "colab": {
          "base_uri": "https://localhost:8080/",
          "height": 51
        },
        "outputId": "71f04525-4ffb-4c44-c8e3-5c8ebca17ad4"
      },
      "source": [
        "housing_data = fetch_california_housing()\n",
        "x, y = housing_data.data, housing_data.target\n",
        "print(x.shape, y.shape)"
      ],
      "execution_count": 2,
      "outputs": [
        {
          "output_type": "stream",
          "text": [
            "Downloading Cal. housing from https://ndownloader.figshare.com/files/5976036 to /root/scikit_learn_data\n"
          ],
          "name": "stderr"
        },
        {
          "output_type": "stream",
          "text": [
            "(20640, 8) (20640,)\n"
          ],
          "name": "stdout"
        }
      ]
    },
    {
      "cell_type": "code",
      "metadata": {
        "id": "L6yRA6JFw0dH",
        "colab_type": "code",
        "colab": {
          "base_uri": "https://localhost:8080/",
          "height": 34
        },
        "outputId": "a4b2856a-f9cc-4851-d63c-926ac0a1fe7a"
      },
      "source": [
        "x_train, x_test, y_train, y_test = train_test_split(x, y)\n",
        "\n",
        "scaler = StandardScaler()\n",
        "x_train = scaler.fit_transform(x_train)\n",
        "x_test = scaler.transform(x_test)\n",
        "\n",
        "print(x_train.shape, x_test.shape)"
      ],
      "execution_count": 3,
      "outputs": [
        {
          "output_type": "stream",
          "text": [
            "(15480, 8) (5160, 8)\n"
          ],
          "name": "stdout"
        }
      ]
    },
    {
      "cell_type": "code",
      "metadata": {
        "id": "UX85m-QKwuoJ",
        "colab_type": "code",
        "colab": {
          "base_uri": "https://localhost:8080/",
          "height": 340
        },
        "outputId": "c06f5771-9ae0-4115-e645-17128518ff53"
      },
      "source": [
        "input_ = keras.layers.Input(shape=x_train.shape[1:])\n",
        "hidden1 = keras.layers.Dense(30, activation='relu')(input_)\n",
        "hidden2 = keras.layers.Dense(30, activation='relu')(hidden1)\n",
        "concat = keras.layers.Concatenate()([input_, hidden2])\n",
        "output = keras.layers.Dense(1)(concat)\n",
        "\n",
        "model = keras.Model(inputs=[input_], outputs=[output])\n",
        "\n",
        "model.summary()"
      ],
      "execution_count": 4,
      "outputs": [
        {
          "output_type": "stream",
          "text": [
            "Model: \"functional_1\"\n",
            "__________________________________________________________________________________________________\n",
            "Layer (type)                    Output Shape         Param #     Connected to                     \n",
            "==================================================================================================\n",
            "input_1 (InputLayer)            [(None, 8)]          0                                            \n",
            "__________________________________________________________________________________________________\n",
            "dense (Dense)                   (None, 30)           270         input_1[0][0]                    \n",
            "__________________________________________________________________________________________________\n",
            "dense_1 (Dense)                 (None, 30)           930         dense[0][0]                      \n",
            "__________________________________________________________________________________________________\n",
            "concatenate (Concatenate)       (None, 38)           0           input_1[0][0]                    \n",
            "                                                                 dense_1[0][0]                    \n",
            "__________________________________________________________________________________________________\n",
            "dense_2 (Dense)                 (None, 1)            39          concatenate[0][0]                \n",
            "==================================================================================================\n",
            "Total params: 1,239\n",
            "Trainable params: 1,239\n",
            "Non-trainable params: 0\n",
            "__________________________________________________________________________________________________\n"
          ],
          "name": "stdout"
        }
      ]
    },
    {
      "cell_type": "code",
      "metadata": {
        "id": "Us2uVaabyYNT",
        "colab_type": "code",
        "colab": {
          "base_uri": "https://localhost:8080/",
          "height": 1000
        },
        "outputId": "5bcd3a51-f5c4-4b2d-ed88-9ae5ba163b8d"
      },
      "source": [
        "model.compile(optimizer='adam',\n",
        "              loss='mae')\n",
        "\n",
        "history = model.fit(x_train, y_train, epochs=100, validation_split=0.2)"
      ],
      "execution_count": 5,
      "outputs": [
        {
          "output_type": "stream",
          "text": [
            "Epoch 1/100\n",
            "387/387 [==============================] - 1s 2ms/step - loss: 0.6618 - val_loss: 0.4834\n",
            "Epoch 2/100\n",
            "387/387 [==============================] - 0s 1ms/step - loss: 0.4585 - val_loss: 0.4559\n",
            "Epoch 3/100\n",
            "387/387 [==============================] - 0s 1ms/step - loss: 0.4375 - val_loss: 0.4424\n",
            "Epoch 4/100\n",
            "387/387 [==============================] - 0s 1ms/step - loss: 0.4281 - val_loss: 0.4246\n",
            "Epoch 5/100\n",
            "387/387 [==============================] - 0s 1ms/step - loss: 0.4218 - val_loss: 0.4272\n",
            "Epoch 6/100\n",
            "387/387 [==============================] - 0s 1ms/step - loss: 0.4150 - val_loss: 0.4118\n",
            "Epoch 7/100\n",
            "387/387 [==============================] - 0s 1ms/step - loss: 0.4083 - val_loss: 0.4030\n",
            "Epoch 8/100\n",
            "387/387 [==============================] - 0s 1ms/step - loss: 0.4030 - val_loss: 0.4053\n",
            "Epoch 9/100\n",
            "387/387 [==============================] - 0s 1ms/step - loss: 0.3980 - val_loss: 0.3955\n",
            "Epoch 10/100\n",
            "387/387 [==============================] - 0s 1ms/step - loss: 0.3919 - val_loss: 0.3918\n",
            "Epoch 11/100\n",
            "387/387 [==============================] - 0s 1ms/step - loss: 0.3870 - val_loss: 0.3849\n",
            "Epoch 12/100\n",
            "387/387 [==============================] - 0s 1ms/step - loss: 0.3825 - val_loss: 0.3833\n",
            "Epoch 13/100\n",
            "387/387 [==============================] - 0s 1ms/step - loss: 0.3809 - val_loss: 0.3809\n",
            "Epoch 14/100\n",
            "387/387 [==============================] - 0s 1ms/step - loss: 0.3763 - val_loss: 0.3827\n",
            "Epoch 15/100\n",
            "387/387 [==============================] - 0s 1ms/step - loss: 0.3733 - val_loss: 0.3749\n",
            "Epoch 16/100\n",
            "387/387 [==============================] - 0s 1ms/step - loss: 0.3726 - val_loss: 0.3668\n",
            "Epoch 17/100\n",
            "387/387 [==============================] - 1s 1ms/step - loss: 0.3695 - val_loss: 0.3860\n",
            "Epoch 18/100\n",
            "387/387 [==============================] - 1s 2ms/step - loss: 0.3683 - val_loss: 0.3658\n",
            "Epoch 19/100\n",
            "387/387 [==============================] - 1s 2ms/step - loss: 0.3674 - val_loss: 0.3649\n",
            "Epoch 20/100\n",
            "387/387 [==============================] - 1s 2ms/step - loss: 0.3651 - val_loss: 0.3661\n",
            "Epoch 21/100\n",
            "387/387 [==============================] - 1s 1ms/step - loss: 0.3633 - val_loss: 0.3674\n",
            "Epoch 22/100\n",
            "387/387 [==============================] - 1s 2ms/step - loss: 0.3627 - val_loss: 0.3659\n",
            "Epoch 23/100\n",
            "387/387 [==============================] - 1s 2ms/step - loss: 0.3617 - val_loss: 0.3665\n",
            "Epoch 24/100\n",
            "387/387 [==============================] - 1s 2ms/step - loss: 0.3603 - val_loss: 0.3621\n",
            "Epoch 25/100\n",
            "387/387 [==============================] - 1s 2ms/step - loss: 0.3588 - val_loss: 0.3609\n",
            "Epoch 26/100\n",
            "387/387 [==============================] - 1s 1ms/step - loss: 0.3571 - val_loss: 0.3608\n",
            "Epoch 27/100\n",
            "387/387 [==============================] - 1s 2ms/step - loss: 0.3558 - val_loss: 0.3622\n",
            "Epoch 28/100\n",
            "387/387 [==============================] - 0s 1ms/step - loss: 0.3559 - val_loss: 0.3648\n",
            "Epoch 29/100\n",
            "387/387 [==============================] - 0s 1ms/step - loss: 0.3551 - val_loss: 0.3573\n",
            "Epoch 30/100\n",
            "387/387 [==============================] - 0s 1ms/step - loss: 0.3526 - val_loss: 0.3605\n",
            "Epoch 31/100\n",
            "387/387 [==============================] - 0s 1ms/step - loss: 0.3516 - val_loss: 0.3624\n",
            "Epoch 32/100\n",
            "387/387 [==============================] - 0s 1ms/step - loss: 0.3525 - val_loss: 0.3751\n",
            "Epoch 33/100\n",
            "387/387 [==============================] - 0s 1ms/step - loss: 0.3528 - val_loss: 0.3613\n",
            "Epoch 34/100\n",
            "387/387 [==============================] - 0s 1ms/step - loss: 0.3512 - val_loss: 0.3561\n",
            "Epoch 35/100\n",
            "387/387 [==============================] - 0s 1ms/step - loss: 0.3522 - val_loss: 0.3546\n",
            "Epoch 36/100\n",
            "387/387 [==============================] - 0s 1ms/step - loss: 0.3506 - val_loss: 0.3596\n",
            "Epoch 37/100\n",
            "387/387 [==============================] - 0s 1ms/step - loss: 0.3507 - val_loss: 0.3603\n",
            "Epoch 38/100\n",
            "387/387 [==============================] - 0s 1ms/step - loss: 0.3495 - val_loss: 0.3593\n",
            "Epoch 39/100\n",
            "387/387 [==============================] - 0s 1ms/step - loss: 0.3486 - val_loss: 0.3546\n",
            "Epoch 40/100\n",
            "387/387 [==============================] - 0s 1ms/step - loss: 0.3492 - val_loss: 0.3575\n",
            "Epoch 41/100\n",
            "387/387 [==============================] - 0s 1ms/step - loss: 0.3469 - val_loss: 0.3553\n",
            "Epoch 42/100\n",
            "387/387 [==============================] - 0s 1ms/step - loss: 0.3479 - val_loss: 0.3595\n",
            "Epoch 43/100\n",
            "387/387 [==============================] - 0s 1ms/step - loss: 0.3471 - val_loss: 0.3573\n",
            "Epoch 44/100\n",
            "387/387 [==============================] - 0s 1ms/step - loss: 0.3462 - val_loss: 0.3559\n",
            "Epoch 45/100\n",
            "387/387 [==============================] - 0s 1ms/step - loss: 0.3463 - val_loss: 0.3544\n",
            "Epoch 46/100\n",
            "387/387 [==============================] - 0s 1ms/step - loss: 0.3457 - val_loss: 0.3587\n",
            "Epoch 47/100\n",
            "387/387 [==============================] - 0s 1ms/step - loss: 0.3456 - val_loss: 0.3528\n",
            "Epoch 48/100\n",
            "387/387 [==============================] - 0s 1ms/step - loss: 0.3452 - val_loss: 0.3551\n",
            "Epoch 49/100\n",
            "387/387 [==============================] - 0s 1ms/step - loss: 0.3441 - val_loss: 0.3518\n",
            "Epoch 50/100\n",
            "387/387 [==============================] - 0s 1ms/step - loss: 0.3436 - val_loss: 0.3538\n",
            "Epoch 51/100\n",
            "387/387 [==============================] - 0s 1ms/step - loss: 0.3433 - val_loss: 0.3607\n",
            "Epoch 52/100\n",
            "387/387 [==============================] - 0s 1ms/step - loss: 0.3430 - val_loss: 0.3586\n",
            "Epoch 53/100\n",
            "387/387 [==============================] - 1s 1ms/step - loss: 0.3435 - val_loss: 0.3528\n",
            "Epoch 54/100\n",
            "387/387 [==============================] - 0s 1ms/step - loss: 0.3421 - val_loss: 0.3556\n",
            "Epoch 55/100\n",
            "387/387 [==============================] - 0s 1ms/step - loss: 0.3413 - val_loss: 0.3556\n",
            "Epoch 56/100\n",
            "387/387 [==============================] - 0s 1ms/step - loss: 0.3407 - val_loss: 0.3502\n",
            "Epoch 57/100\n",
            "387/387 [==============================] - 0s 1ms/step - loss: 0.3412 - val_loss: 0.3521\n",
            "Epoch 58/100\n",
            "387/387 [==============================] - 0s 1ms/step - loss: 0.3416 - val_loss: 0.3555\n",
            "Epoch 59/100\n",
            "387/387 [==============================] - 0s 1ms/step - loss: 0.3409 - val_loss: 0.3564\n",
            "Epoch 60/100\n",
            "387/387 [==============================] - 0s 1ms/step - loss: 0.3420 - val_loss: 0.3557\n",
            "Epoch 61/100\n",
            "387/387 [==============================] - 0s 1ms/step - loss: 0.3399 - val_loss: 0.3529\n",
            "Epoch 62/100\n",
            "387/387 [==============================] - 0s 1ms/step - loss: 0.3408 - val_loss: 0.3697\n",
            "Epoch 63/100\n",
            "387/387 [==============================] - 0s 1ms/step - loss: 0.3411 - val_loss: 0.3627\n",
            "Epoch 64/100\n",
            "387/387 [==============================] - 0s 1ms/step - loss: 0.3384 - val_loss: 0.3481\n",
            "Epoch 65/100\n",
            "387/387 [==============================] - 0s 1ms/step - loss: 0.3402 - val_loss: 0.3553\n",
            "Epoch 66/100\n",
            "387/387 [==============================] - 0s 1ms/step - loss: 0.3379 - val_loss: 0.3480\n",
            "Epoch 67/100\n",
            "387/387 [==============================] - 0s 1ms/step - loss: 0.3379 - val_loss: 0.3525\n",
            "Epoch 68/100\n",
            "387/387 [==============================] - 0s 1ms/step - loss: 0.3392 - val_loss: 0.3459\n",
            "Epoch 69/100\n",
            "387/387 [==============================] - 0s 1ms/step - loss: 0.3390 - val_loss: 0.3465\n",
            "Epoch 70/100\n",
            "387/387 [==============================] - 0s 1ms/step - loss: 0.3375 - val_loss: 0.3477\n",
            "Epoch 71/100\n",
            "387/387 [==============================] - 1s 1ms/step - loss: 0.3364 - val_loss: 0.3497\n",
            "Epoch 72/100\n",
            "387/387 [==============================] - 0s 1ms/step - loss: 0.3358 - val_loss: 0.3460\n",
            "Epoch 73/100\n",
            "387/387 [==============================] - 0s 1ms/step - loss: 0.3377 - val_loss: 0.3481\n",
            "Epoch 74/100\n",
            "387/387 [==============================] - 0s 1ms/step - loss: 0.3359 - val_loss: 0.3457\n",
            "Epoch 75/100\n",
            "387/387 [==============================] - 0s 1ms/step - loss: 0.3356 - val_loss: 0.3463\n",
            "Epoch 76/100\n",
            "387/387 [==============================] - 0s 1ms/step - loss: 0.3363 - val_loss: 0.3470\n",
            "Epoch 77/100\n",
            "387/387 [==============================] - 0s 1ms/step - loss: 0.3354 - val_loss: 0.3479\n",
            "Epoch 78/100\n",
            "387/387 [==============================] - 0s 1ms/step - loss: 0.3345 - val_loss: 0.3495\n",
            "Epoch 79/100\n",
            "387/387 [==============================] - 0s 1ms/step - loss: 0.3344 - val_loss: 0.3467\n",
            "Epoch 80/100\n",
            "387/387 [==============================] - 0s 1ms/step - loss: 0.3335 - val_loss: 0.3493\n",
            "Epoch 81/100\n",
            "387/387 [==============================] - 0s 1ms/step - loss: 0.3339 - val_loss: 0.3447\n",
            "Epoch 82/100\n",
            "387/387 [==============================] - 0s 1ms/step - loss: 0.3339 - val_loss: 0.3515\n",
            "Epoch 83/100\n",
            "387/387 [==============================] - 0s 1ms/step - loss: 0.3335 - val_loss: 0.3487\n",
            "Epoch 84/100\n",
            "387/387 [==============================] - 0s 1ms/step - loss: 0.3310 - val_loss: 0.3504\n",
            "Epoch 85/100\n",
            "387/387 [==============================] - 0s 1ms/step - loss: 0.3327 - val_loss: 0.3461\n",
            "Epoch 86/100\n",
            "387/387 [==============================] - 0s 1ms/step - loss: 0.3321 - val_loss: 0.3456\n",
            "Epoch 87/100\n",
            "387/387 [==============================] - 0s 1ms/step - loss: 0.3332 - val_loss: 0.3459\n",
            "Epoch 88/100\n",
            "387/387 [==============================] - 0s 1ms/step - loss: 0.3314 - val_loss: 0.3486\n",
            "Epoch 89/100\n",
            "387/387 [==============================] - 0s 1ms/step - loss: 0.3312 - val_loss: 0.3449\n",
            "Epoch 90/100\n",
            "387/387 [==============================] - 0s 1ms/step - loss: 0.3320 - val_loss: 0.3484\n",
            "Epoch 91/100\n",
            "387/387 [==============================] - 0s 1ms/step - loss: 0.3313 - val_loss: 0.3490\n",
            "Epoch 92/100\n",
            "387/387 [==============================] - 0s 1ms/step - loss: 0.3315 - val_loss: 0.3486\n",
            "Epoch 93/100\n",
            "387/387 [==============================] - 0s 1ms/step - loss: 0.3324 - val_loss: 0.3472\n",
            "Epoch 94/100\n",
            "387/387 [==============================] - 0s 1ms/step - loss: 0.3302 - val_loss: 0.3447\n",
            "Epoch 95/100\n",
            "387/387 [==============================] - 1s 1ms/step - loss: 0.3291 - val_loss: 0.3492\n",
            "Epoch 96/100\n",
            "387/387 [==============================] - 1s 1ms/step - loss: 0.3301 - val_loss: 0.3453\n",
            "Epoch 97/100\n",
            "387/387 [==============================] - 0s 1ms/step - loss: 0.3303 - val_loss: 0.3460\n",
            "Epoch 98/100\n",
            "387/387 [==============================] - 1s 1ms/step - loss: 0.3290 - val_loss: 0.3435\n",
            "Epoch 99/100\n",
            "387/387 [==============================] - 0s 1ms/step - loss: 0.3288 - val_loss: 0.3419\n",
            "Epoch 100/100\n",
            "387/387 [==============================] - 0s 1ms/step - loss: 0.3305 - val_loss: 0.3405\n"
          ],
          "name": "stdout"
        }
      ]
    },
    {
      "cell_type": "code",
      "metadata": {
        "id": "t8TBZqfNy2xg",
        "colab_type": "code",
        "colab": {
          "base_uri": "https://localhost:8080/",
          "height": 51
        },
        "outputId": "3bf348a1-0018-4020-eefc-fbfe874404f2"
      },
      "source": [
        "model.evaluate(x_test, y_test)"
      ],
      "execution_count": 6,
      "outputs": [
        {
          "output_type": "stream",
          "text": [
            "162/162 [==============================] - 0s 782us/step - loss: 0.3400\n"
          ],
          "name": "stdout"
        },
        {
          "output_type": "execute_result",
          "data": {
            "text/plain": [
              "0.3400100767612457"
            ]
          },
          "metadata": {
            "tags": []
          },
          "execution_count": 6
        }
      ]
    },
    {
      "cell_type": "code",
      "metadata": {
        "id": "u1ZArjwpzIO5",
        "colab_type": "code",
        "colab": {
          "base_uri": "https://localhost:8080/",
          "height": 68
        },
        "outputId": "89977fa1-fd39-4f8a-aa9d-ed42af78d8b1"
      },
      "source": [
        "model.predict(x_test[:3])"
      ],
      "execution_count": 7,
      "outputs": [
        {
          "output_type": "execute_result",
          "data": {
            "text/plain": [
              "array([[1.4513059 ],\n",
              "       [0.92461073],\n",
              "       [2.728356  ]], dtype=float32)"
            ]
          },
          "metadata": {
            "tags": []
          },
          "execution_count": 7
        }
      ]
    },
    {
      "cell_type": "code",
      "metadata": {
        "id": "RQNDAnEc9Ot2",
        "colab_type": "code",
        "colab": {
          "base_uri": "https://localhost:8080/",
          "height": 34
        },
        "outputId": "08a1df79-28e2-4251-d1c5-6325b20454be"
      },
      "source": [
        "y_test[:3]"
      ],
      "execution_count": 8,
      "outputs": [
        {
          "output_type": "execute_result",
          "data": {
            "text/plain": [
              "array([1.198, 0.654, 3.512])"
            ]
          },
          "metadata": {
            "tags": []
          },
          "execution_count": 8
        }
      ]
    },
    {
      "cell_type": "code",
      "metadata": {
        "id": "E3z72uFU9vC7",
        "colab_type": "code",
        "colab": {
          "base_uri": "https://localhost:8080/",
          "height": 320
        },
        "outputId": "fdb5a9c5-e111-4d65-bdef-ea208558c728"
      },
      "source": [
        "import matplotlib.pyplot as plt\n",
        "import pandas as pd\n",
        "\n",
        "pd.DataFrame(history.history).plot(figsize=(8,5))\n",
        "plt.show()"
      ],
      "execution_count": 9,
      "outputs": [
        {
          "output_type": "display_data",
          "data": {
            "image/png": "[encoded data removed]",
            "text/plain": [
              "<Figure size 576x360 with 1 Axes>"
            ]
          },
          "metadata": {
            "tags": [],
            "needs_background": "light"
          }
        }
      ]
    },
    {
      "cell_type": "code",
      "metadata": {
        "id": "ZQV1nOW8fcda",
        "colab_type": "code",
        "colab": {
          "base_uri": "https://localhost:8080/",
          "height": 374
        },
        "outputId": "11b8eed7-3972-4bf8-9f2d-a9cfbc3bdd81"
      },
      "source": [
        "inputA = keras.layers.Input(shape=[5])\n",
        "inputB = keras.layers.Input(shape=[6])\n",
        "hidden1 = keras.layers.Dense(30, activation='relu')(inputB)\n",
        "hidden2 = keras.layers.Dense(10, activation='relu')(hidden1)\n",
        "concat = keras.layers.Concatenate()([inputA, hidden2])\n",
        "output = keras.layers.Dense(1)(concat)\n",
        "\n",
        "model = keras.Model(inputs=[inputA, inputB], outputs=[output])\n",
        "\n",
        "model.summary()"
      ],
      "execution_count": 10,
      "outputs": [
        {
          "output_type": "stream",
          "text": [
            "Model: \"functional_3\"\n",
            "__________________________________________________________________________________________________\n",
            "Layer (type)                    Output Shape         Param #     Connected to                     \n",
            "==================================================================================================\n",
            "input_3 (InputLayer)            [(None, 6)]          0                                            \n",
            "__________________________________________________________________________________________________\n",
            "dense_3 (Dense)                 (None, 30)           210         input_3[0][0]                    \n",
            "__________________________________________________________________________________________________\n",
            "input_2 (InputLayer)            [(None, 5)]          0                                            \n",
            "__________________________________________________________________________________________________\n",
            "dense_4 (Dense)                 (None, 10)           310         dense_3[0][0]                    \n",
            "__________________________________________________________________________________________________\n",
            "concatenate_1 (Concatenate)     (None, 15)           0           input_2[0][0]                    \n",
            "                                                                 dense_4[0][0]                    \n",
            "__________________________________________________________________________________________________\n",
            "dense_5 (Dense)                 (None, 1)            16          concatenate_1[0][0]              \n",
            "==================================================================================================\n",
            "Total params: 536\n",
            "Trainable params: 536\n",
            "Non-trainable params: 0\n",
            "__________________________________________________________________________________________________\n"
          ],
          "name": "stdout"
        }
      ]
    },
    {
      "cell_type": "code",
      "metadata": {
        "id": "bKPIwXWzgs1n",
        "colab_type": "code",
        "colab": {
          "base_uri": "https://localhost:8080/",
          "height": 1000
        },
        "outputId": "a67252ce-b1b7-4cd2-c314-b4847d915a17"
      },
      "source": [
        "model.compile(optimizer=keras.optimizers.SGD(lr=1e-3),\n",
        "              loss='mse')\n",
        "\n",
        "model.fit((x_train[:, :5], x_train[:, 2:]), y_train, epochs=30, validation_split=0.2)"
      ],
      "execution_count": 11,
      "outputs": [
        {
          "output_type": "stream",
          "text": [
            "Epoch 1/30\n",
            "387/387 [==============================] - 0s 1ms/step - loss: 2.0877 - val_loss: 0.9592\n",
            "Epoch 2/30\n",
            "387/387 [==============================] - 0s 1ms/step - loss: 0.7920 - val_loss: 0.7347\n",
            "Epoch 3/30\n",
            "387/387 [==============================] - 0s 1ms/step - loss: 0.6658 - val_loss: 0.6668\n",
            "Epoch 4/30\n",
            "387/387 [==============================] - 0s 1ms/step - loss: 0.6182 - val_loss: 0.6273\n",
            "Epoch 5/30\n",
            "387/387 [==============================] - 0s 1ms/step - loss: 0.5894 - val_loss: 0.5997\n",
            "Epoch 6/30\n",
            "387/387 [==============================] - 0s 1ms/step - loss: 0.5679 - val_loss: 0.5828\n",
            "Epoch 7/30\n",
            "387/387 [==============================] - 0s 1ms/step - loss: 0.5529 - val_loss: 0.5633\n",
            "Epoch 8/30\n",
            "387/387 [==============================] - 0s 1ms/step - loss: 0.5429 - val_loss: 0.5520\n",
            "Epoch 9/30\n",
            "387/387 [==============================] - 0s 1ms/step - loss: 0.5300 - val_loss: 0.5397\n",
            "Epoch 10/30\n",
            "387/387 [==============================] - 0s 1ms/step - loss: 0.5245 - val_loss: 0.5319\n",
            "Epoch 11/30\n",
            "387/387 [==============================] - 0s 1ms/step - loss: 0.5174 - val_loss: 0.5244\n",
            "Epoch 12/30\n",
            "387/387 [==============================] - 0s 1ms/step - loss: 0.5124 - val_loss: 0.5185\n",
            "Epoch 13/30\n",
            "387/387 [==============================] - 0s 1ms/step - loss: 0.5110 - val_loss: 0.5164\n",
            "Epoch 14/30\n",
            "387/387 [==============================] - 0s 1ms/step - loss: 0.5018 - val_loss: 0.5077\n",
            "Epoch 15/30\n",
            "387/387 [==============================] - 0s 1ms/step - loss: 0.4984 - val_loss: 0.5031\n",
            "Epoch 16/30\n",
            "387/387 [==============================] - 0s 1ms/step - loss: 0.4961 - val_loss: 0.5020\n",
            "Epoch 17/30\n",
            "387/387 [==============================] - 0s 1ms/step - loss: 0.4914 - val_loss: 0.4967\n",
            "Epoch 18/30\n",
            "387/387 [==============================] - 0s 1ms/step - loss: 0.4887 - val_loss: 0.5016\n",
            "Epoch 19/30\n",
            "387/387 [==============================] - 0s 1ms/step - loss: 0.4861 - val_loss: 0.4953\n",
            "Epoch 20/30\n",
            "387/387 [==============================] - 0s 1ms/step - loss: 0.4815 - val_loss: 0.4864\n",
            "Epoch 21/30\n",
            "387/387 [==============================] - 0s 1ms/step - loss: 0.4817 - val_loss: 0.4865\n",
            "Epoch 22/30\n",
            "387/387 [==============================] - 0s 1ms/step - loss: 0.4799 - val_loss: 0.4830\n",
            "Epoch 23/30\n",
            "387/387 [==============================] - 0s 1ms/step - loss: 0.4772 - val_loss: 0.4797\n",
            "Epoch 24/30\n",
            "387/387 [==============================] - 0s 1ms/step - loss: 0.4738 - val_loss: 0.4767\n",
            "Epoch 25/30\n",
            "387/387 [==============================] - 0s 1ms/step - loss: 0.4718 - val_loss: 0.4749\n",
            "Epoch 26/30\n",
            "387/387 [==============================] - 0s 1ms/step - loss: 0.4691 - val_loss: 0.4742\n",
            "Epoch 27/30\n",
            "387/387 [==============================] - 0s 1ms/step - loss: 0.4711 - val_loss: 0.4719\n",
            "Epoch 28/30\n",
            "387/387 [==============================] - 0s 1ms/step - loss: 0.4659 - val_loss: 0.4713\n",
            "Epoch 29/30\n",
            "387/387 [==============================] - 0s 1ms/step - loss: 0.4634 - val_loss: 0.4671\n",
            "Epoch 30/30\n",
            "387/387 [==============================] - 0s 1ms/step - loss: 0.4638 - val_loss: 0.4710\n"
          ],
          "name": "stdout"
        },
        {
          "output_type": "execute_result",
          "data": {
            "text/plain": [
              "<tensorflow.python.keras.callbacks.History at 0x7fdc58ad0e80>"
            ]
          },
          "metadata": {
            "tags": []
          },
          "execution_count": 11
        }
      ]
    },
    {
      "cell_type": "code",
      "metadata": {
        "id": "dwLzoNIwiC0l",
        "colab_type": "code",
        "colab": {
          "base_uri": "https://localhost:8080/",
          "height": 51
        },
        "outputId": "c4ca9a81-9202-4a4a-d564-068c733550d4"
      },
      "source": [
        "model.evaluate([x_test[:, :5], x_test[:, 2:]], y_test)"
      ],
      "execution_count": 12,
      "outputs": [
        {
          "output_type": "stream",
          "text": [
            "162/162 [==============================] - 0s 798us/step - loss: 0.4741\n"
          ],
          "name": "stdout"
        },
        {
          "output_type": "execute_result",
          "data": {
            "text/plain": [
              "0.474107950925827"
            ]
          },
          "metadata": {
            "tags": []
          },
          "execution_count": 12
        }
      ]
    },
    {
      "cell_type": "code",
      "metadata": {
        "id": "IpXsbti0lAqX",
        "colab_type": "code",
        "colab": {
          "base_uri": "https://localhost:8080/",
          "height": 408
        },
        "outputId": "9061880d-444f-4777-ed24-02654115a246"
      },
      "source": [
        "main_output = keras.layers.Dense(1, name='main_output')(concat)\n",
        "aux_output = keras.layers.Dense(1, name='aux_output')(hidden2)\n",
        "\n",
        "model = keras.Model(inputs=[inputA, inputB], outputs=[main_output, aux_output])\n",
        "\n",
        "model.summary()"
      ],
      "execution_count": 13,
      "outputs": [
        {
          "output_type": "stream",
          "text": [
            "Model: \"functional_5\"\n",
            "__________________________________________________________________________________________________\n",
            "Layer (type)                    Output Shape         Param #     Connected to                     \n",
            "==================================================================================================\n",
            "input_3 (InputLayer)            [(None, 6)]          0                                            \n",
            "__________________________________________________________________________________________________\n",
            "dense_3 (Dense)                 (None, 30)           210         input_3[0][0]                    \n",
            "__________________________________________________________________________________________________\n",
            "input_2 (InputLayer)            [(None, 5)]          0                                            \n",
            "__________________________________________________________________________________________________\n",
            "dense_4 (Dense)                 (None, 10)           310         dense_3[0][0]                    \n",
            "__________________________________________________________________________________________________\n",
            "concatenate_1 (Concatenate)     (None, 15)           0           input_2[0][0]                    \n",
            "                                                                 dense_4[0][0]                    \n",
            "__________________________________________________________________________________________________\n",
            "main_output (Dense)             (None, 1)            16          concatenate_1[0][0]              \n",
            "__________________________________________________________________________________________________\n",
            "aux_output (Dense)              (None, 1)            11          dense_4[0][0]                    \n",
            "==================================================================================================\n",
            "Total params: 547\n",
            "Trainable params: 547\n",
            "Non-trainable params: 0\n",
            "__________________________________________________________________________________________________\n"
          ],
          "name": "stdout"
        }
      ]
    },
    {
      "cell_type": "code",
      "metadata": {
        "id": "Yf1Cs0RDlixH",
        "colab_type": "code",
        "colab": {
          "base_uri": "https://localhost:8080/",
          "height": 1000
        },
        "outputId": "2470a2b2-6d3e-487b-b72e-58c0a1b1214c"
      },
      "source": [
        "model.compile(optimizer=keras.optimizers.SGD(lr=1e-3),\n",
        "              loss=['mse', 'mse'], loss_weights=[0.9, 0.1])\n",
        "\n",
        "model.fit((x_train[:, :5], x_train[:, 2:]), (y_train, y_train), epochs=30, validation_split=0.2)"
      ],
      "execution_count": 14,
      "outputs": [
        {
          "output_type": "stream",
          "text": [
            "Epoch 1/30\n",
            "387/387 [==============================] - 1s 2ms/step - loss: 2.3393 - main_output_loss: 2.0731 - aux_output_loss: 4.7353 - val_loss: 1.0067 - val_main_output_loss: 0.7374 - val_aux_output_loss: 3.4299\n",
            "Epoch 2/30\n",
            "387/387 [==============================] - 1s 1ms/step - loss: 0.8090 - main_output_loss: 0.6164 - aux_output_loss: 2.5422 - val_loss: 0.7008 - val_main_output_loss: 0.5551 - val_aux_output_loss: 2.0117\n",
            "Epoch 3/30\n",
            "387/387 [==============================] - 1s 1ms/step - loss: 0.6332 - main_output_loss: 0.5138 - aux_output_loss: 1.7079 - val_loss: 0.6210 - val_main_output_loss: 0.5159 - val_aux_output_loss: 1.5667\n",
            "Epoch 4/30\n",
            "387/387 [==============================] - 0s 1ms/step - loss: 0.5840 - main_output_loss: 0.4896 - aux_output_loss: 1.4338 - val_loss: 0.5807 - val_main_output_loss: 0.4895 - val_aux_output_loss: 1.4016\n",
            "Epoch 5/30\n",
            "387/387 [==============================] - 0s 1ms/step - loss: 0.5645 - main_output_loss: 0.4813 - aux_output_loss: 1.3129 - val_loss: 0.5665 - val_main_output_loss: 0.4842 - val_aux_output_loss: 1.3064\n",
            "Epoch 6/30\n",
            "387/387 [==============================] - 1s 1ms/step - loss: 0.5553 - main_output_loss: 0.4797 - aux_output_loss: 1.2350 - val_loss: 0.5571 - val_main_output_loss: 0.4812 - val_aux_output_loss: 1.2400\n",
            "Epoch 7/30\n",
            "387/387 [==============================] - 0s 1ms/step - loss: 0.5440 - main_output_loss: 0.4735 - aux_output_loss: 1.1779 - val_loss: 0.5483 - val_main_output_loss: 0.4773 - val_aux_output_loss: 1.1873\n",
            "Epoch 8/30\n",
            "387/387 [==============================] - 0s 1ms/step - loss: 0.5371 - main_output_loss: 0.4711 - aux_output_loss: 1.1315 - val_loss: 0.5448 - val_main_output_loss: 0.4783 - val_aux_output_loss: 1.1430\n",
            "Epoch 9/30\n",
            "387/387 [==============================] - 0s 1ms/step - loss: 0.5316 - main_output_loss: 0.4692 - aux_output_loss: 1.0931 - val_loss: 0.5358 - val_main_output_loss: 0.4726 - val_aux_output_loss: 1.1052\n",
            "Epoch 10/30\n",
            "387/387 [==============================] - 1s 1ms/step - loss: 0.5256 - main_output_loss: 0.4663 - aux_output_loss: 1.0586 - val_loss: 0.5335 - val_main_output_loss: 0.4736 - val_aux_output_loss: 1.0722\n",
            "Epoch 11/30\n",
            "387/387 [==============================] - 1s 1ms/step - loss: 0.5211 - main_output_loss: 0.4647 - aux_output_loss: 1.0283 - val_loss: 0.5259 - val_main_output_loss: 0.4682 - val_aux_output_loss: 1.0452\n",
            "Epoch 12/30\n",
            "387/387 [==============================] - 0s 1ms/step - loss: 0.5168 - main_output_loss: 0.4628 - aux_output_loss: 1.0027 - val_loss: 0.5213 - val_main_output_loss: 0.4661 - val_aux_output_loss: 1.0181\n",
            "Epoch 13/30\n",
            "387/387 [==============================] - 0s 1ms/step - loss: 0.5125 - main_output_loss: 0.4608 - aux_output_loss: 0.9784 - val_loss: 0.5171 - val_main_output_loss: 0.4640 - val_aux_output_loss: 0.9949\n",
            "Epoch 14/30\n",
            "387/387 [==============================] - 0s 1ms/step - loss: 0.5093 - main_output_loss: 0.4596 - aux_output_loss: 0.9573 - val_loss: 0.5140 - val_main_output_loss: 0.4631 - val_aux_output_loss: 0.9724\n",
            "Epoch 15/30\n",
            "387/387 [==============================] - 0s 1ms/step - loss: 0.5056 - main_output_loss: 0.4577 - aux_output_loss: 0.9370 - val_loss: 0.5105 - val_main_output_loss: 0.4613 - val_aux_output_loss: 0.9537\n",
            "Epoch 16/30\n",
            "387/387 [==============================] - 0s 1ms/step - loss: 0.5023 - main_output_loss: 0.4562 - aux_output_loss: 0.9179 - val_loss: 0.5076 - val_main_output_loss: 0.4599 - val_aux_output_loss: 0.9368\n",
            "Epoch 17/30\n",
            "387/387 [==============================] - 0s 1ms/step - loss: 0.4995 - main_output_loss: 0.4549 - aux_output_loss: 0.9018 - val_loss: 0.5051 - val_main_output_loss: 0.4590 - val_aux_output_loss: 0.9206\n",
            "Epoch 18/30\n",
            "387/387 [==============================] - 0s 1ms/step - loss: 0.4968 - main_output_loss: 0.4536 - aux_output_loss: 0.8857 - val_loss: 0.5021 - val_main_output_loss: 0.4573 - val_aux_output_loss: 0.9046\n",
            "Epoch 19/30\n",
            "387/387 [==============================] - 0s 1ms/step - loss: 0.4940 - main_output_loss: 0.4521 - aux_output_loss: 0.8713 - val_loss: 0.4985 - val_main_output_loss: 0.4549 - val_aux_output_loss: 0.8907\n",
            "Epoch 20/30\n",
            "387/387 [==============================] - 0s 1ms/step - loss: 0.4918 - main_output_loss: 0.4512 - aux_output_loss: 0.8571 - val_loss: 0.4959 - val_main_output_loss: 0.4535 - val_aux_output_loss: 0.8779\n",
            "Epoch 21/30\n",
            "387/387 [==============================] - 0s 1ms/step - loss: 0.4893 - main_output_loss: 0.4498 - aux_output_loss: 0.8450 - val_loss: 0.4960 - val_main_output_loss: 0.4549 - val_aux_output_loss: 0.8655\n",
            "Epoch 22/30\n",
            "387/387 [==============================] - 0s 1ms/step - loss: 0.4870 - main_output_loss: 0.4485 - aux_output_loss: 0.8340 - val_loss: 0.4909 - val_main_output_loss: 0.4506 - val_aux_output_loss: 0.8543\n",
            "Epoch 23/30\n",
            "387/387 [==============================] - 0s 1ms/step - loss: 0.4847 - main_output_loss: 0.4471 - aux_output_loss: 0.8224 - val_loss: 0.4893 - val_main_output_loss: 0.4500 - val_aux_output_loss: 0.8433\n",
            "Epoch 24/30\n",
            "387/387 [==============================] - 0s 1ms/step - loss: 0.4826 - main_output_loss: 0.4461 - aux_output_loss: 0.8114 - val_loss: 0.4869 - val_main_output_loss: 0.4484 - val_aux_output_loss: 0.8335\n",
            "Epoch 25/30\n",
            "387/387 [==============================] - 1s 1ms/step - loss: 0.4811 - main_output_loss: 0.4455 - aux_output_loss: 0.8017 - val_loss: 0.4857 - val_main_output_loss: 0.4481 - val_aux_output_loss: 0.8243\n",
            "Epoch 26/30\n",
            "387/387 [==============================] - 0s 1ms/step - loss: 0.4790 - main_output_loss: 0.4441 - aux_output_loss: 0.7930 - val_loss: 0.4829 - val_main_output_loss: 0.4459 - val_aux_output_loss: 0.8158\n",
            "Epoch 27/30\n",
            "387/387 [==============================] - 0s 1ms/step - loss: 0.4772 - main_output_loss: 0.4432 - aux_output_loss: 0.7838 - val_loss: 0.4823 - val_main_output_loss: 0.4462 - val_aux_output_loss: 0.8074\n",
            "Epoch 28/30\n",
            "387/387 [==============================] - 1s 1ms/step - loss: 0.4754 - main_output_loss: 0.4419 - aux_output_loss: 0.7763 - val_loss: 0.4796 - val_main_output_loss: 0.4439 - val_aux_output_loss: 0.8001\n",
            "Epoch 29/30\n",
            "387/387 [==============================] - 0s 1ms/step - loss: 0.4736 - main_output_loss: 0.4409 - aux_output_loss: 0.7681 - val_loss: 0.4780 - val_main_output_loss: 0.4430 - val_aux_output_loss: 0.7932\n",
            "Epoch 30/30\n",
            "387/387 [==============================] - 0s 1ms/step - loss: 0.4723 - main_output_loss: 0.4402 - aux_output_loss: 0.7616 - val_loss: 0.4762 - val_main_output_loss: 0.4417 - val_aux_output_loss: 0.7865\n"
          ],
          "name": "stdout"
        },
        {
          "output_type": "execute_result",
          "data": {
            "text/plain": [
              "<tensorflow.python.keras.callbacks.History at 0x7fdc57124208>"
            ]
          },
          "metadata": {
            "tags": []
          },
          "execution_count": 14
        }
      ]
    },
    {
      "cell_type": "code",
      "metadata": {
        "id": "Qzgv5EuimGy-",
        "colab_type": "code",
        "colab": {}
      },
      "source": [
        "model.save('my_keras_model.h5')"
      ],
      "execution_count": 15,
      "outputs": []
    },
    {
      "cell_type": "code",
      "metadata": {
        "id": "1_3ylrDsqJwE",
        "colab_type": "code",
        "colab": {
          "base_uri": "https://localhost:8080/",
          "height": 102
        },
        "outputId": "8ca09d9b-754a-4005-dcca-08c93e1c12cd"
      },
      "source": [
        "loaded_model = keras.models.load_model('my_keras_model.h5')\n",
        "\n",
        "loaded_model.predict((x_test[:3, :5], x_test[:3, 2:]))"
      ],
      "execution_count": 16,
      "outputs": [
        {
          "output_type": "execute_result",
          "data": {
            "text/plain": [
              "[array([[2.031191 ],\n",
              "        [1.1077117],\n",
              "        [2.8688133]], dtype=float32), array([[2.1748471],\n",
              "        [1.516974 ],\n",
              "        [2.4558125]], dtype=float32)]"
            ]
          },
          "metadata": {
            "tags": []
          },
          "execution_count": 16
        }
      ]
    },
    {
      "cell_type": "markdown",
      "metadata": {
        "id": "Ps1KKjiSuB3Z",
        "colab_type": "text"
      },
      "source": [
        "# **Subclassing API**"
      ]
    },
    {
      "cell_type": "code",
      "metadata": {
        "id": "YSsGuhrAqjbh",
        "colab_type": "code",
        "colab": {}
      },
      "source": [
        "class WideAndDeepModel(keras.Model):\n",
        "    def __init__(self, units=30, activation='relu', **kwargs):\n",
        "        super().__init__(**kwargs) # for arguements like name\n",
        "        self.hidden1 = keras.layers.Dense(units, activation)\n",
        "        self.hidden2 = keras.layers.Dense(units, activation)\n",
        "        self.main_output = keras.layers.Dense(1, name='main_output')\n",
        "        self.aux_output = keras.layers.Dense(1, name='aux_output')\n",
        "\n",
        "    def call(self, inputs):\n",
        "        inputA, inputB = inputs\n",
        "        hidden1 = self.hidden1(inputA)\n",
        "        hidden2 = self.hidden2(hidden1)\n",
        "        concat = keras.layers.Concatenate()([hidden2, inputB])\n",
        "        main_output = self.main_output(concat)\n",
        "        aux_output = self.aux_output(hidden2)\n",
        "\n",
        "        return main_output, aux_output\n",
        "\n",
        "\n",
        "model = WideAndDeepModel()"
      ],
      "execution_count": 30,
      "outputs": []
    },
    {
      "cell_type": "code",
      "metadata": {
        "id": "3Xw9naP7slT-",
        "colab_type": "code",
        "colab": {
          "base_uri": "https://localhost:8080/",
          "height": 1000
        },
        "outputId": "c13f6d2c-c6c3-42ff-f5f9-a436a8c80da7"
      },
      "source": [
        "model.compile(optimizer=keras.optimizers.SGD(lr=1e-3),\n",
        "              loss=['mse', 'mse'], loss_weights=[0.9, 0.1])\n",
        "\n",
        "model.fit((x_train[:, :5], x_train[:, 2:]), (y_train, y_train), epochs=30, validation_split=0.2)"
      ],
      "execution_count": 31,
      "outputs": [
        {
          "output_type": "stream",
          "text": [
            "Epoch 1/30\n",
            "387/387 [==============================] - 1s 2ms/step - loss: 2.0556 - output_1_loss: 1.8080 - output_2_loss: 4.2839 - val_loss: 1.1458 - val_output_1_loss: 0.9271 - val_output_2_loss: 3.1136\n",
            "Epoch 2/30\n",
            "387/387 [==============================] - 0s 1ms/step - loss: 0.9651 - output_1_loss: 0.8088 - output_2_loss: 2.3716 - val_loss: 0.9171 - val_output_1_loss: 0.8103 - val_output_2_loss: 1.8781\n",
            "Epoch 3/30\n",
            "387/387 [==============================] - 0s 1ms/step - loss: 0.8189 - output_1_loss: 0.7420 - output_2_loss: 1.5112 - val_loss: 0.8077 - val_output_1_loss: 0.7527 - val_output_2_loss: 1.3026\n",
            "Epoch 4/30\n",
            "387/387 [==============================] - 0s 1ms/step - loss: 0.7380 - output_1_loss: 0.6967 - output_2_loss: 1.1103 - val_loss: 0.7406 - val_output_1_loss: 0.7093 - val_output_2_loss: 1.0229\n",
            "Epoch 5/30\n",
            "387/387 [==============================] - 1s 1ms/step - loss: 0.6874 - output_1_loss: 0.6619 - output_2_loss: 0.9168 - val_loss: 0.6947 - val_output_1_loss: 0.6731 - val_output_2_loss: 0.8886\n",
            "Epoch 6/30\n",
            "387/387 [==============================] - 0s 1ms/step - loss: 0.6522 - output_1_loss: 0.6337 - output_2_loss: 0.8190 - val_loss: 0.6622 - val_output_1_loss: 0.6449 - val_output_2_loss: 0.8186\n",
            "Epoch 7/30\n",
            "387/387 [==============================] - 0s 1ms/step - loss: 0.6266 - output_1_loss: 0.6110 - output_2_loss: 0.7671 - val_loss: 0.6391 - val_output_1_loss: 0.6235 - val_output_2_loss: 0.7789\n",
            "Epoch 8/30\n",
            "387/387 [==============================] - 0s 1ms/step - loss: 0.6073 - output_1_loss: 0.5929 - output_2_loss: 0.7368 - val_loss: 0.6185 - val_output_1_loss: 0.6033 - val_output_2_loss: 0.7552\n",
            "Epoch 9/30\n",
            "387/387 [==============================] - 0s 1ms/step - loss: 0.5912 - output_1_loss: 0.5772 - output_2_loss: 0.7165 - val_loss: 0.6025 - val_output_1_loss: 0.5875 - val_output_2_loss: 0.7370\n",
            "Epoch 10/30\n",
            "387/387 [==============================] - 0s 1ms/step - loss: 0.5778 - output_1_loss: 0.5641 - output_2_loss: 0.7014 - val_loss: 0.5893 - val_output_1_loss: 0.5743 - val_output_2_loss: 0.7245\n",
            "Epoch 11/30\n",
            "387/387 [==============================] - 0s 1ms/step - loss: 0.5681 - output_1_loss: 0.5545 - output_2_loss: 0.6905 - val_loss: 0.5802 - val_output_1_loss: 0.5654 - val_output_2_loss: 0.7131\n",
            "Epoch 12/30\n",
            "387/387 [==============================] - 0s 1ms/step - loss: 0.5602 - output_1_loss: 0.5467 - output_2_loss: 0.6817 - val_loss: 0.5699 - val_output_1_loss: 0.5549 - val_output_2_loss: 0.7042\n",
            "Epoch 13/30\n",
            "387/387 [==============================] - 0s 1ms/step - loss: 0.5528 - output_1_loss: 0.5393 - output_2_loss: 0.6746 - val_loss: 0.5600 - val_output_1_loss: 0.5449 - val_output_2_loss: 0.6964\n",
            "Epoch 14/30\n",
            "387/387 [==============================] - 0s 1ms/step - loss: 0.5479 - output_1_loss: 0.5345 - output_2_loss: 0.6683 - val_loss: 0.5544 - val_output_1_loss: 0.5393 - val_output_2_loss: 0.6902\n",
            "Epoch 15/30\n",
            "387/387 [==============================] - 1s 1ms/step - loss: 0.5424 - output_1_loss: 0.5289 - output_2_loss: 0.6637 - val_loss: 0.5483 - val_output_1_loss: 0.5331 - val_output_2_loss: 0.6847\n",
            "Epoch 16/30\n",
            "387/387 [==============================] - 0s 1ms/step - loss: 0.5368 - output_1_loss: 0.5232 - output_2_loss: 0.6590 - val_loss: 0.5449 - val_output_1_loss: 0.5299 - val_output_2_loss: 0.6802\n",
            "Epoch 17/30\n",
            "387/387 [==============================] - 0s 1ms/step - loss: 0.5331 - output_1_loss: 0.5196 - output_2_loss: 0.6551 - val_loss: 0.5404 - val_output_1_loss: 0.5253 - val_output_2_loss: 0.6760\n",
            "Epoch 18/30\n",
            "387/387 [==============================] - 0s 1ms/step - loss: 0.5286 - output_1_loss: 0.5150 - output_2_loss: 0.6514 - val_loss: 0.5349 - val_output_1_loss: 0.5198 - val_output_2_loss: 0.6714\n",
            "Epoch 19/30\n",
            "387/387 [==============================] - 0s 1ms/step - loss: 0.5278 - output_1_loss: 0.5144 - output_2_loss: 0.6485 - val_loss: 0.5329 - val_output_1_loss: 0.5178 - val_output_2_loss: 0.6682\n",
            "Epoch 20/30\n",
            "387/387 [==============================] - 0s 1ms/step - loss: 0.5243 - output_1_loss: 0.5109 - output_2_loss: 0.6453 - val_loss: 0.5399 - val_output_1_loss: 0.5257 - val_output_2_loss: 0.6668\n",
            "Epoch 21/30\n",
            "387/387 [==============================] - 0s 1ms/step - loss: 0.5214 - output_1_loss: 0.5079 - output_2_loss: 0.6429 - val_loss: 0.5266 - val_output_1_loss: 0.5116 - val_output_2_loss: 0.6615\n",
            "Epoch 22/30\n",
            "387/387 [==============================] - 0s 1ms/step - loss: 0.5203 - output_1_loss: 0.5069 - output_2_loss: 0.6406 - val_loss: 0.5238 - val_output_1_loss: 0.5089 - val_output_2_loss: 0.6585\n",
            "Epoch 23/30\n",
            "387/387 [==============================] - 0s 1ms/step - loss: 0.5185 - output_1_loss: 0.5052 - output_2_loss: 0.6374 - val_loss: 0.5220 - val_output_1_loss: 0.5071 - val_output_2_loss: 0.6560\n",
            "Epoch 24/30\n",
            "387/387 [==============================] - 0s 1ms/step - loss: 0.5168 - output_1_loss: 0.5037 - output_2_loss: 0.6349 - val_loss: 0.5285 - val_output_1_loss: 0.5144 - val_output_2_loss: 0.6553\n",
            "Epoch 25/30\n",
            "387/387 [==============================] - 0s 1ms/step - loss: 0.5117 - output_1_loss: 0.4983 - output_2_loss: 0.6320 - val_loss: 0.5182 - val_output_1_loss: 0.5035 - val_output_2_loss: 0.6505\n",
            "Epoch 26/30\n",
            "387/387 [==============================] - 0s 1ms/step - loss: 0.5135 - output_1_loss: 0.5005 - output_2_loss: 0.6307 - val_loss: 0.5158 - val_output_1_loss: 0.5012 - val_output_2_loss: 0.6479\n",
            "Epoch 27/30\n",
            "387/387 [==============================] - 0s 1ms/step - loss: 0.5119 - output_1_loss: 0.4989 - output_2_loss: 0.6287 - val_loss: 0.5146 - val_output_1_loss: 0.5000 - val_output_2_loss: 0.6459\n",
            "Epoch 28/30\n",
            "387/387 [==============================] - 1s 1ms/step - loss: 0.5107 - output_1_loss: 0.4978 - output_2_loss: 0.6265 - val_loss: 0.5131 - val_output_1_loss: 0.4985 - val_output_2_loss: 0.6438\n",
            "Epoch 29/30\n",
            "387/387 [==============================] - 0s 1ms/step - loss: 0.5077 - output_1_loss: 0.4946 - output_2_loss: 0.6250 - val_loss: 0.5113 - val_output_1_loss: 0.4968 - val_output_2_loss: 0.6412\n",
            "Epoch 30/30\n",
            "387/387 [==============================] - 1s 1ms/step - loss: 0.5068 - output_1_loss: 0.4938 - output_2_loss: 0.6233 - val_loss: 0.5100 - val_output_1_loss: 0.4957 - val_output_2_loss: 0.6390\n"
          ],
          "name": "stdout"
        },
        {
          "output_type": "execute_result",
          "data": {
            "text/plain": [
              "<tensorflow.python.keras.callbacks.History at 0x7fdc55546f28>"
            ]
          },
          "metadata": {
            "tags": []
          },
          "execution_count": 31
        }
      ]
    }
  ]
}