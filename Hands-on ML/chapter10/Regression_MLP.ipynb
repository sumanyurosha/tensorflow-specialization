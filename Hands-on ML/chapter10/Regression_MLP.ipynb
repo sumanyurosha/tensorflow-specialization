{
  "nbformat": 4,
  "nbformat_minor": 0,
  "metadata": {
    "colab": {
      "name": "Regression MLP.ipynb",
      "provenance": [],
      "authorship_tag": "ABX9TyOaOpWnCGIyWD9iP2rSmD3V",
      "include_colab_link": true
    },
    "kernelspec": {
      "name": "python3",
      "display_name": "Python 3"
    }
  },
  "cells": [
    {
      "cell_type": "markdown",
      "metadata": {
        "id": "view-in-github",
        "colab_type": "text"
      },
      "source": [
        "<a href=\"https://colab.research.google.com/github/sumanyurosha/tensorflow-specialization/blob/master/Hands-on%20ML/chapter10/Regression_MLP.ipynb\" target=\"_parent\"><img src=\"https://colab.research.google.com/assets/colab-badge.svg\" alt=\"Open In Colab\"/></a>"
      ]
    },
    {
      "cell_type": "code",
      "metadata": {
        "id": "hLEER-j5lgm2",
        "colab_type": "code",
        "colab": {}
      },
      "source": [
        "from sklearn.datasets import fetch_california_housing\n",
        "from sklearn.model_selection import train_test_split\n",
        "from sklearn.preprocessing import StandardScaler"
      ],
      "execution_count": 2,
      "outputs": []
    },
    {
      "cell_type": "code",
      "metadata": {
        "id": "0h2gBkWLl26Q",
        "colab_type": "code",
        "colab": {}
      },
      "source": [
        "housing_data = fetch_california_housing()\n",
        "\n",
        "x_train, x_test, y_train, y_test = train_test_split(housing_data.data, housing_data.target)\n",
        "\n",
        "scalar = StandardScaler()\n",
        "x_train = scalar.fit_transform(x_train)\n",
        "x_test = scalar.transform(x_test)"
      ],
      "execution_count": 4,
      "outputs": []
    },
    {
      "cell_type": "code",
      "metadata": {
        "id": "zZu5s_M1n2Qt",
        "colab_type": "code",
        "colab": {
          "base_uri": "https://localhost:8080/",
          "height": 34
        },
        "outputId": "99be7386-1d02-4e36-8edc-07b84ece793e"
      },
      "source": [
        "print(x_train.shape, y_train.shape)"
      ],
      "execution_count": 5,
      "outputs": [
        {
          "output_type": "stream",
          "text": [
            "(15480, 8) (15480,)\n"
          ],
          "name": "stdout"
        }
      ]
    },
    {
      "cell_type": "code",
      "metadata": {
        "id": "p8I5TpRQoCfe",
        "colab_type": "code",
        "colab": {
          "base_uri": "https://localhost:8080/",
          "height": 51
        },
        "outputId": "704686a6-c1ca-4a82-fa6e-a37948cd21e5"
      },
      "source": [
        "print(x_train[0])"
      ],
      "execution_count": 6,
      "outputs": [
        {
          "output_type": "stream",
          "text": [
            "[-0.86438449  0.18724678 -0.18861684  0.25792779  0.50302256  0.01992636\n",
            " -0.13357891  0.28317713]\n"
          ],
          "name": "stdout"
        }
      ]
    },
    {
      "cell_type": "code",
      "metadata": {
        "id": "bediLnEToHMR",
        "colab_type": "code",
        "colab": {
          "base_uri": "https://localhost:8080/",
          "height": 34
        },
        "outputId": "7256af70-be25-47a9-a778-b0dffc75b29e"
      },
      "source": [
        "y_train[0]"
      ],
      "execution_count": 7,
      "outputs": [
        {
          "output_type": "execute_result",
          "data": {
            "text/plain": [
              "0.621"
            ]
          },
          "metadata": {
            "tags": []
          },
          "execution_count": 7
        }
      ]
    },
    {
      "cell_type": "code",
      "metadata": {
        "id": "n644lz0NoJ5I",
        "colab_type": "code",
        "colab": {
          "base_uri": "https://localhost:8080/",
          "height": 221
        },
        "outputId": "1b0771f4-ec19-411b-96be-37916c45f1b1"
      },
      "source": [
        "from tensorflow import keras\n",
        "\n",
        "model = keras.models.Sequential([\n",
        "    keras.layers.Dense(30, activation='relu', input_shape=x_train.shape[1:]),\n",
        "    keras.layers.Dense(1)\n",
        "])\n",
        "\n",
        "model.summary()"
      ],
      "execution_count": 9,
      "outputs": [
        {
          "output_type": "stream",
          "text": [
            "Model: \"sequential\"\n",
            "_________________________________________________________________\n",
            "Layer (type)                 Output Shape              Param #   \n",
            "=================================================================\n",
            "dense_2 (Dense)              (None, 30)                270       \n",
            "_________________________________________________________________\n",
            "dense_3 (Dense)              (None, 1)                 31        \n",
            "=================================================================\n",
            "Total params: 301\n",
            "Trainable params: 301\n",
            "Non-trainable params: 0\n",
            "_________________________________________________________________\n"
          ],
          "name": "stdout"
        }
      ]
    },
    {
      "cell_type": "code",
      "metadata": {
        "id": "UqnoJarUosPu",
        "colab_type": "code",
        "colab": {
          "base_uri": "https://localhost:8080/",
          "height": 697
        },
        "outputId": "34a4fd9d-067d-4301-9dbb-cb734bf046c4"
      },
      "source": [
        "model.compile(optimizer='sgd',\n",
        "              loss='mse')\n",
        "\n",
        "history = model.fit(x_train, y_train, epochs=20, validation_split=0.2)"
      ],
      "execution_count": 12,
      "outputs": [
        {
          "output_type": "stream",
          "text": [
            "Epoch 1/20\n",
            "387/387 [==============================] - 0s 1ms/step - loss: 0.4625 - val_loss: 0.4238\n",
            "Epoch 2/20\n",
            "387/387 [==============================] - 0s 1ms/step - loss: 0.4304 - val_loss: 0.4262\n",
            "Epoch 3/20\n",
            "387/387 [==============================] - 0s 1ms/step - loss: 0.6027 - val_loss: 0.4099\n",
            "Epoch 4/20\n",
            "387/387 [==============================] - 0s 976us/step - loss: 0.4164 - val_loss: 0.3855\n",
            "Epoch 5/20\n",
            "387/387 [==============================] - 0s 1ms/step - loss: 0.3978 - val_loss: 0.3931\n",
            "Epoch 6/20\n",
            "387/387 [==============================] - 0s 997us/step - loss: 0.3949 - val_loss: 0.3769\n",
            "Epoch 7/20\n",
            "387/387 [==============================] - 0s 1ms/step - loss: 0.3871 - val_loss: 0.3729\n",
            "Epoch 8/20\n",
            "387/387 [==============================] - 0s 1ms/step - loss: 0.4307 - val_loss: 0.3686\n",
            "Epoch 9/20\n",
            "387/387 [==============================] - 0s 998us/step - loss: 0.3932 - val_loss: 0.3692\n",
            "Epoch 10/20\n",
            "387/387 [==============================] - 0s 1ms/step - loss: 0.3918 - val_loss: 0.3642\n",
            "Epoch 11/20\n",
            "387/387 [==============================] - 0s 1ms/step - loss: 0.3766 - val_loss: 0.3645\n",
            "Epoch 12/20\n",
            "387/387 [==============================] - 0s 1ms/step - loss: 0.3765 - val_loss: 0.3656\n",
            "Epoch 13/20\n",
            "387/387 [==============================] - 0s 1ms/step - loss: 0.3710 - val_loss: 0.3595\n",
            "Epoch 14/20\n",
            "387/387 [==============================] - 0s 1ms/step - loss: 0.3677 - val_loss: 0.3561\n",
            "Epoch 15/20\n",
            "387/387 [==============================] - 0s 1ms/step - loss: 0.3758 - val_loss: 0.3621\n",
            "Epoch 16/20\n",
            "387/387 [==============================] - 0s 1ms/step - loss: 0.4199 - val_loss: 0.3732\n",
            "Epoch 17/20\n",
            "387/387 [==============================] - 0s 986us/step - loss: 0.3813 - val_loss: 0.3529\n",
            "Epoch 18/20\n",
            "387/387 [==============================] - 0s 1ms/step - loss: 0.3722 - val_loss: 0.3508\n",
            "Epoch 19/20\n",
            "387/387 [==============================] - 0s 1ms/step - loss: 0.3599 - val_loss: 0.3482\n",
            "Epoch 20/20\n",
            "387/387 [==============================] - 0s 1ms/step - loss: 0.3600 - val_loss: 0.3522\n"
          ],
          "name": "stdout"
        }
      ]
    },
    {
      "cell_type": "code",
      "metadata": {
        "id": "OhUoUWxWpFv4",
        "colab_type": "code",
        "colab": {
          "base_uri": "https://localhost:8080/",
          "height": 68
        },
        "outputId": "7789521c-4347-4478-c742-79628180e884"
      },
      "source": [
        "model.predict(x_test[:3])"
      ],
      "execution_count": 13,
      "outputs": [
        {
          "output_type": "execute_result",
          "data": {
            "text/plain": [
              "array([[2.7568321],\n",
              "       [1.8101375],\n",
              "       [2.2463236]], dtype=float32)"
            ]
          },
          "metadata": {
            "tags": []
          },
          "execution_count": 13
        }
      ]
    }
  ]
}