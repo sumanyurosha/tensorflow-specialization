{
  "nbformat": 4,
  "nbformat_minor": 0,
  "metadata": {
    "colab": {
      "name": "Preprocessing the Input Features.ipynb",
      "provenance": [],
      "authorship_tag": "ABX9TyMtCfawJ+gRSEfCzDn25rCv",
      "include_colab_link": true
    },
    "kernelspec": {
      "name": "python3",
      "display_name": "Python 3"
    }
  },
  "cells": [
    {
      "cell_type": "markdown",
      "metadata": {
        "id": "view-in-github",
        "colab_type": "text"
      },
      "source": [
        "<a href=\"https://colab.research.google.com/github/sumanyurosha/tensorflow-specialization/blob/master/Hands-on%20ML/chapter13/Preprocessing_the_Input_Features.ipynb\" target=\"_parent\"><img src=\"https://colab.research.google.com/assets/colab-badge.svg\" alt=\"Open In Colab\"/></a>"
      ]
    },
    {
      "cell_type": "code",
      "metadata": {
        "id": "TMh89mRs4717",
        "colab_type": "code",
        "colab": {}
      },
      "source": [
        "import tensorflow as tf\n",
        "import numpy as np\n",
        "from sklearn.datasets import fetch_california_housing\n",
        "from sklearn.model_selection import train_test_split"
      ],
      "execution_count": 1,
      "outputs": []
    },
    {
      "cell_type": "code",
      "metadata": {
        "id": "LU0kvY1n5Gs9",
        "colab_type": "code",
        "colab": {
          "base_uri": "https://localhost:8080/",
          "height": 51
        },
        "outputId": "4a1c57bd-1144-40c8-d62f-94b4eca81f3a"
      },
      "source": [
        "housing_data = fetch_california_housing()\n",
        "x, y = housing_data.data, housing_data.target\n",
        "\n",
        "x_train, x_test, y_train, y_test = train_test_split(x, y)\n",
        "print(x_train.shape, x_test.shape)"
      ],
      "execution_count": 2,
      "outputs": [
        {
          "output_type": "stream",
          "text": [
            "Downloading Cal. housing from https://ndownloader.figshare.com/files/5976036 to /root/scikit_learn_data\n"
          ],
          "name": "stderr"
        },
        {
          "output_type": "stream",
          "text": [
            "(15480, 8) (5160, 8)\n"
          ],
          "name": "stdout"
        }
      ]
    },
    {
      "cell_type": "code",
      "metadata": {
        "id": "s-yI20Pk598G",
        "colab_type": "code",
        "colab": {}
      },
      "source": [
        "means = np.mean(x_train, axis=0, keepdims=True)\n",
        "std = np.std(x_train, axis=0, keepdims=True)\n",
        "eps = tf.keras.backend.epsilon()\n",
        "\n",
        "model = tf.keras.models.Sequential([\n",
        "    tf.keras.layers.Lambda(lambda x: (x - mean) / (std + eps) ),\n",
        "    tf.keras.layers.Dense(30, activation='relu'),\n",
        "    tf.keras.layers.Dense(1)\n",
        "])"
      ],
      "execution_count": 3,
      "outputs": []
    },
    {
      "cell_type": "code",
      "metadata": {
        "id": "XAdFGuhD7R6U",
        "colab_type": "code",
        "colab": {}
      },
      "source": [
        "class Standardization(tf.keras.layers.Layer):\n",
        "    def adapt(self, x):\n",
        "        self.mean_ = np.mean(x, axis=0, keepdims=True)\n",
        "        self.std_ = np.std(x, axis=0, keepdims=True)\n",
        "    \n",
        "    def call(self, x):\n",
        "        return (x - self.mean_) / (self.std_ + tf.keras.backend.epsilon())"
      ],
      "execution_count": 4,
      "outputs": []
    },
    {
      "cell_type": "code",
      "metadata": {
        "id": "PCvvu4828hDe",
        "colab_type": "code",
        "colab": {}
      },
      "source": [
        "data_sample = x_train[:100]\n",
        "\n",
        "scaler = Standardization()\n",
        "scaler.adapt(data_sample)"
      ],
      "execution_count": 5,
      "outputs": []
    },
    {
      "cell_type": "code",
      "metadata": {
        "id": "VHDbOSV39BS1",
        "colab_type": "code",
        "colab": {}
      },
      "source": [
        "model = tf.keras.models.Sequential()\n",
        "model.add(scaler)"
      ],
      "execution_count": 6,
      "outputs": []
    },
    {
      "cell_type": "markdown",
      "metadata": {
        "id": "fSqxxkXRBFEe",
        "colab_type": "text"
      },
      "source": [
        "# Encoding Categorical Values to One-hot Vectors"
      ]
    },
    {
      "cell_type": "code",
      "metadata": {
        "id": "LXNJLaEM9QlQ",
        "colab_type": "code",
        "colab": {}
      },
      "source": [
        "vocab =  [\"<1H OCEAN\", \"INLAND\", \"NEAR OCEAN\", \"NEAR BAY\", \"ISLAND\"]\n",
        "indices = tf.range(len(vocab), dtype=tf.int64)\n",
        "table_init = tf.lookup.KeyValueTensorInitializer(vocab, indices)\n",
        "oov_buckets = 2\n",
        "table = tf.lookup.StaticVocabularyTable(table_init, oov_buckets)"
      ],
      "execution_count": 7,
      "outputs": []
    },
    {
      "cell_type": "code",
      "metadata": {
        "id": "gGoOxWx3BzgF",
        "colab_type": "code",
        "colab": {
          "base_uri": "https://localhost:8080/",
          "height": 34
        },
        "outputId": "cc3559b9-6b89-4339-d421-5dbbc6828519"
      },
      "source": [
        "categories = tf.constant([\"NEAR BAY\", \"DESERT\", \"INLAND\", \"INLAND\"])\n",
        "cat_indices = table.lookup(categories)\n",
        "cat_indices"
      ],
      "execution_count": 8,
      "outputs": [
        {
          "output_type": "execute_result",
          "data": {
            "text/plain": [
              "<tf.Tensor: shape=(4,), dtype=int64, numpy=array([3, 5, 1, 1])>"
            ]
          },
          "metadata": {
            "tags": []
          },
          "execution_count": 8
        }
      ]
    },
    {
      "cell_type": "code",
      "metadata": {
        "id": "-3zLrsn3CNag",
        "colab_type": "code",
        "colab": {
          "base_uri": "https://localhost:8080/",
          "height": 102
        },
        "outputId": "cfc517a3-8e00-4ea5-cc63-a4ca4f11cf91"
      },
      "source": [
        "cat_one_hot = tf.one_hot(cat_indices, depth=len(vocab) + oov_buckets)\n",
        "cat_one_hot"
      ],
      "execution_count": 9,
      "outputs": [
        {
          "output_type": "execute_result",
          "data": {
            "text/plain": [
              "<tf.Tensor: shape=(4, 7), dtype=float32, numpy=\n",
              "array([[0., 0., 0., 1., 0., 0., 0.],\n",
              "       [0., 0., 0., 0., 0., 1., 0.],\n",
              "       [0., 1., 0., 0., 0., 0., 0.],\n",
              "       [0., 1., 0., 0., 0., 0., 0.]], dtype=float32)>"
            ]
          },
          "metadata": {
            "tags": []
          },
          "execution_count": 9
        }
      ]
    },
    {
      "cell_type": "markdown",
      "metadata": {
        "id": "2oYkURQEI7v6",
        "colab_type": "text"
      },
      "source": [
        "# **Encoding Categorical Features using Embeddings**"
      ]
    },
    {
      "cell_type": "code",
      "metadata": {
        "id": "Wou3NomRCcHo",
        "colab_type": "code",
        "colab": {}
      },
      "source": [
        "embed_dim = 2\n",
        "embed_init = tf.random.uniform([len(vocab) + oov_buckets, embed_dim])\n",
        "embedding_matrix = tf.Variable(embed_init)"
      ],
      "execution_count": 12,
      "outputs": []
    },
    {
      "cell_type": "code",
      "metadata": {
        "id": "3fB42ZfIJ6Ie",
        "colab_type": "code",
        "colab": {
          "base_uri": "https://localhost:8080/",
          "height": 153
        },
        "outputId": "f98a25a3-d953-42f6-8c9c-272b835d4773"
      },
      "source": [
        "embedding_matrix"
      ],
      "execution_count": 13,
      "outputs": [
        {
          "output_type": "execute_result",
          "data": {
            "text/plain": [
              "<tf.Variable 'Variable:0' shape=(7, 2) dtype=float32, numpy=\n",
              "array([[0.12861013, 0.4142785 ],\n",
              "       [0.18494403, 0.830976  ],\n",
              "       [0.72081065, 0.60406303],\n",
              "       [0.12199879, 0.47760797],\n",
              "       [0.8836411 , 0.75761044],\n",
              "       [0.26383793, 0.7781397 ],\n",
              "       [0.52805746, 0.7617295 ]], dtype=float32)>"
            ]
          },
          "metadata": {
            "tags": []
          },
          "execution_count": 13
        }
      ]
    },
    {
      "cell_type": "code",
      "metadata": {
        "id": "aWQ9yV6ZKCk0",
        "colab_type": "code",
        "colab": {
          "base_uri": "https://localhost:8080/",
          "height": 34
        },
        "outputId": "295da937-0326-4c1b-9c91-80bda12e8351"
      },
      "source": [
        "categories = tf.constant([\"NEAR BAY\", \"DESERT\", \"INLAND\", \"INLAND\"])\n",
        "cat_indices = table.lookup(categories)\n",
        "cat_indices"
      ],
      "execution_count": 14,
      "outputs": [
        {
          "output_type": "execute_result",
          "data": {
            "text/plain": [
              "<tf.Tensor: shape=(4,), dtype=int64, numpy=array([3, 5, 1, 1])>"
            ]
          },
          "metadata": {
            "tags": []
          },
          "execution_count": 14
        }
      ]
    },
    {
      "cell_type": "code",
      "metadata": {
        "id": "aGnMNfNbKaPW",
        "colab_type": "code",
        "colab": {
          "base_uri": "https://localhost:8080/",
          "height": 102
        },
        "outputId": "541e0656-f240-4e0b-fe3f-fed6d874825b"
      },
      "source": [
        "tf.nn.embedding_lookup(embedding_matrix, cat_indices)"
      ],
      "execution_count": 15,
      "outputs": [
        {
          "output_type": "execute_result",
          "data": {
            "text/plain": [
              "<tf.Tensor: shape=(4, 2), dtype=float32, numpy=\n",
              "array([[0.12199879, 0.47760797],\n",
              "       [0.26383793, 0.7781397 ],\n",
              "       [0.18494403, 0.830976  ],\n",
              "       [0.18494403, 0.830976  ]], dtype=float32)>"
            ]
          },
          "metadata": {
            "tags": []
          },
          "execution_count": 15
        }
      ]
    },
    {
      "cell_type": "code",
      "metadata": {
        "id": "jW1b6y3fKj6T",
        "colab_type": "code",
        "colab": {
          "base_uri": "https://localhost:8080/",
          "height": 102
        },
        "outputId": "fba327d7-35f1-4647-cb75-be5c54ff1e46"
      },
      "source": [
        "embeddings = tf.keras.layers.Embedding(input_dim=len(vocab) + oov_buckets, output_dim=embed_dim)\n",
        "\n",
        "embeddings(cat_indices)"
      ],
      "execution_count": 17,
      "outputs": [
        {
          "output_type": "execute_result",
          "data": {
            "text/plain": [
              "<tf.Tensor: shape=(4, 2), dtype=float32, numpy=\n",
              "array([[-0.03124557,  0.00882273],\n",
              "       [ 0.041356  , -0.01476697],\n",
              "       [-0.01374805, -0.02689283],\n",
              "       [-0.01374805, -0.02689283]], dtype=float32)>"
            ]
          },
          "metadata": {
            "tags": []
          },
          "execution_count": 17
        }
      ]
    },
    {
      "cell_type": "code",
      "metadata": {
        "id": "4benNQ02MPYt",
        "colab_type": "code",
        "colab": {}
      },
      "source": [
        "regular_input = tf.keras.layers.Input(shape=[8])\n",
        "categorical_input = tf.keras.layers.Input(shape=[], dtype=tf.string)\n",
        "cat_indices = tf.keras.layers.Lambda(lambda x: table.lookup(x))(categorical_input)\n",
        "cat_embeddings = tf.keras.layers.Embedding(input_dim=7, output_dim=2)(cat_indices)\n",
        "concat = tf.keras.layers.Concatenate()([regular_input, cat_embeddings])\n",
        "output = tf.keras.layers.Dense(1)(concat)\n",
        "\n",
        "model = tf.keras.Model(inputs=[regular_input, categorical_input],\n",
        "                       outputs=output)\n"
      ],
      "execution_count": 18,
      "outputs": []
    },
    {
      "cell_type": "code",
      "metadata": {
        "id": "wwNZ6LE2OZmK",
        "colab_type": "code",
        "colab": {
          "base_uri": "https://localhost:8080/",
          "height": 374
        },
        "outputId": "5c226a9b-c1a0-4b6d-e551-99180f058d8b"
      },
      "source": [
        "model.summary()"
      ],
      "execution_count": 20,
      "outputs": [
        {
          "output_type": "stream",
          "text": [
            "Model: \"functional_1\"\n",
            "__________________________________________________________________________________________________\n",
            "Layer (type)                    Output Shape         Param #     Connected to                     \n",
            "==================================================================================================\n",
            "input_2 (InputLayer)            [(None,)]            0                                            \n",
            "__________________________________________________________________________________________________\n",
            "lambda_1 (Lambda)               (None,)              0           input_2[0][0]                    \n",
            "__________________________________________________________________________________________________\n",
            "input_1 (InputLayer)            [(None, 8)]          0                                            \n",
            "__________________________________________________________________________________________________\n",
            "embedding_2 (Embedding)         (None, 2)            14          lambda_1[0][0]                   \n",
            "__________________________________________________________________________________________________\n",
            "concatenate (Concatenate)       (None, 10)           0           input_1[0][0]                    \n",
            "                                                                 embedding_2[0][0]                \n",
            "__________________________________________________________________________________________________\n",
            "dense_2 (Dense)                 (None, 1)            11          concatenate[0][0]                \n",
            "==================================================================================================\n",
            "Total params: 25\n",
            "Trainable params: 25\n",
            "Non-trainable params: 0\n",
            "__________________________________________________________________________________________________\n"
          ],
          "name": "stdout"
        }
      ]
    },
    {
      "cell_type": "code",
      "metadata": {
        "id": "8JpZzX0jOca4",
        "colab_type": "code",
        "colab": {}
      },
      "source": [
        ""
      ],
      "execution_count": null,
      "outputs": []
    }
  ]
}