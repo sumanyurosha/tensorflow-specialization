{
  "nbformat": 4,
  "nbformat_minor": 0,
  "metadata": {
    "colab": {
      "name": "The TFRecord Format.ipynb",
      "provenance": [],
      "authorship_tag": "ABX9TyNu9QTKyY0EkxF2YHrgS8C8",
      "include_colab_link": true
    },
    "kernelspec": {
      "name": "python3",
      "display_name": "Python 3"
    }
  },
  "cells": [
    {
      "cell_type": "markdown",
      "metadata": {
        "id": "view-in-github",
        "colab_type": "text"
      },
      "source": [
        "<a href=\"https://colab.research.google.com/github/sumanyurosha/tensorflow-specialization/blob/master/Hands-on%20ML/chapter13/The_TFRecord_Format.ipynb\" target=\"_parent\"><img src=\"https://colab.research.google.com/assets/colab-badge.svg\" alt=\"Open In Colab\"/></a>"
      ]
    },
    {
      "cell_type": "code",
      "metadata": {
        "id": "AMCppT6owJVQ",
        "colab_type": "code",
        "colab": {}
      },
      "source": [
        "import tensorflow as tf"
      ],
      "execution_count": 1,
      "outputs": []
    },
    {
      "cell_type": "code",
      "metadata": {
        "id": "sSq18pFWyb48",
        "colab_type": "code",
        "colab": {}
      },
      "source": [
        "with tf.io.TFRecordWriter(\"my_record.tfrecord\") as f:\n",
        "    f.write(b\"This is my first record!\")\n",
        "    f.write(b\"This is the second one.\")"
      ],
      "execution_count": 2,
      "outputs": []
    },
    {
      "cell_type": "code",
      "metadata": {
        "id": "HOynGlmGyy5M",
        "colab_type": "code",
        "colab": {
          "base_uri": "https://localhost:8080/",
          "height": 51
        },
        "outputId": "89ca9b45-016d-4ad2-aa2e-053b0f7c483d"
      },
      "source": [
        "dataset = tf.data.TFRecordDataset(\"my_record.tfrecord\")\n",
        "for item in dataset:\n",
        "    print(item)"
      ],
      "execution_count": 3,
      "outputs": [
        {
          "output_type": "stream",
          "text": [
            "tf.Tensor(b'This is my first record!', shape=(), dtype=string)\n",
            "tf.Tensor(b'This is the second one.', shape=(), dtype=string)\n"
          ],
          "name": "stdout"
        }
      ]
    },
    {
      "cell_type": "markdown",
      "metadata": {
        "id": "4Miq4ERGzT2P",
        "colab_type": "text"
      },
      "source": [
        "# Compressed TFRecord files"
      ]
    },
    {
      "cell_type": "code",
      "metadata": {
        "id": "bOq5Z9ezy86W",
        "colab_type": "code",
        "colab": {}
      },
      "source": [
        "options = tf.io.TFRecordOptions(compression_type=\"GZIP\")\n",
        "with tf.io.TFRecordWriter(\"my_compressed.tfrecord\", options) as f:\n",
        "    f.write(b\"First line of my compressed record\")\n",
        "    f.write(b\"Seond line of my compressed record\")"
      ],
      "execution_count": 4,
      "outputs": []
    },
    {
      "cell_type": "code",
      "metadata": {
        "id": "heTi4KHMz1PE",
        "colab_type": "code",
        "colab": {
          "base_uri": "https://localhost:8080/",
          "height": 51
        },
        "outputId": "356d6f36-51c4-4e83-80bf-2f1f149ec790"
      },
      "source": [
        "dataset = tf.data.TFRecordDataset(filenames=[\"my_compressed.tfrecord\"], compression_type=\"GZIP\")\n",
        "for item in dataset:\n",
        "    print(item)"
      ],
      "execution_count": 6,
      "outputs": [
        {
          "output_type": "stream",
          "text": [
            "tf.Tensor(b'First line of my compressed record', shape=(), dtype=string)\n",
            "tf.Tensor(b'Seond line of my compressed record', shape=(), dtype=string)\n"
          ],
          "name": "stdout"
        }
      ]
    },
    {
      "cell_type": "code",
      "metadata": {
        "id": "2Ii6bjg30EZF",
        "colab_type": "code",
        "colab": {}
      },
      "source": [
        ""
      ],
      "execution_count": null,
      "outputs": []
    }
  ]
}