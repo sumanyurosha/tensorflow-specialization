{
  "nbformat": 4,
  "nbformat_minor": 0,
  "metadata": {
    "colab": {
      "name": "IMDB Movie Reviews Sentiment Analysis.ipynb",
      "provenance": [],
      "authorship_tag": "ABX9TyPcNxRLcDUnyhxymvu3fpPL",
      "include_colab_link": true
    },
    "kernelspec": {
      "name": "python3",
      "display_name": "Python 3"
    }
  },
  "cells": [
    {
      "cell_type": "markdown",
      "metadata": {
        "id": "view-in-github",
        "colab_type": "text"
      },
      "source": [
        "<a href=\"https://colab.research.google.com/github/sumanyurosha/tensorflow-specialization/blob/master/Hands-on%20ML/chapter13/IMDB_Movie_Reviews_Sentiment_Analysis.ipynb\" target=\"_parent\"><img src=\"https://colab.research.google.com/assets/colab-badge.svg\" alt=\"Open In Colab\"/></a>"
      ]
    },
    {
      "cell_type": "code",
      "metadata": {
        "id": "4QeQZx4D_hIo",
        "colab_type": "code",
        "colab": {}
      },
      "source": [
        "import tensorflow as tf\n",
        "from tensorflow import keras\n",
        "import os"
      ],
      "execution_count": 21,
      "outputs": []
    },
    {
      "cell_type": "markdown",
      "metadata": {
        "id": "Nt1_lj5pD6qg",
        "colab_type": "text"
      },
      "source": [
        "# **Downloading the file structure**"
      ]
    },
    {
      "cell_type": "code",
      "metadata": {
        "id": "LKDgJ-pwDBEO",
        "colab_type": "code",
        "colab": {}
      },
      "source": [
        "from pathlib import Path\n",
        "\n",
        "DOWNLOAD_ROOT = \"http://ai.stanford.edu/~amaas/data/sentiment/\"\n",
        "FILENAME = \"aclImdb_v1.tar.gz\"\n",
        "filepath = keras.utils.get_file(FILENAME, DOWNLOAD_ROOT + FILENAME, extract=True)\n"
      ],
      "execution_count": 22,
      "outputs": []
    },
    {
      "cell_type": "code",
      "metadata": {
        "id": "LbJMqswaDwOl",
        "colab_type": "code",
        "colab": {
          "base_uri": "https://localhost:8080/",
          "height": 34
        },
        "outputId": "feff0482-61ae-4ddb-bd76-7c39347f23b7"
      },
      "source": [
        "path = Path(filepath).parent / \"aclImdb\"\n",
        "path"
      ],
      "execution_count": 23,
      "outputs": [
        {
          "output_type": "execute_result",
          "data": {
            "text/plain": [
              "PosixPath('/root/.keras/datasets/aclImdb')"
            ]
          },
          "metadata": {
            "tags": []
          },
          "execution_count": 23
        }
      ]
    },
    {
      "cell_type": "code",
      "metadata": {
        "id": "Zs7NJsUcEy4e",
        "colab_type": "code",
        "colab": {
          "base_uri": "https://localhost:8080/",
          "height": 663
        },
        "outputId": "b87eea1f-107c-4a60-962e-df974fb2c9ee"
      },
      "source": [
        "for name, subdirs, files in os.walk(path):\n",
        "    indent = len(Path(name).parts) - len(path.parts)\n",
        "    print(\"    \" * indent + Path(name).parts[-1] + os.sep)\n",
        "    for index, filename in enumerate(sorted(files)):\n",
        "        if index == 3:\n",
        "            print(\"    \" * (indent + 1) + \"...\")\n",
        "            break\n",
        "        print(\"    \" * (indent + 1) + filename)"
      ],
      "execution_count": 24,
      "outputs": [
        {
          "output_type": "stream",
          "text": [
            "aclImdb/\n",
            "    README\n",
            "    imdb.vocab\n",
            "    imdbEr.txt\n",
            "    test/\n",
            "        labeledBow.feat\n",
            "        urls_neg.txt\n",
            "        urls_pos.txt\n",
            "        pos/\n",
            "            0_10.txt\n",
            "            10000_7.txt\n",
            "            10001_9.txt\n",
            "            ...\n",
            "        neg/\n",
            "            0_2.txt\n",
            "            10000_4.txt\n",
            "            10001_1.txt\n",
            "            ...\n",
            "    train/\n",
            "        labeledBow.feat\n",
            "        unsupBow.feat\n",
            "        urls_neg.txt\n",
            "        ...\n",
            "        pos/\n",
            "            0_9.txt\n",
            "            10000_8.txt\n",
            "            10001_10.txt\n",
            "            ...\n",
            "        unsup/\n",
            "            0_0.txt\n",
            "            10000_0.txt\n",
            "            10001_0.txt\n",
            "            ...\n",
            "        neg/\n",
            "            0_3.txt\n",
            "            10000_4.txt\n",
            "            10001_4.txt\n",
            "            ...\n"
          ],
          "name": "stdout"
        }
      ]
    },
    {
      "cell_type": "code",
      "metadata": {
        "id": "-xDCz2ceGPcA",
        "colab_type": "code",
        "colab": {
          "base_uri": "https://localhost:8080/",
          "height": 34
        },
        "outputId": "6cad9e92-be08-47fe-f6c2-b873bc6dbf9f"
      },
      "source": [
        "def list_review_paths(dirpath):\n",
        "    return [str(path) for path in dirpath.glob(\"*.txt\")]\n",
        "\n",
        "train_pos_reviews = list_review_paths(path / \"train\" / \"pos\")\n",
        "train_neg_reviews = list_review_paths(path / \"train\" / \"neg\")\n",
        "test_pos_reviews = list_review_paths(path / \"test\" / \"pos\")\n",
        "test_neg_reviews = list_review_paths(path / \"test\" / \"neg\")\n",
        "\n",
        "print(len(train_pos_reviews), len(train_neg_reviews), len(test_pos_reviews), len(test_neg_reviews))"
      ],
      "execution_count": 25,
      "outputs": [
        {
          "output_type": "stream",
          "text": [
            "12500 12500 12500 12500\n"
          ],
          "name": "stdout"
        }
      ]
    },
    {
      "cell_type": "markdown",
      "metadata": {
        "id": "dbW2HwHFHkaq",
        "colab_type": "text"
      },
      "source": [
        "### **Splitting the test set into Validation set and Test set**"
      ]
    },
    {
      "cell_type": "code",
      "metadata": {
        "id": "k035UOjLHVCO",
        "colab_type": "code",
        "colab": {
          "base_uri": "https://localhost:8080/",
          "height": 34
        },
        "outputId": "156fdd07-76a5-4288-b163-555456ed0495"
      },
      "source": [
        "import numpy as np\n",
        "\n",
        "np.random.shuffle(test_pos_reviews)\n",
        "np.random.shuffle(test_neg_reviews)\n",
        "\n",
        "SPLIT_INDEX = 5000\n",
        "\n",
        "test_pos = test_pos_reviews[:SPLIT_INDEX]\n",
        "test_neg = test_neg_reviews[:SPLIT_INDEX]\n",
        "\n",
        "valid_pos = test_pos_reviews[SPLIT_INDEX:]\n",
        "valid_neg = test_neg_reviews[SPLIT_INDEX:]\n",
        "\n",
        "print(len(test_pos), len(test_neg), len(valid_pos), len(valid_neg))"
      ],
      "execution_count": 26,
      "outputs": [
        {
          "output_type": "stream",
          "text": [
            "5000 5000 7500 7500\n"
          ],
          "name": "stdout"
        }
      ]
    },
    {
      "cell_type": "code",
      "metadata": {
        "id": "I50oGpDCTbyN",
        "colab_type": "code",
        "colab": {
          "base_uri": "https://localhost:8080/",
          "height": 54
        },
        "outputId": "e882bcab-916c-43a6-ed8e-cd44dc657efe"
      },
      "source": [
        "tf.io.read_file(train_pos_reviews[1])"
      ],
      "execution_count": 27,
      "outputs": [
        {
          "output_type": "execute_result",
          "data": {
            "text/plain": [
              "<tf.Tensor: shape=(), dtype=string, numpy=b\"Godard once said a way to criticize a movie is to just make one, and probably the strongest kind that could be made about Ralph Bakshi's take on Tolkien's magnum opus the Lord of the Rings, has actually been made by Peter Jackson. The recent trilogy, to me, aren't even total masterpieces, but they are given enough room with each book to breath in all the post-modern techniques crossed with classical storytelling to make them very good, sweeping entertainments. <br /><br />But as one who has not read the books, I end up now looking upon the two versions, live-action (albeit partly animated in its big visual effects way) and animated (albeit partly done with actual live action as the framework) in relation to just the basic story, not even complete faithfulness to the books. And with Bakshi's version, it's almost not fair in a way, as what we do see is really not the complete vision, not what Jackson really had (probably final cut). Robbed of Return of the King's big climactic rush of the story, and with the other two parts becoming rushed, I ended up liking it more for what it did within its limitations, though as such those same limitations make it disappointing.<br /><br />What's interesting too, after seeing the Jackson films first- which I also slightly regret being that I might've reacted to this differently when I was younger and prior to five years ago- is that the basic elements of the story never get messed up with. Everything that is really needed to tell the Fellowship of the Ring story is actually pretty much intact, and if anything what was probably even more gigantic and epic in Tolkien's book is given some clarity in this section. The actors playing the parts of the hobbits and the other heroes, are more or less adequate for the parts, with a few parts standing out (John Hurt as Aragorn and William Squire as Gandalf). <br /><br />The lack of extra characterization does end up making things seem a little face-value for those who've not even seen the other films or read the books and can't put them into context. But there is some level of interest always with the characters, and here there's a more old-fashioned sensibility amid the large aura of it being more. This is not a garden variety Disney adaptation- warts and all, this is a Bakshi film, with his underground animation roots colliding with the mythical world of Middle Earth.<br /><br />And what Bakshi and his animation team bring to the film is one that ends up giving what is on screen, in all its abbreviated form, its hit or miss appeal. Along with being not totally complete as a film, or as stories, the form of the film is an experiment, to see if something can be entirely rotoscoped. The results end up bringing what seems now to be retro, but at the time of course was something that was a rough, crazy inspiration on the part of the filmmakers. Might it have been better with more traditional drawn animation? In some parts, yeah; it does become a little noticeable, as was also the case in Bakshi's American Pop, that the main characters move in such ways that are a little shaky, like some kind of comic-book form done in a different way. Still, there's much I admired in what was done. <br /><br />The orcs, for example, I found to be really amazing in they're surreal surroundings. They're maybe the best part of the combination of the animation on top of the live-action, especially during parts where there isn't battle footage (that's really the real hit-or-miss section, as there isn't continuity from the good and bad rotoscoping), and the chiaroscuro comes through with big shapes on top of horseback. It's creepy in a good way. And the backgrounds, while also very rough and sometimes too sketchy, are beautiful with the mixtures and blasts of colors together. It's almost something for art-film buffs as much as for the ring-nuts.<br /><br />So, how would I recommend this animated take on the Lord of the Rings? I don't know, to tell the truth. It's certainly a good notch above the other Tolkien animated film I've seen, the Hobbit (and I've yet to see the animated ROTK), and there is some real artistry going on. There's also some stilted dialog, an all-too-rushed Two Towers segment with the most intriguing character Gollum being reduced to maybe two scenes in all. And seeing something as fragmented like this ends up only reinforcing the completeness of the more recent films. <br /><br />If you're a fan of the books contemplating checking this out, I would say it's worth a chance, even if it's one of those chances where you watch for forty minutes and then decide whether to stop it or not. As for it fitting into Bakshi's other films I've seen it's an impressive ambitious and spotty achievement, where as with Lynch's Dune it's bound to draw a dark, mordor-like line in the sand between those who hate it passionately and those who don't. I don't.\">"
            ]
          },
          "metadata": {
            "tags": []
          },
          "execution_count": 27
        }
      ]
    },
    {
      "cell_type": "code",
      "metadata": {
        "id": "QUEwKnbsAjES",
        "colab_type": "code",
        "colab": {
          "base_uri": "https://localhost:8080/",
          "height": 54
        },
        "outputId": "ad9b8414-6dec-4ac3-e577-0a29c78bb191"
      },
      "source": [
        "with open(train_pos_reviews[1]) as file:\n",
        "    x = file.read()\n",
        "\n",
        "print(x)"
      ],
      "execution_count": 28,
      "outputs": [
        {
          "output_type": "stream",
          "text": [
            "Godard once said a way to criticize a movie is to just make one, and probably the strongest kind that could be made about Ralph Bakshi's take on Tolkien's magnum opus the Lord of the Rings, has actually been made by Peter Jackson. The recent trilogy, to me, aren't even total masterpieces, but they are given enough room with each book to breath in all the post-modern techniques crossed with classical storytelling to make them very good, sweeping entertainments. <br /><br />But as one who has not read the books, I end up now looking upon the two versions, live-action (albeit partly animated in its big visual effects way) and animated (albeit partly done with actual live action as the framework) in relation to just the basic story, not even complete faithfulness to the books. And with Bakshi's version, it's almost not fair in a way, as what we do see is really not the complete vision, not what Jackson really had (probably final cut). Robbed of Return of the King's big climactic rush of the story, and with the other two parts becoming rushed, I ended up liking it more for what it did within its limitations, though as such those same limitations make it disappointing.<br /><br />What's interesting too, after seeing the Jackson films first- which I also slightly regret being that I might've reacted to this differently when I was younger and prior to five years ago- is that the basic elements of the story never get messed up with. Everything that is really needed to tell the Fellowship of the Ring story is actually pretty much intact, and if anything what was probably even more gigantic and epic in Tolkien's book is given some clarity in this section. The actors playing the parts of the hobbits and the other heroes, are more or less adequate for the parts, with a few parts standing out (John Hurt as Aragorn and William Squire as Gandalf). <br /><br />The lack of extra characterization does end up making things seem a little face-value for those who've not even seen the other films or read the books and can't put them into context. But there is some level of interest always with the characters, and here there's a more old-fashioned sensibility amid the large aura of it being more. This is not a garden variety Disney adaptation- warts and all, this is a Bakshi film, with his underground animation roots colliding with the mythical world of Middle Earth.<br /><br />And what Bakshi and his animation team bring to the film is one that ends up giving what is on screen, in all its abbreviated form, its hit or miss appeal. Along with being not totally complete as a film, or as stories, the form of the film is an experiment, to see if something can be entirely rotoscoped. The results end up bringing what seems now to be retro, but at the time of course was something that was a rough, crazy inspiration on the part of the filmmakers. Might it have been better with more traditional drawn animation? In some parts, yeah; it does become a little noticeable, as was also the case in Bakshi's American Pop, that the main characters move in such ways that are a little shaky, like some kind of comic-book form done in a different way. Still, there's much I admired in what was done. <br /><br />The orcs, for example, I found to be really amazing in they're surreal surroundings. They're maybe the best part of the combination of the animation on top of the live-action, especially during parts where there isn't battle footage (that's really the real hit-or-miss section, as there isn't continuity from the good and bad rotoscoping), and the chiaroscuro comes through with big shapes on top of horseback. It's creepy in a good way. And the backgrounds, while also very rough and sometimes too sketchy, are beautiful with the mixtures and blasts of colors together. It's almost something for art-film buffs as much as for the ring-nuts.<br /><br />So, how would I recommend this animated take on the Lord of the Rings? I don't know, to tell the truth. It's certainly a good notch above the other Tolkien animated film I've seen, the Hobbit (and I've yet to see the animated ROTK), and there is some real artistry going on. There's also some stilted dialog, an all-too-rushed Two Towers segment with the most intriguing character Gollum being reduced to maybe two scenes in all. And seeing something as fragmented like this ends up only reinforcing the completeness of the more recent films. <br /><br />If you're a fan of the books contemplating checking this out, I would say it's worth a chance, even if it's one of those chances where you watch for forty minutes and then decide whether to stop it or not. As for it fitting into Bakshi's other films I've seen it's an impressive ambitious and spotty achievement, where as with Lynch's Dune it's bound to draw a dark, mordor-like line in the sand between those who hate it passionately and those who don't. I don't.\n"
          ],
          "name": "stdout"
        }
      ]
    },
    {
      "cell_type": "markdown",
      "metadata": {
        "id": "e4MlCo1O9Xqa",
        "colab_type": "text"
      },
      "source": [
        "# **Create a Dataset from the reviews**"
      ]
    },
    {
      "cell_type": "code",
      "metadata": {
        "id": "5ekMhOPR82CV",
        "colab_type": "code",
        "colab": {}
      },
      "source": [
        "# now we have the positive and the negative reviews so we need to create two lists, one for reviews and one for labels\n",
        "\n",
        "def create_imdb_dataset(pos_reviews, neg_reviews):\n",
        "    reviews = []\n",
        "    labels = []\n",
        "    for filepaths, label in ((pos_reviews, 0), (neg_reviews, 1)):\n",
        "        for file in filepaths:\n",
        "            reviews.append(tf.io.read_file(file))\n",
        "            labels.append(label)\n",
        "\n",
        "    return tf.data.Dataset.from_tensor_slices((reviews,\n",
        "                                               tf.constant(labels)))\n"
      ],
      "execution_count": 29,
      "outputs": []
    },
    {
      "cell_type": "code",
      "metadata": {
        "id": "k0Y0iW2Y_uk9",
        "colab_type": "code",
        "colab": {
          "base_uri": "https://localhost:8080/",
          "height": 88
        },
        "outputId": "d117ef0a-f68f-4756-d515-f5cea5528589"
      },
      "source": [
        "for review, label in create_imdb_dataset(train_pos_reviews, train_neg_reviews).take(3):\n",
        "    print(review, label)"
      ],
      "execution_count": 30,
      "outputs": [
        {
          "output_type": "stream",
          "text": [
            "tf.Tensor(b'B Movie? Yes. DIY? Yes. First Movie? Yes. But Aestheically A+. This movie definitely had some bad sound/editing/lighting/acting/etc. etc. problems. However, this movie has many positive things about it. First off, the most annoying character dies first! Second, its made to be a parody/funny B Rated Horror movie. The comments our killer makes to his victims left me and my friends rolling around on the floor laughing.<br /><br />The problem is a lot of people try to take every independent movie and expect it to be a masterpiece. Take it for what it is, a bunch of kids right out of high school made their first movie. For what it is, just that, it is really good.', shape=(), dtype=string) tf.Tensor(0, shape=(), dtype=int32)\n",
            "tf.Tensor(b\"Godard once said a way to criticize a movie is to just make one, and probably the strongest kind that could be made about Ralph Bakshi's take on Tolkien's magnum opus the Lord of the Rings, has actually been made by Peter Jackson. The recent trilogy, to me, aren't even total masterpieces, but they are given enough room with each book to breath in all the post-modern techniques crossed with classical storytelling to make them very good, sweeping entertainments. <br /><br />But as one who has not read the books, I end up now looking upon the two versions, live-action (albeit partly animated in its big visual effects way) and animated (albeit partly done with actual live action as the framework) in relation to just the basic story, not even complete faithfulness to the books. And with Bakshi's version, it's almost not fair in a way, as what we do see is really not the complete vision, not what Jackson really had (probably final cut). Robbed of Return of the King's big climactic rush of the story, and with the other two parts becoming rushed, I ended up liking it more for what it did within its limitations, though as such those same limitations make it disappointing.<br /><br />What's interesting too, after seeing the Jackson films first- which I also slightly regret being that I might've reacted to this differently when I was younger and prior to five years ago- is that the basic elements of the story never get messed up with. Everything that is really needed to tell the Fellowship of the Ring story is actually pretty much intact, and if anything what was probably even more gigantic and epic in Tolkien's book is given some clarity in this section. The actors playing the parts of the hobbits and the other heroes, are more or less adequate for the parts, with a few parts standing out (John Hurt as Aragorn and William Squire as Gandalf). <br /><br />The lack of extra characterization does end up making things seem a little face-value for those who've not even seen the other films or read the books and can't put them into context. But there is some level of interest always with the characters, and here there's a more old-fashioned sensibility amid the large aura of it being more. This is not a garden variety Disney adaptation- warts and all, this is a Bakshi film, with his underground animation roots colliding with the mythical world of Middle Earth.<br /><br />And what Bakshi and his animation team bring to the film is one that ends up giving what is on screen, in all its abbreviated form, its hit or miss appeal. Along with being not totally complete as a film, or as stories, the form of the film is an experiment, to see if something can be entirely rotoscoped. The results end up bringing what seems now to be retro, but at the time of course was something that was a rough, crazy inspiration on the part of the filmmakers. Might it have been better with more traditional drawn animation? In some parts, yeah; it does become a little noticeable, as was also the case in Bakshi's American Pop, that the main characters move in such ways that are a little shaky, like some kind of comic-book form done in a different way. Still, there's much I admired in what was done. <br /><br />The orcs, for example, I found to be really amazing in they're surreal surroundings. They're maybe the best part of the combination of the animation on top of the live-action, especially during parts where there isn't battle footage (that's really the real hit-or-miss section, as there isn't continuity from the good and bad rotoscoping), and the chiaroscuro comes through with big shapes on top of horseback. It's creepy in a good way. And the backgrounds, while also very rough and sometimes too sketchy, are beautiful with the mixtures and blasts of colors together. It's almost something for art-film buffs as much as for the ring-nuts.<br /><br />So, how would I recommend this animated take on the Lord of the Rings? I don't know, to tell the truth. It's certainly a good notch above the other Tolkien animated film I've seen, the Hobbit (and I've yet to see the animated ROTK), and there is some real artistry going on. There's also some stilted dialog, an all-too-rushed Two Towers segment with the most intriguing character Gollum being reduced to maybe two scenes in all. And seeing something as fragmented like this ends up only reinforcing the completeness of the more recent films. <br /><br />If you're a fan of the books contemplating checking this out, I would say it's worth a chance, even if it's one of those chances where you watch for forty minutes and then decide whether to stop it or not. As for it fitting into Bakshi's other films I've seen it's an impressive ambitious and spotty achievement, where as with Lynch's Dune it's bound to draw a dark, mordor-like line in the sand between those who hate it passionately and those who don't. I don't.\", shape=(), dtype=string) tf.Tensor(0, shape=(), dtype=int32)\n",
            "tf.Tensor(b\"I managed to tape this off my satellite, but I would love to get an original release in a format we can use here in the States. Eddie truly is Glorious in this performance from San Francisco. I don't remember laughing so hard at a stand up routine. My wife and I both enjoyed this tape and his work on Glorious I just wish I could buy a copy and help support Eddie financially through my purchase. We need more of his shows available.\", shape=(), dtype=string) tf.Tensor(0, shape=(), dtype=int32)\n"
          ],
          "name": "stdout"
        }
      ]
    },
    {
      "cell_type": "code",
      "metadata": {
        "id": "1zi__H5ECCFf",
        "colab_type": "code",
        "colab": {}
      },
      "source": [
        "def create_imdb_dataset(pos_reviews, neg_reviews):\n",
        "    pos_dataset = tf.data.TextLineDataset(pos_reviews, num_parallel_reads=5)\n",
        "    pos_dataset = pos_dataset.map(lambda review: (review, 0))\n",
        "\n",
        "    neg_dataset = tf.data.TextLineDataset(neg_reviews, num_parallel_reads=5)\n",
        "    neg_dataset = neg_dataset.map(lambda review: (review, 1))\n",
        "\n",
        "    dataset = tf.data.Dataset.concatenate(pos_dataset, neg_dataset)\n",
        "    return dataset"
      ],
      "execution_count": 31,
      "outputs": []
    },
    {
      "cell_type": "code",
      "metadata": {
        "id": "ojLemcYhC4sC",
        "colab_type": "code",
        "colab": {
          "base_uri": "https://localhost:8080/",
          "height": 88
        },
        "outputId": "bd28a5c5-f691-403c-e397-bc9e7a335340"
      },
      "source": [
        "for review, label in create_imdb_dataset(train_pos_reviews, train_neg_reviews).take(3):\n",
        "    print(review, label)"
      ],
      "execution_count": 32,
      "outputs": [
        {
          "output_type": "stream",
          "text": [
            "tf.Tensor(b'B Movie? Yes. DIY? Yes. First Movie? Yes. But Aestheically A+. This movie definitely had some bad sound/editing/lighting/acting/etc. etc. problems. However, this movie has many positive things about it. First off, the most annoying character dies first! Second, its made to be a parody/funny B Rated Horror movie. The comments our killer makes to his victims left me and my friends rolling around on the floor laughing.<br /><br />The problem is a lot of people try to take every independent movie and expect it to be a masterpiece. Take it for what it is, a bunch of kids right out of high school made their first movie. For what it is, just that, it is really good.', shape=(), dtype=string) tf.Tensor(0, shape=(), dtype=int32)\n",
            "tf.Tensor(b\"Godard once said a way to criticize a movie is to just make one, and probably the strongest kind that could be made about Ralph Bakshi's take on Tolkien's magnum opus the Lord of the Rings, has actually been made by Peter Jackson. The recent trilogy, to me, aren't even total masterpieces, but they are given enough room with each book to breath in all the post-modern techniques crossed with classical storytelling to make them very good, sweeping entertainments. <br /><br />But as one who has not read the books, I end up now looking upon the two versions, live-action (albeit partly animated in its big visual effects way) and animated (albeit partly done with actual live action as the framework) in relation to just the basic story, not even complete faithfulness to the books. And with Bakshi's version, it's almost not fair in a way, as what we do see is really not the complete vision, not what Jackson really had (probably final cut). Robbed of Return of the King's big climactic rush of the story, and with the other two parts becoming rushed, I ended up liking it more for what it did within its limitations, though as such those same limitations make it disappointing.<br /><br />What's interesting too, after seeing the Jackson films first- which I also slightly regret being that I might've reacted to this differently when I was younger and prior to five years ago- is that the basic elements of the story never get messed up with. Everything that is really needed to tell the Fellowship of the Ring story is actually pretty much intact, and if anything what was probably even more gigantic and epic in Tolkien's book is given some clarity in this section. The actors playing the parts of the hobbits and the other heroes, are more or less adequate for the parts, with a few parts standing out (John Hurt as Aragorn and William Squire as Gandalf). <br /><br />The lack of extra characterization does end up making things seem a little face-value for those who've not even seen the other films or read the books and can't put them into context. But there is some level of interest always with the characters, and here there's a more old-fashioned sensibility amid the large aura of it being more. This is not a garden variety Disney adaptation- warts and all, this is a Bakshi film, with his underground animation roots colliding with the mythical world of Middle Earth.<br /><br />And what Bakshi and his animation team bring to the film is one that ends up giving what is on screen, in all its abbreviated form, its hit or miss appeal. Along with being not totally complete as a film, or as stories, the form of the film is an experiment, to see if something can be entirely rotoscoped. The results end up bringing what seems now to be retro, but at the time of course was something that was a rough, crazy inspiration on the part of the filmmakers. Might it have been better with more traditional drawn animation? In some parts, yeah; it does become a little noticeable, as was also the case in Bakshi's American Pop, that the main characters move in such ways that are a little shaky, like some kind of comic-book form done in a different way. Still, there's much I admired in what was done. <br /><br />The orcs, for example, I found to be really amazing in they're surreal surroundings. They're maybe the best part of the combination of the animation on top of the live-action, especially during parts where there isn't battle footage (that's really the real hit-or-miss section, as there isn't continuity from the good and bad rotoscoping), and the chiaroscuro comes through with big shapes on top of horseback. It's creepy in a good way. And the backgrounds, while also very rough and sometimes too sketchy, are beautiful with the mixtures and blasts of colors together. It's almost something for art-film buffs as much as for the ring-nuts.<br /><br />So, how would I recommend this animated take on the Lord of the Rings? I don't know, to tell the truth. It's certainly a good notch above the other Tolkien animated film I've seen, the Hobbit (and I've yet to see the animated ROTK), and there is some real artistry going on. There's also some stilted dialog, an all-too-rushed Two Towers segment with the most intriguing character Gollum being reduced to maybe two scenes in all. And seeing something as fragmented like this ends up only reinforcing the completeness of the more recent films. <br /><br />If you're a fan of the books contemplating checking this out, I would say it's worth a chance, even if it's one of those chances where you watch for forty minutes and then decide whether to stop it or not. As for it fitting into Bakshi's other films I've seen it's an impressive ambitious and spotty achievement, where as with Lynch's Dune it's bound to draw a dark, mordor-like line in the sand between those who hate it passionately and those who don't. I don't.\", shape=(), dtype=string) tf.Tensor(0, shape=(), dtype=int32)\n",
            "tf.Tensor(b\"I managed to tape this off my satellite, but I would love to get an original release in a format we can use here in the States. Eddie truly is Glorious in this performance from San Francisco. I don't remember laughing so hard at a stand up routine. My wife and I both enjoyed this tape and his work on Glorious I just wish I could buy a copy and help support Eddie financially through my purchase. We need more of his shows available.\", shape=(), dtype=string) tf.Tensor(0, shape=(), dtype=int32)\n"
          ],
          "name": "stdout"
        }
      ]
    },
    {
      "cell_type": "code",
      "metadata": {
        "id": "qbe7E4wraSV8",
        "colab_type": "code",
        "colab": {}
      },
      "source": [
        "batch_size = 32\n",
        "\n",
        "train_set = create_imdb_dataset(train_pos_reviews, train_neg_reviews).shuffle(25000).batch(batch_size).prefetch(1)\n",
        "valid_set = create_imdb_dataset(valid_pos, valid_neg).batch(batch_size).prefetch(1)\n",
        "test_set = create_imdb_dataset(test_pos, test_neg).batch(batch_size).prefetch(1)"
      ],
      "execution_count": 35,
      "outputs": []
    },
    {
      "cell_type": "code",
      "metadata": {
        "id": "1rJIQvYUEFe4",
        "colab_type": "code",
        "colab": {}
      },
      "source": [
        "text_vectorization = keras.layers.experimental.preprocessing.TextVectorization(\n",
        "    max_tokens=1000, standardize='lower_and_strip_punctuation', output_mode='int',\n",
        "    output_sequence_length=50)\n",
        "\n",
        "review_example = tf.constant([\"It's a great, great movie! I loved it.\", \"It was terrible, run away!!!\"])"
      ],
      "execution_count": 40,
      "outputs": []
    },
    {
      "cell_type": "code",
      "metadata": {
        "id": "-tBHuiJJZwjW",
        "colab_type": "code",
        "colab": {
          "base_uri": "https://localhost:8080/",
          "height": 170
        },
        "outputId": "80e8a8b7-8a15-4e39-9799-58badb58a4cd"
      },
      "source": [
        "text_vectorization.adapt(review_example)\n",
        "text_vectorization(review_example)"
      ],
      "execution_count": 41,
      "outputs": [
        {
          "output_type": "execute_result",
          "data": {
            "text/plain": [
              "<tf.Tensor: shape=(2, 50), dtype=int64, numpy=\n",
              "array([[ 9, 12,  3,  3,  7, 10,  8,  2,  0,  0,  0,  0,  0,  0,  0,  0,\n",
              "         0,  0,  0,  0,  0,  0,  0,  0,  0,  0,  0,  0,  0,  0,  0,  0,\n",
              "         0,  0,  0,  0,  0,  0,  0,  0,  0,  0,  0,  0,  0,  0,  0,  0,\n",
              "         0,  0],\n",
              "       [ 2,  4,  5,  6, 11,  0,  0,  0,  0,  0,  0,  0,  0,  0,  0,  0,\n",
              "         0,  0,  0,  0,  0,  0,  0,  0,  0,  0,  0,  0,  0,  0,  0,  0,\n",
              "         0,  0,  0,  0,  0,  0,  0,  0,  0,  0,  0,  0,  0,  0,  0,  0,\n",
              "         0,  0]])>"
            ]
          },
          "metadata": {
            "tags": []
          },
          "execution_count": 41
        }
      ]
    },
    {
      "cell_type": "code",
      "metadata": {
        "id": "2mdFStmqZ5MG",
        "colab_type": "code",
        "colab": {}
      },
      "source": [
        "sample_review_batches = train_set.map(lambda review, label : review)\n",
        "sample_reviews = np.concatenate(list(sample_review_batches.as_numpy_iterator()), \n",
        "                                axis=0)\n",
        "\n",
        "text_vectorization.adapt(sample_reviews)"
      ],
      "execution_count": 43,
      "outputs": []
    },
    {
      "cell_type": "code",
      "metadata": {
        "id": "_SEYCdNVbmxl",
        "colab_type": "code",
        "colab": {
          "base_uri": "https://localhost:8080/",
          "height": 170
        },
        "outputId": "ed5c08f2-70ae-451c-8653-cc5e27cae3aa"
      },
      "source": [
        "text_vectorization(review_example)"
      ],
      "execution_count": 44,
      "outputs": [
        {
          "output_type": "execute_result",
          "data": {
            "text/plain": [
              "<tf.Tensor: shape=(2, 50), dtype=int64, numpy=\n",
              "array([[ 30,   4,  85,  85,  18,  10, 434,   9,   0,   0,   0,   0,   0,\n",
              "          0,   0,   0,   0,   0,   0,   0,   0,   0,   0,   0,   0,   0,\n",
              "          0,   0,   0,   0,   0,   0,   0,   0,   0,   0,   0,   0,   0,\n",
              "          0,   0,   0,   0,   0,   0,   0,   0,   0,   0,   0],\n",
              "       [  9,  14, 384, 530, 242,   0,   0,   0,   0,   0,   0,   0,   0,\n",
              "          0,   0,   0,   0,   0,   0,   0,   0,   0,   0,   0,   0,   0,\n",
              "          0,   0,   0,   0,   0,   0,   0,   0,   0,   0,   0,   0,   0,\n",
              "          0,   0,   0,   0,   0,   0,   0,   0,   0,   0,   0]])>"
            ]
          },
          "metadata": {
            "tags": []
          },
          "execution_count": 44
        }
      ]
    },
    {
      "cell_type": "code",
      "metadata": {
        "id": "l2vxIRbCbvVF",
        "colab_type": "code",
        "colab": {
          "base_uri": "https://localhost:8080/",
          "height": 34
        },
        "outputId": "88ad8708-c91f-4f9a-aaea-47de5bfd9a8c"
      },
      "source": [
        "text_vectorization.get_vocabulary()[:10]"
      ],
      "execution_count": 46,
      "outputs": [
        {
          "output_type": "execute_result",
          "data": {
            "text/plain": [
              "['', '[UNK]', 'the', 'and', 'a', 'of', 'to', 'is', 'in', 'it']"
            ]
          },
          "metadata": {
            "tags": []
          },
          "execution_count": 46
        }
      ]
    },
    {
      "cell_type": "code",
      "metadata": {
        "id": "ir-twltcb4Kq",
        "colab_type": "code",
        "colab": {}
      },
      "source": [
        "class BagOfWords(keras.layers.Layer):\n",
        "    def __init__(self, n_tokens, dtype=tf.int32, **kwargs):\n",
        "        super().__init__(dtype=tf.int32, **kwargs)\n",
        "        self.n_tokens = n_tokens\n",
        "    \n",
        "    def call(self, inputs):\n",
        "        one_hot = tf.one_hot(inputs, self.n_tokens)\n",
        "        return tf.reduce_sum(one_hot, axis=1)[:, 1:] # 1: to ignore the padding value\n"
      ],
      "execution_count": 53,
      "outputs": []
    },
    {
      "cell_type": "code",
      "metadata": {
        "id": "SWmBtTn3fs3O",
        "colab_type": "code",
        "colab": {
          "base_uri": "https://localhost:8080/",
          "height": 68
        },
        "outputId": "a85d4907-71da-40cb-f0a1-910d40948931"
      },
      "source": [
        "simple_example = tf.constant([[1, 3, 1, 0, 0], [2, 2, 0, 0, 0]])\n",
        "\n",
        "bow = BagOfWords(n_tokens=4)\n",
        "bow(simple_example)"
      ],
      "execution_count": 54,
      "outputs": [
        {
          "output_type": "execute_result",
          "data": {
            "text/plain": [
              "<tf.Tensor: shape=(2, 3), dtype=float32, numpy=\n",
              "array([[2., 0., 1.],\n",
              "       [0., 2., 0.]], dtype=float32)>"
            ]
          },
          "metadata": {
            "tags": []
          },
          "execution_count": 54
        }
      ]
    },
    {
      "cell_type": "code",
      "metadata": {
        "id": "mjBz81Eef5SZ",
        "colab_type": "code",
        "colab": {}
      },
      "source": [
        "n_tokens = 1000 + 100 + 1\n",
        "bag_of_words = BagOfWords(n_tokens)"
      ],
      "execution_count": 55,
      "outputs": []
    },
    {
      "cell_type": "code",
      "metadata": {
        "id": "5C92smIHgwxa",
        "colab_type": "code",
        "colab": {
          "base_uri": "https://localhost:8080/",
          "height": 204
        },
        "outputId": "df0d19a3-3e34-4899-e6d1-956d998b905c"
      },
      "source": [
        "model = keras.models.Sequential([\n",
        "    text_vectorization,\n",
        "    bag_of_words,\n",
        "    keras.layers.Dense(20, activation='relu'),\n",
        "    keras.layers.Dense(1, activation='sigmoid')\n",
        "])\n",
        "\n",
        "model.compile(loss='binary_crossentropy', optimizer='nadam', metrics=['accuracy'])\n",
        "\n",
        "model.fit(train_set, epochs=5, validation_data=valid_set)"
      ],
      "execution_count": 57,
      "outputs": [
        {
          "output_type": "stream",
          "text": [
            "Epoch 1/5\n",
            "782/782 [==============================] - 8s 11ms/step - loss: 0.5595 - accuracy: 0.7080 - val_loss: 0.5256 - val_accuracy: 0.7323\n",
            "Epoch 2/5\n",
            "782/782 [==============================] - 7s 9ms/step - loss: 0.4986 - accuracy: 0.7500 - val_loss: 0.5075 - val_accuracy: 0.7421\n",
            "Epoch 3/5\n",
            "782/782 [==============================] - 7s 9ms/step - loss: 0.4838 - accuracy: 0.7621 - val_loss: 0.5106 - val_accuracy: 0.7417\n",
            "Epoch 4/5\n",
            "782/782 [==============================] - 8s 10ms/step - loss: 0.4697 - accuracy: 0.7710 - val_loss: 0.5107 - val_accuracy: 0.7426\n",
            "Epoch 5/5\n",
            "782/782 [==============================] - 7s 10ms/step - loss: 0.4544 - accuracy: 0.7788 - val_loss: 0.5162 - val_accuracy: 0.7411\n"
          ],
          "name": "stdout"
        },
        {
          "output_type": "execute_result",
          "data": {
            "text/plain": [
              "<tensorflow.python.keras.callbacks.History at 0x7f6beffd7e80>"
            ]
          },
          "metadata": {
            "tags": []
          },
          "execution_count": 57
        }
      ]
    },
    {
      "cell_type": "code",
      "metadata": {
        "id": "2DvC9exUhXbs",
        "colab_type": "code",
        "colab": {}
      },
      "source": [
        ""
      ],
      "execution_count": null,
      "outputs": []
    }
  ]
}