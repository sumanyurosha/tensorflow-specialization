{
  "nbformat": 4,
  "nbformat_minor": 0,
  "metadata": {
    "colab": {
      "name": "IMDB Movie Reviews Sentiment Analysis.ipynb",
      "provenance": [],
      "authorship_tag": "ABX9TyN5hNnbS/895Xz6utB8tcY1",
      "include_colab_link": true
    },
    "kernelspec": {
      "name": "python3",
      "display_name": "Python 3"
    }
  },
  "cells": [
    {
      "cell_type": "markdown",
      "metadata": {
        "id": "view-in-github",
        "colab_type": "text"
      },
      "source": [
        "<a href=\"https://colab.research.google.com/github/sumanyurosha/tensorflow-specialization/blob/master/Hands-on%20ML/chapter13/IMDB_Movie_Reviews_Sentiment_Analysis.ipynb\" target=\"_parent\"><img src=\"https://colab.research.google.com/assets/colab-badge.svg\" alt=\"Open In Colab\"/></a>"
      ]
    },
    {
      "cell_type": "code",
      "metadata": {
        "id": "4QeQZx4D_hIo",
        "colab_type": "code",
        "colab": {}
      },
      "source": [
        "import tensorflow as tf\n",
        "from tensorflow import keras\n",
        "import os"
      ],
      "execution_count": 29,
      "outputs": []
    },
    {
      "cell_type": "markdown",
      "metadata": {
        "id": "Nt1_lj5pD6qg",
        "colab_type": "text"
      },
      "source": [
        "# **Downloading the file structure**"
      ]
    },
    {
      "cell_type": "code",
      "metadata": {
        "id": "LKDgJ-pwDBEO",
        "colab_type": "code",
        "colab": {}
      },
      "source": [
        "from pathlib import Path\n",
        "\n",
        "DOWNLOAD_ROOT = \"http://ai.stanford.edu/~amaas/data/sentiment/\"\n",
        "FILENAME = \"aclImdb_v1.tar.gz\"\n",
        "filepath = keras.utils.get_file(FILENAME, DOWNLOAD_ROOT + FILENAME, extract=True)\n"
      ],
      "execution_count": 30,
      "outputs": []
    },
    {
      "cell_type": "code",
      "metadata": {
        "id": "LbJMqswaDwOl",
        "colab_type": "code",
        "colab": {
          "base_uri": "https://localhost:8080/",
          "height": 34
        },
        "outputId": "0d23e2f6-34bc-4ec2-9c90-97e8279b1e52"
      },
      "source": [
        "path = Path(filepath).parent / \"aclImdb\"\n",
        "path"
      ],
      "execution_count": 31,
      "outputs": [
        {
          "output_type": "execute_result",
          "data": {
            "text/plain": [
              "PosixPath('/root/.keras/datasets/aclImdb')"
            ]
          },
          "metadata": {
            "tags": []
          },
          "execution_count": 31
        }
      ]
    },
    {
      "cell_type": "code",
      "metadata": {
        "id": "Zs7NJsUcEy4e",
        "colab_type": "code",
        "colab": {
          "base_uri": "https://localhost:8080/",
          "height": 663
        },
        "outputId": "764b0d70-ffd3-468e-fcee-8258b5794436"
      },
      "source": [
        "for name, subdirs, files in os.walk(path):\n",
        "    indent = len(Path(name).parts) - len(path.parts)\n",
        "    print(\"    \" * indent + Path(name).parts[-1] + os.sep)\n",
        "    for index, filename in enumerate(sorted(files)):\n",
        "        if index == 3:\n",
        "            print(\"    \" * (indent + 1) + \"...\")\n",
        "            break\n",
        "        print(\"    \" * (indent + 1) + filename)"
      ],
      "execution_count": 32,
      "outputs": [
        {
          "output_type": "stream",
          "text": [
            "aclImdb/\n",
            "    README\n",
            "    imdb.vocab\n",
            "    imdbEr.txt\n",
            "    test/\n",
            "        labeledBow.feat\n",
            "        urls_neg.txt\n",
            "        urls_pos.txt\n",
            "        pos/\n",
            "            0_10.txt\n",
            "            10000_7.txt\n",
            "            10001_9.txt\n",
            "            ...\n",
            "        neg/\n",
            "            0_2.txt\n",
            "            10000_4.txt\n",
            "            10001_1.txt\n",
            "            ...\n",
            "    train/\n",
            "        labeledBow.feat\n",
            "        unsupBow.feat\n",
            "        urls_neg.txt\n",
            "        ...\n",
            "        pos/\n",
            "            0_9.txt\n",
            "            10000_8.txt\n",
            "            10001_10.txt\n",
            "            ...\n",
            "        unsup/\n",
            "            0_0.txt\n",
            "            10000_0.txt\n",
            "            10001_0.txt\n",
            "            ...\n",
            "        neg/\n",
            "            0_3.txt\n",
            "            10000_4.txt\n",
            "            10001_4.txt\n",
            "            ...\n"
          ],
          "name": "stdout"
        }
      ]
    },
    {
      "cell_type": "code",
      "metadata": {
        "id": "-xDCz2ceGPcA",
        "colab_type": "code",
        "colab": {
          "base_uri": "https://localhost:8080/",
          "height": 34
        },
        "outputId": "b62c3358-c32c-4624-a93a-5d9d69713488"
      },
      "source": [
        "def list_review_paths(dirpath):\n",
        "    return [path for path in dirpath.glob(\"*.txt\")]\n",
        "\n",
        "train_pos_reviews = list_review_paths(path / \"train\" / \"pos\")\n",
        "train_neg_reviews = list_review_paths(path / \"train\" / \"neg\")\n",
        "test_pos_reviews = list_review_paths(path / \"test\" / \"pos\")\n",
        "test_neg_reviews = list_review_paths(path / \"test\" / \"neg\")\n",
        "\n",
        "print(len(train_pos_reviews), len(train_neg_reviews), len(test_pos_reviews), len(test_neg_reviews))"
      ],
      "execution_count": 33,
      "outputs": [
        {
          "output_type": "stream",
          "text": [
            "12500 12500 12500 12500\n"
          ],
          "name": "stdout"
        }
      ]
    },
    {
      "cell_type": "markdown",
      "metadata": {
        "id": "dbW2HwHFHkaq",
        "colab_type": "text"
      },
      "source": [
        "### **Splitting the test set into Validation set and Test set**"
      ]
    },
    {
      "cell_type": "code",
      "metadata": {
        "id": "k035UOjLHVCO",
        "colab_type": "code",
        "colab": {
          "base_uri": "https://localhost:8080/",
          "height": 34
        },
        "outputId": "e0a1af1a-46d6-409a-93cb-1abe3b0059c4"
      },
      "source": [
        "import numpy as np\n",
        "\n",
        "np.random.shuffle(test_pos_reviews)\n",
        "np.random.shuffle(test_neg_reviews)\n",
        "\n",
        "SPLIT_INDEX = 5000\n",
        "\n",
        "test_pos = test_pos_reviews[:SPLIT_INDEX]\n",
        "test_neg = test_neg_reviews[:SPLIT_INDEX]\n",
        "\n",
        "valid_pos = test_pos_reviews[SPLIT_INDEX:]\n",
        "valid_neg = test_neg_reviews[SPLIT_INDEX:]\n",
        "\n",
        "print(len(test_pos), len(test_neg), len(valid_pos), len(valid_neg))"
      ],
      "execution_count": 35,
      "outputs": [
        {
          "output_type": "stream",
          "text": [
            "5000 5000 7500 7500\n"
          ],
          "name": "stdout"
        }
      ]
    },
    {
      "cell_type": "code",
      "metadata": {
        "id": "pPyTCE7lI0-C",
        "colab_type": "code",
        "colab": {
          "base_uri": "https://localhost:8080/",
          "height": 54
        },
        "outputId": "1b6feec1-9a69-43fa-ae5f-8a5d30215af9"
      },
      "source": [
        "txt = tf.io.read_file(str(test_pos[0]))\n",
        "txt"
      ],
      "execution_count": 47,
      "outputs": [
        {
          "output_type": "execute_result",
          "data": {
            "text/plain": [
              "<tf.Tensor: shape=(), dtype=string, numpy=b'It is an interesting fact that metaphysics by Platon and Aristoteles, formal logic and abstract ontology form about those sciences that most people are not interested in. But then, around one thousand years after Aristoteles, the computer began to usurp the human thinking, and the humans who were refusing to reflect questions of being other than biological, physical and chemical ones, suddenly felt paralyzed because they could not cope with the consequences that this computers would bring \"over night\". R.W. Fassbinder\\'s \"Welt Am Draht\", together with Tarkovsky\\'s \"Solaris\" and Godard\\'s \"Alphaville\", is probably the first movie who took the philosophical questions of emerging computer science as a basis of a story to be told in a movie. The confusing questions about identities and realities are cleverly built into different interwoven criminal stories which the audience really tries to follow because it is interested to solve the cases. Fassbinder was a master to sell highly abstracts contents to his public by embedding theoretical knowledge into practical, appetizing forms. The basis problem to understand is that an identity defines a reality, but on the other side, a reality also requires identity in order to be perceived. The idea of a person with multiple identities is known to us solely from the standpoint of psychiatry. However, logically spoken, the only reason why we have just one identity, is the fact that our logic has only two values (right and false). Now take a logic with just one more value, i.e. with three: Then, as you can easily see, you have already three identities. What happens now, when, let us say, Dr. Stiller gets killed? Then, it is quite possible that only one of three identities is abolished and the other two remain and are able to rescue the individual from death. Another question is, if a person with multiple identities actually feels these identities at once. The idea, however, to display such sets of identities in a up-down or down-up way as shown in the scene with the elevator in the hotel, is misleading, since identities and hence realities are not structured in Hierarchical, but in a Heterarchical way. Strictly speaking, there is no \"artificial identity\" either, since each identity is defined over two objects who share all of their features with one another. Therefore, the idea of assuming that every individual has just one single identity is nothing but a consequence of ancient two-valued logic either (a second identity would imply that a person, at the same time, exists and not-exists). But now look around and see that one and the same object (which is by definition self-identical) is perceived by every subject in its own way. If therefore every subject sees an object differently, why should it no be possible for the single individual to open the borders of his two-valued individuality-corset, with the effect that different persons can exchange their different Individualities? Fassbinder would five years later pick up this topic in his masterpiece \"Despair. A trip into the light\".'>"
            ]
          },
          "metadata": {
            "tags": []
          },
          "execution_count": 47
        }
      ]
    }
  ]
}