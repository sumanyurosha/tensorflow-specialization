{
  "nbformat": 4,
  "nbformat_minor": 0,
  "metadata": {
    "colab": {
      "name": "Batch Normalisation and Activation Functions.ipynb",
      "provenance": [],
      "authorship_tag": "ABX9TyPrIWmapzS6m2VQZxUrmhFn",
      "include_colab_link": true
    },
    "kernelspec": {
      "name": "python3",
      "display_name": "Python 3"
    }
  },
  "cells": [
    {
      "cell_type": "markdown",
      "metadata": {
        "id": "view-in-github",
        "colab_type": "text"
      },
      "source": [
        "<a href=\"https://colab.research.google.com/github/sumanyurosha/tensorflow-specialization/blob/master/Hands-on%20ML/chapter11/Batch_Normalisation_and_Activation_Functions.ipynb\" target=\"_parent\"><img src=\"https://colab.research.google.com/assets/colab-badge.svg\" alt=\"Open In Colab\"/></a>"
      ]
    },
    {
      "cell_type": "code",
      "metadata": {
        "id": "KlpPbz0J8U5A",
        "colab_type": "code",
        "colab": {}
      },
      "source": [
        "from tensorflow import keras\n",
        "from keras.datasets import mnist"
      ],
      "execution_count": 2,
      "outputs": []
    },
    {
      "cell_type": "code",
      "metadata": {
        "id": "riz-qXPO8y-j",
        "colab_type": "code",
        "colab": {
          "base_uri": "https://localhost:8080/",
          "height": 34
        },
        "outputId": "350e2075-f33a-4671-d593-273df620758d"
      },
      "source": [
        "(x_train, y_train), (x_test, y_test) = mnist.load_data()\n",
        "print(x_train.shape, x_test.shape)"
      ],
      "execution_count": 6,
      "outputs": [
        {
          "output_type": "stream",
          "text": [
            "(60000, 28, 28) (10000, 28, 28)\n"
          ],
          "name": "stdout"
        }
      ]
    },
    {
      "cell_type": "code",
      "metadata": {
        "id": "WjarkXtb8442",
        "colab_type": "code",
        "colab": {
          "base_uri": "https://localhost:8080/",
          "height": 391
        },
        "outputId": "9d2c0a2e-d4d2-4108-8b94-83c9252258e5"
      },
      "source": [
        "model = keras.models.Sequential([\n",
        "    keras.layers.Flatten(input_shape=[28, 28]),\n",
        "    keras.layers.BatchNormalization(),\n",
        "    keras.layers.Dense(300, activation='elu', kernel_initializer='he_normal'),\n",
        "    keras.layers.BatchNormalization(),\n",
        "    keras.layers.Dense(100, activation='elu', kernel_initializer='he_normal'),\n",
        "    keras.layers.BatchNormalization(),\n",
        "    keras.layers.Dense(10, activation='softmax')\n",
        "])\n",
        "\n",
        "model.summary()"
      ],
      "execution_count": 7,
      "outputs": [
        {
          "output_type": "stream",
          "text": [
            "Model: \"sequential\"\n",
            "_________________________________________________________________\n",
            "Layer (type)                 Output Shape              Param #   \n",
            "=================================================================\n",
            "flatten (Flatten)            (None, 784)               0         \n",
            "_________________________________________________________________\n",
            "batch_normalization (BatchNo (None, 784)               3136      \n",
            "_________________________________________________________________\n",
            "dense (Dense)                (None, 300)               235500    \n",
            "_________________________________________________________________\n",
            "batch_normalization_1 (Batch (None, 300)               1200      \n",
            "_________________________________________________________________\n",
            "dense_1 (Dense)              (None, 100)               30100     \n",
            "_________________________________________________________________\n",
            "batch_normalization_2 (Batch (None, 100)               400       \n",
            "_________________________________________________________________\n",
            "dense_2 (Dense)              (None, 10)                1010      \n",
            "=================================================================\n",
            "Total params: 271,346\n",
            "Trainable params: 268,978\n",
            "Non-trainable params: 2,368\n",
            "_________________________________________________________________\n"
          ],
          "name": "stdout"
        }
      ]
    },
    {
      "cell_type": "code",
      "metadata": {
        "id": "aWBA-Fo6E0Um",
        "colab_type": "code",
        "colab": {
          "base_uri": "https://localhost:8080/",
          "height": 85
        },
        "outputId": "223a1b39-9676-468c-8f98-43ebd457f49f"
      },
      "source": [
        "[(var.name, var.trainable) for var in model.layers[1].variables]"
      ],
      "execution_count": 15,
      "outputs": [
        {
          "output_type": "execute_result",
          "data": {
            "text/plain": [
              "[('batch_normalization/gamma:0', True),\n",
              " ('batch_normalization/beta:0', True),\n",
              " ('batch_normalization/moving_mean:0', False),\n",
              " ('batch_normalization/moving_variance:0', False)]"
            ]
          },
          "metadata": {
            "tags": []
          },
          "execution_count": 15
        }
      ]
    },
    {
      "cell_type": "code",
      "metadata": {
        "id": "uGBv9JnVDp_X",
        "colab_type": "code",
        "colab": {
          "base_uri": "https://localhost:8080/",
          "height": 527
        },
        "outputId": "bdb730d1-479d-4873-ab96-789b5d49da17"
      },
      "source": [
        "model.compile(optimizer='rmsprop', loss='sparse_categorical_crossentropy', metrics=['accuracy'])\n",
        "\n",
        "history = model.fit(x_train, y_train, epochs=15, validation_split=0.3)"
      ],
      "execution_count": 16,
      "outputs": [
        {
          "output_type": "stream",
          "text": [
            "Epoch 1/15\n",
            "1313/1313 [==============================] - 9s 7ms/step - loss: 0.0162 - accuracy: 0.9952 - val_loss: 1.3152 - val_accuracy: 0.9710\n",
            "Epoch 2/15\n",
            "1313/1313 [==============================] - 9s 7ms/step - loss: 0.0155 - accuracy: 0.9954 - val_loss: 1.1807 - val_accuracy: 0.9702\n",
            "Epoch 3/15\n",
            "1313/1313 [==============================] - 9s 7ms/step - loss: 0.0142 - accuracy: 0.9951 - val_loss: 0.9502 - val_accuracy: 0.9714\n",
            "Epoch 4/15\n",
            "1313/1313 [==============================] - 10s 7ms/step - loss: 0.0125 - accuracy: 0.9962 - val_loss: 0.9409 - val_accuracy: 0.9723\n",
            "Epoch 5/15\n",
            "1313/1313 [==============================] - 9s 7ms/step - loss: 0.0137 - accuracy: 0.9955 - val_loss: 0.7176 - val_accuracy: 0.9710\n",
            "Epoch 6/15\n",
            "1313/1313 [==============================] - 9s 6ms/step - loss: 0.0137 - accuracy: 0.9956 - val_loss: 0.9661 - val_accuracy: 0.9726\n",
            "Epoch 7/15\n",
            "1313/1313 [==============================] - 9s 7ms/step - loss: 0.0137 - accuracy: 0.9950 - val_loss: 0.9845 - val_accuracy: 0.9729\n",
            "Epoch 8/15\n",
            "1313/1313 [==============================] - 9s 7ms/step - loss: 0.0115 - accuracy: 0.9963 - val_loss: 0.6754 - val_accuracy: 0.9726\n",
            "Epoch 9/15\n",
            "1313/1313 [==============================] - 9s 6ms/step - loss: 0.0102 - accuracy: 0.9965 - val_loss: 0.8672 - val_accuracy: 0.9718\n",
            "Epoch 10/15\n",
            "1313/1313 [==============================] - 9s 7ms/step - loss: 0.0113 - accuracy: 0.9966 - val_loss: 1.3424 - val_accuracy: 0.9741\n",
            "Epoch 11/15\n",
            "1313/1313 [==============================] - 9s 7ms/step - loss: 0.0114 - accuracy: 0.9963 - val_loss: 0.5633 - val_accuracy: 0.9719\n",
            "Epoch 12/15\n",
            "1313/1313 [==============================] - 9s 7ms/step - loss: 0.0096 - accuracy: 0.9966 - val_loss: 0.4832 - val_accuracy: 0.9732\n",
            "Epoch 13/15\n",
            "1313/1313 [==============================] - 9s 7ms/step - loss: 0.0117 - accuracy: 0.9962 - val_loss: 0.6008 - val_accuracy: 0.9738\n",
            "Epoch 14/15\n",
            "1313/1313 [==============================] - 9s 7ms/step - loss: 0.0116 - accuracy: 0.9962 - val_loss: 1.0926 - val_accuracy: 0.9727\n",
            "Epoch 15/15\n",
            "1313/1313 [==============================] - 9s 7ms/step - loss: 0.0114 - accuracy: 0.9961 - val_loss: 0.5144 - val_accuracy: 0.9722\n"
          ],
          "name": "stdout"
        }
      ]
    },
    {
      "cell_type": "code",
      "metadata": {
        "id": "b0Pi0Q-9EF_S",
        "colab_type": "code",
        "colab": {
          "base_uri": "https://localhost:8080/",
          "height": 322
        },
        "outputId": "767c6cea-1a0d-40c1-c43c-f1accd94c3c9"
      },
      "source": [
        "import pandas as pd\n",
        "import matplotlib.pyplot as plt\n",
        "\n",
        "pd.DataFrame(history.history).plot(figsize=(8,5))\n",
        "plt.show()"
      ],
      "execution_count": 20,
      "outputs": [
        {
          "output_type": "display_data",
          "data": {
            "image/png": "[encoded data removed]",
            "text/plain": [
              "<Figure size 576x360 with 1 Axes>"
            ]
          },
          "metadata": {
            "tags": [],
            "needs_background": "light"
          }
        }
      ]
    },
    {
      "cell_type": "code",
      "metadata": {
        "id": "z6sCr_iJEiGT",
        "colab_type": "code",
        "colab": {
          "base_uri": "https://localhost:8080/",
          "height": 459
        },
        "outputId": "51761950-92ec-45db-fda2-d46172af9a38"
      },
      "source": [
        "model = keras.models.Sequential([\n",
        "    keras.layers.Flatten(input_shape=[28, 28]),\n",
        "    keras.layers.BatchNormalization(),\n",
        "    keras.layers.Dense(128, kernel_initializer='he_normal', use_bias=False),\n",
        "    keras.layers.BatchNormalization(),\n",
        "    keras.layers.Activation('elu'),\n",
        "    keras.layers.Dense(128, kernel_initializer='he_normal', use_bias=False),\n",
        "    keras.layers.BatchNormalization(),\n",
        "    keras.layers.Activation('elu'),\n",
        "    keras.layers.Dense(10, activation='softmax')\n",
        "])\n",
        "\n",
        "model.summary()"
      ],
      "execution_count": 22,
      "outputs": [
        {
          "output_type": "stream",
          "text": [
            "Model: \"sequential_1\"\n",
            "_________________________________________________________________\n",
            "Layer (type)                 Output Shape              Param #   \n",
            "=================================================================\n",
            "flatten_2 (Flatten)          (None, 784)               0         \n",
            "_________________________________________________________________\n",
            "batch_normalization_3 (Batch (None, 784)               3136      \n",
            "_________________________________________________________________\n",
            "dense_3 (Dense)              (None, 128)               100352    \n",
            "_________________________________________________________________\n",
            "batch_normalization_4 (Batch (None, 128)               512       \n",
            "_________________________________________________________________\n",
            "activation (Activation)      (None, 128)               0         \n",
            "_________________________________________________________________\n",
            "dense_4 (Dense)              (None, 128)               16384     \n",
            "_________________________________________________________________\n",
            "batch_normalization_5 (Batch (None, 128)               512       \n",
            "_________________________________________________________________\n",
            "activation_1 (Activation)    (None, 128)               0         \n",
            "_________________________________________________________________\n",
            "dense_5 (Dense)              (None, 10)                1290      \n",
            "=================================================================\n",
            "Total params: 122,186\n",
            "Trainable params: 120,106\n",
            "Non-trainable params: 2,080\n",
            "_________________________________________________________________\n"
          ],
          "name": "stdout"
        }
      ]
    },
    {
      "cell_type": "code",
      "metadata": {
        "id": "JMQtALeUK9A3",
        "colab_type": "code",
        "colab": {
          "base_uri": "https://localhost:8080/",
          "height": 697
        },
        "outputId": "cad9ebf8-8f3b-4a85-b4c8-478cfda084d8"
      },
      "source": [
        "model.compile(optimizer='rmsprop', loss='sparse_categorical_crossentropy', metrics=['accuracy'])\n",
        "\n",
        "hisotry = model.fit(x_train, y_train, epochs=20, validation_split=0.2)"
      ],
      "execution_count": 24,
      "outputs": [
        {
          "output_type": "stream",
          "text": [
            "Epoch 1/20\n",
            "1500/1500 [==============================] - 6s 4ms/step - loss: 0.3042 - accuracy: 0.9105 - val_loss: 0.2217 - val_accuracy: 0.9487\n",
            "Epoch 2/20\n",
            "1500/1500 [==============================] - 6s 4ms/step - loss: 0.1689 - accuracy: 0.9491 - val_loss: 0.2386 - val_accuracy: 0.9577\n",
            "Epoch 3/20\n",
            "1500/1500 [==============================] - 6s 4ms/step - loss: 0.1276 - accuracy: 0.9606 - val_loss: 0.2217 - val_accuracy: 0.9659\n",
            "Epoch 4/20\n",
            "1500/1500 [==============================] - 6s 4ms/step - loss: 0.1051 - accuracy: 0.9679 - val_loss: 0.2336 - val_accuracy: 0.9623\n",
            "Epoch 5/20\n",
            "1500/1500 [==============================] - 6s 4ms/step - loss: 0.0910 - accuracy: 0.9715 - val_loss: 0.2002 - val_accuracy: 0.9665\n",
            "Epoch 6/20\n",
            "1500/1500 [==============================] - 6s 4ms/step - loss: 0.0809 - accuracy: 0.9747 - val_loss: 0.2861 - val_accuracy: 0.9658\n",
            "Epoch 7/20\n",
            "1500/1500 [==============================] - 7s 4ms/step - loss: 0.0722 - accuracy: 0.9774 - val_loss: 0.3559 - val_accuracy: 0.9672\n",
            "Epoch 8/20\n",
            "1500/1500 [==============================] - 6s 4ms/step - loss: 0.0652 - accuracy: 0.9788 - val_loss: 0.2548 - val_accuracy: 0.9613\n",
            "Epoch 9/20\n",
            "1500/1500 [==============================] - 7s 4ms/step - loss: 0.0623 - accuracy: 0.9799 - val_loss: 0.3245 - val_accuracy: 0.9659\n",
            "Epoch 10/20\n",
            "1500/1500 [==============================] - 6s 4ms/step - loss: 0.0572 - accuracy: 0.9820 - val_loss: 0.3459 - val_accuracy: 0.9664\n",
            "Epoch 11/20\n",
            "1500/1500 [==============================] - 6s 4ms/step - loss: 0.0510 - accuracy: 0.9832 - val_loss: 0.3528 - val_accuracy: 0.9653\n",
            "Epoch 12/20\n",
            "1500/1500 [==============================] - 6s 4ms/step - loss: 0.0462 - accuracy: 0.9847 - val_loss: 0.3918 - val_accuracy: 0.9667\n",
            "Epoch 13/20\n",
            "1500/1500 [==============================] - 6s 4ms/step - loss: 0.0469 - accuracy: 0.9846 - val_loss: 0.2609 - val_accuracy: 0.9678\n",
            "Epoch 14/20\n",
            "1500/1500 [==============================] - 6s 4ms/step - loss: 0.0421 - accuracy: 0.9860 - val_loss: 0.3204 - val_accuracy: 0.9663\n",
            "Epoch 15/20\n",
            "1500/1500 [==============================] - 6s 4ms/step - loss: 0.0399 - accuracy: 0.9876 - val_loss: 0.2637 - val_accuracy: 0.9693\n",
            "Epoch 16/20\n",
            "1500/1500 [==============================] - 6s 4ms/step - loss: 0.0372 - accuracy: 0.9876 - val_loss: 0.2399 - val_accuracy: 0.9707\n",
            "Epoch 17/20\n",
            "1500/1500 [==============================] - 6s 4ms/step - loss: 0.0358 - accuracy: 0.9881 - val_loss: 0.2510 - val_accuracy: 0.9703\n",
            "Epoch 18/20\n",
            "1500/1500 [==============================] - 6s 4ms/step - loss: 0.0357 - accuracy: 0.9879 - val_loss: 0.3101 - val_accuracy: 0.9688\n",
            "Epoch 19/20\n",
            "1500/1500 [==============================] - 6s 4ms/step - loss: 0.0318 - accuracy: 0.9894 - val_loss: 0.2985 - val_accuracy: 0.9711\n",
            "Epoch 20/20\n",
            "1500/1500 [==============================] - 6s 4ms/step - loss: 0.0342 - accuracy: 0.9891 - val_loss: 0.2580 - val_accuracy: 0.9659\n"
          ],
          "name": "stdout"
        }
      ]
    },
    {
      "cell_type": "code",
      "metadata": {
        "id": "DlvseEzjLXZo",
        "colab_type": "code",
        "colab": {
          "base_uri": "https://localhost:8080/",
          "height": 322
        },
        "outputId": "c27eba3f-75a6-4a7c-beda-0379dae4079b"
      },
      "source": [
        "pd.DataFrame(history.history).plot(figsize=(8,5))\n",
        "plt.show()"
      ],
      "execution_count": 27,
      "outputs": [
        {
          "output_type": "display_data",
          "data": {
            "image/png": "[encoded data removed]",
            "text/plain": [
              "<Figure size 576x360 with 1 Axes>"
            ]
          },
          "metadata": {
            "tags": [],
            "needs_background": "light"
          }
        }
      ]
    },
    {
      "cell_type": "code",
      "metadata": {
        "id": "-7Ef4TLkLr-M",
        "colab_type": "code",
        "colab": {}
      },
      "source": [
        ""
      ],
      "execution_count": null,
      "outputs": []
    }
  ]
}