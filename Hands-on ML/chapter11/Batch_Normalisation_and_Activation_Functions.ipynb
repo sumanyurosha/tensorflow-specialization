{
  "nbformat": 4,
  "nbformat_minor": 0,
  "metadata": {
    "colab": {
      "name": "Batch Normalisation and Activation Functions.ipynb",
      "provenance": [],
      "authorship_tag": "ABX9TyOEjU0u7zXOcSSYa9rQ5nD/",
      "include_colab_link": true
    },
    "kernelspec": {
      "name": "python3",
      "display_name": "Python 3"
    }
  },
  "cells": [
    {
      "cell_type": "markdown",
      "metadata": {
        "id": "view-in-github",
        "colab_type": "text"
      },
      "source": [
        "<a href=\"https://colab.research.google.com/github/sumanyurosha/tensorflow-specialization/blob/master/Hands-on%20ML/chapter11/Batch_Normalisation_and_Activation_Functions.ipynb\" target=\"_parent\"><img src=\"https://colab.research.google.com/assets/colab-badge.svg\" alt=\"Open In Colab\"/></a>"
      ]
    },
    {
      "cell_type": "code",
      "metadata": {
        "id": "KlpPbz0J8U5A",
        "colab_type": "code",
        "colab": {}
      },
      "source": [
        "from tensorflow import keras\n",
        "from keras.datasets import mnist"
      ],
      "execution_count": 3,
      "outputs": []
    },
    {
      "cell_type": "code",
      "metadata": {
        "id": "riz-qXPO8y-j",
        "colab_type": "code",
        "colab": {
          "base_uri": "https://localhost:8080/",
          "height": 68
        },
        "outputId": "4bbec7ba-e1ec-43f1-8c60-ed4930ca3242"
      },
      "source": [
        "(x_train, y_train), (x_test, y_test) = mnist.load_data()\n",
        "print(x_train.shape, x_test.shape)"
      ],
      "execution_count": 4,
      "outputs": [
        {
          "output_type": "stream",
          "text": [
            "Downloading data from https://storage.googleapis.com/tensorflow/tf-keras-datasets/mnist.npz\n",
            "11493376/11490434 [==============================] - 0s 0us/step\n",
            "(60000, 28, 28) (10000, 28, 28)\n"
          ],
          "name": "stdout"
        }
      ]
    },
    {
      "cell_type": "code",
      "metadata": {
        "id": "WjarkXtb8442",
        "colab_type": "code",
        "colab": {
          "base_uri": "https://localhost:8080/",
          "height": 391
        },
        "outputId": "0d4371ef-b990-4118-fea6-1d18b060171c"
      },
      "source": [
        "model = keras.models.Sequential([\n",
        "    keras.layers.Flatten(input_shape=[28, 28]),\n",
        "    keras.layers.BatchNormalization(),\n",
        "    keras.layers.Dense(300, activation='elu', kernel_initializer='he_normal'),\n",
        "    keras.layers.BatchNormalization(),\n",
        "    keras.layers.Dense(100, activation='elu', kernel_initializer='he_normal'),\n",
        "    keras.layers.BatchNormalization(),\n",
        "    keras.layers.Dense(10, activation='softmax')\n",
        "])\n",
        "\n",
        "model.summary()"
      ],
      "execution_count": 5,
      "outputs": [
        {
          "output_type": "stream",
          "text": [
            "Model: \"sequential\"\n",
            "_________________________________________________________________\n",
            "Layer (type)                 Output Shape              Param #   \n",
            "=================================================================\n",
            "flatten (Flatten)            (None, 784)               0         \n",
            "_________________________________________________________________\n",
            "batch_normalization (BatchNo (None, 784)               3136      \n",
            "_________________________________________________________________\n",
            "dense (Dense)                (None, 300)               235500    \n",
            "_________________________________________________________________\n",
            "batch_normalization_1 (Batch (None, 300)               1200      \n",
            "_________________________________________________________________\n",
            "dense_1 (Dense)              (None, 100)               30100     \n",
            "_________________________________________________________________\n",
            "batch_normalization_2 (Batch (None, 100)               400       \n",
            "_________________________________________________________________\n",
            "dense_2 (Dense)              (None, 10)                1010      \n",
            "=================================================================\n",
            "Total params: 271,346\n",
            "Trainable params: 268,978\n",
            "Non-trainable params: 2,368\n",
            "_________________________________________________________________\n"
          ],
          "name": "stdout"
        }
      ]
    },
    {
      "cell_type": "code",
      "metadata": {
        "id": "aWBA-Fo6E0Um",
        "colab_type": "code",
        "colab": {
          "base_uri": "https://localhost:8080/",
          "height": 85
        },
        "outputId": "f0095309-cd38-4c6c-f652-b72613c95838"
      },
      "source": [
        "[(var.name, var.trainable) for var in model.layers[1].variables]"
      ],
      "execution_count": 6,
      "outputs": [
        {
          "output_type": "execute_result",
          "data": {
            "text/plain": [
              "[('batch_normalization/gamma:0', True),\n",
              " ('batch_normalization/beta:0', True),\n",
              " ('batch_normalization/moving_mean:0', False),\n",
              " ('batch_normalization/moving_variance:0', False)]"
            ]
          },
          "metadata": {
            "tags": []
          },
          "execution_count": 6
        }
      ]
    },
    {
      "cell_type": "code",
      "metadata": {
        "id": "uGBv9JnVDp_X",
        "colab_type": "code",
        "colab": {
          "base_uri": "https://localhost:8080/",
          "height": 697
        },
        "outputId": "69cc1143-bf19-42fc-adb7-a4253a15617c"
      },
      "source": [
        "model.compile(optimizer='rmsprop', loss='sparse_categorical_crossentropy', metrics=['accuracy'])\n",
        "\n",
        "history = model.fit(x_train, y_train, epochs=20, validation_split=0.2)"
      ],
      "execution_count": 7,
      "outputs": [
        {
          "output_type": "stream",
          "text": [
            "Epoch 1/20\n",
            "1500/1500 [==============================] - 8s 5ms/step - loss: 0.2475 - accuracy: 0.9249 - val_loss: 0.6180 - val_accuracy: 0.9615\n",
            "Epoch 2/20\n",
            "1500/1500 [==============================] - 8s 5ms/step - loss: 0.1153 - accuracy: 0.9656 - val_loss: 0.5939 - val_accuracy: 0.9673\n",
            "Epoch 3/20\n",
            "1500/1500 [==============================] - 8s 5ms/step - loss: 0.0855 - accuracy: 0.9747 - val_loss: 0.6137 - val_accuracy: 0.9682\n",
            "Epoch 4/20\n",
            "1500/1500 [==============================] - 8s 5ms/step - loss: 0.0671 - accuracy: 0.9784 - val_loss: 1.2358 - val_accuracy: 0.9711\n",
            "Epoch 5/20\n",
            "1500/1500 [==============================] - 8s 5ms/step - loss: 0.0559 - accuracy: 0.9820 - val_loss: 1.8991 - val_accuracy: 0.9717\n",
            "Epoch 6/20\n",
            "1500/1500 [==============================] - 8s 5ms/step - loss: 0.0495 - accuracy: 0.9845 - val_loss: 0.8888 - val_accuracy: 0.9739\n",
            "Epoch 7/20\n",
            "1500/1500 [==============================] - 8s 5ms/step - loss: 0.0401 - accuracy: 0.9870 - val_loss: 1.0869 - val_accuracy: 0.9749\n",
            "Epoch 8/20\n",
            "1500/1500 [==============================] - 8s 5ms/step - loss: 0.0364 - accuracy: 0.9884 - val_loss: 1.0362 - val_accuracy: 0.9740\n",
            "Epoch 9/20\n",
            "1500/1500 [==============================] - 8s 5ms/step - loss: 0.0303 - accuracy: 0.9898 - val_loss: 1.3385 - val_accuracy: 0.9722\n",
            "Epoch 10/20\n",
            "1500/1500 [==============================] - 8s 5ms/step - loss: 0.0292 - accuracy: 0.9907 - val_loss: 0.9920 - val_accuracy: 0.9758\n",
            "Epoch 11/20\n",
            "1500/1500 [==============================] - 8s 5ms/step - loss: 0.0273 - accuracy: 0.9912 - val_loss: 0.8093 - val_accuracy: 0.9753\n",
            "Epoch 12/20\n",
            "1500/1500 [==============================] - 8s 5ms/step - loss: 0.0268 - accuracy: 0.9911 - val_loss: 1.4518 - val_accuracy: 0.9757\n",
            "Epoch 13/20\n",
            "1500/1500 [==============================] - 8s 5ms/step - loss: 0.0228 - accuracy: 0.9929 - val_loss: 1.7649 - val_accuracy: 0.9752\n",
            "Epoch 14/20\n",
            "1500/1500 [==============================] - 8s 5ms/step - loss: 0.0224 - accuracy: 0.9922 - val_loss: 1.7821 - val_accuracy: 0.9728\n",
            "Epoch 15/20\n",
            "1500/1500 [==============================] - 8s 5ms/step - loss: 0.0205 - accuracy: 0.9934 - val_loss: 2.2327 - val_accuracy: 0.9758\n",
            "Epoch 16/20\n",
            "1500/1500 [==============================] - 8s 5ms/step - loss: 0.0183 - accuracy: 0.9939 - val_loss: 0.8941 - val_accuracy: 0.9758\n",
            "Epoch 17/20\n",
            "1500/1500 [==============================] - 8s 5ms/step - loss: 0.0173 - accuracy: 0.9943 - val_loss: 1.3618 - val_accuracy: 0.9753\n",
            "Epoch 18/20\n",
            "1500/1500 [==============================] - 8s 5ms/step - loss: 0.0178 - accuracy: 0.9942 - val_loss: 0.9206 - val_accuracy: 0.9769\n",
            "Epoch 19/20\n",
            "1500/1500 [==============================] - 8s 5ms/step - loss: 0.0178 - accuracy: 0.9947 - val_loss: 0.5525 - val_accuracy: 0.9758\n",
            "Epoch 20/20\n",
            "1500/1500 [==============================] - 8s 5ms/step - loss: 0.0163 - accuracy: 0.9946 - val_loss: 1.4413 - val_accuracy: 0.9754\n"
          ],
          "name": "stdout"
        }
      ]
    },
    {
      "cell_type": "code",
      "metadata": {
        "id": "ZgULhkhjiYkk",
        "colab_type": "code",
        "colab": {
          "base_uri": "https://localhost:8080/",
          "height": 51
        },
        "outputId": "568cc641-2a75-4c75-dc46-da35a800f4f2"
      },
      "source": [
        "model.evaluate(x_test, y_test)"
      ],
      "execution_count": 8,
      "outputs": [
        {
          "output_type": "stream",
          "text": [
            "313/313 [==============================] - 1s 2ms/step - loss: 0.9404 - accuracy: 0.9762\n"
          ],
          "name": "stdout"
        },
        {
          "output_type": "execute_result",
          "data": {
            "text/plain": [
              "[0.9404024481773376, 0.9761999845504761]"
            ]
          },
          "metadata": {
            "tags": []
          },
          "execution_count": 8
        }
      ]
    },
    {
      "cell_type": "code",
      "metadata": {
        "id": "b0Pi0Q-9EF_S",
        "colab_type": "code",
        "colab": {
          "base_uri": "https://localhost:8080/",
          "height": 320
        },
        "outputId": "dafb8b40-eef0-48a0-f6f4-8c0f55cbc3f2"
      },
      "source": [
        "import pandas as pd\n",
        "import matplotlib.pyplot as plt\n",
        "\n",
        "pd.DataFrame(history.history).plot(figsize=(8,5))\n",
        "plt.show()"
      ],
      "execution_count": 9,
      "outputs": [
        {
          "output_type": "display_data",
          "data": {
            "image/png": "[encoded data removed]",
            "text/plain": [
              "<Figure size 576x360 with 1 Axes>"
            ]
          },
          "metadata": {
            "tags": [],
            "needs_background": "light"
          }
        }
      ]
    },
    {
      "cell_type": "code",
      "metadata": {
        "id": "z6sCr_iJEiGT",
        "colab_type": "code",
        "colab": {
          "base_uri": "https://localhost:8080/",
          "height": 459
        },
        "outputId": "629774f2-af78-4420-edb1-d3b2dea5f5e9"
      },
      "source": [
        "model = keras.models.Sequential([\n",
        "    keras.layers.Flatten(input_shape=[28, 28]),\n",
        "    keras.layers.BatchNormalization(),\n",
        "    keras.layers.Dense(128, kernel_initializer='he_normal', use_bias=False),\n",
        "    keras.layers.BatchNormalization(),\n",
        "    keras.layers.Activation('elu'),\n",
        "    keras.layers.Dense(128, kernel_initializer='he_normal', use_bias=False),\n",
        "    keras.layers.BatchNormalization(),\n",
        "    keras.layers.Activation('elu'),\n",
        "    keras.layers.Dense(10, activation='softmax')\n",
        "])\n",
        "\n",
        "model.summary()"
      ],
      "execution_count": 10,
      "outputs": [
        {
          "output_type": "stream",
          "text": [
            "Model: \"sequential_1\"\n",
            "_________________________________________________________________\n",
            "Layer (type)                 Output Shape              Param #   \n",
            "=================================================================\n",
            "flatten_1 (Flatten)          (None, 784)               0         \n",
            "_________________________________________________________________\n",
            "batch_normalization_3 (Batch (None, 784)               3136      \n",
            "_________________________________________________________________\n",
            "dense_3 (Dense)              (None, 128)               100352    \n",
            "_________________________________________________________________\n",
            "batch_normalization_4 (Batch (None, 128)               512       \n",
            "_________________________________________________________________\n",
            "activation (Activation)      (None, 128)               0         \n",
            "_________________________________________________________________\n",
            "dense_4 (Dense)              (None, 128)               16384     \n",
            "_________________________________________________________________\n",
            "batch_normalization_5 (Batch (None, 128)               512       \n",
            "_________________________________________________________________\n",
            "activation_1 (Activation)    (None, 128)               0         \n",
            "_________________________________________________________________\n",
            "dense_5 (Dense)              (None, 10)                1290      \n",
            "=================================================================\n",
            "Total params: 122,186\n",
            "Trainable params: 120,106\n",
            "Non-trainable params: 2,080\n",
            "_________________________________________________________________\n"
          ],
          "name": "stdout"
        }
      ]
    },
    {
      "cell_type": "code",
      "metadata": {
        "id": "JMQtALeUK9A3",
        "colab_type": "code",
        "colab": {
          "base_uri": "https://localhost:8080/",
          "height": 697
        },
        "outputId": "88d1e477-f8eb-4e2b-cd52-79361e263565"
      },
      "source": [
        "model.compile(optimizer='rmsprop', loss='sparse_categorical_crossentropy', metrics=['accuracy'])\n",
        "\n",
        "hisotry = model.fit(x_train, y_train, epochs=20, validation_split=0.2)"
      ],
      "execution_count": 11,
      "outputs": [
        {
          "output_type": "stream",
          "text": [
            "Epoch 1/20\n",
            "1500/1500 [==============================] - 5s 3ms/step - loss: 0.3012 - accuracy: 0.9096 - val_loss: 0.2324 - val_accuracy: 0.9488\n",
            "Epoch 2/20\n",
            "1500/1500 [==============================] - 5s 3ms/step - loss: 0.1685 - accuracy: 0.9491 - val_loss: 0.2004 - val_accuracy: 0.9582\n",
            "Epoch 3/20\n",
            "1500/1500 [==============================] - 5s 3ms/step - loss: 0.1310 - accuracy: 0.9600 - val_loss: 0.2645 - val_accuracy: 0.9629\n",
            "Epoch 4/20\n",
            "1500/1500 [==============================] - 5s 3ms/step - loss: 0.1088 - accuracy: 0.9664 - val_loss: 0.2467 - val_accuracy: 0.9629\n",
            "Epoch 5/20\n",
            "1500/1500 [==============================] - 5s 3ms/step - loss: 0.0925 - accuracy: 0.9720 - val_loss: 0.2311 - val_accuracy: 0.9661\n",
            "Epoch 6/20\n",
            "1500/1500 [==============================] - 5s 3ms/step - loss: 0.0796 - accuracy: 0.9755 - val_loss: 0.3108 - val_accuracy: 0.9636\n",
            "Epoch 7/20\n",
            "1500/1500 [==============================] - 5s 3ms/step - loss: 0.0740 - accuracy: 0.9772 - val_loss: 0.2909 - val_accuracy: 0.9690\n",
            "Epoch 8/20\n",
            "1500/1500 [==============================] - 5s 3ms/step - loss: 0.0679 - accuracy: 0.9792 - val_loss: 0.2803 - val_accuracy: 0.9674\n",
            "Epoch 9/20\n",
            "1500/1500 [==============================] - 5s 3ms/step - loss: 0.0605 - accuracy: 0.9810 - val_loss: 0.4158 - val_accuracy: 0.9678\n",
            "Epoch 10/20\n",
            "1500/1500 [==============================] - 5s 3ms/step - loss: 0.0570 - accuracy: 0.9825 - val_loss: 0.4313 - val_accuracy: 0.9663\n",
            "Epoch 11/20\n",
            "1500/1500 [==============================] - 5s 3ms/step - loss: 0.0539 - accuracy: 0.9825 - val_loss: 0.3482 - val_accuracy: 0.9681\n",
            "Epoch 12/20\n",
            "1500/1500 [==============================] - 5s 3ms/step - loss: 0.0485 - accuracy: 0.9846 - val_loss: 0.3662 - val_accuracy: 0.9672\n",
            "Epoch 13/20\n",
            "1500/1500 [==============================] - 5s 3ms/step - loss: 0.0453 - accuracy: 0.9854 - val_loss: 0.3763 - val_accuracy: 0.9679\n",
            "Epoch 14/20\n",
            "1500/1500 [==============================] - 5s 3ms/step - loss: 0.0433 - accuracy: 0.9859 - val_loss: 0.3798 - val_accuracy: 0.9682\n",
            "Epoch 15/20\n",
            "1500/1500 [==============================] - 5s 3ms/step - loss: 0.0394 - accuracy: 0.9872 - val_loss: 0.4977 - val_accuracy: 0.9663\n",
            "Epoch 16/20\n",
            "1500/1500 [==============================] - 5s 3ms/step - loss: 0.0394 - accuracy: 0.9873 - val_loss: 0.5154 - val_accuracy: 0.9681\n",
            "Epoch 17/20\n",
            "1500/1500 [==============================] - 5s 3ms/step - loss: 0.0375 - accuracy: 0.9874 - val_loss: 0.5432 - val_accuracy: 0.9672\n",
            "Epoch 18/20\n",
            "1500/1500 [==============================] - 5s 3ms/step - loss: 0.0375 - accuracy: 0.9879 - val_loss: 0.4718 - val_accuracy: 0.9679\n",
            "Epoch 19/20\n",
            "1500/1500 [==============================] - 5s 3ms/step - loss: 0.0335 - accuracy: 0.9888 - val_loss: 0.5211 - val_accuracy: 0.9668\n",
            "Epoch 20/20\n",
            "1500/1500 [==============================] - 5s 3ms/step - loss: 0.0331 - accuracy: 0.9890 - val_loss: 0.3870 - val_accuracy: 0.9674\n"
          ],
          "name": "stdout"
        }
      ]
    },
    {
      "cell_type": "code",
      "metadata": {
        "id": "lrE1kX4jiU5v",
        "colab_type": "code",
        "colab": {
          "base_uri": "https://localhost:8080/",
          "height": 51
        },
        "outputId": "e2eed4bb-f4c5-43b5-86a5-156dd4950eba"
      },
      "source": [
        "model.evaluate(x_test, y_test)"
      ],
      "execution_count": 12,
      "outputs": [
        {
          "output_type": "stream",
          "text": [
            "313/313 [==============================] - 0s 2ms/step - loss: 0.4427 - accuracy: 0.9686\n"
          ],
          "name": "stdout"
        },
        {
          "output_type": "execute_result",
          "data": {
            "text/plain": [
              "[0.442717581987381, 0.9685999751091003]"
            ]
          },
          "metadata": {
            "tags": []
          },
          "execution_count": 12
        }
      ]
    },
    {
      "cell_type": "code",
      "metadata": {
        "id": "DlvseEzjLXZo",
        "colab_type": "code",
        "colab": {
          "base_uri": "https://localhost:8080/",
          "height": 320
        },
        "outputId": "f18999f8-0e51-4793-bc54-ee95520f2c11"
      },
      "source": [
        "pd.DataFrame(history.history).plot(figsize=(8,5))\n",
        "plt.show()"
      ],
      "execution_count": 13,
      "outputs": [
        {
          "output_type": "display_data",
          "data": {
            "image/png": "[encoded data removed]",
            "text/plain": [
              "<Figure size 576x360 with 1 Axes>"
            ]
          },
          "metadata": {
            "tags": [],
            "needs_background": "light"
          }
        }
      ]
    },
    {
      "cell_type": "code",
      "metadata": {
        "id": "-7Ef4TLkLr-M",
        "colab_type": "code",
        "colab": {
          "base_uri": "https://localhost:8080/",
          "height": 289
        },
        "outputId": "177d1871-f1a2-435e-ba53-1f33b76d5231"
      },
      "source": [
        "x_train = x_train/255.\n",
        "x_test = x_test/255.\n",
        "\n",
        "model = keras.models.Sequential([\n",
        "    keras.layers.Flatten(input_shape=[28, 28]),\n",
        "    keras.layers.Dense(128, activation='relu'),\n",
        "    keras.layers.Dense(128, activation='relu'),\n",
        "    keras.layers.Dense(10, activation='softmax')\n",
        "])\n",
        "\n",
        "model.summary()"
      ],
      "execution_count": 14,
      "outputs": [
        {
          "output_type": "stream",
          "text": [
            "Model: \"sequential_2\"\n",
            "_________________________________________________________________\n",
            "Layer (type)                 Output Shape              Param #   \n",
            "=================================================================\n",
            "flatten_2 (Flatten)          (None, 784)               0         \n",
            "_________________________________________________________________\n",
            "dense_6 (Dense)              (None, 128)               100480    \n",
            "_________________________________________________________________\n",
            "dense_7 (Dense)              (None, 128)               16512     \n",
            "_________________________________________________________________\n",
            "dense_8 (Dense)              (None, 10)                1290      \n",
            "=================================================================\n",
            "Total params: 118,282\n",
            "Trainable params: 118,282\n",
            "Non-trainable params: 0\n",
            "_________________________________________________________________\n"
          ],
          "name": "stdout"
        }
      ]
    },
    {
      "cell_type": "code",
      "metadata": {
        "id": "lBXeQEuth4Ip",
        "colab_type": "code",
        "colab": {
          "base_uri": "https://localhost:8080/",
          "height": 697
        },
        "outputId": "8f63ff01-11c9-40e3-b7a7-9278d365b0c2"
      },
      "source": [
        "model.compile(optimizer='rmsprop', loss='sparse_categorical_crossentropy', metrics=['accuracy'])\n",
        "\n",
        "history = model.fit(x_train, y_train, epochs=20, validation_split=0.2)"
      ],
      "execution_count": 15,
      "outputs": [
        {
          "output_type": "stream",
          "text": [
            "Epoch 1/20\n",
            "1500/1500 [==============================] - 4s 3ms/step - loss: 0.2482 - accuracy: 0.9258 - val_loss: 0.1333 - val_accuracy: 0.9596\n",
            "Epoch 2/20\n",
            "1500/1500 [==============================] - 4s 3ms/step - loss: 0.1097 - accuracy: 0.9666 - val_loss: 0.1161 - val_accuracy: 0.9686\n",
            "Epoch 3/20\n",
            "1500/1500 [==============================] - 4s 3ms/step - loss: 0.0798 - accuracy: 0.9764 - val_loss: 0.1139 - val_accuracy: 0.9703\n",
            "Epoch 4/20\n",
            "1500/1500 [==============================] - 4s 2ms/step - loss: 0.0648 - accuracy: 0.9808 - val_loss: 0.1092 - val_accuracy: 0.9737\n",
            "Epoch 5/20\n",
            "1500/1500 [==============================] - 4s 3ms/step - loss: 0.0550 - accuracy: 0.9850 - val_loss: 0.1124 - val_accuracy: 0.9726\n",
            "Epoch 6/20\n",
            "1500/1500 [==============================] - 4s 3ms/step - loss: 0.0444 - accuracy: 0.9874 - val_loss: 0.1176 - val_accuracy: 0.9730\n",
            "Epoch 7/20\n",
            "1500/1500 [==============================] - 4s 3ms/step - loss: 0.0415 - accuracy: 0.9884 - val_loss: 0.1134 - val_accuracy: 0.9750\n",
            "Epoch 8/20\n",
            "1500/1500 [==============================] - 4s 3ms/step - loss: 0.0347 - accuracy: 0.9903 - val_loss: 0.1278 - val_accuracy: 0.9754\n",
            "Epoch 9/20\n",
            "1500/1500 [==============================] - 4s 3ms/step - loss: 0.0275 - accuracy: 0.9922 - val_loss: 0.1500 - val_accuracy: 0.9742\n",
            "Epoch 10/20\n",
            "1500/1500 [==============================] - 4s 3ms/step - loss: 0.0242 - accuracy: 0.9932 - val_loss: 0.1450 - val_accuracy: 0.9756\n",
            "Epoch 11/20\n",
            "1500/1500 [==============================] - 4s 3ms/step - loss: 0.0212 - accuracy: 0.9939 - val_loss: 0.1739 - val_accuracy: 0.9753\n",
            "Epoch 12/20\n",
            "1500/1500 [==============================] - 4s 3ms/step - loss: 0.0187 - accuracy: 0.9948 - val_loss: 0.1827 - val_accuracy: 0.9747\n",
            "Epoch 13/20\n",
            "1500/1500 [==============================] - 4s 3ms/step - loss: 0.0174 - accuracy: 0.9953 - val_loss: 0.1824 - val_accuracy: 0.9739\n",
            "Epoch 14/20\n",
            "1500/1500 [==============================] - 4s 3ms/step - loss: 0.0150 - accuracy: 0.9959 - val_loss: 0.1960 - val_accuracy: 0.9730\n",
            "Epoch 15/20\n",
            "1500/1500 [==============================] - 4s 3ms/step - loss: 0.0125 - accuracy: 0.9962 - val_loss: 0.2369 - val_accuracy: 0.9704\n",
            "Epoch 16/20\n",
            "1500/1500 [==============================] - 4s 3ms/step - loss: 0.0119 - accuracy: 0.9966 - val_loss: 0.1959 - val_accuracy: 0.9749\n",
            "Epoch 17/20\n",
            "1500/1500 [==============================] - 4s 3ms/step - loss: 0.0117 - accuracy: 0.9968 - val_loss: 0.2097 - val_accuracy: 0.9747\n",
            "Epoch 18/20\n",
            "1500/1500 [==============================] - 4s 3ms/step - loss: 0.0098 - accuracy: 0.9975 - val_loss: 0.2775 - val_accuracy: 0.9702\n",
            "Epoch 19/20\n",
            "1500/1500 [==============================] - 4s 3ms/step - loss: 0.0085 - accuracy: 0.9975 - val_loss: 0.2442 - val_accuracy: 0.9731\n",
            "Epoch 20/20\n",
            "1500/1500 [==============================] - 4s 3ms/step - loss: 0.0083 - accuracy: 0.9978 - val_loss: 0.2647 - val_accuracy: 0.9733\n"
          ],
          "name": "stdout"
        }
      ]
    },
    {
      "cell_type": "code",
      "metadata": {
        "id": "uTtZCdswiMGC",
        "colab_type": "code",
        "colab": {
          "base_uri": "https://localhost:8080/",
          "height": 51
        },
        "outputId": "29ab2ad9-0654-4385-d390-c5eb052eb7b1"
      },
      "source": [
        "model.evaluate(x_test, y_test)"
      ],
      "execution_count": 16,
      "outputs": [
        {
          "output_type": "stream",
          "text": [
            "313/313 [==============================] - 0s 1ms/step - loss: 0.2408 - accuracy: 0.9746\n"
          ],
          "name": "stdout"
        },
        {
          "output_type": "execute_result",
          "data": {
            "text/plain": [
              "[0.24081891775131226, 0.9746000170707703]"
            ]
          },
          "metadata": {
            "tags": []
          },
          "execution_count": 16
        }
      ]
    }
  ]
}