{
  "nbformat": 4,
  "nbformat_minor": 0,
  "metadata": {
    "colab": {
      "name": "Forecasting a Time Series.ipynb",
      "provenance": [],
      "authorship_tag": "ABX9TyOgZCwAFqIcYtK2TKJXIBxU",
      "include_colab_link": true
    },
    "kernelspec": {
      "name": "python3",
      "display_name": "Python 3"
    },
    "accelerator": "GPU"
  },
  "cells": [
    {
      "cell_type": "markdown",
      "metadata": {
        "id": "view-in-github",
        "colab_type": "text"
      },
      "source": [
        "<a href=\"https://colab.research.google.com/github/sumanyurosha/tensorflow-specialization/blob/master/Hands-on%20ML/chapter15/Forecasting_a_Time_Series.ipynb\" target=\"_parent\"><img src=\"https://colab.research.google.com/assets/colab-badge.svg\" alt=\"Open In Colab\"/></a>"
      ]
    },
    {
      "cell_type": "code",
      "metadata": {
        "id": "xg44UIId78uc"
      },
      "source": [
        "import numpy as np"
      ],
      "execution_count": 1,
      "outputs": []
    },
    {
      "cell_type": "code",
      "metadata": {
        "id": "tIDp7N6yqZ4t"
      },
      "source": [
        "def generate_time_series(batch_size, n_steps):\n",
        "    freq1, freq2, offset1, offset2 = np.random.rand(4, batch_size, 1)\n",
        "    time = np.linspace(0, 1, n_steps)\n",
        "    series = 0.5 * np.sin((time - offset1) * (freq1*10 + 10)) # wave1\n",
        "    series += 0.2 * np.sin((time - offset2) * (freq2*20 + 20)) # wave2\n",
        "    series += 0.1 * (np.random.rand(batch_size, n_steps) - 0.5) # noise\n",
        "    return series[..., np.newaxis].astype(np.float32)"
      ],
      "execution_count": 2,
      "outputs": []
    },
    {
      "cell_type": "code",
      "metadata": {
        "id": "uUHcDxf-t5ft"
      },
      "source": [
        "n_steps = 50\n",
        "series = generate_time_series(10000, n_steps+1)\n",
        "x_train, y_train = series[:7000, :-1], series[:7000, -1]\n",
        "x_valid, y_valid = series[7000:9000, :-1], series[7000:9000, -1]\n",
        "x_test, y_test = series[9000:, :-1], series[9000:, -1]\n"
      ],
      "execution_count": 3,
      "outputs": []
    },
    {
      "cell_type": "code",
      "metadata": {
        "id": "5S7pvSLhwK1Y",
        "outputId": "ce153c1a-f613-4f6c-eb46-7a68fb83b1ec",
        "colab": {
          "base_uri": "https://localhost:8080/",
          "height": 34
        }
      },
      "source": [
        "print(y_valid.shape)"
      ],
      "execution_count": 4,
      "outputs": [
        {
          "output_type": "stream",
          "text": [
            "(2000, 1)\n"
          ],
          "name": "stdout"
        }
      ]
    },
    {
      "cell_type": "code",
      "metadata": {
        "id": "mgSg_dXhQ9mG"
      },
      "source": [
        "import tensorflow as tf\n",
        "from tensorflow import keras"
      ],
      "execution_count": 5,
      "outputs": []
    },
    {
      "cell_type": "code",
      "metadata": {
        "id": "0lomEklywM58",
        "outputId": "a6746ffb-5626-4b0e-fb6b-ddb53d659886",
        "colab": {
          "base_uri": "https://localhost:8080/",
          "height": 34
        }
      },
      "source": [
        "y_pred = x_valid[:, -1]\n",
        "\n",
        "np.mean(keras.losses.mean_squared_error(y_valid, y_pred))"
      ],
      "execution_count": 6,
      "outputs": [
        {
          "output_type": "execute_result",
          "data": {
            "text/plain": [
              "0.020957926"
            ]
          },
          "metadata": {
            "tags": []
          },
          "execution_count": 6
        }
      ]
    },
    {
      "cell_type": "code",
      "metadata": {
        "id": "1puELMRpRJnC"
      },
      "source": [
        "def train_model(model, epochs=20, loss=\"mse\", optimizer=\"adam\"):\n",
        "    model.compile(loss=loss, \n",
        "                  optimizer=optimizer)\n",
        "    model.fit(x_train, y_train, epochs=epochs, validation_data=(x_valid, y_valid))"
      ],
      "execution_count": 7,
      "outputs": []
    },
    {
      "cell_type": "code",
      "metadata": {
        "id": "u7woy0qTRxu0"
      },
      "source": [
        "model = keras.models.Sequential([\n",
        "    keras.layers.Flatten(input_shape=[50, 1]), \n",
        "    keras.layers.Dense(1)\n",
        "])"
      ],
      "execution_count": 8,
      "outputs": []
    },
    {
      "cell_type": "code",
      "metadata": {
        "id": "7qru5tWgR8oM",
        "outputId": "943123d9-1ace-46cf-8a07-39d3efc58648",
        "colab": {
          "base_uri": "https://localhost:8080/",
          "height": 697
        }
      },
      "source": [
        "train_model(model)"
      ],
      "execution_count": 9,
      "outputs": [
        {
          "output_type": "stream",
          "text": [
            "Epoch 1/20\n",
            "219/219 [==============================] - 1s 2ms/step - loss: 0.0966 - val_loss: 0.0293\n",
            "Epoch 2/20\n",
            "219/219 [==============================] - 0s 2ms/step - loss: 0.0207 - val_loss: 0.0160\n",
            "Epoch 3/20\n",
            "219/219 [==============================] - 0s 2ms/step - loss: 0.0146 - val_loss: 0.0134\n",
            "Epoch 4/20\n",
            "219/219 [==============================] - 0s 2ms/step - loss: 0.0126 - val_loss: 0.0119\n",
            "Epoch 5/20\n",
            "219/219 [==============================] - 0s 2ms/step - loss: 0.0111 - val_loss: 0.0105\n",
            "Epoch 6/20\n",
            "219/219 [==============================] - 0s 2ms/step - loss: 0.0099 - val_loss: 0.0094\n",
            "Epoch 7/20\n",
            "219/219 [==============================] - 0s 2ms/step - loss: 0.0088 - val_loss: 0.0085\n",
            "Epoch 8/20\n",
            "219/219 [==============================] - 0s 2ms/step - loss: 0.0080 - val_loss: 0.0076\n",
            "Epoch 9/20\n",
            "219/219 [==============================] - 0s 2ms/step - loss: 0.0072 - val_loss: 0.0069\n",
            "Epoch 10/20\n",
            "219/219 [==============================] - 0s 2ms/step - loss: 0.0066 - val_loss: 0.0066\n",
            "Epoch 11/20\n",
            "219/219 [==============================] - 0s 2ms/step - loss: 0.0061 - val_loss: 0.0060\n",
            "Epoch 12/20\n",
            "219/219 [==============================] - 0s 2ms/step - loss: 0.0058 - val_loss: 0.0056\n",
            "Epoch 13/20\n",
            "219/219 [==============================] - 0s 2ms/step - loss: 0.0055 - val_loss: 0.0054\n",
            "Epoch 14/20\n",
            "219/219 [==============================] - 0s 2ms/step - loss: 0.0052 - val_loss: 0.0051\n",
            "Epoch 15/20\n",
            "219/219 [==============================] - 0s 2ms/step - loss: 0.0050 - val_loss: 0.0048\n",
            "Epoch 16/20\n",
            "219/219 [==============================] - 0s 2ms/step - loss: 0.0048 - val_loss: 0.0047\n",
            "Epoch 17/20\n",
            "219/219 [==============================] - 0s 2ms/step - loss: 0.0046 - val_loss: 0.0045\n",
            "Epoch 18/20\n",
            "219/219 [==============================] - 0s 2ms/step - loss: 0.0045 - val_loss: 0.0044\n",
            "Epoch 19/20\n",
            "219/219 [==============================] - 0s 2ms/step - loss: 0.0043 - val_loss: 0.0042\n",
            "Epoch 20/20\n",
            "219/219 [==============================] - 0s 2ms/step - loss: 0.0042 - val_loss: 0.0043\n"
          ],
          "name": "stdout"
        }
      ]
    },
    {
      "cell_type": "code",
      "metadata": {
        "id": "MjMRHRwMSE5I",
        "outputId": "42886278-be4c-421e-9979-060b03f9d262",
        "colab": {
          "base_uri": "https://localhost:8080/",
          "height": 51
        }
      },
      "source": [
        "model.evaluate(x_valid, y_valid)"
      ],
      "execution_count": 10,
      "outputs": [
        {
          "output_type": "stream",
          "text": [
            "63/63 [==============================] - 0s 1ms/step - loss: 0.0043\n"
          ],
          "name": "stdout"
        },
        {
          "output_type": "execute_result",
          "data": {
            "text/plain": [
              "0.004257360938936472"
            ]
          },
          "metadata": {
            "tags": []
          },
          "execution_count": 10
        }
      ]
    },
    {
      "cell_type": "code",
      "metadata": {
        "id": "tyo1gf4MSQaA",
        "outputId": "554ab8c3-ebaa-45a8-bcde-34f373de2868",
        "colab": {
          "base_uri": "https://localhost:8080/",
          "height": 731
        }
      },
      "source": [
        "model = keras.models.Sequential([\n",
        "    keras.layers.SimpleRNN(1, input_shape=[None, 1])\n",
        "])\n",
        "\n",
        "train_model(model)\n",
        "\n",
        "model.evaluate(x_valid, y_valid)"
      ],
      "execution_count": 11,
      "outputs": [
        {
          "output_type": "stream",
          "text": [
            "Epoch 1/20\n",
            "219/219 [==============================] - 7s 32ms/step - loss: 0.6069 - val_loss: 0.4479\n",
            "Epoch 2/20\n",
            "219/219 [==============================] - 7s 31ms/step - loss: 0.3323 - val_loss: 0.2805\n",
            "Epoch 3/20\n",
            "219/219 [==============================] - 7s 31ms/step - loss: 0.2692 - val_loss: 0.2382\n",
            "Epoch 4/20\n",
            "219/219 [==============================] - 7s 31ms/step - loss: 0.2288 - val_loss: 0.2014\n",
            "Epoch 5/20\n",
            "219/219 [==============================] - 7s 31ms/step - loss: 0.1889 - val_loss: 0.1643\n",
            "Epoch 6/20\n",
            "219/219 [==============================] - 7s 31ms/step - loss: 0.1559 - val_loss: 0.1405\n",
            "Epoch 7/20\n",
            "219/219 [==============================] - 7s 30ms/step - loss: 0.1420 - val_loss: 0.1357\n",
            "Epoch 8/20\n",
            "219/219 [==============================] - 7s 30ms/step - loss: 0.1405 - val_loss: 0.1389\n",
            "Epoch 9/20\n",
            "219/219 [==============================] - 7s 30ms/step - loss: 0.1400 - val_loss: 0.1352\n",
            "Epoch 10/20\n",
            "219/219 [==============================] - 7s 30ms/step - loss: 0.1402 - val_loss: 0.1434\n",
            "Epoch 11/20\n",
            "219/219 [==============================] - 7s 30ms/step - loss: 0.1409 - val_loss: 0.1360\n",
            "Epoch 12/20\n",
            "219/219 [==============================] - 6s 30ms/step - loss: 0.1403 - val_loss: 0.1429\n",
            "Epoch 13/20\n",
            "219/219 [==============================] - 7s 30ms/step - loss: 0.1408 - val_loss: 0.1380\n",
            "Epoch 14/20\n",
            "219/219 [==============================] - 7s 30ms/step - loss: 0.1400 - val_loss: 0.1356\n",
            "Epoch 15/20\n",
            "219/219 [==============================] - 7s 31ms/step - loss: 0.1404 - val_loss: 0.1352\n",
            "Epoch 16/20\n",
            "219/219 [==============================] - 7s 31ms/step - loss: 0.1399 - val_loss: 0.1352\n",
            "Epoch 17/20\n",
            "219/219 [==============================] - 7s 30ms/step - loss: 0.1408 - val_loss: 0.1405\n",
            "Epoch 18/20\n",
            "219/219 [==============================] - 7s 30ms/step - loss: 0.1410 - val_loss: 0.1368\n",
            "Epoch 19/20\n",
            "219/219 [==============================] - 7s 31ms/step - loss: 0.1401 - val_loss: 0.1385\n",
            "Epoch 20/20\n",
            "219/219 [==============================] - 7s 30ms/step - loss: 0.1404 - val_loss: 0.1352\n",
            "63/63 [==============================] - 0s 4ms/step - loss: 0.1352\n"
          ],
          "name": "stdout"
        },
        {
          "output_type": "execute_result",
          "data": {
            "text/plain": [
              "0.13522404432296753"
            ]
          },
          "metadata": {
            "tags": []
          },
          "execution_count": 11
        }
      ]
    },
    {
      "cell_type": "code",
      "metadata": {
        "id": "-qcvxo5wUrEp",
        "outputId": "a58803a7-dddd-4c31-c126-1ca93839fc19",
        "colab": {
          "base_uri": "https://localhost:8080/",
          "height": 731
        }
      },
      "source": [
        "model = keras.models.Sequential([\n",
        "    keras.layers.SimpleRNN(20, return_sequences=True, input_shape=[None, 1]),\n",
        "    keras.layers.SimpleRNN(20, return_sequences=True),\n",
        "    keras.layers.SimpleRNN(1)\n",
        "])\n",
        "\n",
        "train_model(model)\n",
        "\n",
        "model.evaluate(x_valid, y_valid)"
      ],
      "execution_count": 12,
      "outputs": [
        {
          "output_type": "stream",
          "text": [
            "Epoch 1/20\n",
            "219/219 [==============================] - 21s 94ms/step - loss: 0.0263 - val_loss: 0.0071\n",
            "Epoch 2/20\n",
            "219/219 [==============================] - 20s 92ms/step - loss: 0.0057 - val_loss: 0.0045\n",
            "Epoch 3/20\n",
            "219/219 [==============================] - 20s 90ms/step - loss: 0.0043 - val_loss: 0.0038\n",
            "Epoch 4/20\n",
            "219/219 [==============================] - 19s 89ms/step - loss: 0.0038 - val_loss: 0.0037\n",
            "Epoch 5/20\n",
            "219/219 [==============================] - 19s 88ms/step - loss: 0.0036 - val_loss: 0.0033\n",
            "Epoch 6/20\n",
            "219/219 [==============================] - 19s 87ms/step - loss: 0.0037 - val_loss: 0.0031\n",
            "Epoch 7/20\n",
            "219/219 [==============================] - 19s 89ms/step - loss: 0.0032 - val_loss: 0.0033\n",
            "Epoch 8/20\n",
            "219/219 [==============================] - 19s 88ms/step - loss: 0.0033 - val_loss: 0.0037\n",
            "Epoch 9/20\n",
            "219/219 [==============================] - 19s 87ms/step - loss: 0.0031 - val_loss: 0.0037\n",
            "Epoch 10/20\n",
            "219/219 [==============================] - 19s 88ms/step - loss: 0.0031 - val_loss: 0.0029\n",
            "Epoch 11/20\n",
            "219/219 [==============================] - 19s 88ms/step - loss: 0.0030 - val_loss: 0.0029\n",
            "Epoch 12/20\n",
            "219/219 [==============================] - 19s 86ms/step - loss: 0.0032 - val_loss: 0.0035\n",
            "Epoch 13/20\n",
            "219/219 [==============================] - 19s 88ms/step - loss: 0.0030 - val_loss: 0.0029\n",
            "Epoch 14/20\n",
            "219/219 [==============================] - 19s 86ms/step - loss: 0.0030 - val_loss: 0.0029\n",
            "Epoch 15/20\n",
            "219/219 [==============================] - 18s 84ms/step - loss: 0.0029 - val_loss: 0.0027\n",
            "Epoch 16/20\n",
            "219/219 [==============================] - 19s 85ms/step - loss: 0.0029 - val_loss: 0.0027\n",
            "Epoch 17/20\n",
            "219/219 [==============================] - 19s 86ms/step - loss: 0.0029 - val_loss: 0.0028\n",
            "Epoch 18/20\n",
            "219/219 [==============================] - 19s 86ms/step - loss: 0.0028 - val_loss: 0.0029\n",
            "Epoch 19/20\n",
            "219/219 [==============================] - 19s 86ms/step - loss: 0.0029 - val_loss: 0.0029\n",
            "Epoch 20/20\n",
            "219/219 [==============================] - 19s 85ms/step - loss: 0.0027 - val_loss: 0.0027\n",
            "63/63 [==============================] - 1s 10ms/step - loss: 0.0027\n"
          ],
          "name": "stdout"
        },
        {
          "output_type": "execute_result",
          "data": {
            "text/plain": [
              "0.002742239274084568"
            ]
          },
          "metadata": {
            "tags": []
          },
          "execution_count": 12
        }
      ]
    },
    {
      "cell_type": "code",
      "metadata": {
        "id": "5IadHgctVVTF",
        "outputId": "c7e78e2a-c896-4724-83fb-54be6624d5db",
        "colab": {
          "base_uri": "https://localhost:8080/",
          "height": 731
        }
      },
      "source": [
        "model = keras.models.Sequential([\n",
        "    keras.layers.SimpleRNN(20, return_sequences=True, input_shape=[None, 1]),\n",
        "    keras.layers.SimpleRNN(20),\n",
        "    keras.layers.Dense(1)\n",
        "])\n",
        "\n",
        "train_model(model)\n",
        "\n",
        "model.evaluate(x_valid, y_valid)"
      ],
      "execution_count": 13,
      "outputs": [
        {
          "output_type": "stream",
          "text": [
            "Epoch 1/20\n",
            "219/219 [==============================] - 13s 59ms/step - loss: 0.0279 - val_loss: 0.0064\n",
            "Epoch 2/20\n",
            "219/219 [==============================] - 13s 58ms/step - loss: 0.0049 - val_loss: 0.0038\n",
            "Epoch 3/20\n",
            "219/219 [==============================] - 13s 58ms/step - loss: 0.0036 - val_loss: 0.0032\n",
            "Epoch 4/20\n",
            "219/219 [==============================] - 13s 58ms/step - loss: 0.0032 - val_loss: 0.0030\n",
            "Epoch 5/20\n",
            "219/219 [==============================] - 13s 58ms/step - loss: 0.0030 - val_loss: 0.0029\n",
            "Epoch 6/20\n",
            "219/219 [==============================] - 13s 59ms/step - loss: 0.0030 - val_loss: 0.0028\n",
            "Epoch 7/20\n",
            "219/219 [==============================] - 13s 59ms/step - loss: 0.0030 - val_loss: 0.0029\n",
            "Epoch 8/20\n",
            "219/219 [==============================] - 13s 58ms/step - loss: 0.0029 - val_loss: 0.0027\n",
            "Epoch 9/20\n",
            "219/219 [==============================] - 13s 58ms/step - loss: 0.0028 - val_loss: 0.0029\n",
            "Epoch 10/20\n",
            "219/219 [==============================] - 13s 58ms/step - loss: 0.0028 - val_loss: 0.0028\n",
            "Epoch 11/20\n",
            "219/219 [==============================] - 13s 58ms/step - loss: 0.0028 - val_loss: 0.0026\n",
            "Epoch 12/20\n",
            "219/219 [==============================] - 13s 58ms/step - loss: 0.0029 - val_loss: 0.0029\n",
            "Epoch 13/20\n",
            "219/219 [==============================] - 13s 58ms/step - loss: 0.0029 - val_loss: 0.0028\n",
            "Epoch 14/20\n",
            "219/219 [==============================] - 13s 58ms/step - loss: 0.0028 - val_loss: 0.0027\n",
            "Epoch 15/20\n",
            "219/219 [==============================] - 13s 57ms/step - loss: 0.0028 - val_loss: 0.0027\n",
            "Epoch 16/20\n",
            "219/219 [==============================] - 13s 58ms/step - loss: 0.0027 - val_loss: 0.0026\n",
            "Epoch 17/20\n",
            "219/219 [==============================] - 13s 58ms/step - loss: 0.0028 - val_loss: 0.0030\n",
            "Epoch 18/20\n",
            "219/219 [==============================] - 13s 58ms/step - loss: 0.0028 - val_loss: 0.0026\n",
            "Epoch 19/20\n",
            "219/219 [==============================] - 13s 59ms/step - loss: 0.0028 - val_loss: 0.0026\n",
            "Epoch 20/20\n",
            "219/219 [==============================] - 13s 58ms/step - loss: 0.0027 - val_loss: 0.0027\n",
            "63/63 [==============================] - 0s 7ms/step - loss: 0.0027\n"
          ],
          "name": "stdout"
        },
        {
          "output_type": "execute_result",
          "data": {
            "text/plain": [
              "0.002683422528207302"
            ]
          },
          "metadata": {
            "tags": []
          },
          "execution_count": 13
        }
      ]
    },
    {
      "cell_type": "code",
      "metadata": {
        "id": "O8w1tgLHWVZU"
      },
      "source": [
        "series = generate_time_series(1, n_steps+10)\n",
        "x_new, y_new = series[:, :n_steps], series[:, n_steps:]\n",
        "\n",
        "x = x_new\n",
        "\n",
        "for step_ahead in range(10):\n",
        "    y_pred_one = model.predict(x[:, step_ahead:])[:, np.newaxis, :]\n",
        "    x = np.concatenate([x, y_pred_one], axis=1)\n",
        "    \n",
        "y_pred = x[:, n_steps:]"
      ],
      "execution_count": 14,
      "outputs": []
    },
    {
      "cell_type": "code",
      "metadata": {
        "id": "1pdv3tCqaCum",
        "outputId": "f413356f-d2c4-4000-8a5f-250c08371c79",
        "colab": {
          "base_uri": "https://localhost:8080/",
          "height": 51
        }
      },
      "source": [
        "series = generate_time_series(10000, n_steps+10)\n",
        "\n",
        "x_train, y_train = series[:7000, :n_steps], series[:7000, -10:]\n",
        "x_valid, y_valid = series[7000:9000, :n_steps], series[7000:9000, -10:]\n",
        "x_test, y_test = series[9000:, :n_steps], series[9000:, -10:]\n",
        "\n",
        "print(x_train.shape)\n",
        "print(y_train.shape)"
      ],
      "execution_count": 15,
      "outputs": [
        {
          "output_type": "stream",
          "text": [
            "(7000, 50, 1)\n",
            "(7000, 10, 1)\n"
          ],
          "name": "stdout"
        }
      ]
    },
    {
      "cell_type": "code",
      "metadata": {
        "id": "AxkRRkLzd95c",
        "outputId": "bd1e4887-0406-4da4-b7a5-fa413ec2a7f3",
        "colab": {
          "base_uri": "https://localhost:8080/",
          "height": 697
        }
      },
      "source": [
        "model = keras.models.Sequential([\n",
        "    keras.layers.SimpleRNN(20, return_sequences=True, input_shape=[None, 1]),\n",
        "    keras.layers.SimpleRNN(20, return_sequences=True),\n",
        "    keras.layers.SimpleRNN(10)\n",
        "])\n",
        "\n",
        "train_model(model)"
      ],
      "execution_count": 16,
      "outputs": [
        {
          "output_type": "stream",
          "text": [
            "Epoch 1/20\n",
            "219/219 [==============================] - 20s 90ms/step - loss: 0.0877 - val_loss: 0.0336\n",
            "Epoch 2/20\n",
            "219/219 [==============================] - 19s 88ms/step - loss: 0.0282 - val_loss: 0.0239\n",
            "Epoch 3/20\n",
            "219/219 [==============================] - 19s 88ms/step - loss: 0.0211 - val_loss: 0.0199\n",
            "Epoch 4/20\n",
            "219/219 [==============================] - 19s 88ms/step - loss: 0.0177 - val_loss: 0.0170\n",
            "Epoch 5/20\n",
            "219/219 [==============================] - 19s 88ms/step - loss: 0.0150 - val_loss: 0.0130\n",
            "Epoch 6/20\n",
            "219/219 [==============================] - 19s 88ms/step - loss: 0.0133 - val_loss: 0.0127\n",
            "Epoch 7/20\n",
            "219/219 [==============================] - 20s 90ms/step - loss: 0.0128 - val_loss: 0.0119\n",
            "Epoch 8/20\n",
            "219/219 [==============================] - 19s 87ms/step - loss: 0.0124 - val_loss: 0.0116\n",
            "Epoch 9/20\n",
            "219/219 [==============================] - 20s 90ms/step - loss: 0.0119 - val_loss: 0.0114\n",
            "Epoch 10/20\n",
            "219/219 [==============================] - 20s 89ms/step - loss: 0.0116 - val_loss: 0.0108\n",
            "Epoch 11/20\n",
            "219/219 [==============================] - 19s 87ms/step - loss: 0.0111 - val_loss: 0.0109\n",
            "Epoch 12/20\n",
            "219/219 [==============================] - 19s 87ms/step - loss: 0.0106 - val_loss: 0.0100\n",
            "Epoch 13/20\n",
            "219/219 [==============================] - 19s 89ms/step - loss: 0.0104 - val_loss: 0.0106\n",
            "Epoch 14/20\n",
            "219/219 [==============================] - 19s 87ms/step - loss: 0.0103 - val_loss: 0.0093\n",
            "Epoch 15/20\n",
            "219/219 [==============================] - 19s 87ms/step - loss: 0.0105 - val_loss: 0.0120\n",
            "Epoch 16/20\n",
            "219/219 [==============================] - 19s 87ms/step - loss: 0.0098 - val_loss: 0.0094\n",
            "Epoch 17/20\n",
            "219/219 [==============================] - 20s 89ms/step - loss: 0.0099 - val_loss: 0.0099\n",
            "Epoch 18/20\n",
            "219/219 [==============================] - 20s 92ms/step - loss: 0.0097 - val_loss: 0.0106\n",
            "Epoch 19/20\n",
            "219/219 [==============================] - 20s 91ms/step - loss: 0.0094 - val_loss: 0.0089\n",
            "Epoch 20/20\n",
            "219/219 [==============================] - 20s 91ms/step - loss: 0.0093 - val_loss: 0.0088\n"
          ],
          "name": "stdout"
        }
      ]
    },
    {
      "cell_type": "code",
      "metadata": {
        "id": "qP3KmEjReZp9",
        "outputId": "f4037079-a99c-42c6-f75d-16f8e0d8892c",
        "colab": {
          "base_uri": "https://localhost:8080/",
          "height": 697
        }
      },
      "source": [
        "model = keras.models.Sequential([\n",
        "    keras.layers.SimpleRNN(20, return_sequences=True, input_shape=[None, 1]),\n",
        "    keras.layers.SimpleRNN(20),\n",
        "    keras.layers.Dense(10)\n",
        "])\n",
        "\n",
        "train_model(model)"
      ],
      "execution_count": 17,
      "outputs": [
        {
          "output_type": "stream",
          "text": [
            "Epoch 1/20\n",
            "219/219 [==============================] - 13s 59ms/step - loss: 0.0611 - val_loss: 0.0355\n",
            "Epoch 2/20\n",
            "219/219 [==============================] - 13s 58ms/step - loss: 0.0291 - val_loss: 0.0255\n",
            "Epoch 3/20\n",
            "219/219 [==============================] - 13s 59ms/step - loss: 0.0229 - val_loss: 0.0208\n",
            "Epoch 4/20\n",
            "219/219 [==============================] - 13s 59ms/step - loss: 0.0187 - val_loss: 0.0173\n",
            "Epoch 5/20\n",
            "219/219 [==============================] - 13s 58ms/step - loss: 0.0159 - val_loss: 0.0153\n",
            "Epoch 6/20\n",
            "219/219 [==============================] - 13s 59ms/step - loss: 0.0139 - val_loss: 0.0123\n",
            "Epoch 7/20\n",
            "219/219 [==============================] - 13s 58ms/step - loss: 0.0129 - val_loss: 0.0120\n",
            "Epoch 8/20\n",
            "219/219 [==============================] - 13s 58ms/step - loss: 0.0123 - val_loss: 0.0115\n",
            "Epoch 9/20\n",
            "219/219 [==============================] - 13s 58ms/step - loss: 0.0117 - val_loss: 0.0141\n",
            "Epoch 10/20\n",
            "219/219 [==============================] - 13s 59ms/step - loss: 0.0121 - val_loss: 0.0112\n",
            "Epoch 11/20\n",
            "219/219 [==============================] - 13s 58ms/step - loss: 0.0111 - val_loss: 0.0120\n",
            "Epoch 12/20\n",
            "219/219 [==============================] - 13s 58ms/step - loss: 0.0107 - val_loss: 0.0096\n",
            "Epoch 13/20\n",
            "219/219 [==============================] - 13s 57ms/step - loss: 0.0104 - val_loss: 0.0105\n",
            "Epoch 14/20\n",
            "219/219 [==============================] - 13s 58ms/step - loss: 0.0104 - val_loss: 0.0105\n",
            "Epoch 15/20\n",
            "219/219 [==============================] - 13s 58ms/step - loss: 0.0102 - val_loss: 0.0101\n",
            "Epoch 16/20\n",
            "219/219 [==============================] - 13s 58ms/step - loss: 0.0099 - val_loss: 0.0102\n",
            "Epoch 17/20\n",
            "219/219 [==============================] - 13s 58ms/step - loss: 0.0106 - val_loss: 0.0099\n",
            "Epoch 18/20\n",
            "219/219 [==============================] - 13s 58ms/step - loss: 0.0098 - val_loss: 0.0089\n",
            "Epoch 19/20\n",
            "219/219 [==============================] - 13s 58ms/step - loss: 0.0096 - val_loss: 0.0087\n",
            "Epoch 20/20\n",
            "219/219 [==============================] - 13s 59ms/step - loss: 0.0095 - val_loss: 0.0085\n"
          ],
          "name": "stdout"
        }
      ]
    },
    {
      "cell_type": "code",
      "metadata": {
        "id": "EkZHWWvyeeTt"
      },
      "source": [
        "y = np.empty((10000, n_steps, 10))\n",
        "for step_ahead in range(1, 10+1):\n",
        "    y[:, :, step_ahead - 1] = series[:, step_ahead: step_ahead + n_steps, 0]\n",
        "\n",
        "y_train = y[:7000]\n",
        "y_valid= y[7000:9000]\n",
        "y_test = y[9000:]"
      ],
      "execution_count": 21,
      "outputs": []
    },
    {
      "cell_type": "code",
      "metadata": {
        "id": "JH9SacGvmBWn",
        "outputId": "20049a72-0590-4920-8ec7-248c5b08f578",
        "colab": {
          "base_uri": "https://localhost:8080/",
          "height": 34
        }
      },
      "source": [
        "series.shape"
      ],
      "execution_count": 19,
      "outputs": [
        {
          "output_type": "execute_result",
          "data": {
            "text/plain": [
              "(10000, 60, 1)"
            ]
          },
          "metadata": {
            "tags": []
          },
          "execution_count": 19
        }
      ]
    },
    {
      "cell_type": "code",
      "metadata": {
        "id": "ZOjiEDammEr0"
      },
      "source": [
        "model = keras.models.Sequential([\n",
        "    keras.layers.SimpleRNN(20, return_sequences=True, input_shape=[None, 1]),\n",
        "    keras.layers.SimpleRNN(20, return_sequences=True),\n",
        "    keras.layers.TimeDistributed(keras.layers.Dense(10))\n",
        "])\n",
        "\n"
      ],
      "execution_count": 23,
      "outputs": []
    },
    {
      "cell_type": "code",
      "metadata": {
        "id": "EkZez97ZqF7I"
      },
      "source": [
        "def last_time_step_mse(y_true, y_pred):\n",
        "    return keras.metrics.mean_squared_error(y_true[:, -1:], y_pred[:, -1])"
      ],
      "execution_count": 24,
      "outputs": []
    },
    {
      "cell_type": "code",
      "metadata": {
        "id": "HVfHqm4zrURC",
        "outputId": "17cdc973-cc51-444a-e958-af09440e43c6",
        "colab": {
          "base_uri": "https://localhost:8080/",
          "height": 697
        }
      },
      "source": [
        "model.compile(loss=\"mse\", optimizer=keras.optimizers.Adam(lr=0.01), metrics=[last_time_step_mse])\n",
        "history = model.fit(x_train, x_train, epochs=20,\n",
        "                    validation_data=(x_valid, x_valid))"
      ],
      "execution_count": 26,
      "outputs": [
        {
          "output_type": "stream",
          "text": [
            "Epoch 1/20\n",
            "219/219 [==============================] - 14s 63ms/step - loss: 0.0036 - last_time_step_mse: 0.2848 - val_loss: 4.4128e-05 - val_last_time_step_mse: 0.2861\n",
            "Epoch 2/20\n",
            "219/219 [==============================] - 14s 63ms/step - loss: 4.1086e-05 - last_time_step_mse: 0.2883 - val_loss: 9.4598e-05 - val_last_time_step_mse: 0.2851\n",
            "Epoch 3/20\n",
            "219/219 [==============================] - 14s 64ms/step - loss: 3.1477e-05 - last_time_step_mse: 0.2878 - val_loss: 3.1029e-05 - val_last_time_step_mse: 0.2866\n",
            "Epoch 4/20\n",
            "219/219 [==============================] - 14s 63ms/step - loss: 3.6507e-05 - last_time_step_mse: 0.2890 - val_loss: 1.7611e-05 - val_last_time_step_mse: 0.2861\n",
            "Epoch 5/20\n",
            "219/219 [==============================] - 14s 65ms/step - loss: 2.3878e-05 - last_time_step_mse: 0.2880 - val_loss: 2.0090e-05 - val_last_time_step_mse: 0.2863\n",
            "Epoch 6/20\n",
            "219/219 [==============================] - 14s 63ms/step - loss: 3.2257e-05 - last_time_step_mse: 0.2892 - val_loss: 1.4630e-05 - val_last_time_step_mse: 0.2891\n",
            "Epoch 7/20\n",
            "219/219 [==============================] - 14s 63ms/step - loss: 3.4359e-05 - last_time_step_mse: 0.2883 - val_loss: 1.2587e-05 - val_last_time_step_mse: 0.2886\n",
            "Epoch 8/20\n",
            "219/219 [==============================] - 14s 64ms/step - loss: 3.4548e-05 - last_time_step_mse: 0.2862 - val_loss: 2.9813e-05 - val_last_time_step_mse: 0.2905\n",
            "Epoch 9/20\n",
            "219/219 [==============================] - 14s 62ms/step - loss: 3.1447e-05 - last_time_step_mse: 0.2870 - val_loss: 4.2091e-05 - val_last_time_step_mse: 0.2918\n",
            "Epoch 10/20\n",
            "219/219 [==============================] - 14s 63ms/step - loss: 4.1188e-05 - last_time_step_mse: 0.2872 - val_loss: 1.5455e-05 - val_last_time_step_mse: 0.2883\n",
            "Epoch 11/20\n",
            "219/219 [==============================] - 14s 63ms/step - loss: 2.5569e-05 - last_time_step_mse: 0.2873 - val_loss: 1.3217e-05 - val_last_time_step_mse: 0.2860\n",
            "Epoch 12/20\n",
            "219/219 [==============================] - 14s 62ms/step - loss: 4.2535e-05 - last_time_step_mse: 0.2873 - val_loss: 1.2618e-05 - val_last_time_step_mse: 0.2862\n",
            "Epoch 13/20\n",
            "219/219 [==============================] - 14s 63ms/step - loss: 2.7716e-05 - last_time_step_mse: 0.2882 - val_loss: 2.0443e-05 - val_last_time_step_mse: 0.2900\n",
            "Epoch 14/20\n",
            "219/219 [==============================] - 14s 64ms/step - loss: 3.1082e-05 - last_time_step_mse: 0.2878 - val_loss: 9.3726e-06 - val_last_time_step_mse: 0.2868\n",
            "Epoch 15/20\n",
            "219/219 [==============================] - 14s 63ms/step - loss: 2.7273e-05 - last_time_step_mse: 0.2864 - val_loss: 2.4328e-05 - val_last_time_step_mse: 0.2871\n",
            "Epoch 16/20\n",
            "219/219 [==============================] - 14s 63ms/step - loss: 2.9104e-05 - last_time_step_mse: 0.2881 - val_loss: 9.9295e-06 - val_last_time_step_mse: 0.2870\n",
            "Epoch 17/20\n",
            "219/219 [==============================] - 14s 63ms/step - loss: 2.4346e-05 - last_time_step_mse: 0.2889 - val_loss: 1.2043e-05 - val_last_time_step_mse: 0.2862\n",
            "Epoch 18/20\n",
            "219/219 [==============================] - 14s 64ms/step - loss: 3.0382e-05 - last_time_step_mse: 0.2876 - val_loss: 1.8529e-05 - val_last_time_step_mse: 0.2850\n",
            "Epoch 19/20\n",
            "219/219 [==============================] - 14s 63ms/step - loss: 2.9541e-05 - last_time_step_mse: 0.2884 - val_loss: 3.0891e-05 - val_last_time_step_mse: 0.2911\n",
            "Epoch 20/20\n",
            "219/219 [==============================] - 14s 62ms/step - loss: 2.8701e-05 - last_time_step_mse: 0.2892 - val_loss: 6.7318e-05 - val_last_time_step_mse: 0.2924\n"
          ],
          "name": "stdout"
        }
      ]
    },
    {
      "cell_type": "code",
      "metadata": {
        "id": "nZ7PG9ysrgDT"
      },
      "source": [
        ""
      ],
      "execution_count": null,
      "outputs": []
    }
  ]
}