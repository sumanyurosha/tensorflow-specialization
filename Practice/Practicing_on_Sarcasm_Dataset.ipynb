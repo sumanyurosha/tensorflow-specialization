{
  "nbformat": 4,
  "nbformat_minor": 0,
  "metadata": {
    "colab": {
      "name": "Practicing on Sarcasm Dataset.ipynb",
      "provenance": [],
      "authorship_tag": "ABX9TyOloOi3GYtkHt39kiueHgn6",
      "include_colab_link": true
    },
    "kernelspec": {
      "name": "python3",
      "display_name": "Python 3"
    },
    "accelerator": "GPU"
  },
  "cells": [
    {
      "cell_type": "markdown",
      "metadata": {
        "id": "view-in-github",
        "colab_type": "text"
      },
      "source": [
        "<a href=\"https://colab.research.google.com/github/sumanyurosha/tensorflow-specialization/blob/master/Practice/Practicing_on_Sarcasm_Dataset.ipynb\" target=\"_parent\"><img src=\"https://colab.research.google.com/assets/colab-badge.svg\" alt=\"Open In Colab\"/></a>"
      ]
    },
    {
      "cell_type": "markdown",
      "metadata": {
        "id": "9k_9Ldw64rFI"
      },
      "source": [
        "# **1. Downloading the Sarcasm Dataset**"
      ]
    },
    {
      "cell_type": "code",
      "metadata": {
        "id": "5uqTYe7q2XkM",
        "outputId": "fb0bcc34-6b0b-4f40-eac8-845024790430",
        "colab": {
          "base_uri": "https://localhost:8080/",
          "height": 204
        }
      },
      "source": [
        "\n",
        "!wget --no-check-certificate \\\n",
        "    https://storage.googleapis.com/laurencemoroney-blog.appspot.com/sarcasm.json \\\n",
        "    -O /tmp/sarcasm.json"
      ],
      "execution_count": 23,
      "outputs": [
        {
          "output_type": "stream",
          "text": [
            "--2020-10-20 13:55:49--  https://storage.googleapis.com/laurencemoroney-blog.appspot.com/sarcasm.json\n",
            "Resolving storage.googleapis.com (storage.googleapis.com)... 64.233.189.128, 108.177.97.128, 108.177.125.128, ...\n",
            "Connecting to storage.googleapis.com (storage.googleapis.com)|64.233.189.128|:443... connected.\n",
            "HTTP request sent, awaiting response... 200 OK\n",
            "Length: 5643545 (5.4M) [application/json]\n",
            "Saving to: ‘/tmp/sarcasm.json’\n",
            "\n",
            "\r/tmp/sarcasm.json     0%[                    ]       0  --.-KB/s               \r/tmp/sarcasm.json   100%[===================>]   5.38M  --.-KB/s    in 0.04s   \n",
            "\n",
            "2020-10-20 13:55:50 (149 MB/s) - ‘/tmp/sarcasm.json’ saved [5643545/5643545]\n",
            "\n"
          ],
          "name": "stdout"
        }
      ]
    },
    {
      "cell_type": "code",
      "metadata": {
        "id": "rY_n8aHE4w7G"
      },
      "source": [
        "import json\n",
        "\n",
        "with open(\"/tmp/sarcasm.json\") as f:\n",
        "    datastore = json.load(f)"
      ],
      "execution_count": 24,
      "outputs": []
    },
    {
      "cell_type": "markdown",
      "metadata": {
        "id": "iZl_OsPb5n7I"
      },
      "source": [
        "# **2. Data Preprocessing**"
      ]
    },
    {
      "cell_type": "code",
      "metadata": {
        "id": "shtz-vrS5BSQ",
        "outputId": "2d9800e3-5935-4be5-ac3f-ba52d8a88c39",
        "colab": {
          "base_uri": "https://localhost:8080/",
          "height": 34
        }
      },
      "source": [
        "headlines = []\n",
        "urls = []\n",
        "labels = []\n",
        "\n",
        "for item in datastore:\n",
        "    headlines.append(item[\"headline\"])\n",
        "    urls.append(item[\"article_link\"])\n",
        "    labels.append(item[\"is_sarcastic\"])\n",
        "\n",
        "\n",
        "print(\"Size of dataset: {}\".format(len(headlines)))"
      ],
      "execution_count": 25,
      "outputs": [
        {
          "output_type": "stream",
          "text": [
            "Size of dataset: 26709\n"
          ],
          "name": "stdout"
        }
      ]
    },
    {
      "cell_type": "code",
      "metadata": {
        "id": "sO6a98Re6IjO",
        "outputId": "e06b60ad-2e35-4e77-c174-5dc1353254e5",
        "colab": {
          "base_uri": "https://localhost:8080/",
          "height": 102
        }
      },
      "source": [
        "headlines[:5]"
      ],
      "execution_count": 26,
      "outputs": [
        {
          "output_type": "execute_result",
          "data": {
            "text/plain": [
              "[\"former versace store clerk sues over secret 'black code' for minority shoppers\",\n",
              " \"the 'roseanne' revival catches up to our thorny political mood, for better and worse\",\n",
              " \"mom starting to fear son's web series closest thing she will have to grandchild\",\n",
              " 'boehner just wants wife to listen, not come up with alternative debt-reduction ideas',\n",
              " 'j.k. rowling wishes snape happy birthday in the most magical way']"
            ]
          },
          "metadata": {
            "tags": []
          },
          "execution_count": 26
        }
      ]
    },
    {
      "cell_type": "code",
      "metadata": {
        "id": "7gnNnNOv6RNS",
        "outputId": "0fe86566-c77e-4baa-8bef-fe8d6dbdb547",
        "colab": {
          "base_uri": "https://localhost:8080/",
          "height": 34
        }
      },
      "source": [
        "labels[:5]"
      ],
      "execution_count": 27,
      "outputs": [
        {
          "output_type": "execute_result",
          "data": {
            "text/plain": [
              "[0, 0, 1, 1, 0]"
            ]
          },
          "metadata": {
            "tags": []
          },
          "execution_count": 27
        }
      ]
    },
    {
      "cell_type": "code",
      "metadata": {
        "id": "-yIsUlO40F69"
      },
      "source": [
        "oov_token = \"<OOV>\"\n",
        "training_size = 20000\n",
        "vocab_size = 10000\n",
        "embedding_dim = 32\n",
        "trunc_type = \"post\"\n",
        "pad_type = \"post\""
      ],
      "execution_count": 32,
      "outputs": []
    },
    {
      "cell_type": "code",
      "metadata": {
        "id": "H091AqRB5kjx",
        "outputId": "21742491-3d24-472e-c99d-1a4184943739",
        "colab": {
          "base_uri": "https://localhost:8080/",
          "height": 119
        }
      },
      "source": [
        "import tensorflow as tf\n",
        "import numpy as np\n",
        "from tensorflow import keras\n",
        "from keras.preprocessing.text import Tokenizer\n",
        "from keras.preprocessing.sequence import pad_sequences\n",
        "\n",
        "tokenizer = Tokenizer(num_words=vocab_size, oov_token=oov_token)\n",
        "tokenizer.fit_on_texts(headlines)\n",
        "\n",
        "sequences = tokenizer.texts_to_sequences(headlines)\n",
        "padded_sequences = pad_sequences(sequences, padding=pad_type, truncating=trunc_type)\n",
        "\n",
        "max_len = len(padded_sequences[0])\n",
        "print(max_len)\n",
        "\n",
        "print(\"Headline : {}\".format(headlines[0]))\n",
        "print(\"Tokenized Sequence : {}\".format(sequences[0]))\n",
        "print(\"Padded Sequence : {}\".format(padded_sequences[0]))"
      ],
      "execution_count": 33,
      "outputs": [
        {
          "output_type": "stream",
          "text": [
            "40\n",
            "Headline : former versace store clerk sues over secret 'black code' for minority shoppers\n",
            "Tokenized Sequence : [308, 1, 679, 3337, 2298, 48, 382, 2576, 1, 6, 2577, 8434]\n",
            "Padded Sequence : [ 308    1  679 3337 2298   48  382 2576    1    6 2577 8434    0    0\n",
            "    0    0    0    0    0    0    0    0    0    0    0    0    0    0\n",
            "    0    0    0    0    0    0    0    0    0    0    0    0]\n"
          ],
          "name": "stdout"
        }
      ]
    },
    {
      "cell_type": "code",
      "metadata": {
        "id": "i85WHn0U7Mfq",
        "outputId": "31ed597c-094e-4d89-dda3-fd67d8244f48",
        "colab": {
          "base_uri": "https://localhost:8080/",
          "height": 51
        }
      },
      "source": [
        "train_padded = np.array(padded_sequences[:training_size])\n",
        "valid_padded = np.array(padded_sequences[training_size:])\n",
        "\n",
        "train_labels = np.array(labels[:training_size])\n",
        "valid_labels = np.array(labels[training_size:])\n",
        "\n",
        "print(len(train_padded))\n",
        "print(len(valid_padded))"
      ],
      "execution_count": 34,
      "outputs": [
        {
          "output_type": "stream",
          "text": [
            "20000\n",
            "6709\n"
          ],
          "name": "stdout"
        }
      ]
    },
    {
      "cell_type": "code",
      "metadata": {
        "id": "oFbgsNOl2qei"
      },
      "source": [
        "import matplotlib.pyplot as plt\n",
        "\n",
        "def plot_graph(history, string):\n",
        "    plt.xlabel(\"Epochs\")\n",
        "    plt.ylabel(string)\n",
        "    plt.plot(history.history[string])\n",
        "    plt.plot(history.history[\"val_\" + string])\n",
        "    plt.legend([string, \"val_\" + string])\n",
        "    plt.show()"
      ],
      "execution_count": 35,
      "outputs": []
    },
    {
      "cell_type": "markdown",
      "metadata": {
        "id": "rlS1qo3d6YZ6"
      },
      "source": [
        "# **Model with Multiple LSTM Layers**"
      ]
    },
    {
      "cell_type": "code",
      "metadata": {
        "id": "uPp6WFHA6cxy",
        "outputId": "ec0aa93b-93c3-4d9a-e5fa-1e2e8158e2f2",
        "colab": {
          "base_uri": "https://localhost:8080/",
          "height": 1000
        }
      },
      "source": [
        "model = keras.models.Sequential([\n",
        "    keras.layers.Embedding(vocab_size, embedding_dim, input_length=max_len),\n",
        "    keras.layers.Dropout(0.3),\n",
        "    keras.layers.LSTM(64, return_sequences=True),\n",
        "    keras.layers.LSTM(32),\n",
        "    keras.layers.Dropout(0.3),\n",
        "    keras.layers.Dense(1, activation=\"sigmoid\")\n",
        "])\n",
        "\n",
        "model.summary()\n",
        "\n",
        "model.compile(loss=\"binary_crossentropy\", optimizer=\"adam\",\n",
        "              metrics=[\"accuracy\"])\n",
        "\n",
        "history = model.fit(train_padded, train_labels, epochs=20, \n",
        "                    validation_data=(valid_padded, valid_labels), verbose=1)"
      ],
      "execution_count": 39,
      "outputs": [
        {
          "output_type": "stream",
          "text": [
            "Model: \"sequential_10\"\n",
            "_________________________________________________________________\n",
            "Layer (type)                 Output Shape              Param #   \n",
            "=================================================================\n",
            "embedding_10 (Embedding)     (None, 40, 32)            320000    \n",
            "_________________________________________________________________\n",
            "dropout (Dropout)            (None, 40, 32)            0         \n",
            "_________________________________________________________________\n",
            "lstm_12 (LSTM)               (None, 40, 64)            24832     \n",
            "_________________________________________________________________\n",
            "lstm_13 (LSTM)               (None, 32)                12416     \n",
            "_________________________________________________________________\n",
            "dropout_1 (Dropout)          (None, 32)                0         \n",
            "_________________________________________________________________\n",
            "dense_11 (Dense)             (None, 1)                 33        \n",
            "=================================================================\n",
            "Total params: 357,281\n",
            "Trainable params: 357,281\n",
            "Non-trainable params: 0\n",
            "_________________________________________________________________\n",
            "Epoch 1/20\n",
            "625/625 [==============================] - 18s 28ms/step - loss: 0.5781 - accuracy: 0.6972 - val_loss: 0.5064 - val_accuracy: 0.7912\n",
            "Epoch 2/20\n",
            "625/625 [==============================] - 17s 27ms/step - loss: 0.4624 - accuracy: 0.8275 - val_loss: 0.4969 - val_accuracy: 0.8025\n",
            "Epoch 3/20\n",
            "625/625 [==============================] - 17s 27ms/step - loss: 0.4733 - accuracy: 0.7996 - val_loss: 0.5866 - val_accuracy: 0.7035\n",
            "Epoch 4/20\n",
            "625/625 [==============================] - 17s 27ms/step - loss: 0.4578 - accuracy: 0.8054 - val_loss: 0.5193 - val_accuracy: 0.7901\n",
            "Epoch 5/20\n",
            "625/625 [==============================] - 17s 27ms/step - loss: 0.3749 - accuracy: 0.8490 - val_loss: 0.4436 - val_accuracy: 0.8076\n",
            "Epoch 6/20\n",
            "625/625 [==============================] - 17s 27ms/step - loss: 0.3047 - accuracy: 0.8896 - val_loss: 0.4041 - val_accuracy: 0.8377\n",
            "Epoch 7/20\n",
            "625/625 [==============================] - 17s 27ms/step - loss: 0.2461 - accuracy: 0.9141 - val_loss: 0.4360 - val_accuracy: 0.8334\n",
            "Epoch 8/20\n",
            "625/625 [==============================] - 17s 27ms/step - loss: 0.2025 - accuracy: 0.9331 - val_loss: 0.4420 - val_accuracy: 0.8399\n",
            "Epoch 9/20\n",
            "625/625 [==============================] - 17s 27ms/step - loss: 0.1731 - accuracy: 0.9453 - val_loss: 0.4790 - val_accuracy: 0.8390\n",
            "Epoch 10/20\n",
            "625/625 [==============================] - 17s 27ms/step - loss: 0.1523 - accuracy: 0.9538 - val_loss: 0.5210 - val_accuracy: 0.8405\n",
            "Epoch 11/20\n",
            "625/625 [==============================] - 17s 27ms/step - loss: 0.1385 - accuracy: 0.9582 - val_loss: 0.5095 - val_accuracy: 0.8396\n",
            "Epoch 12/20\n",
            "625/625 [==============================] - 17s 27ms/step - loss: 0.1270 - accuracy: 0.9617 - val_loss: 0.4970 - val_accuracy: 0.8356\n",
            "Epoch 13/20\n",
            "625/625 [==============================] - 17s 27ms/step - loss: 0.1122 - accuracy: 0.9665 - val_loss: 0.4889 - val_accuracy: 0.8417\n",
            "Epoch 14/20\n",
            "625/625 [==============================] - 17s 28ms/step - loss: 0.0983 - accuracy: 0.9724 - val_loss: 0.6263 - val_accuracy: 0.8407\n",
            "Epoch 15/20\n",
            "625/625 [==============================] - 17s 28ms/step - loss: 0.0846 - accuracy: 0.9755 - val_loss: 0.5151 - val_accuracy: 0.8378\n",
            "Epoch 16/20\n",
            "625/625 [==============================] - 17s 27ms/step - loss: 0.0787 - accuracy: 0.9769 - val_loss: 0.5917 - val_accuracy: 0.8374\n",
            "Epoch 17/20\n",
            "625/625 [==============================] - 17s 27ms/step - loss: 0.0675 - accuracy: 0.9804 - val_loss: 0.6298 - val_accuracy: 0.8341\n",
            "Epoch 18/20\n",
            "625/625 [==============================] - 17s 27ms/step - loss: 0.0617 - accuracy: 0.9817 - val_loss: 0.6472 - val_accuracy: 0.8353\n",
            "Epoch 19/20\n",
            "625/625 [==============================] - 17s 27ms/step - loss: 0.0517 - accuracy: 0.9854 - val_loss: 0.6927 - val_accuracy: 0.8375\n",
            "Epoch 20/20\n",
            "625/625 [==============================] - 17s 27ms/step - loss: 0.0445 - accuracy: 0.9863 - val_loss: 0.7541 - val_accuracy: 0.8259\n"
          ],
          "name": "stdout"
        }
      ]
    },
    {
      "cell_type": "code",
      "metadata": {
        "id": "8j7Z1jXz8_ug",
        "outputId": "d173af4b-a3cd-4df7-b0a9-650bee028e26",
        "colab": {
          "base_uri": "https://localhost:8080/",
          "height": 545
        }
      },
      "source": [
        "plot_graph(history, \"accuracy\")\n",
        "plot_graph(history, \"loss\")"
      ],
      "execution_count": 40,
      "outputs": [
        {
          "output_type": "display_data",
          "data": {
            "image/png": "[encoded data removed]",
            "text/plain": [
              "<Figure size 432x288 with 1 Axes>"
            ]
          },
          "metadata": {
            "tags": [],
            "needs_background": "light"
          }
        },
        {
          "output_type": "display_data",
          "data": {
            "image/png": "[encoded data removed]",
            "text/plain": [
              "<Figure size 432x288 with 1 Axes>"
            ]
          },
          "metadata": {
            "tags": [],
            "needs_background": "light"
          }
        }
      ]
    },
    {
      "cell_type": "code",
      "metadata": {
        "id": "tQOfMCuQTi6K",
        "outputId": "2ee5ee5b-051f-48b8-d542-4ae3afbacf85",
        "colab": {
          "base_uri": "https://localhost:8080/",
          "height": 1000
        }
      },
      "source": [
        "bidirectional_model = keras.models.Sequential([\n",
        "    keras.layers.Embedding(vocab_size, embedding_dim, input_length=max_len),\n",
        "    keras.layers.Dropout(0.3),\n",
        "    keras.layers.Bidirectional(keras.layers.LSTM(32, return_sequences=True)),\n",
        "    keras.layers.Bidirectional(keras.layers.LSTM(16)),\n",
        "    keras.layers.Dropout(0.3),\n",
        "    keras.layers.Dense(1, activation=\"sigmoid\"),\n",
        "])\n",
        "\n",
        "bidirectional_model.summary()\n",
        "\n",
        "bidirectional_model.compile(loss=\"binary_crossentropy\", optimizer=\"adam\", metrics=[\"accuracy\"])\n",
        "\n",
        "history = bidirectional_model.fit(train_padded, train_labels, epochs=20, \n",
        "          validation_data=(valid_padded, valid_labels), verbose=1)"
      ],
      "execution_count": 44,
      "outputs": [
        {
          "output_type": "stream",
          "text": [
            "Model: \"sequential_13\"\n",
            "_________________________________________________________________\n",
            "Layer (type)                 Output Shape              Param #   \n",
            "=================================================================\n",
            "embedding_13 (Embedding)     (None, 40, 32)            320000    \n",
            "_________________________________________________________________\n",
            "dropout_6 (Dropout)          (None, 40, 32)            0         \n",
            "_________________________________________________________________\n",
            "bidirectional_4 (Bidirection (None, 40, 64)            16640     \n",
            "_________________________________________________________________\n",
            "bidirectional_5 (Bidirection (None, 32)                10368     \n",
            "_________________________________________________________________\n",
            "dropout_7 (Dropout)          (None, 32)                0         \n",
            "_________________________________________________________________\n",
            "dense_14 (Dense)             (None, 1)                 33        \n",
            "=================================================================\n",
            "Total params: 347,041\n",
            "Trainable params: 347,041\n",
            "Non-trainable params: 0\n",
            "_________________________________________________________________\n",
            "Epoch 1/20\n",
            "625/625 [==============================] - 31s 49ms/step - loss: 0.4238 - accuracy: 0.7931 - val_loss: 0.3342 - val_accuracy: 0.8612\n",
            "Epoch 2/20\n",
            "625/625 [==============================] - 29s 47ms/step - loss: 0.2405 - accuracy: 0.9032 - val_loss: 0.3432 - val_accuracy: 0.8618\n",
            "Epoch 3/20\n",
            "625/625 [==============================] - 29s 46ms/step - loss: 0.1686 - accuracy: 0.9359 - val_loss: 0.3712 - val_accuracy: 0.8518\n",
            "Epoch 4/20\n",
            "625/625 [==============================] - 29s 46ms/step - loss: 0.1231 - accuracy: 0.9539 - val_loss: 0.4034 - val_accuracy: 0.8484\n",
            "Epoch 5/20\n",
            "625/625 [==============================] - 29s 47ms/step - loss: 0.0938 - accuracy: 0.9674 - val_loss: 0.5271 - val_accuracy: 0.8441\n",
            "Epoch 6/20\n",
            "625/625 [==============================] - 29s 47ms/step - loss: 0.0752 - accuracy: 0.9739 - val_loss: 0.5170 - val_accuracy: 0.8393\n",
            "Epoch 7/20\n",
            "625/625 [==============================] - 29s 46ms/step - loss: 0.0607 - accuracy: 0.9795 - val_loss: 0.5570 - val_accuracy: 0.8439\n",
            "Epoch 8/20\n",
            "625/625 [==============================] - 29s 47ms/step - loss: 0.0477 - accuracy: 0.9834 - val_loss: 0.6631 - val_accuracy: 0.8436\n",
            "Epoch 9/20\n",
            "625/625 [==============================] - 29s 47ms/step - loss: 0.0386 - accuracy: 0.9872 - val_loss: 0.7575 - val_accuracy: 0.8474\n",
            "Epoch 10/20\n",
            "625/625 [==============================] - 29s 47ms/step - loss: 0.0340 - accuracy: 0.9882 - val_loss: 0.6758 - val_accuracy: 0.8445\n",
            "Epoch 11/20\n",
            "625/625 [==============================] - 29s 47ms/step - loss: 0.0311 - accuracy: 0.9898 - val_loss: 0.7511 - val_accuracy: 0.8368\n",
            "Epoch 12/20\n",
            "625/625 [==============================] - 29s 47ms/step - loss: 0.0266 - accuracy: 0.9915 - val_loss: 0.8339 - val_accuracy: 0.8383\n",
            "Epoch 13/20\n",
            "625/625 [==============================] - 29s 47ms/step - loss: 0.0264 - accuracy: 0.9912 - val_loss: 0.7554 - val_accuracy: 0.8413\n",
            "Epoch 14/20\n",
            "625/625 [==============================] - 29s 47ms/step - loss: 0.0229 - accuracy: 0.9927 - val_loss: 0.8639 - val_accuracy: 0.8380\n",
            "Epoch 15/20\n",
            "625/625 [==============================] - 29s 47ms/step - loss: 0.0219 - accuracy: 0.9929 - val_loss: 0.8709 - val_accuracy: 0.8398\n",
            "Epoch 16/20\n",
            "625/625 [==============================] - 29s 47ms/step - loss: 0.0176 - accuracy: 0.9934 - val_loss: 0.9812 - val_accuracy: 0.8351\n",
            "Epoch 17/20\n",
            "625/625 [==============================] - 29s 47ms/step - loss: 0.0172 - accuracy: 0.9941 - val_loss: 0.9498 - val_accuracy: 0.8392\n",
            "Epoch 18/20\n",
            "625/625 [==============================] - 29s 47ms/step - loss: 0.0147 - accuracy: 0.9947 - val_loss: 0.9985 - val_accuracy: 0.8401\n",
            "Epoch 19/20\n",
            "625/625 [==============================] - 29s 47ms/step - loss: 0.0126 - accuracy: 0.9955 - val_loss: 1.0513 - val_accuracy: 0.8351\n",
            "Epoch 20/20\n",
            "625/625 [==============================] - 29s 47ms/step - loss: 0.0124 - accuracy: 0.9962 - val_loss: 1.0112 - val_accuracy: 0.8360\n"
          ],
          "name": "stdout"
        }
      ]
    },
    {
      "cell_type": "code",
      "metadata": {
        "id": "1-VFC-l4WJgX",
        "outputId": "09aa7d25-ff13-4d14-ef56-ed957059b9fa",
        "colab": {
          "base_uri": "https://localhost:8080/",
          "height": 541
        }
      },
      "source": [
        "plot_graph(history, \"accuracy\")\n",
        "plot_graph(history, \"loss\")"
      ],
      "execution_count": 46,
      "outputs": [
        {
          "output_type": "display_data",
          "data": {
            "image/png": "[encoded data removed]",
            "text/plain": [
              "<Figure size 432x288 with 1 Axes>"
            ]
          },
          "metadata": {
            "tags": [],
            "needs_background": "light"
          }
        },
        {
          "output_type": "display_data",
          "data": {
            "image/png": "[encoded data removed]",
            "text/plain": [
              "<Figure size 432x288 with 1 Axes>"
            ]
          },
          "metadata": {
            "tags": [],
            "needs_background": "light"
          }
        }
      ]
    },
    {
      "cell_type": "code",
      "metadata": {
        "id": "zmaB35eRY8Q2"
      },
      "source": [
        ""
      ],
      "execution_count": null,
      "outputs": []
    }
  ]
}