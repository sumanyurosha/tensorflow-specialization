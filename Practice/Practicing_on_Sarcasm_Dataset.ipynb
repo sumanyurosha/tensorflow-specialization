{
  "nbformat": 4,
  "nbformat_minor": 0,
  "metadata": {
    "colab": {
      "name": "Practicing on Sarcasm Dataset.ipynb",
      "provenance": [],
      "authorship_tag": "ABX9TyMpwMngQLUWBvAvMRkNElHD",
      "include_colab_link": true
    },
    "kernelspec": {
      "name": "python3",
      "display_name": "Python 3"
    },
    "accelerator": "GPU"
  },
  "cells": [
    {
      "cell_type": "markdown",
      "metadata": {
        "id": "view-in-github",
        "colab_type": "text"
      },
      "source": [
        "<a href=\"https://colab.research.google.com/github/sumanyurosha/tensorflow-specialization/blob/master/Practice/Practicing_on_Sarcasm_Dataset.ipynb\" target=\"_parent\"><img src=\"https://colab.research.google.com/assets/colab-badge.svg\" alt=\"Open In Colab\"/></a>"
      ]
    },
    {
      "cell_type": "markdown",
      "metadata": {
        "id": "9k_9Ldw64rFI"
      },
      "source": [
        "# **1. Downloading the Sarcasm Dataset**"
      ]
    },
    {
      "cell_type": "code",
      "metadata": {
        "id": "5uqTYe7q2XkM",
        "outputId": "2ada28a3-8f44-4ba4-b7e9-71fab14bc1aa",
        "colab": {
          "base_uri": "https://localhost:8080/",
          "height": 204
        }
      },
      "source": [
        "\n",
        "!wget --no-check-certificate \\\n",
        "    https://storage.googleapis.com/laurencemoroney-blog.appspot.com/sarcasm.json \\\n",
        "    -O /tmp/sarcasm.json"
      ],
      "execution_count": 12,
      "outputs": [
        {
          "output_type": "stream",
          "text": [
            "--2020-10-21 12:03:34--  https://storage.googleapis.com/laurencemoroney-blog.appspot.com/sarcasm.json\n",
            "Resolving storage.googleapis.com (storage.googleapis.com)... 74.125.20.128, 74.125.195.128, 74.125.142.128, ...\n",
            "Connecting to storage.googleapis.com (storage.googleapis.com)|74.125.20.128|:443... connected.\n",
            "HTTP request sent, awaiting response... 200 OK\n",
            "Length: 5643545 (5.4M) [application/json]\n",
            "Saving to: ‘/tmp/sarcasm.json’\n",
            "\n",
            "\r/tmp/sarcasm.json     0%[                    ]       0  --.-KB/s               \r/tmp/sarcasm.json   100%[===================>]   5.38M  --.-KB/s    in 0.02s   \n",
            "\n",
            "2020-10-21 12:03:34 (243 MB/s) - ‘/tmp/sarcasm.json’ saved [5643545/5643545]\n",
            "\n"
          ],
          "name": "stdout"
        }
      ]
    },
    {
      "cell_type": "code",
      "metadata": {
        "id": "rY_n8aHE4w7G"
      },
      "source": [
        "import json\n",
        "\n",
        "with open(\"/tmp/sarcasm.json\") as f:\n",
        "    datastore = json.load(f)"
      ],
      "execution_count": 13,
      "outputs": []
    },
    {
      "cell_type": "markdown",
      "metadata": {
        "id": "iZl_OsPb5n7I"
      },
      "source": [
        "# **2. Data Preprocessing**"
      ]
    },
    {
      "cell_type": "code",
      "metadata": {
        "id": "shtz-vrS5BSQ",
        "outputId": "16da21cd-b6c1-4237-e3d8-a1f7bee3e84f",
        "colab": {
          "base_uri": "https://localhost:8080/",
          "height": 34
        }
      },
      "source": [
        "headlines = []\n",
        "urls = []\n",
        "labels = []\n",
        "\n",
        "for item in datastore:\n",
        "    headlines.append(item[\"headline\"])\n",
        "    urls.append(item[\"article_link\"])\n",
        "    labels.append(item[\"is_sarcastic\"])\n",
        "\n",
        "\n",
        "print(\"Size of dataset: {}\".format(len(headlines)))"
      ],
      "execution_count": 14,
      "outputs": [
        {
          "output_type": "stream",
          "text": [
            "Size of dataset: 26709\n"
          ],
          "name": "stdout"
        }
      ]
    },
    {
      "cell_type": "code",
      "metadata": {
        "id": "sO6a98Re6IjO",
        "outputId": "17040eb5-542d-445a-9e4b-ed6fe2fb8722",
        "colab": {
          "base_uri": "https://localhost:8080/",
          "height": 102
        }
      },
      "source": [
        "headlines[:5]"
      ],
      "execution_count": 15,
      "outputs": [
        {
          "output_type": "execute_result",
          "data": {
            "text/plain": [
              "[\"former versace store clerk sues over secret 'black code' for minority shoppers\",\n",
              " \"the 'roseanne' revival catches up to our thorny political mood, for better and worse\",\n",
              " \"mom starting to fear son's web series closest thing she will have to grandchild\",\n",
              " 'boehner just wants wife to listen, not come up with alternative debt-reduction ideas',\n",
              " 'j.k. rowling wishes snape happy birthday in the most magical way']"
            ]
          },
          "metadata": {
            "tags": []
          },
          "execution_count": 15
        }
      ]
    },
    {
      "cell_type": "code",
      "metadata": {
        "id": "7gnNnNOv6RNS",
        "outputId": "857475fd-f198-4431-d71c-a1437b30f582",
        "colab": {
          "base_uri": "https://localhost:8080/",
          "height": 34
        }
      },
      "source": [
        "labels[:5]"
      ],
      "execution_count": 16,
      "outputs": [
        {
          "output_type": "execute_result",
          "data": {
            "text/plain": [
              "[0, 0, 1, 1, 0]"
            ]
          },
          "metadata": {
            "tags": []
          },
          "execution_count": 16
        }
      ]
    },
    {
      "cell_type": "code",
      "metadata": {
        "id": "-yIsUlO40F69"
      },
      "source": [
        "oov_token = \"<OOV>\"\n",
        "training_size = 20000\n",
        "vocab_size = 10000\n",
        "embedding_dim = 128\n",
        "trunc_type = \"post\"\n",
        "pad_type = \"post\""
      ],
      "execution_count": 17,
      "outputs": []
    },
    {
      "cell_type": "code",
      "metadata": {
        "id": "H091AqRB5kjx",
        "outputId": "90469ad5-19a3-478b-f457-5518b1617cc9",
        "colab": {
          "base_uri": "https://localhost:8080/",
          "height": 119
        }
      },
      "source": [
        "import tensorflow as tf\n",
        "import numpy as np\n",
        "from tensorflow import keras\n",
        "from keras.preprocessing.text import Tokenizer\n",
        "from keras.preprocessing.sequence import pad_sequences\n",
        "\n",
        "tokenizer = Tokenizer(num_words=vocab_size, oov_token=oov_token)\n",
        "tokenizer.fit_on_texts(headlines)\n",
        "\n",
        "sequences = tokenizer.texts_to_sequences(headlines)\n",
        "padded_sequences = pad_sequences(sequences, padding=pad_type, truncating=trunc_type)\n",
        "\n",
        "max_len = len(padded_sequences[0])\n",
        "print(max_len)\n",
        "\n",
        "print(\"Headline : {}\".format(headlines[0]))\n",
        "print(\"Tokenized Sequence : {}\".format(sequences[0]))\n",
        "print(\"Padded Sequence : {}\".format(padded_sequences[0]))"
      ],
      "execution_count": 18,
      "outputs": [
        {
          "output_type": "stream",
          "text": [
            "40\n",
            "Headline : former versace store clerk sues over secret 'black code' for minority shoppers\n",
            "Tokenized Sequence : [308, 1, 679, 3337, 2298, 48, 382, 2576, 1, 6, 2577, 8434]\n",
            "Padded Sequence : [ 308    1  679 3337 2298   48  382 2576    1    6 2577 8434    0    0\n",
            "    0    0    0    0    0    0    0    0    0    0    0    0    0    0\n",
            "    0    0    0    0    0    0    0    0    0    0    0    0]\n"
          ],
          "name": "stdout"
        }
      ]
    },
    {
      "cell_type": "code",
      "metadata": {
        "id": "i85WHn0U7Mfq",
        "outputId": "013f12cf-eac4-4aeb-e964-5c9e718543ac",
        "colab": {
          "base_uri": "https://localhost:8080/",
          "height": 51
        }
      },
      "source": [
        "train_padded = np.array(padded_sequences[:training_size])\n",
        "valid_padded = np.array(padded_sequences[training_size:])\n",
        "\n",
        "train_labels = np.array(labels[:training_size])\n",
        "valid_labels = np.array(labels[training_size:])\n",
        "\n",
        "print(len(train_padded))\n",
        "print(len(valid_padded))"
      ],
      "execution_count": 19,
      "outputs": [
        {
          "output_type": "stream",
          "text": [
            "20000\n",
            "6709\n"
          ],
          "name": "stdout"
        }
      ]
    },
    {
      "cell_type": "code",
      "metadata": {
        "id": "oFbgsNOl2qei"
      },
      "source": [
        "import matplotlib.pyplot as plt\n",
        "\n",
        "def plot_graph(history, string):\n",
        "    plt.xlabel(\"Epochs\")\n",
        "    plt.ylabel(string)\n",
        "    plt.plot(history.history[string])\n",
        "    plt.plot(history.history[\"val_\" + string])\n",
        "    plt.legend([string, \"val_\" + string])\n",
        "    plt.show()"
      ],
      "execution_count": 20,
      "outputs": []
    },
    {
      "cell_type": "markdown",
      "metadata": {
        "id": "rlS1qo3d6YZ6"
      },
      "source": [
        "# **Model with Multiple LSTM Layers**"
      ]
    },
    {
      "cell_type": "code",
      "metadata": {
        "id": "uPp6WFHA6cxy",
        "outputId": "87fc56d5-4629-40b8-8e74-117eadb1fad0",
        "colab": {
          "base_uri": "https://localhost:8080/",
          "height": 1000
        }
      },
      "source": [
        "from keras.regularizers import L2\n",
        "\n",
        "model = keras.models.Sequential([\n",
        "    keras.layers.Embedding(vocab_size, embedding_dim, input_length=max_len),\n",
        "    keras.layers.Dropout(0.3),\n",
        "    keras.layers.LSTM(64, return_sequences=True, dropout=0.2),\n",
        "    keras.layers.LSTM(32, dropout=0.2 ),\n",
        "    keras.layers.Dropout(0.3),\n",
        "    keras.layers.Dense(1, activation=\"sigmoid\")\n",
        "])\n",
        "\n",
        "model.summary()\n",
        "\n",
        "model.compile(loss=\"binary_crossentropy\", optimizer=\"adam\",\n",
        "              metrics=[\"accuracy\"])\n",
        "\n",
        "history = model.fit(train_padded, train_labels, epochs=20, \n",
        "                    validation_data=(valid_padded, valid_labels), verbose=1)"
      ],
      "execution_count": 25,
      "outputs": [
        {
          "output_type": "stream",
          "text": [
            "Model: \"sequential_5\"\n",
            "_________________________________________________________________\n",
            "Layer (type)                 Output Shape              Param #   \n",
            "=================================================================\n",
            "embedding_5 (Embedding)      (None, 40, 128)           1280000   \n",
            "_________________________________________________________________\n",
            "dropout_10 (Dropout)         (None, 40, 128)           0         \n",
            "_________________________________________________________________\n",
            "lstm_10 (LSTM)               (None, 40, 64)            49408     \n",
            "_________________________________________________________________\n",
            "lstm_11 (LSTM)               (None, 32)                12416     \n",
            "_________________________________________________________________\n",
            "dropout_11 (Dropout)         (None, 32)                0         \n",
            "_________________________________________________________________\n",
            "dense_5 (Dense)              (None, 1)                 33        \n",
            "=================================================================\n",
            "Total params: 1,341,857\n",
            "Trainable params: 1,341,857\n",
            "Non-trainable params: 0\n",
            "_________________________________________________________________\n",
            "Epoch 1/20\n",
            "625/625 [==============================] - 12s 20ms/step - loss: 0.5921 - accuracy: 0.6694 - val_loss: 0.5549 - val_accuracy: 0.7529\n",
            "Epoch 2/20\n",
            "625/625 [==============================] - 12s 19ms/step - loss: 0.5080 - accuracy: 0.7850 - val_loss: 0.4823 - val_accuracy: 0.7988\n",
            "Epoch 3/20\n",
            "625/625 [==============================] - 12s 19ms/step - loss: 0.3759 - accuracy: 0.8512 - val_loss: 0.4580 - val_accuracy: 0.8340\n",
            "Epoch 4/20\n",
            "625/625 [==============================] - 12s 19ms/step - loss: 0.2749 - accuracy: 0.8986 - val_loss: 0.4290 - val_accuracy: 0.8384\n",
            "Epoch 5/20\n",
            "625/625 [==============================] - 12s 18ms/step - loss: 0.2280 - accuracy: 0.9238 - val_loss: 0.4625 - val_accuracy: 0.8401\n",
            "Epoch 6/20\n",
            "625/625 [==============================] - 12s 19ms/step - loss: 0.1942 - accuracy: 0.9399 - val_loss: 0.4541 - val_accuracy: 0.8393\n",
            "Epoch 7/20\n",
            "625/625 [==============================] - 12s 19ms/step - loss: 0.1656 - accuracy: 0.9509 - val_loss: 0.5163 - val_accuracy: 0.8393\n",
            "Epoch 8/20\n",
            "625/625 [==============================] - 12s 20ms/step - loss: 0.1488 - accuracy: 0.9579 - val_loss: 0.4743 - val_accuracy: 0.8353\n",
            "Epoch 9/20\n",
            "625/625 [==============================] - 12s 19ms/step - loss: 0.1207 - accuracy: 0.9635 - val_loss: 0.5182 - val_accuracy: 0.8481\n",
            "Epoch 10/20\n",
            "625/625 [==============================] - 12s 19ms/step - loss: 0.0882 - accuracy: 0.9747 - val_loss: 0.5484 - val_accuracy: 0.8425\n",
            "Epoch 11/20\n",
            "625/625 [==============================] - 12s 19ms/step - loss: 0.0696 - accuracy: 0.9812 - val_loss: 0.6081 - val_accuracy: 0.8427\n",
            "Epoch 12/20\n",
            "625/625 [==============================] - 12s 19ms/step - loss: 0.0598 - accuracy: 0.9828 - val_loss: 0.6399 - val_accuracy: 0.8404\n",
            "Epoch 13/20\n",
            "625/625 [==============================] - 12s 19ms/step - loss: 0.0515 - accuracy: 0.9857 - val_loss: 0.7163 - val_accuracy: 0.8372\n",
            "Epoch 14/20\n",
            "625/625 [==============================] - 12s 18ms/step - loss: 0.0421 - accuracy: 0.9894 - val_loss: 0.7199 - val_accuracy: 0.8302\n",
            "Epoch 15/20\n",
            "625/625 [==============================] - 12s 19ms/step - loss: 0.0352 - accuracy: 0.9908 - val_loss: 0.8183 - val_accuracy: 0.8365\n",
            "Epoch 16/20\n",
            "625/625 [==============================] - 11s 18ms/step - loss: 0.0310 - accuracy: 0.9911 - val_loss: 0.7892 - val_accuracy: 0.8313\n",
            "Epoch 17/20\n",
            "625/625 [==============================] - 12s 18ms/step - loss: 0.0248 - accuracy: 0.9925 - val_loss: 0.7911 - val_accuracy: 0.8337\n",
            "Epoch 18/20\n",
            "625/625 [==============================] - 12s 19ms/step - loss: 0.0212 - accuracy: 0.9937 - val_loss: 0.8052 - val_accuracy: 0.8337\n",
            "Epoch 19/20\n",
            "625/625 [==============================] - 12s 18ms/step - loss: 0.0154 - accuracy: 0.9948 - val_loss: 0.9498 - val_accuracy: 0.8335\n",
            "Epoch 20/20\n",
            "625/625 [==============================] - 11s 18ms/step - loss: 0.0139 - accuracy: 0.9952 - val_loss: 0.8928 - val_accuracy: 0.8307\n"
          ],
          "name": "stdout"
        }
      ]
    },
    {
      "cell_type": "code",
      "metadata": {
        "id": "8j7Z1jXz8_ug",
        "outputId": "f0b0574a-f999-4ded-dd5f-b85a0d0a55f0",
        "colab": {
          "base_uri": "https://localhost:8080/",
          "height": 541
        }
      },
      "source": [
        "plot_graph(history, \"accuracy\")\n",
        "plot_graph(history, \"loss\")"
      ],
      "execution_count": 26,
      "outputs": [
        {
          "output_type": "display_data",
          "data": {
            "image/png": "[encoded data removed]",
            "text/plain": [
              "<Figure size 432x288 with 1 Axes>"
            ]
          },
          "metadata": {
            "tags": [],
            "needs_background": "light"
          }
        },
        {
          "output_type": "display_data",
          "data": {
            "image/png": "[encoded data removed]",
            "text/plain": [
              "<Figure size 432x288 with 1 Axes>"
            ]
          },
          "metadata": {
            "tags": [],
            "needs_background": "light"
          }
        }
      ]
    },
    {
      "cell_type": "code",
      "metadata": {
        "id": "tQOfMCuQTi6K",
        "outputId": "5933f61f-8d09-480d-bc3c-1a4f1616a970",
        "colab": {
          "base_uri": "https://localhost:8080/",
          "height": 1000
        }
      },
      "source": [
        "bidirectional_model = keras.models.Sequential([\n",
        "    keras.layers.Embedding(vocab_size, embedding_dim, input_length=max_len),\n",
        "    keras.layers.Dropout(0.3),\n",
        "    keras.layers.Bidirectional(keras.layers.LSTM(32, return_sequences=True,\n",
        "                                                 dropout=0.2)),\n",
        "    keras.layers.Bidirectional(keras.layers.LSTM(16, dropout=0.2)),\n",
        "    keras.layers.Dropout(0.3),\n",
        "    keras.layers.Dense(1, activation=\"sigmoid\"),\n",
        "])\n",
        "\n",
        "bidirectional_model.summary()\n",
        "\n",
        "bidirectional_model.compile(loss=\"binary_crossentropy\", optimizer=\"adam\", metrics=[\"accuracy\"])\n",
        "\n",
        "history = bidirectional_model.fit(train_padded, train_labels, epochs=20, \n",
        "          validation_data=(valid_padded, valid_labels), verbose=1)"
      ],
      "execution_count": 27,
      "outputs": [
        {
          "output_type": "stream",
          "text": [
            "Model: \"sequential_6\"\n",
            "_________________________________________________________________\n",
            "Layer (type)                 Output Shape              Param #   \n",
            "=================================================================\n",
            "embedding_6 (Embedding)      (None, 40, 128)           1280000   \n",
            "_________________________________________________________________\n",
            "dropout_12 (Dropout)         (None, 40, 128)           0         \n",
            "_________________________________________________________________\n",
            "bidirectional (Bidirectional (None, 40, 64)            41216     \n",
            "_________________________________________________________________\n",
            "bidirectional_1 (Bidirection (None, 32)                10368     \n",
            "_________________________________________________________________\n",
            "dropout_13 (Dropout)         (None, 32)                0         \n",
            "_________________________________________________________________\n",
            "dense_6 (Dense)              (None, 1)                 33        \n",
            "=================================================================\n",
            "Total params: 1,331,617\n",
            "Trainable params: 1,331,617\n",
            "Non-trainable params: 0\n",
            "_________________________________________________________________\n",
            "Epoch 1/20\n",
            "625/625 [==============================] - 16s 26ms/step - loss: 0.4104 - accuracy: 0.8018 - val_loss: 0.3284 - val_accuracy: 0.8578\n",
            "Epoch 2/20\n",
            "625/625 [==============================] - 15s 23ms/step - loss: 0.2261 - accuracy: 0.9105 - val_loss: 0.3518 - val_accuracy: 0.8569\n",
            "Epoch 3/20\n",
            "625/625 [==============================] - 15s 24ms/step - loss: 0.1471 - accuracy: 0.9452 - val_loss: 0.3733 - val_accuracy: 0.8535\n",
            "Epoch 4/20\n",
            "625/625 [==============================] - 15s 23ms/step - loss: 0.1079 - accuracy: 0.9626 - val_loss: 0.4652 - val_accuracy: 0.8512\n",
            "Epoch 5/20\n",
            "625/625 [==============================] - 15s 24ms/step - loss: 0.0760 - accuracy: 0.9750 - val_loss: 0.5598 - val_accuracy: 0.8483\n",
            "Epoch 6/20\n",
            "625/625 [==============================] - 15s 24ms/step - loss: 0.0538 - accuracy: 0.9819 - val_loss: 0.5749 - val_accuracy: 0.8447\n",
            "Epoch 7/20\n",
            "625/625 [==============================] - 15s 24ms/step - loss: 0.0397 - accuracy: 0.9869 - val_loss: 0.7213 - val_accuracy: 0.8393\n",
            "Epoch 8/20\n",
            "625/625 [==============================] - 15s 23ms/step - loss: 0.0329 - accuracy: 0.9897 - val_loss: 0.7722 - val_accuracy: 0.8386\n",
            "Epoch 9/20\n",
            "625/625 [==============================] - 15s 23ms/step - loss: 0.0292 - accuracy: 0.9907 - val_loss: 0.7901 - val_accuracy: 0.8347\n",
            "Epoch 10/20\n",
            "625/625 [==============================] - 15s 23ms/step - loss: 0.0204 - accuracy: 0.9935 - val_loss: 0.8692 - val_accuracy: 0.8320\n",
            "Epoch 11/20\n",
            "625/625 [==============================] - 15s 24ms/step - loss: 0.0233 - accuracy: 0.9926 - val_loss: 0.7931 - val_accuracy: 0.8377\n",
            "Epoch 12/20\n",
            "625/625 [==============================] - 15s 24ms/step - loss: 0.0195 - accuracy: 0.9941 - val_loss: 0.8319 - val_accuracy: 0.8398\n",
            "Epoch 13/20\n",
            "625/625 [==============================] - 15s 24ms/step - loss: 0.0173 - accuracy: 0.9945 - val_loss: 0.9444 - val_accuracy: 0.8381\n",
            "Epoch 14/20\n",
            "625/625 [==============================] - 15s 23ms/step - loss: 0.0125 - accuracy: 0.9955 - val_loss: 0.9519 - val_accuracy: 0.8371\n",
            "Epoch 15/20\n",
            "625/625 [==============================] - 15s 24ms/step - loss: 0.0147 - accuracy: 0.9952 - val_loss: 0.9340 - val_accuracy: 0.8395\n",
            "Epoch 16/20\n",
            "625/625 [==============================] - 15s 24ms/step - loss: 0.0108 - accuracy: 0.9966 - val_loss: 0.9996 - val_accuracy: 0.8366\n",
            "Epoch 17/20\n",
            "625/625 [==============================] - 15s 24ms/step - loss: 0.0104 - accuracy: 0.9962 - val_loss: 1.0324 - val_accuracy: 0.8380\n",
            "Epoch 18/20\n",
            "625/625 [==============================] - 15s 23ms/step - loss: 0.0086 - accuracy: 0.9970 - val_loss: 1.1011 - val_accuracy: 0.8404\n",
            "Epoch 19/20\n",
            "625/625 [==============================] - 15s 24ms/step - loss: 0.0071 - accuracy: 0.9976 - val_loss: 1.0977 - val_accuracy: 0.8374\n",
            "Epoch 20/20\n",
            "625/625 [==============================] - 15s 23ms/step - loss: 0.0087 - accuracy: 0.9974 - val_loss: 1.0722 - val_accuracy: 0.8381\n"
          ],
          "name": "stdout"
        }
      ]
    },
    {
      "cell_type": "code",
      "metadata": {
        "id": "1-VFC-l4WJgX",
        "outputId": "4879a10c-78cb-419a-bbdf-0ac00f751b6a",
        "colab": {
          "base_uri": "https://localhost:8080/",
          "height": 541
        }
      },
      "source": [
        "plot_graph(history, \"accuracy\")\n",
        "plot_graph(history, \"loss\")"
      ],
      "execution_count": 28,
      "outputs": [
        {
          "output_type": "display_data",
          "data": {
            "image/png": "[encoded data removed]",
            "text/plain": [
              "<Figure size 432x288 with 1 Axes>"
            ]
          },
          "metadata": {
            "tags": [],
            "needs_background": "light"
          }
        },
        {
          "output_type": "display_data",
          "data": {
            "image/png": "[encoded data removed]",
            "text/plain": [
              "<Figure size 432x288 with 1 Axes>"
            ]
          },
          "metadata": {
            "tags": [],
            "needs_background": "light"
          }
        }
      ]
    },
    {
      "cell_type": "code",
      "metadata": {
        "id": "zmaB35eRY8Q2"
      },
      "source": [
        ""
      ],
      "execution_count": null,
      "outputs": []
    }
  ]
}