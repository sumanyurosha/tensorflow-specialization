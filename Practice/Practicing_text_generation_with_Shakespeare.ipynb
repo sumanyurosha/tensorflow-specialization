{
  "nbformat": 4,
  "nbformat_minor": 0,
  "metadata": {
    "colab": {
      "name": "Practicing text generation with Shakespeare.ipynb",
      "provenance": [],
      "authorship_tag": "ABX9TyMvaJ2Wb1mKHaYjKRopDdcp",
      "include_colab_link": true
    },
    "kernelspec": {
      "name": "python3",
      "display_name": "Python 3"
    },
    "accelerator": "GPU"
  },
  "cells": [
    {
      "cell_type": "markdown",
      "metadata": {
        "id": "view-in-github",
        "colab_type": "text"
      },
      "source": [
        "<a href=\"https://colab.research.google.com/github/sumanyurosha/tensorflow-specialization/blob/master/Practice/Practicing_text_generation_with_Shakespeare.ipynb\" target=\"_parent\"><img src=\"https://colab.research.google.com/assets/colab-badge.svg\" alt=\"Open In Colab\"/></a>"
      ]
    },
    {
      "cell_type": "code",
      "metadata": {
        "id": "FeXsoYBrKiIG"
      },
      "source": [
        "import tensorflow as tf\n",
        "from tensorflow import keras\n",
        "import numpy as np"
      ],
      "execution_count": 1,
      "outputs": []
    },
    {
      "cell_type": "code",
      "metadata": {
        "id": "ZbS6SaSw9MQL",
        "outputId": "43122cd0-0fb0-4ef5-954e-572ff178c96e",
        "colab": {
          "base_uri": "https://localhost:8080/",
          "height": 51
        }
      },
      "source": [
        "shakespeare_url = \"https://homl.info/shakespeare\"\n",
        "filepath = keras.utils.get_file(\"shakespeare\", shakespeare_url)\n",
        "\n",
        "with open(filepath) as f:\n",
        "    shakespeare_text = f.read()"
      ],
      "execution_count": 2,
      "outputs": [
        {
          "output_type": "stream",
          "text": [
            "Downloading data from https://homl.info/shakespeare\n",
            "1122304/1115394 [==============================] - 0s 0us/step\n"
          ],
          "name": "stdout"
        }
      ]
    },
    {
      "cell_type": "code",
      "metadata": {
        "id": "SjdrfuXa95Ck",
        "outputId": "cda8cfcd-dbff-43e6-a432-a70d35800678",
        "colab": {
          "base_uri": "https://localhost:8080/",
          "height": 34
        }
      },
      "source": [
        "len(shakespeare_text)"
      ],
      "execution_count": 3,
      "outputs": [
        {
          "output_type": "execute_result",
          "data": {
            "text/plain": [
              "1115394"
            ]
          },
          "metadata": {
            "tags": []
          },
          "execution_count": 3
        }
      ]
    },
    {
      "cell_type": "code",
      "metadata": {
        "id": "X1GQWMxX9-fA"
      },
      "source": [
        "from keras.preprocessing.text import Tokenizer\n",
        "\n",
        "tokenizer = Tokenizer(char_level=True)\n",
        "tokenizer.fit_on_texts(shakespeare_text)\n",
        "\n",
        "# total number of distinct characters\n",
        "max_id = len(tokenizer.word_index)\n",
        "# total number of characters\n",
        "dataset_size = tokenizer.document_count"
      ],
      "execution_count": 4,
      "outputs": []
    },
    {
      "cell_type": "code",
      "metadata": {
        "id": "kDQvd5joONTd",
        "outputId": "b298225f-cca9-4361-c655-b7a5be9beaa1",
        "colab": {
          "base_uri": "https://localhost:8080/",
          "height": 34
        }
      },
      "source": [
        "tokenizer.texts_to_sequences([\"First\"])"
      ],
      "execution_count": 5,
      "outputs": [
        {
          "output_type": "execute_result",
          "data": {
            "text/plain": [
              "[[20, 6, 9, 8, 3]]"
            ]
          },
          "metadata": {
            "tags": []
          },
          "execution_count": 5
        }
      ]
    },
    {
      "cell_type": "code",
      "metadata": {
        "id": "a_oKF64NOQOq",
        "outputId": "251d07ff-fd37-40b3-e6de-5e7ad838c6f4",
        "colab": {
          "base_uri": "https://localhost:8080/",
          "height": 34
        }
      },
      "source": [
        "tokenizer.sequences_to_texts([[20, 6, 9, 8, 3]])"
      ],
      "execution_count": 6,
      "outputs": [
        {
          "output_type": "execute_result",
          "data": {
            "text/plain": [
              "['f i r s t']"
            ]
          },
          "metadata": {
            "tags": []
          },
          "execution_count": 6
        }
      ]
    },
    {
      "cell_type": "code",
      "metadata": {
        "id": "gE26RC_yA6ry",
        "outputId": "aaa683f1-76f3-4110-a9ab-6bdefca53fb6",
        "colab": {
          "base_uri": "https://localhost:8080/",
          "height": 51
        }
      },
      "source": [
        "print(max_id)\n",
        "print(dataset_size)"
      ],
      "execution_count": 7,
      "outputs": [
        {
          "output_type": "stream",
          "text": [
            "39\n",
            "1115394\n"
          ],
          "name": "stdout"
        }
      ]
    },
    {
      "cell_type": "code",
      "metadata": {
        "id": "S5M2_Oc6A9zn"
      },
      "source": [
        "[encoded] = np.array(tokenizer.texts_to_sequences([shakespeare_text])) - 1"
      ],
      "execution_count": 8,
      "outputs": []
    },
    {
      "cell_type": "code",
      "metadata": {
        "id": "oyAxjG1nITSd",
        "outputId": "9ab9c2a6-84a8-44ed-e413-5bc2be9e8d9a",
        "colab": {
          "base_uri": "https://localhost:8080/",
          "height": 34
        }
      },
      "source": [
        "encoded.shape"
      ],
      "execution_count": 9,
      "outputs": [
        {
          "output_type": "execute_result",
          "data": {
            "text/plain": [
              "(1115394,)"
            ]
          },
          "metadata": {
            "tags": []
          },
          "execution_count": 9
        }
      ]
    },
    {
      "cell_type": "code",
      "metadata": {
        "id": "pXcfIegkCmcE"
      },
      "source": [
        "train_size = dataset_size * 90 // 100\n",
        "dataset = tf.data.Dataset.from_tensor_slices(encoded[:train_size])"
      ],
      "execution_count": 10,
      "outputs": []
    },
    {
      "cell_type": "code",
      "metadata": {
        "id": "AOMm3kegCw3S",
        "outputId": "058fe5da-c9ec-4754-d1e8-d7d5d0d7a7eb",
        "colab": {
          "base_uri": "https://localhost:8080/",
          "height": 34
        }
      },
      "source": [
        "dataset"
      ],
      "execution_count": 11,
      "outputs": [
        {
          "output_type": "execute_result",
          "data": {
            "text/plain": [
              "<TensorSliceDataset shapes: (), types: tf.int64>"
            ]
          },
          "metadata": {
            "tags": []
          },
          "execution_count": 11
        }
      ]
    },
    {
      "cell_type": "code",
      "metadata": {
        "id": "IfwfxuDOM1_x",
        "outputId": "97f831dd-1125-4c66-d1fb-e61e4122f0ec",
        "colab": {
          "base_uri": "https://localhost:8080/",
          "height": 34
        }
      },
      "source": [
        "next(iter(dataset))"
      ],
      "execution_count": 12,
      "outputs": [
        {
          "output_type": "execute_result",
          "data": {
            "text/plain": [
              "<tf.Tensor: shape=(), dtype=int64, numpy=19>"
            ]
          },
          "metadata": {
            "tags": []
          },
          "execution_count": 12
        }
      ]
    },
    {
      "cell_type": "code",
      "metadata": {
        "id": "0L-TEwYpDA9s"
      },
      "source": [
        "n_steps = 100\n",
        "window_length = n_steps + 1\n",
        "dataset = dataset.window(window_length, shift=1, drop_remainder=True)"
      ],
      "execution_count": 13,
      "outputs": []
    },
    {
      "cell_type": "code",
      "metadata": {
        "id": "tZMUI8JwIKTA",
        "outputId": "9a236da4-508c-46f8-b87f-6083d903fbf5",
        "colab": {
          "base_uri": "https://localhost:8080/",
          "height": 34
        }
      },
      "source": [
        "next(iter(dataset))"
      ],
      "execution_count": 14,
      "outputs": [
        {
          "output_type": "execute_result",
          "data": {
            "text/plain": [
              "<_VariantDataset shapes: (), types: tf.int64>"
            ]
          },
          "metadata": {
            "tags": []
          },
          "execution_count": 14
        }
      ]
    },
    {
      "cell_type": "code",
      "metadata": {
        "id": "UvdWDIV0ILSI",
        "outputId": "ece76d35-83ae-4502-de97-f234beb5eb32",
        "colab": {
          "base_uri": "https://localhost:8080/",
          "height": 34
        }
      },
      "source": [
        "dataset = dataset.flat_map(lambda window: window.batch(window_length))\n",
        "dataset"
      ],
      "execution_count": 15,
      "outputs": [
        {
          "output_type": "execute_result",
          "data": {
            "text/plain": [
              "<FlatMapDataset shapes: (None,), types: tf.int64>"
            ]
          },
          "metadata": {
            "tags": []
          },
          "execution_count": 15
        }
      ]
    },
    {
      "cell_type": "code",
      "metadata": {
        "id": "qJd4-CJcPTKx",
        "outputId": "8820a743-6cbe-4fab-8391-e4acf5ff728f",
        "colab": {
          "base_uri": "https://localhost:8080/",
          "height": 136
        }
      },
      "source": [
        "next(iter(dataset))"
      ],
      "execution_count": 16,
      "outputs": [
        {
          "output_type": "execute_result",
          "data": {
            "text/plain": [
              "<tf.Tensor: shape=(101,), dtype=int64, numpy=\n",
              "array([19,  5,  8,  7,  2,  0, 18,  5,  2,  5, 35,  1,  9, 23, 10, 21,  1,\n",
              "       19,  3,  8,  1,  0, 16,  1,  0, 22,  8,  3, 18,  1,  1, 12,  0,  4,\n",
              "        9, 15,  0, 19, 13,  8,  2,  6,  1,  8, 17,  0,  6,  1,  4,  8,  0,\n",
              "       14,  1,  0,  7, 22,  1,  4, 24, 26, 10, 10,  4, 11, 11, 23, 10,  7,\n",
              "       22,  1,  4, 24, 17,  0,  7, 22,  1,  4, 24, 26, 10, 10, 19,  5,  8,\n",
              "        7,  2,  0, 18,  5,  2,  5, 35,  1,  9, 23, 10, 15,  3, 13,  0])>"
            ]
          },
          "metadata": {
            "tags": []
          },
          "execution_count": 16
        }
      ]
    },
    {
      "cell_type": "code",
      "metadata": {
        "id": "kAav5hgGJP_K"
      },
      "source": [
        "batch_size = 32\n",
        "dataset = dataset.shuffle(10000).batch(batch_size)\n",
        "dataset = dataset.map(lambda window: (window[:, :-1], window[:, 1:]))"
      ],
      "execution_count": 17,
      "outputs": []
    },
    {
      "cell_type": "code",
      "metadata": {
        "id": "eQZZwDxcK_IH",
        "outputId": "a8711825-84c8-426c-efcb-63bcb61fb238",
        "colab": {
          "base_uri": "https://localhost:8080/",
          "height": 289
        }
      },
      "source": [
        "next(iter(dataset))"
      ],
      "execution_count": 18,
      "outputs": [
        {
          "output_type": "execute_result",
          "data": {
            "text/plain": [
              "(<tf.Tensor: shape=(32, 100), dtype=int64, numpy=\n",
              " array([[ 4,  9,  7, ...,  8, 17, 10],\n",
              "        [ 4,  5,  9, ...,  5, 13,  7],\n",
              "        [12,  0,  2, ...,  4,  9, 15],\n",
              "        ...,\n",
              "        [10, 19,  5, ...,  3,  8,  1],\n",
              "        [11,  0,  6, ..., 16,  4, 15],\n",
              "        [ 0, 16,  6, ...,  4,  2, 13]])>,\n",
              " <tf.Tensor: shape=(32, 100), dtype=int64, numpy=\n",
              " array([[ 9,  7, 16, ..., 17, 10,  3],\n",
              "        [ 5,  9, 10, ..., 13,  7, 23],\n",
              "        [ 0,  2,  6, ...,  9, 15,  0],\n",
              "        ...,\n",
              "        [19,  5,  8, ...,  8,  1,  0],\n",
              "        [ 0,  6,  4, ...,  4, 15, 30],\n",
              "        [16,  6,  5, ...,  2, 13,  8]])>)"
            ]
          },
          "metadata": {
            "tags": []
          },
          "execution_count": 18
        }
      ]
    },
    {
      "cell_type": "code",
      "metadata": {
        "id": "umLaXSWdLAY0"
      },
      "source": [
        "dataset = dataset.map(lambda x_batch, y_batch : (tf.one_hot(x_batch, depth=max_id), y_batch))"
      ],
      "execution_count": 19,
      "outputs": []
    },
    {
      "cell_type": "code",
      "metadata": {
        "id": "5FE9PItBPXFK",
        "outputId": "bf154297-dc5f-436f-cc33-3229e6267e59",
        "colab": {
          "base_uri": "https://localhost:8080/",
          "height": 1000
        }
      },
      "source": [
        "next(iter(dataset))"
      ],
      "execution_count": 20,
      "outputs": [
        {
          "output_type": "execute_result",
          "data": {
            "text/plain": [
              "(<tf.Tensor: shape=(32, 100, 39), dtype=float32, numpy=\n",
              " array([[[0., 1., 0., ..., 0., 0., 0.],\n",
              "         [0., 0., 0., ..., 0., 0., 0.],\n",
              "         [1., 0., 0., ..., 0., 0., 0.],\n",
              "         ...,\n",
              "         [0., 0., 0., ..., 0., 0., 0.],\n",
              "         [0., 0., 1., ..., 0., 0., 0.],\n",
              "         [1., 0., 0., ..., 0., 0., 0.]],\n",
              " \n",
              "        [[1., 0., 0., ..., 0., 0., 0.],\n",
              "         [0., 0., 0., ..., 0., 0., 0.],\n",
              "         [0., 0., 0., ..., 0., 0., 0.],\n",
              "         ...,\n",
              "         [0., 1., 0., ..., 0., 0., 0.],\n",
              "         [0., 0., 0., ..., 0., 0., 0.],\n",
              "         [0., 0., 0., ..., 0., 0., 0.]],\n",
              " \n",
              "        [[0., 0., 0., ..., 0., 0., 0.],\n",
              "         [0., 0., 0., ..., 0., 0., 0.],\n",
              "         [0., 0., 0., ..., 0., 0., 0.],\n",
              "         ...,\n",
              "         [0., 0., 0., ..., 0., 0., 0.],\n",
              "         [0., 0., 0., ..., 0., 0., 0.],\n",
              "         [0., 0., 0., ..., 0., 0., 0.]],\n",
              " \n",
              "        ...,\n",
              " \n",
              "        [[0., 0., 0., ..., 0., 0., 0.],\n",
              "         [0., 1., 0., ..., 0., 0., 0.],\n",
              "         [0., 0., 0., ..., 0., 0., 0.],\n",
              "         ...,\n",
              "         [0., 0., 0., ..., 0., 0., 0.],\n",
              "         [0., 0., 0., ..., 0., 0., 0.],\n",
              "         [0., 0., 0., ..., 0., 0., 0.]],\n",
              " \n",
              "        [[0., 0., 0., ..., 0., 0., 0.],\n",
              "         [0., 0., 0., ..., 0., 0., 0.],\n",
              "         [0., 0., 0., ..., 0., 0., 0.],\n",
              "         ...,\n",
              "         [0., 0., 0., ..., 0., 0., 0.],\n",
              "         [0., 0., 0., ..., 0., 0., 0.],\n",
              "         [0., 1., 0., ..., 0., 0., 0.]],\n",
              " \n",
              "        [[0., 0., 0., ..., 0., 0., 0.],\n",
              "         [0., 0., 0., ..., 0., 0., 0.],\n",
              "         [0., 0., 0., ..., 0., 0., 0.],\n",
              "         ...,\n",
              "         [0., 0., 0., ..., 0., 0., 0.],\n",
              "         [0., 0., 0., ..., 0., 0., 0.],\n",
              "         [0., 1., 0., ..., 0., 0., 0.]]], dtype=float32)>,\n",
              " <tf.Tensor: shape=(32, 100), dtype=int64, numpy=\n",
              " array([[ 9,  0,  2, ...,  2,  0,  4],\n",
              "        [ 7, 13, 18, ..., 17, 10,  2],\n",
              "        [ 5,  4, 20, ...,  6,  3,  1],\n",
              "        ...,\n",
              "        [ 1,  4,  9, ...,  9, 12,  4],\n",
              "        [11, 11,  0, ..., 24,  1,  0],\n",
              "        [ 9, 20,  0, ...,  7,  1, 11]])>)"
            ]
          },
          "metadata": {
            "tags": []
          },
          "execution_count": 20
        }
      ]
    },
    {
      "cell_type": "code",
      "metadata": {
        "id": "LGro80LrPXwi"
      },
      "source": [
        "model = keras.models.Sequential([\n",
        "    keras.layers.GRU(128, return_sequences=True, input_shape=[None, max_id]),\n",
        "    keras.layers.GRU(128, return_sequences=True),\n",
        "    keras.layers.TimeDistributed(keras.layers.Dense(max_id, activation=\"softmax\"))\n",
        "])"
      ],
      "execution_count": 21,
      "outputs": []
    },
    {
      "cell_type": "code",
      "metadata": {
        "id": "SK5PSsCZwx5C",
        "outputId": "5c0e5a15-f9e9-433e-b2a5-eeec9384d7a1",
        "colab": {
          "base_uri": "https://localhost:8080/",
          "height": 697
        }
      },
      "source": [
        "model.compile(loss=\"sparse_categorical_crossentropy\", optimizer=\"adam\")\n",
        "\n",
        "history = model.fit(dataset, epochs=20)"
      ],
      "execution_count": 22,
      "outputs": [
        {
          "output_type": "stream",
          "text": [
            "Epoch 1/20\n",
            "31368/31368 [==============================] - 390s 12ms/step - loss: 0.9434\n",
            "Epoch 2/20\n",
            "31368/31368 [==============================] - 389s 12ms/step - loss: 0.9515\n",
            "Epoch 3/20\n",
            "31368/31368 [==============================] - 388s 12ms/step - loss: 1.0094\n",
            "Epoch 4/20\n",
            "31368/31368 [==============================] - 388s 12ms/step - loss: 1.0539\n",
            "Epoch 5/20\n",
            "31368/31368 [==============================] - 390s 12ms/step - loss: 1.0851\n",
            "Epoch 6/20\n",
            "31368/31368 [==============================] - 390s 12ms/step - loss: 1.1179\n",
            "Epoch 7/20\n",
            "31368/31368 [==============================] - 387s 12ms/step - loss: 1.1434\n",
            "Epoch 8/20\n",
            "31368/31368 [==============================] - 390s 12ms/step - loss: 1.1644\n",
            "Epoch 9/20\n",
            "31368/31368 [==============================] - 390s 12ms/step - loss: 1.1949\n",
            "Epoch 10/20\n",
            "31368/31368 [==============================] - 388s 12ms/step - loss: 1.2129\n",
            "Epoch 11/20\n",
            "31368/31368 [==============================] - 389s 12ms/step - loss: 1.2270\n",
            "Epoch 12/20\n",
            "31368/31368 [==============================] - 388s 12ms/step - loss: 1.2412\n",
            "Epoch 13/20\n",
            "31368/31368 [==============================] - 387s 12ms/step - loss: 1.2545\n",
            "Epoch 14/20\n",
            "31368/31368 [==============================] - 391s 12ms/step - loss: 1.2700\n",
            "Epoch 15/20\n",
            "31368/31368 [==============================] - 387s 12ms/step - loss: 1.2789\n",
            "Epoch 16/20\n",
            "31368/31368 [==============================] - 396s 13ms/step - loss: 1.2941\n",
            "Epoch 17/20\n",
            "31368/31368 [==============================] - 393s 13ms/step - loss: 1.2998\n",
            "Epoch 18/20\n",
            "31368/31368 [==============================] - 389s 12ms/step - loss: 1.3014\n",
            "Epoch 19/20\n",
            "31368/31368 [==============================] - 388s 12ms/step - loss: 1.3141\n",
            "Epoch 20/20\n",
            "31368/31368 [==============================] - 391s 12ms/step - loss: 1.3139\n"
          ],
          "name": "stdout"
        }
      ]
    },
    {
      "cell_type": "code",
      "metadata": {
        "id": "K1MiuhOMzpue"
      },
      "source": [
        ""
      ],
      "execution_count": null,
      "outputs": []
    }
  ]
}