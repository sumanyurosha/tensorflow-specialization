{
  "nbformat": 4,
  "nbformat_minor": 0,
  "metadata": {
    "colab": {
      "name": "Course 3 Week 2 Lesson 1.ipynb",
      "provenance": [],
      "authorship_tag": "ABX9TyOhIUDXNroZ5LwLJm32SLBR",
      "include_colab_link": true
    },
    "kernelspec": {
      "name": "python3",
      "display_name": "Python 3"
    }
  },
  "cells": [
    {
      "cell_type": "markdown",
      "metadata": {
        "id": "view-in-github",
        "colab_type": "text"
      },
      "source": [
        "<a href=\"https://colab.research.google.com/github/sumanyurosha/tensorflow-specialization/blob/master/Course3/Week2/Lesson1.ipynb\" target=\"_parent\"><img src=\"https://colab.research.google.com/assets/colab-badge.svg\" alt=\"Open In Colab\"/></a>"
      ]
    },
    {
      "cell_type": "code",
      "metadata": {
        "id": "Js2YwQvw3fHf"
      },
      "source": [
        "import tensorflow_datasets as tfds"
      ],
      "execution_count": 1,
      "outputs": []
    },
    {
      "cell_type": "code",
      "metadata": {
        "id": "28h2Mdq55prh"
      },
      "source": [
        "imdb, info = tfds.load(\"imdb_reviews\", with_info=True, as_supervised=True)"
      ],
      "execution_count": 4,
      "outputs": []
    },
    {
      "cell_type": "code",
      "metadata": {
        "id": "530DdFLt6OwO",
        "outputId": "3e5df230-7284-4b62-d74a-85998c4f439b",
        "colab": {
          "base_uri": "https://localhost:8080/",
          "height": 51
        }
      },
      "source": [
        "import numpy as np\n",
        "\n",
        "training_labels = []\n",
        "training_sentences = []\n",
        "\n",
        "testing_labels = []\n",
        "testing_sentences = []\n",
        "\n",
        "for s, l in imdb[\"train\"]:\n",
        "    training_sentences.append(s.numpy().decode(\"utf8\"))\n",
        "    training_labels.append(l)\n",
        "\n",
        "for s, l in imdb[\"test\"]:\n",
        "    testing_sentences.append(s.numpy().decode(\"utf8\"))\n",
        "    testing_labels.append(l)\n",
        "\n",
        "training_labels = np.array(training_labels)\n",
        "testing_labels = np.array(testing_labels)\n",
        "\n",
        "print(len(training_sentences))\n",
        "print(len(testing_sentences))"
      ],
      "execution_count": 7,
      "outputs": [
        {
          "output_type": "stream",
          "text": [
            "25000\n",
            "25000\n"
          ],
          "name": "stdout"
        }
      ]
    },
    {
      "cell_type": "code",
      "metadata": {
        "id": "x4aZjT1t7piR"
      },
      "source": [
        "vocab_size = 10000\n",
        "oov_token = \"<OOV>\"\n",
        "embedding_dim = 16\n",
        "max_len = 120\n",
        "trunc_type = \"post\"\n",
        "\n",
        "from tensorflow import keras\n",
        "from keras.preprocessing.text import Tokenizer\n",
        "from keras.preprocessing.sequence import pad_sequences\n",
        "\n",
        "tokenizer = Tokenizer(num_words=vocab_size, oov_token=oov_token)\n",
        "tokenizer.fit_on_texts(training_sentences)\n",
        "training_word_index = tokenizer.word_index\n",
        "\n",
        "sequences = tokenizer.texts_to_sequences(training_sentences)\n",
        "padded = pad_sequences(sequences, truncating=trunc_type, maxlen=max_len)\n",
        "\n",
        "test_sequences = tokenizer.texts_to_sequences(testing_sentences)\n",
        "test_padded = pad_sequences(test_sequences, truncating=trunc_type, maxlen=max_len)"
      ],
      "execution_count": 13,
      "outputs": []
    },
    {
      "cell_type": "code",
      "metadata": {
        "id": "0ZFdj_TO9rFz",
        "outputId": "7dde76d4-a826-428c-9f13-c6066dff73c4",
        "colab": {
          "base_uri": "https://localhost:8080/",
          "height": 207
        }
      },
      "source": [
        "print(sequences[1])\n",
        "print(padded[1])"
      ],
      "execution_count": 19,
      "outputs": [
        {
          "output_type": "stream",
          "text": [
            "[11, 26, 75, 571, 6, 805, 2354, 313, 106, 19, 12, 7, 629, 686, 6, 4, 2219, 5, 181, 584, 64, 1454, 110, 2263, 3, 3951, 21, 2, 1, 3, 258, 41, 4677, 4, 174, 188, 21, 12, 4078, 11, 1578, 2354, 86, 2, 20, 14, 1907, 2, 112, 940, 14, 1811, 1340, 548, 3, 355, 181, 466, 6, 591, 19, 17, 55, 1817, 5, 49, 14, 4044, 96, 40, 136, 11, 972, 11, 201, 26, 1046, 171, 5, 2, 20, 19, 11, 294, 2, 2155, 5, 10, 3, 283, 41, 466, 6, 591, 5, 92, 203, 1, 207, 99, 145, 4382, 16, 230, 332, 11, 2486, 384, 12, 20, 31, 30]\n",
            "[   0    0    0    0    0    0    0    0   11   26   75  571    6  805\n",
            " 2354  313  106   19   12    7  629  686    6    4 2219    5  181  584\n",
            "   64 1454  110 2263    3 3951   21    2    1    3  258   41 4677    4\n",
            "  174  188   21   12 4078   11 1578 2354   86    2   20   14 1907    2\n",
            "  112  940   14 1811 1340  548    3  355  181  466    6  591   19   17\n",
            "   55 1817    5   49   14 4044   96   40  136   11  972   11  201   26\n",
            " 1046  171    5    2   20   19   11  294    2 2155    5   10    3  283\n",
            "   41  466    6  591    5   92  203    1  207   99  145 4382   16  230\n",
            "  332   11 2486  384   12   20   31   30]\n"
          ],
          "name": "stdout"
        }
      ]
    },
    {
      "cell_type": "code",
      "metadata": {
        "id": "JNai-XMrAygS",
        "outputId": "8774f520-e5c6-4e37-e0f8-31ca1581c856",
        "colab": {
          "base_uri": "https://localhost:8080/",
          "height": 289
        }
      },
      "source": [
        "model = keras.models.Sequential([\n",
        "    keras.layers.Embedding(vocab_size, embedding_dim, input_length=max_len),\n",
        "    keras.layers.GlobalAveragePooling1D(),\n",
        "    keras.layers.Dense(6, activation=\"relu\"),\n",
        "    keras.layers.Dense(1, activation=\"sigmoid\")\n",
        "])\n",
        "\n",
        "model.summary()"
      ],
      "execution_count": 23,
      "outputs": [
        {
          "output_type": "stream",
          "text": [
            "Model: \"sequential_2\"\n",
            "_________________________________________________________________\n",
            "Layer (type)                 Output Shape              Param #   \n",
            "=================================================================\n",
            "embedding_2 (Embedding)      (None, 120, 16)           160000    \n",
            "_________________________________________________________________\n",
            "global_average_pooling1d (Gl (None, 16)                0         \n",
            "_________________________________________________________________\n",
            "dense_4 (Dense)              (None, 6)                 102       \n",
            "_________________________________________________________________\n",
            "dense_5 (Dense)              (None, 1)                 7         \n",
            "=================================================================\n",
            "Total params: 160,109\n",
            "Trainable params: 160,109\n",
            "Non-trainable params: 0\n",
            "_________________________________________________________________\n"
          ],
          "name": "stdout"
        }
      ]
    },
    {
      "cell_type": "code",
      "metadata": {
        "id": "ILZgxMSGBOz-",
        "outputId": "0922aeb7-3bfd-47d9-dda6-448edb1fe925",
        "colab": {
          "base_uri": "https://localhost:8080/",
          "height": 544
        }
      },
      "source": [
        "model.compile(loss=\"binary_crossentropy\",\n",
        "              optimizer=\"nadam\",\n",
        "              metrics=[\"accuracy\"])\n",
        "\n",
        "model.fit(padded, training_labels, epochs=15, validation_data=(test_padded, testing_labels))"
      ],
      "execution_count": 24,
      "outputs": [
        {
          "output_type": "stream",
          "text": [
            "Epoch 1/15\n",
            "782/782 [==============================] - 4s 5ms/step - loss: 0.5829 - accuracy: 0.7210 - val_loss: 0.4482 - val_accuracy: 0.8108\n",
            "Epoch 2/15\n",
            "782/782 [==============================] - 4s 5ms/step - loss: 0.3711 - accuracy: 0.8465 - val_loss: 0.3793 - val_accuracy: 0.8304\n",
            "Epoch 3/15\n",
            "782/782 [==============================] - 4s 5ms/step - loss: 0.3070 - accuracy: 0.8734 - val_loss: 0.3668 - val_accuracy: 0.8370\n",
            "Epoch 4/15\n",
            "782/782 [==============================] - 4s 5ms/step - loss: 0.2722 - accuracy: 0.8909 - val_loss: 0.3687 - val_accuracy: 0.8387\n",
            "Epoch 5/15\n",
            "782/782 [==============================] - 4s 5ms/step - loss: 0.2482 - accuracy: 0.9026 - val_loss: 0.3768 - val_accuracy: 0.8367\n",
            "Epoch 6/15\n",
            "782/782 [==============================] - 4s 5ms/step - loss: 0.2290 - accuracy: 0.9112 - val_loss: 0.3886 - val_accuracy: 0.8344\n",
            "Epoch 7/15\n",
            "782/782 [==============================] - 4s 5ms/step - loss: 0.2130 - accuracy: 0.9193 - val_loss: 0.4037 - val_accuracy: 0.8327\n",
            "Epoch 8/15\n",
            "782/782 [==============================] - 4s 5ms/step - loss: 0.1994 - accuracy: 0.9260 - val_loss: 0.4199 - val_accuracy: 0.8274\n",
            "Epoch 9/15\n",
            "782/782 [==============================] - 4s 5ms/step - loss: 0.1877 - accuracy: 0.9322 - val_loss: 0.4507 - val_accuracy: 0.8218\n",
            "Epoch 10/15\n",
            "782/782 [==============================] - 4s 5ms/step - loss: 0.1772 - accuracy: 0.9370 - val_loss: 0.4788 - val_accuracy: 0.8142\n",
            "Epoch 11/15\n",
            "782/782 [==============================] - 4s 4ms/step - loss: 0.1678 - accuracy: 0.9411 - val_loss: 0.4741 - val_accuracy: 0.8213\n",
            "Epoch 12/15\n",
            "782/782 [==============================] - 4s 5ms/step - loss: 0.1594 - accuracy: 0.9444 - val_loss: 0.4964 - val_accuracy: 0.8174\n",
            "Epoch 13/15\n",
            "782/782 [==============================] - 4s 5ms/step - loss: 0.1516 - accuracy: 0.9486 - val_loss: 0.5172 - val_accuracy: 0.8163\n",
            "Epoch 14/15\n",
            "782/782 [==============================] - 4s 5ms/step - loss: 0.1443 - accuracy: 0.9515 - val_loss: 0.5361 - val_accuracy: 0.8155\n",
            "Epoch 15/15\n",
            "782/782 [==============================] - 4s 5ms/step - loss: 0.1383 - accuracy: 0.9534 - val_loss: 0.5619 - val_accuracy: 0.8112\n"
          ],
          "name": "stdout"
        },
        {
          "output_type": "execute_result",
          "data": {
            "text/plain": [
              "<tensorflow.python.keras.callbacks.History at 0x7fe6bf017f28>"
            ]
          },
          "metadata": {
            "tags": []
          },
          "execution_count": 24
        }
      ]
    },
    {
      "cell_type": "code",
      "metadata": {
        "id": "F46ZVslPB3hL"
      },
      "source": [
        ""
      ],
      "execution_count": null,
      "outputs": []
    }
  ]
}