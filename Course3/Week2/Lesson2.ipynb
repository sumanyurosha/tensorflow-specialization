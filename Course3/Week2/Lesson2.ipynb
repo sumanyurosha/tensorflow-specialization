{
  "nbformat": 4,
  "nbformat_minor": 0,
  "metadata": {
    "colab": {
      "name": "Course 3 - Week 2 - Lesson 2.ipynb",
      "provenance": [],
      "authorship_tag": "ABX9TyN5eYPXJrgX47AMXAJRF6s7",
      "include_colab_link": true
    },
    "kernelspec": {
      "name": "python3",
      "display_name": "Python 3"
    },
    "accelerator": "GPU"
  },
  "cells": [
    {
      "cell_type": "markdown",
      "metadata": {
        "id": "view-in-github",
        "colab_type": "text"
      },
      "source": [
        "<a href=\"https://colab.research.google.com/github/sumanyurosha/tensorflow-specialization/blob/master/Course3/Week2/Lesson2.ipynb\" target=\"_parent\"><img src=\"https://colab.research.google.com/assets/colab-badge.svg\" alt=\"Open In Colab\"/></a>"
      ]
    },
    {
      "cell_type": "code",
      "metadata": {
        "id": "JuiisXSsFm4Z",
        "outputId": "24e5493b-831b-4447-bc2f-9bed12b877a7",
        "colab": {
          "base_uri": "https://localhost:8080/",
          "height": 204
        }
      },
      "source": [
        "!wget --no-check-certificate \\\n",
        "    https://storage.googleapis.com/laurencemoroney-blog.appspot.com/sarcasm.json \\\n",
        "    -O /tmp/sarcasm.json\n"
      ],
      "execution_count": 10,
      "outputs": [
        {
          "output_type": "stream",
          "text": [
            "--2020-09-30 18:58:23--  https://storage.googleapis.com/laurencemoroney-blog.appspot.com/sarcasm.json\n",
            "Resolving storage.googleapis.com (storage.googleapis.com)... 74.125.20.128, 74.125.195.128, 74.125.142.128, ...\n",
            "Connecting to storage.googleapis.com (storage.googleapis.com)|74.125.20.128|:443... connected.\n",
            "HTTP request sent, awaiting response... 200 OK\n",
            "Length: 5643545 (5.4M) [application/json]\n",
            "Saving to: ‘/tmp/sarcasm.json’\n",
            "\n",
            "\r/tmp/sarcasm.json     0%[                    ]       0  --.-KB/s               \r/tmp/sarcasm.json   100%[===================>]   5.38M  --.-KB/s    in 0.02s   \n",
            "\n",
            "2020-09-30 18:58:23 (306 MB/s) - ‘/tmp/sarcasm.json’ saved [5643545/5643545]\n",
            "\n"
          ],
          "name": "stdout"
        }
      ]
    },
    {
      "cell_type": "code",
      "metadata": {
        "id": "AAc4vdudFxEC"
      },
      "source": [
        "import tensorflow as tf\n",
        "from tensorflow import keras\n",
        "from keras.preprocessing.text import Tokenizer\n",
        "from keras.preprocessing.sequence import pad_sequences\n",
        "import numpy as np\n",
        "import json"
      ],
      "execution_count": 11,
      "outputs": []
    },
    {
      "cell_type": "code",
      "metadata": {
        "id": "HhJjpBpyGCaW"
      },
      "source": [
        "with open(\"/tmp/sarcasm.json\", 'r') as f:\n",
        "    sarcasm_dataset = json.load(f)\n",
        "\n",
        "sentences = []\n",
        "labels = []\n",
        "\n",
        "for item in sarcasm_dataset:\n",
        "    sentences.append(item[\"headline\"])\n",
        "    labels.append(item[\"is_sarcastic\"])"
      ],
      "execution_count": 12,
      "outputs": []
    },
    {
      "cell_type": "code",
      "metadata": {
        "id": "f5vY9oQ9HQiw"
      },
      "source": [
        "vocab_size = 10000\n",
        "oov_token = \"<OOV>\"\n",
        "max_len = 100\n",
        "batch_size = 32\n",
        "embedding_dim = 16\n",
        "trunc_type = \"post\"\n",
        "padding_type = \"post\"\n",
        "training_size = 20000"
      ],
      "execution_count": 13,
      "outputs": []
    },
    {
      "cell_type": "code",
      "metadata": {
        "id": "bD0MiKhAHqF3",
        "outputId": "934986b2-471c-4cf7-8f81-7104eda234dd",
        "colab": {
          "base_uri": "https://localhost:8080/",
          "height": 51
        }
      },
      "source": [
        "training_sentences = sentences[:training_size]\n",
        "training_labels = labels[:training_size]\n",
        "\n",
        "testing_sentences = sentences[training_size:]\n",
        "testing_labels = labels[training_size:]\n",
        "\n",
        "print(len(training_sentences))\n",
        "print(len(testing_sentences))"
      ],
      "execution_count": 14,
      "outputs": [
        {
          "output_type": "stream",
          "text": [
            "20000\n",
            "6709\n"
          ],
          "name": "stdout"
        }
      ]
    },
    {
      "cell_type": "code",
      "metadata": {
        "id": "wep5O-mSILR0"
      },
      "source": [
        "tokenizer = Tokenizer(num_words=vocab_size, oov_token=oov_token)\n",
        "tokenizer.fit_on_texts(training_sentences)\n",
        "\n",
        "word_index = tokenizer.word_index\n",
        "\n",
        "training_sequences = tokenizer.texts_to_sequences(training_sentences)\n",
        "training_padded = pad_sequences(training_sequences, maxlen=max_len, padding=padding_type, truncating=trunc_type)\n",
        "\n",
        "testing_sequences = tokenizer.texts_to_sequences(testing_sentences)\n",
        "testing_padded = pad_sequences(testing_sequences, maxlen=max_len, padding=padding_type, truncating=trunc_type)"
      ],
      "execution_count": 15,
      "outputs": []
    },
    {
      "cell_type": "code",
      "metadata": {
        "id": "YyLnyHrISzHh"
      },
      "source": [
        "training_padded = np.array(training_padded)\n",
        "training_labels = np.array(training_labels)\n",
        "\n",
        "testing_padded = np.array(testing_padded)\n",
        "testing_labels = np.array(testing_labels)"
      ],
      "execution_count": 16,
      "outputs": []
    },
    {
      "cell_type": "code",
      "metadata": {
        "id": "iL26SWxCJAfE",
        "outputId": "672cca56-21f6-4b98-b073-81ab93bed9a9",
        "colab": {
          "base_uri": "https://localhost:8080/",
          "height": 289
        }
      },
      "source": [
        "model = keras.models.Sequential([\n",
        "    keras.layers.Embedding(vocab_size, embedding_dim, input_length=max_len),\n",
        "    keras.layers.GlobalAveragePooling1D(),\n",
        "    keras.layers.Dense(6, activation=\"relu\"),\n",
        "    keras.layers.Dense(1, activation=\"sigmoid\")\n",
        "])\n",
        "\n",
        "model.summary()"
      ],
      "execution_count": 17,
      "outputs": [
        {
          "output_type": "stream",
          "text": [
            "Model: \"sequential_1\"\n",
            "_________________________________________________________________\n",
            "Layer (type)                 Output Shape              Param #   \n",
            "=================================================================\n",
            "embedding_1 (Embedding)      (None, 100, 16)           160000    \n",
            "_________________________________________________________________\n",
            "global_average_pooling1d_1 ( (None, 16)                0         \n",
            "_________________________________________________________________\n",
            "dense_2 (Dense)              (None, 6)                 102       \n",
            "_________________________________________________________________\n",
            "dense_3 (Dense)              (None, 1)                 7         \n",
            "=================================================================\n",
            "Total params: 160,109\n",
            "Trainable params: 160,109\n",
            "Non-trainable params: 0\n",
            "_________________________________________________________________\n"
          ],
          "name": "stdout"
        }
      ]
    },
    {
      "cell_type": "code",
      "metadata": {
        "id": "zSOhuwO-JXZJ",
        "outputId": "2779bb2d-4f80-420d-b2ae-2bd104b8e26a",
        "colab": {
          "base_uri": "https://localhost:8080/",
          "height": 1000
        }
      },
      "source": [
        "model.compile(loss=\"binary_crossentropy\", \n",
        "              optimizer=\"adam\",\n",
        "              metrics=[\"accuracy\"])\n",
        "\n",
        "history = model.fit(training_padded, training_labels, epochs=30, validation_data=(testing_padded, testing_labels), verbose=1)"
      ],
      "execution_count": 18,
      "outputs": [
        {
          "output_type": "stream",
          "text": [
            "Epoch 1/30\n",
            "625/625 [==============================] - 3s 4ms/step - loss: 0.6751 - accuracy: 0.5627 - val_loss: 0.6400 - val_accuracy: 0.6399\n",
            "Epoch 2/30\n",
            "625/625 [==============================] - 3s 4ms/step - loss: 0.5471 - accuracy: 0.7772 - val_loss: 0.4710 - val_accuracy: 0.8025\n",
            "Epoch 3/30\n",
            "625/625 [==============================] - 3s 4ms/step - loss: 0.3922 - accuracy: 0.8544 - val_loss: 0.3897 - val_accuracy: 0.8422\n",
            "Epoch 4/30\n",
            "625/625 [==============================] - 3s 5ms/step - loss: 0.3204 - accuracy: 0.8770 - val_loss: 0.3605 - val_accuracy: 0.8520\n",
            "Epoch 5/30\n",
            "625/625 [==============================] - 3s 4ms/step - loss: 0.2783 - accuracy: 0.8942 - val_loss: 0.3474 - val_accuracy: 0.8542\n",
            "Epoch 6/30\n",
            "625/625 [==============================] - 3s 4ms/step - loss: 0.2472 - accuracy: 0.9043 - val_loss: 0.3424 - val_accuracy: 0.8572\n",
            "Epoch 7/30\n",
            "625/625 [==============================] - 3s 4ms/step - loss: 0.2230 - accuracy: 0.9156 - val_loss: 0.3471 - val_accuracy: 0.8499\n",
            "Epoch 8/30\n",
            "625/625 [==============================] - 3s 4ms/step - loss: 0.2022 - accuracy: 0.9233 - val_loss: 0.3437 - val_accuracy: 0.8547\n",
            "Epoch 9/30\n",
            "625/625 [==============================] - 3s 4ms/step - loss: 0.1847 - accuracy: 0.9313 - val_loss: 0.3503 - val_accuracy: 0.8554\n",
            "Epoch 10/30\n",
            "625/625 [==============================] - 3s 4ms/step - loss: 0.1694 - accuracy: 0.9377 - val_loss: 0.3570 - val_accuracy: 0.8539\n",
            "Epoch 11/30\n",
            "625/625 [==============================] - 3s 4ms/step - loss: 0.1568 - accuracy: 0.9420 - val_loss: 0.3757 - val_accuracy: 0.8490\n",
            "Epoch 12/30\n",
            "625/625 [==============================] - 3s 4ms/step - loss: 0.1441 - accuracy: 0.9499 - val_loss: 0.3788 - val_accuracy: 0.8551\n",
            "Epoch 13/30\n",
            "625/625 [==============================] - 2s 4ms/step - loss: 0.1344 - accuracy: 0.9531 - val_loss: 0.4022 - val_accuracy: 0.8459\n",
            "Epoch 14/30\n",
            "625/625 [==============================] - 3s 4ms/step - loss: 0.1243 - accuracy: 0.9565 - val_loss: 0.4062 - val_accuracy: 0.8530\n",
            "Epoch 15/30\n",
            "625/625 [==============================] - 3s 4ms/step - loss: 0.1156 - accuracy: 0.9614 - val_loss: 0.4447 - val_accuracy: 0.8401\n",
            "Epoch 16/30\n",
            "625/625 [==============================] - 3s 4ms/step - loss: 0.1069 - accuracy: 0.9646 - val_loss: 0.4465 - val_accuracy: 0.8463\n",
            "Epoch 17/30\n",
            "625/625 [==============================] - 3s 4ms/step - loss: 0.1005 - accuracy: 0.9667 - val_loss: 0.4577 - val_accuracy: 0.8477\n",
            "Epoch 18/30\n",
            "625/625 [==============================] - 3s 4ms/step - loss: 0.0946 - accuracy: 0.9686 - val_loss: 0.4801 - val_accuracy: 0.8436\n",
            "Epoch 19/30\n",
            "625/625 [==============================] - 3s 4ms/step - loss: 0.0887 - accuracy: 0.9700 - val_loss: 0.4981 - val_accuracy: 0.8445\n",
            "Epoch 20/30\n",
            "625/625 [==============================] - 3s 4ms/step - loss: 0.0817 - accuracy: 0.9738 - val_loss: 0.5181 - val_accuracy: 0.8430\n",
            "Epoch 21/30\n",
            "625/625 [==============================] - 3s 4ms/step - loss: 0.0772 - accuracy: 0.9754 - val_loss: 0.5460 - val_accuracy: 0.8377\n",
            "Epoch 22/30\n",
            "625/625 [==============================] - 3s 4ms/step - loss: 0.0724 - accuracy: 0.9771 - val_loss: 0.5876 - val_accuracy: 0.8331\n",
            "Epoch 23/30\n",
            "625/625 [==============================] - 3s 4ms/step - loss: 0.0675 - accuracy: 0.9787 - val_loss: 0.5899 - val_accuracy: 0.8360\n",
            "Epoch 24/30\n",
            "625/625 [==============================] - 3s 4ms/step - loss: 0.0631 - accuracy: 0.9812 - val_loss: 0.6114 - val_accuracy: 0.8348\n",
            "Epoch 25/30\n",
            "625/625 [==============================] - 3s 4ms/step - loss: 0.0585 - accuracy: 0.9821 - val_loss: 0.6405 - val_accuracy: 0.8335\n",
            "Epoch 26/30\n",
            "625/625 [==============================] - 3s 4ms/step - loss: 0.0549 - accuracy: 0.9834 - val_loss: 0.6646 - val_accuracy: 0.8310\n",
            "Epoch 27/30\n",
            "625/625 [==============================] - 3s 4ms/step - loss: 0.0514 - accuracy: 0.9840 - val_loss: 0.6906 - val_accuracy: 0.8293\n",
            "Epoch 28/30\n",
            "625/625 [==============================] - 3s 4ms/step - loss: 0.0495 - accuracy: 0.9854 - val_loss: 0.7169 - val_accuracy: 0.8284\n",
            "Epoch 29/30\n",
            "625/625 [==============================] - 3s 4ms/step - loss: 0.0447 - accuracy: 0.9869 - val_loss: 0.7866 - val_accuracy: 0.8211\n",
            "Epoch 30/30\n",
            "625/625 [==============================] - 3s 4ms/step - loss: 0.0432 - accuracy: 0.9867 - val_loss: 0.7933 - val_accuracy: 0.8223\n"
          ],
          "name": "stdout"
        }
      ]
    },
    {
      "cell_type": "code",
      "metadata": {
        "id": "bfVZfTH2UekC"
      },
      "source": [
        ""
      ],
      "execution_count": 18,
      "outputs": []
    }
  ]
}