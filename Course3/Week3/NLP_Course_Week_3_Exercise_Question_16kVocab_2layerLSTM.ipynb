{
  "nbformat": 4,
  "nbformat_minor": 0,
  "metadata": {
    "accelerator": "GPU",
    "colab": {
      "name": "NLP Course - Week 3 Exercise Question.ipynb",
      "provenance": [],
      "include_colab_link": true
    },
    "kernelspec": {
      "display_name": "Python 3",
      "name": "python3"
    }
  },
  "cells": [
    {
      "cell_type": "markdown",
      "metadata": {
        "id": "view-in-github",
        "colab_type": "text"
      },
      "source": [
        "<a href=\"https://colab.research.google.com/github/sumanyurosha/tensorflow-specialization/blob/master/Course3/Week3/NLP_Course_Week_3_Exercise_Question_16kVocab_2layerLSTM.ipynb\" target=\"_parent\"><img src=\"https://colab.research.google.com/assets/colab-badge.svg\" alt=\"Open In Colab\"/></a>"
      ]
    },
    {
      "cell_type": "code",
      "metadata": {
        "id": "zX4Kg8DUTKWO"
      },
      "source": [
        "#@title Licensed under the Apache License, Version 2.0 (the \"License\");\n",
        "# you may not use this file except in compliance with the License.\n",
        "# You may obtain a copy of the License at\n",
        "#\n",
        "# https://www.apache.org/licenses/LICENSE-2.0\n",
        "#\n",
        "# Unless required by applicable law or agreed to in writing, software\n",
        "# distributed under the License is distributed on an \"AS IS\" BASIS,\n",
        "# WITHOUT WARRANTIES OR CONDITIONS OF ANY KIND, either express or implied.\n",
        "# See the License for the specific language governing permissions and\n",
        "# limitations under the License."
      ],
      "execution_count": null,
      "outputs": []
    },
    {
      "cell_type": "code",
      "metadata": {
        "id": "hmA6EzkQJ5jt"
      },
      "source": [
        "import json\n",
        "import tensorflow as tf\n",
        "import csv\n",
        "import random\n",
        "import numpy as np\n",
        "\n",
        "from tensorflow.keras.preprocessing.text import Tokenizer\n",
        "from tensorflow.keras.preprocessing.sequence import pad_sequences\n",
        "from tensorflow.keras.utils import to_categorical\n",
        "from tensorflow.keras import regularizers\n",
        "\n",
        "\n",
        "embedding_dim = 100\n",
        "max_length = 16\n",
        "trunc_type='post'\n",
        "padding_type='post'\n",
        "oov_tok = \"<OOV>\"\n",
        "training_size = 16000\n",
        "#Your dataset size here. Experiment using smaller values (i.e. 16000), but don't forget to train on at least 160000 to see the best effects\n",
        "test_portion=.1\n",
        "\n",
        "corpus = []\n"
      ],
      "execution_count": null,
      "outputs": []
    },
    {
      "cell_type": "code",
      "metadata": {
        "id": "bM0l_dORKqE0",
        "outputId": "9f5e5343-03a4-47cd-c900-2ed363fbab68",
        "colab": {
          "base_uri": "https://localhost:8080/",
          "height": 204
        }
      },
      "source": [
        "# Note that I cleaned the Stanford dataset to remove LATIN1 encoding to make it easier for Python CSV reader\n",
        "# You can do that yourself with:\n",
        "# iconv -f LATIN1 -t UTF8 training.1600000.processed.noemoticon.csv -o training_cleaned.csv\n",
        "# I then hosted it on my site to make it easier to use in this notebook\n",
        "\n",
        "!wget --no-check-certificate \\\n",
        "    https://storage.googleapis.com/laurencemoroney-blog.appspot.com/training_cleaned.csv \\\n",
        "    -O /tmp/training_cleaned.csv\n",
        "\n",
        "num_sentences = 0\n",
        "\n",
        "with open(\"/tmp/training_cleaned.csv\") as csvfile:\n",
        "    reader = csv.reader(csvfile, delimiter=',')\n",
        "    for row in reader:\n",
        "      # Your Code here. Create list items where the first item is the text, found in row[5], and the second is the label. Note that the label is a '0' or a '4' in the text. When it's the former, make\n",
        "      # your label to be 0, otherwise 1. Keep a count of the number of sentences in num_sentences\n",
        "        list_item=[]\n",
        "        list_item.append(row[5])\n",
        "        list_item.append(0 if row[0] == '0' else 1)\n",
        "        num_sentences = num_sentences + 1\n",
        "        corpus.append(list_item)\n"
      ],
      "execution_count": null,
      "outputs": [
        {
          "output_type": "stream",
          "text": [
            "--2020-10-03 08:19:35--  https://storage.googleapis.com/laurencemoroney-blog.appspot.com/training_cleaned.csv\n",
            "Resolving storage.googleapis.com (storage.googleapis.com)... 108.177.119.128, 108.177.126.128, 108.177.127.128, ...\n",
            "Connecting to storage.googleapis.com (storage.googleapis.com)|108.177.119.128|:443... connected.\n",
            "HTTP request sent, awaiting response... 200 OK\n",
            "Length: 238942690 (228M) [application/octet-stream]\n",
            "Saving to: ‘/tmp/training_cleaned.csv’\n",
            "\n",
            "/tmp/training_clean 100%[===================>] 227.87M  62.6MB/s    in 3.6s    \n",
            "\n",
            "2020-10-03 08:19:39 (62.6 MB/s) - ‘/tmp/training_cleaned.csv’ saved [238942690/238942690]\n",
            "\n"
          ],
          "name": "stdout"
        }
      ]
    },
    {
      "cell_type": "code",
      "metadata": {
        "id": "3kxblBUjEUX-",
        "outputId": "3d0249c4-2089-442b-b825-8533a088d835",
        "colab": {
          "base_uri": "https://localhost:8080/",
          "height": 68
        }
      },
      "source": [
        "print(num_sentences)\n",
        "print(len(corpus))\n",
        "print(corpus[1])\n",
        "\n",
        "# Expected Output:\n",
        "# 1600000\n",
        "# 1600000\n",
        "# [\"is upset that he can't update his Facebook by texting it... and might cry as a result  School today also. Blah!\", 0]"
      ],
      "execution_count": null,
      "outputs": [
        {
          "output_type": "stream",
          "text": [
            "1600000\n",
            "1600000\n",
            "[\"is upset that he can't update his Facebook by texting it... and might cry as a result  School today also. Blah!\", 0]\n"
          ],
          "name": "stdout"
        }
      ]
    },
    {
      "cell_type": "code",
      "metadata": {
        "id": "ohOGz24lsNAD"
      },
      "source": [
        "sentences=[]\n",
        "labels=[]\n",
        "random.shuffle(corpus)\n",
        "for x in range(training_size):\n",
        "    sentences.append(corpus[x][0])\n",
        "    labels.append(corpus[x][1])\n",
        "\n",
        "\n",
        "tokenizer = Tokenizer()\n",
        "tokenizer.fit_on_texts(sentences)\n",
        "\n",
        "word_index = tokenizer.word_index\n",
        "vocab_size=len(word_index)\n",
        "\n",
        "sequences = tokenizer.texts_to_sequences(sentences)\n",
        "padded = pad_sequences(sequences, maxlen=max_length, truncating=trunc_type,\n",
        "                       padding=padding_type)\n",
        "\n",
        "split = int(test_portion * training_size)\n",
        "\n",
        "test_sequences = np.array(padded[:split])\n",
        "training_sequences = np.array(padded[split:])\n",
        "test_labels = np.array(labels[:split])\n",
        "training_labels = np.array(labels[split:])"
      ],
      "execution_count": null,
      "outputs": []
    },
    {
      "cell_type": "code",
      "metadata": {
        "id": "gIrtRem1En3N",
        "outputId": "a2aed9d2-4ca8-4560-e600-1b7487e1aa35",
        "colab": {
          "base_uri": "https://localhost:8080/",
          "height": 51
        }
      },
      "source": [
        "print(vocab_size)\n",
        "print(word_index['i'])\n",
        "# Expected Output\n",
        "# 138858\n",
        "# 1"
      ],
      "execution_count": null,
      "outputs": [
        {
          "output_type": "stream",
          "text": [
            "26568\n",
            "1\n"
          ],
          "name": "stdout"
        }
      ]
    },
    {
      "cell_type": "code",
      "metadata": {
        "id": "C1zdgJkusRh0",
        "outputId": "f2c52a5f-b963-4bb3-c88c-003f5ded9aa4",
        "colab": {
          "base_uri": "https://localhost:8080/",
          "height": 204
        }
      },
      "source": [
        "# Note this is the 100 dimension version of GloVe from Stanford\n",
        "# I unzipped and hosted it on my site to make this notebook easier\n",
        "!wget --no-check-certificate \\\n",
        "    https://storage.googleapis.com/laurencemoroney-blog.appspot.com/glove.6B.100d.txt \\\n",
        "    -O /tmp/glove.6B.100d.txt\n",
        "embeddings_index = {};\n",
        "with open('/tmp/glove.6B.100d.txt') as f:\n",
        "    for line in f:\n",
        "        values = line.split();\n",
        "        word = values[0];\n",
        "        coefs = np.asarray(values[1:], dtype='float32');\n",
        "        embeddings_index[word] = coefs;\n",
        "\n",
        "embeddings_matrix = np.zeros((vocab_size+1, embedding_dim));\n",
        "for word, i in word_index.items():\n",
        "    embedding_vector = embeddings_index.get(word);\n",
        "    if embedding_vector is not None:\n",
        "        embeddings_matrix[i] = embedding_vector;"
      ],
      "execution_count": null,
      "outputs": [
        {
          "output_type": "stream",
          "text": [
            "--2020-10-03 08:19:46--  https://storage.googleapis.com/laurencemoroney-blog.appspot.com/glove.6B.100d.txt\n",
            "Resolving storage.googleapis.com (storage.googleapis.com)... 108.177.126.128, 108.177.127.128, 173.194.79.128, ...\n",
            "Connecting to storage.googleapis.com (storage.googleapis.com)|108.177.126.128|:443... connected.\n",
            "HTTP request sent, awaiting response... 200 OK\n",
            "Length: 347116733 (331M) [text/plain]\n",
            "Saving to: ‘/tmp/glove.6B.100d.txt’\n",
            "\n",
            "/tmp/glove.6B.100d. 100%[===================>] 331.04M  95.4MB/s    in 3.5s    \n",
            "\n",
            "2020-10-03 08:19:50 (95.4 MB/s) - ‘/tmp/glove.6B.100d.txt’ saved [347116733/347116733]\n",
            "\n"
          ],
          "name": "stdout"
        }
      ]
    },
    {
      "cell_type": "code",
      "metadata": {
        "id": "71NLk_lpFLNt",
        "outputId": "58c93c83-ede2-4c8f-ffa9-b8a3839bf157",
        "colab": {
          "base_uri": "https://localhost:8080/",
          "height": 34
        }
      },
      "source": [
        "print(len(embeddings_matrix))\n",
        "# Expected Output\n",
        "# 138859"
      ],
      "execution_count": null,
      "outputs": [
        {
          "output_type": "stream",
          "text": [
            "26569\n"
          ],
          "name": "stdout"
        }
      ]
    },
    {
      "cell_type": "code",
      "metadata": {
        "id": "iKKvbuEBOGFz",
        "outputId": "41f988ef-870d-4202-ab5b-c803c872653d",
        "colab": {
          "base_uri": "https://localhost:8080/",
          "height": 1000
        }
      },
      "source": [
        "model = tf.keras.Sequential([\n",
        "    tf.keras.layers.Embedding(vocab_size+1, embedding_dim, input_length=max_length, weights=[embeddings_matrix], trainable=False),\n",
        "    # YOUR CODE HERE - experiment with combining different types, such as convolutions and LSTMs\n",
        "    tf.keras.layers.Bidirectional(tf.keras.layers.LSTM(64, return_sequences=True)),\n",
        "    tf.keras.layers.Bidirectional(tf.keras.layers.LSTM(32)),\n",
        "    tf.keras.layers.Dense(24, activation=\"relu\"),\n",
        "    tf.keras.layers.Dense(1, activation=\"sigmoid\")\n",
        "])\n",
        "model.compile(loss=\"binary_crossentropy\", optimizer=\"adam\", metrics=[\"accuracy\"])\n",
        "model.summary()\n",
        "\n",
        "num_epochs = 50\n",
        "history = model.fit(training_sequences, training_labels, epochs=num_epochs, validation_data=(test_sequences, test_labels), verbose=1)\n",
        "\n",
        "print(\"Training Complete\")\n"
      ],
      "execution_count": null,
      "outputs": [
        {
          "output_type": "stream",
          "text": [
            "Model: \"sequential_1\"\n",
            "_________________________________________________________________\n",
            "Layer (type)                 Output Shape              Param #   \n",
            "=================================================================\n",
            "embedding_1 (Embedding)      (None, 16, 100)           2656900   \n",
            "_________________________________________________________________\n",
            "bidirectional_2 (Bidirection (None, 16, 128)           84480     \n",
            "_________________________________________________________________\n",
            "bidirectional_3 (Bidirection (None, 64)                41216     \n",
            "_________________________________________________________________\n",
            "dense_2 (Dense)              (None, 24)                1560      \n",
            "_________________________________________________________________\n",
            "dense_3 (Dense)              (None, 1)                 25        \n",
            "=================================================================\n",
            "Total params: 2,784,181\n",
            "Trainable params: 127,281\n",
            "Non-trainable params: 2,656,900\n",
            "_________________________________________________________________\n",
            "Epoch 1/50\n",
            "450/450 [==============================] - 5s 12ms/step - loss: 0.6178 - accuracy: 0.6582 - val_loss: 0.5869 - val_accuracy: 0.6881\n",
            "Epoch 2/50\n",
            "450/450 [==============================] - 4s 9ms/step - loss: 0.5535 - accuracy: 0.7140 - val_loss: 0.5524 - val_accuracy: 0.6994\n",
            "Epoch 3/50\n",
            "450/450 [==============================] - 4s 10ms/step - loss: 0.5226 - accuracy: 0.7397 - val_loss: 0.5521 - val_accuracy: 0.7081\n",
            "Epoch 4/50\n",
            "450/450 [==============================] - 4s 10ms/step - loss: 0.4970 - accuracy: 0.7579 - val_loss: 0.5434 - val_accuracy: 0.7200\n",
            "Epoch 5/50\n",
            "450/450 [==============================] - 4s 9ms/step - loss: 0.4692 - accuracy: 0.7742 - val_loss: 0.5551 - val_accuracy: 0.7287\n",
            "Epoch 6/50\n",
            "450/450 [==============================] - 4s 9ms/step - loss: 0.4416 - accuracy: 0.7935 - val_loss: 0.5495 - val_accuracy: 0.7237\n",
            "Epoch 7/50\n",
            "450/450 [==============================] - 4s 9ms/step - loss: 0.4075 - accuracy: 0.8128 - val_loss: 0.5834 - val_accuracy: 0.7225\n",
            "Epoch 8/50\n",
            "450/450 [==============================] - 4s 9ms/step - loss: 0.3661 - accuracy: 0.8378 - val_loss: 0.5981 - val_accuracy: 0.7231\n",
            "Epoch 9/50\n",
            "450/450 [==============================] - 4s 9ms/step - loss: 0.3217 - accuracy: 0.8601 - val_loss: 0.6485 - val_accuracy: 0.7181\n",
            "Epoch 10/50\n",
            "450/450 [==============================] - 4s 9ms/step - loss: 0.2779 - accuracy: 0.8827 - val_loss: 0.6936 - val_accuracy: 0.7163\n",
            "Epoch 11/50\n",
            "450/450 [==============================] - 4s 10ms/step - loss: 0.2335 - accuracy: 0.9031 - val_loss: 0.7792 - val_accuracy: 0.7200\n",
            "Epoch 12/50\n",
            "450/450 [==============================] - 5s 10ms/step - loss: 0.1848 - accuracy: 0.9266 - val_loss: 0.8985 - val_accuracy: 0.7031\n",
            "Epoch 13/50\n",
            "450/450 [==============================] - 4s 10ms/step - loss: 0.1532 - accuracy: 0.9387 - val_loss: 1.0519 - val_accuracy: 0.7050\n",
            "Epoch 14/50\n",
            "450/450 [==============================] - 4s 9ms/step - loss: 0.1231 - accuracy: 0.9509 - val_loss: 1.0037 - val_accuracy: 0.7094\n",
            "Epoch 15/50\n",
            "450/450 [==============================] - 4s 9ms/step - loss: 0.0935 - accuracy: 0.9649 - val_loss: 1.3412 - val_accuracy: 0.7044\n",
            "Epoch 16/50\n",
            "450/450 [==============================] - 4s 9ms/step - loss: 0.0794 - accuracy: 0.9709 - val_loss: 1.3821 - val_accuracy: 0.7069\n",
            "Epoch 17/50\n",
            "450/450 [==============================] - 4s 9ms/step - loss: 0.0684 - accuracy: 0.9740 - val_loss: 1.5943 - val_accuracy: 0.7088\n",
            "Epoch 18/50\n",
            "450/450 [==============================] - 4s 9ms/step - loss: 0.0670 - accuracy: 0.9736 - val_loss: 1.6719 - val_accuracy: 0.7025\n",
            "Epoch 19/50\n",
            "450/450 [==============================] - 4s 9ms/step - loss: 0.0439 - accuracy: 0.9842 - val_loss: 1.7530 - val_accuracy: 0.7094\n",
            "Epoch 20/50\n",
            "450/450 [==============================] - 4s 9ms/step - loss: 0.0490 - accuracy: 0.9809 - val_loss: 1.6239 - val_accuracy: 0.6994\n",
            "Epoch 21/50\n",
            "450/450 [==============================] - 4s 9ms/step - loss: 0.0507 - accuracy: 0.9805 - val_loss: 1.7207 - val_accuracy: 0.7075\n",
            "Epoch 22/50\n",
            "450/450 [==============================] - 4s 9ms/step - loss: 0.0427 - accuracy: 0.9849 - val_loss: 1.9170 - val_accuracy: 0.6981\n",
            "Epoch 23/50\n",
            "450/450 [==============================] - 4s 9ms/step - loss: 0.0285 - accuracy: 0.9892 - val_loss: 1.7988 - val_accuracy: 0.7056\n",
            "Epoch 24/50\n",
            "450/450 [==============================] - 4s 9ms/step - loss: 0.0365 - accuracy: 0.9864 - val_loss: 2.0994 - val_accuracy: 0.6900\n",
            "Epoch 25/50\n",
            "450/450 [==============================] - 4s 9ms/step - loss: 0.0457 - accuracy: 0.9850 - val_loss: 1.6958 - val_accuracy: 0.6919\n",
            "Epoch 26/50\n",
            "450/450 [==============================] - 4s 9ms/step - loss: 0.0246 - accuracy: 0.9912 - val_loss: 1.9490 - val_accuracy: 0.6931\n",
            "Epoch 27/50\n",
            "450/450 [==============================] - 4s 9ms/step - loss: 0.0377 - accuracy: 0.9861 - val_loss: 1.9197 - val_accuracy: 0.6919\n",
            "Epoch 28/50\n",
            "450/450 [==============================] - 4s 9ms/step - loss: 0.0296 - accuracy: 0.9896 - val_loss: 1.8367 - val_accuracy: 0.7031\n",
            "Epoch 29/50\n",
            "450/450 [==============================] - 4s 9ms/step - loss: 0.0240 - accuracy: 0.9915 - val_loss: 2.1000 - val_accuracy: 0.7050\n",
            "Epoch 30/50\n",
            "450/450 [==============================] - 4s 9ms/step - loss: 0.0319 - accuracy: 0.9885 - val_loss: 2.1511 - val_accuracy: 0.6931\n",
            "Epoch 31/50\n",
            "450/450 [==============================] - 4s 9ms/step - loss: 0.0330 - accuracy: 0.9884 - val_loss: 2.0065 - val_accuracy: 0.6988\n",
            "Epoch 32/50\n",
            "450/450 [==============================] - 4s 9ms/step - loss: 0.0243 - accuracy: 0.9907 - val_loss: 2.1720 - val_accuracy: 0.6994\n",
            "Epoch 33/50\n",
            "450/450 [==============================] - 4s 9ms/step - loss: 0.0318 - accuracy: 0.9888 - val_loss: 1.9809 - val_accuracy: 0.7094\n",
            "Epoch 34/50\n",
            "450/450 [==============================] - 4s 9ms/step - loss: 0.0254 - accuracy: 0.9908 - val_loss: 2.0111 - val_accuracy: 0.7050\n",
            "Epoch 35/50\n",
            "450/450 [==============================] - 4s 9ms/step - loss: 0.0146 - accuracy: 0.9953 - val_loss: 2.0494 - val_accuracy: 0.7038\n",
            "Epoch 36/50\n",
            "450/450 [==============================] - 4s 9ms/step - loss: 0.0292 - accuracy: 0.9886 - val_loss: 1.9334 - val_accuracy: 0.7000\n",
            "Epoch 37/50\n",
            "450/450 [==============================] - 4s 9ms/step - loss: 0.0179 - accuracy: 0.9940 - val_loss: 2.1544 - val_accuracy: 0.7000\n",
            "Epoch 38/50\n",
            "450/450 [==============================] - 4s 9ms/step - loss: 0.0109 - accuracy: 0.9962 - val_loss: 2.3115 - val_accuracy: 0.7013\n",
            "Epoch 39/50\n",
            "450/450 [==============================] - 4s 9ms/step - loss: 0.0251 - accuracy: 0.9915 - val_loss: 2.0426 - val_accuracy: 0.6988\n",
            "Epoch 40/50\n",
            "450/450 [==============================] - 4s 9ms/step - loss: 0.0375 - accuracy: 0.9864 - val_loss: 1.9166 - val_accuracy: 0.6925\n",
            "Epoch 41/50\n",
            "450/450 [==============================] - 4s 9ms/step - loss: 0.0150 - accuracy: 0.9951 - val_loss: 2.1436 - val_accuracy: 0.6888\n",
            "Epoch 42/50\n",
            "450/450 [==============================] - 4s 9ms/step - loss: 0.0211 - accuracy: 0.9924 - val_loss: 2.1793 - val_accuracy: 0.6900\n",
            "Epoch 43/50\n",
            "450/450 [==============================] - 4s 9ms/step - loss: 0.0127 - accuracy: 0.9947 - val_loss: 2.1721 - val_accuracy: 0.6919\n",
            "Epoch 44/50\n",
            "450/450 [==============================] - 4s 9ms/step - loss: 0.0335 - accuracy: 0.9865 - val_loss: 2.0538 - val_accuracy: 0.6963\n",
            "Epoch 45/50\n",
            "450/450 [==============================] - 4s 9ms/step - loss: 0.0218 - accuracy: 0.9925 - val_loss: 2.1654 - val_accuracy: 0.6950\n",
            "Epoch 46/50\n",
            "450/450 [==============================] - 4s 9ms/step - loss: 0.0115 - accuracy: 0.9956 - val_loss: 2.2493 - val_accuracy: 0.6925\n",
            "Epoch 47/50\n",
            "450/450 [==============================] - 4s 9ms/step - loss: 0.0203 - accuracy: 0.9920 - val_loss: 2.4222 - val_accuracy: 0.6938\n",
            "Epoch 48/50\n",
            "450/450 [==============================] - 4s 9ms/step - loss: 0.0171 - accuracy: 0.9931 - val_loss: 2.3338 - val_accuracy: 0.6944\n",
            "Epoch 49/50\n",
            "450/450 [==============================] - 4s 9ms/step - loss: 0.0269 - accuracy: 0.9910 - val_loss: 2.0587 - val_accuracy: 0.6913\n",
            "Epoch 50/50\n",
            "450/450 [==============================] - 4s 10ms/step - loss: 0.0248 - accuracy: 0.9903 - val_loss: 2.1135 - val_accuracy: 0.7025\n",
            "Training Complete\n"
          ],
          "name": "stdout"
        }
      ]
    },
    {
      "cell_type": "code",
      "metadata": {
        "id": "qxju4ItJKO8F",
        "outputId": "25c651e9-0405-43d5-b718-50786e969a6f",
        "colab": {
          "base_uri": "https://localhost:8080/",
          "height": 607
        }
      },
      "source": [
        "import matplotlib.image  as mpimg\n",
        "import matplotlib.pyplot as plt\n",
        "\n",
        "#-----------------------------------------------------------\n",
        "# Retrieve a list of list results on training and test data\n",
        "# sets for each training epoch\n",
        "#-----------------------------------------------------------\n",
        "acc=history.history['accuracy']\n",
        "val_acc=history.history['val_accuracy']\n",
        "loss=history.history['loss']\n",
        "val_loss=history.history['val_loss']\n",
        "\n",
        "epochs=range(len(acc)) # Get number of epochs\n",
        "\n",
        "#------------------------------------------------\n",
        "# Plot training and validation accuracy per epoch\n",
        "#------------------------------------------------\n",
        "plt.plot(epochs, acc, 'r')\n",
        "plt.plot(epochs, val_acc, 'b')\n",
        "plt.title('Training and validation accuracy')\n",
        "plt.xlabel(\"Epochs\")\n",
        "plt.ylabel(\"Accuracy\")\n",
        "plt.legend([\"Accuracy\", \"Validation Accuracy\"])\n",
        "\n",
        "plt.figure()\n",
        "\n",
        "#------------------------------------------------\n",
        "# Plot training and validation loss per epoch\n",
        "#------------------------------------------------\n",
        "plt.plot(epochs, loss, 'r')\n",
        "plt.plot(epochs, val_loss, 'b')\n",
        "plt.title('Training and validation loss')\n",
        "plt.xlabel(\"Epochs\")\n",
        "plt.ylabel(\"Loss\")\n",
        "plt.legend([\"Loss\", \"Validation Loss\"])\n",
        "\n",
        "plt.figure()\n",
        "\n",
        "\n",
        "# Expected Output\n",
        "# A chart where the validation loss does not increase sharply!"
      ],
      "execution_count": null,
      "outputs": [
        {
          "output_type": "execute_result",
          "data": {
            "text/plain": [
              "<Figure size 432x288 with 0 Axes>"
            ]
          },
          "metadata": {
            "tags": []
          },
          "execution_count": 28
        },
        {
          "output_type": "display_data",
          "data": {
            "image/png": "[encoded data removed]",
            "text/plain": [
              "<Figure size 432x288 with 1 Axes>"
            ]
          },
          "metadata": {
            "tags": [],
            "needs_background": "light"
          }
        },
        {
          "output_type": "display_data",
          "data": {
            "image/png": "[encoded data removed]",
            "text/plain": [
              "<Figure size 432x288 with 1 Axes>"
            ]
          },
          "metadata": {
            "tags": [],
            "needs_background": "light"
          }
        },
        {
          "output_type": "display_data",
          "data": {
            "text/plain": [
              "<Figure size 432x288 with 0 Axes>"
            ]
          },
          "metadata": {
            "tags": []
          }
        }
      ]
    },
    {
      "cell_type": "code",
      "metadata": {
        "id": "2AHqghD1i5eQ"
      },
      "source": [
        ""
      ],
      "execution_count": null,
      "outputs": []
    }
  ]
}