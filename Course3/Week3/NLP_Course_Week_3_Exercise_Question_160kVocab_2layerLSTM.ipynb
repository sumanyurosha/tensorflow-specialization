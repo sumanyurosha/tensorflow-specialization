{
  "nbformat": 4,
  "nbformat_minor": 0,
  "metadata": {
    "accelerator": "GPU",
    "colab": {
      "name": "NLP Course - Week 3 Exercise Question.ipynb",
      "provenance": [],
      "include_colab_link": true
    },
    "kernelspec": {
      "display_name": "Python 3",
      "name": "python3"
    }
  },
  "cells": [
    {
      "cell_type": "markdown",
      "metadata": {
        "id": "view-in-github",
        "colab_type": "text"
      },
      "source": [
        "<a href=\"https://colab.research.google.com/github/sumanyurosha/tensorflow-specialization/blob/master/Course3/Week3/NLP_Course_Week_3_Exercise_Question_160kVocab_2layerLSTM.ipynb\" target=\"_parent\"><img src=\"https://colab.research.google.com/assets/colab-badge.svg\" alt=\"Open In Colab\"/></a>"
      ]
    },
    {
      "cell_type": "code",
      "metadata": {
        "id": "zX4Kg8DUTKWO"
      },
      "source": [
        "#@title Licensed under the Apache License, Version 2.0 (the \"License\");\n",
        "# you may not use this file except in compliance with the License.\n",
        "# You may obtain a copy of the License at\n",
        "#\n",
        "# https://www.apache.org/licenses/LICENSE-2.0\n",
        "#\n",
        "# Unless required by applicable law or agreed to in writing, software\n",
        "# distributed under the License is distributed on an \"AS IS\" BASIS,\n",
        "# WITHOUT WARRANTIES OR CONDITIONS OF ANY KIND, either express or implied.\n",
        "# See the License for the specific language governing permissions and\n",
        "# limitations under the License."
      ],
      "execution_count": null,
      "outputs": []
    },
    {
      "cell_type": "code",
      "metadata": {
        "id": "hmA6EzkQJ5jt"
      },
      "source": [
        "import json\n",
        "import tensorflow as tf\n",
        "import csv\n",
        "import random\n",
        "import numpy as np\n",
        "\n",
        "from tensorflow.keras.preprocessing.text import Tokenizer\n",
        "from tensorflow.keras.preprocessing.sequence import pad_sequences\n",
        "from tensorflow.keras.utils import to_categorical\n",
        "from tensorflow.keras import regularizers\n",
        "\n",
        "\n",
        "embedding_dim = 100\n",
        "max_length = 16\n",
        "trunc_type='post'\n",
        "padding_type='post'\n",
        "oov_tok = \"<OOV>\"\n",
        "training_size = 160000\n",
        "#Your dataset size here. Experiment using smaller values (i.e. 16000), but don't forget to train on at least 160000 to see the best effects\n",
        "test_portion=.1\n",
        "\n",
        "corpus = []\n"
      ],
      "execution_count": null,
      "outputs": []
    },
    {
      "cell_type": "code",
      "metadata": {
        "id": "bM0l_dORKqE0",
        "outputId": "2c411be2-c397-4cf0-ed65-da7c949900c5",
        "colab": {
          "base_uri": "https://localhost:8080/",
          "height": 204
        }
      },
      "source": [
        "# Note that I cleaned the Stanford dataset to remove LATIN1 encoding to make it easier for Python CSV reader\n",
        "# You can do that yourself with:\n",
        "# iconv -f LATIN1 -t UTF8 training.1600000.processed.noemoticon.csv -o training_cleaned.csv\n",
        "# I then hosted it on my site to make it easier to use in this notebook\n",
        "\n",
        "!wget --no-check-certificate \\\n",
        "    https://storage.googleapis.com/laurencemoroney-blog.appspot.com/training_cleaned.csv \\\n",
        "    -O /tmp/training_cleaned.csv\n",
        "\n",
        "num_sentences = 0\n",
        "\n",
        "with open(\"/tmp/training_cleaned.csv\") as csvfile:\n",
        "    reader = csv.reader(csvfile, delimiter=',')\n",
        "    for row in reader:\n",
        "      # Your Code here. Create list items where the first item is the text, found in row[5], and the second is the label. Note that the label is a '0' or a '4' in the text. When it's the former, make\n",
        "      # your label to be 0, otherwise 1. Keep a count of the number of sentences in num_sentences\n",
        "        list_item=[]\n",
        "        list_item.append(row[5])\n",
        "        list_item.append(0 if row[0] == '0' else 1)\n",
        "        num_sentences = num_sentences + 1\n",
        "        corpus.append(list_item)\n"
      ],
      "execution_count": null,
      "outputs": [
        {
          "output_type": "stream",
          "text": [
            "--2020-10-03 08:46:38--  https://storage.googleapis.com/laurencemoroney-blog.appspot.com/training_cleaned.csv\n",
            "Resolving storage.googleapis.com (storage.googleapis.com)... 172.217.218.128, 74.125.128.128, 173.194.79.128, ...\n",
            "Connecting to storage.googleapis.com (storage.googleapis.com)|172.217.218.128|:443... connected.\n",
            "HTTP request sent, awaiting response... 200 OK\n",
            "Length: 238942690 (228M) [application/octet-stream]\n",
            "Saving to: ‘/tmp/training_cleaned.csv’\n",
            "\n",
            "/tmp/training_clean 100%[===================>] 227.87M   102MB/s    in 2.2s    \n",
            "\n",
            "2020-10-03 08:46:41 (102 MB/s) - ‘/tmp/training_cleaned.csv’ saved [238942690/238942690]\n",
            "\n"
          ],
          "name": "stdout"
        }
      ]
    },
    {
      "cell_type": "code",
      "metadata": {
        "id": "3kxblBUjEUX-",
        "outputId": "3fc126fe-da45-4d27-ca6d-90d1b55242b2",
        "colab": {
          "base_uri": "https://localhost:8080/",
          "height": 68
        }
      },
      "source": [
        "print(num_sentences)\n",
        "print(len(corpus))\n",
        "print(corpus[1])\n",
        "\n",
        "# Expected Output:\n",
        "# 1600000\n",
        "# 1600000\n",
        "# [\"is upset that he can't update his Facebook by texting it... and might cry as a result  School today also. Blah!\", 0]"
      ],
      "execution_count": null,
      "outputs": [
        {
          "output_type": "stream",
          "text": [
            "1600000\n",
            "1600000\n",
            "[\"is upset that he can't update his Facebook by texting it... and might cry as a result  School today also. Blah!\", 0]\n"
          ],
          "name": "stdout"
        }
      ]
    },
    {
      "cell_type": "code",
      "metadata": {
        "id": "ohOGz24lsNAD"
      },
      "source": [
        "sentences=[]\n",
        "labels=[]\n",
        "random.shuffle(corpus)\n",
        "for x in range(training_size):\n",
        "    sentences.append(corpus[x][0])\n",
        "    labels.append(corpus[x][1])\n",
        "\n",
        "\n",
        "tokenizer = Tokenizer()\n",
        "tokenizer.fit_on_texts(sentences)\n",
        "\n",
        "word_index = tokenizer.word_index\n",
        "vocab_size=len(word_index)\n",
        "\n",
        "sequences = tokenizer.texts_to_sequences(sentences)\n",
        "padded = pad_sequences(sequences, maxlen=max_length, truncating=trunc_type,\n",
        "                       padding=padding_type)\n",
        "\n",
        "split = int(test_portion * training_size)\n",
        "\n",
        "test_sequences = np.array(padded[:split])\n",
        "training_sequences = np.array(padded[split:])\n",
        "test_labels = np.array(labels[:split])\n",
        "training_labels = np.array(labels[split:])"
      ],
      "execution_count": null,
      "outputs": []
    },
    {
      "cell_type": "code",
      "metadata": {
        "id": "gIrtRem1En3N",
        "outputId": "b20794cf-6dbd-4ed7-b719-bf91f886bce4",
        "colab": {
          "base_uri": "https://localhost:8080/",
          "height": 51
        }
      },
      "source": [
        "print(vocab_size)\n",
        "print(word_index['i'])\n",
        "# Expected Output\n",
        "# 138858\n",
        "# 1"
      ],
      "execution_count": null,
      "outputs": [
        {
          "output_type": "stream",
          "text": [
            "138170\n",
            "1\n"
          ],
          "name": "stdout"
        }
      ]
    },
    {
      "cell_type": "code",
      "metadata": {
        "id": "C1zdgJkusRh0",
        "outputId": "6c49b817-9411-47ee-ea18-193722eceaee",
        "colab": {
          "base_uri": "https://localhost:8080/",
          "height": 204
        }
      },
      "source": [
        "# Note this is the 100 dimension version of GloVe from Stanford\n",
        "# I unzipped and hosted it on my site to make this notebook easier\n",
        "!wget --no-check-certificate \\\n",
        "    https://storage.googleapis.com/laurencemoroney-blog.appspot.com/glove.6B.100d.txt \\\n",
        "    -O /tmp/glove.6B.100d.txt\n",
        "embeddings_index = {};\n",
        "with open('/tmp/glove.6B.100d.txt') as f:\n",
        "    for line in f:\n",
        "        values = line.split();\n",
        "        word = values[0];\n",
        "        coefs = np.asarray(values[1:], dtype='float32');\n",
        "        embeddings_index[word] = coefs;\n",
        "\n",
        "embeddings_matrix = np.zeros((vocab_size+1, embedding_dim));\n",
        "for word, i in word_index.items():\n",
        "    embedding_vector = embeddings_index.get(word);\n",
        "    if embedding_vector is not None:\n",
        "        embeddings_matrix[i] = embedding_vector;"
      ],
      "execution_count": null,
      "outputs": [
        {
          "output_type": "stream",
          "text": [
            "--2020-10-03 08:46:53--  https://storage.googleapis.com/laurencemoroney-blog.appspot.com/glove.6B.100d.txt\n",
            "Resolving storage.googleapis.com (storage.googleapis.com)... 74.125.128.128, 173.194.69.128, 173.194.79.128, ...\n",
            "Connecting to storage.googleapis.com (storage.googleapis.com)|74.125.128.128|:443... connected.\n",
            "HTTP request sent, awaiting response... 200 OK\n",
            "Length: 347116733 (331M) [text/plain]\n",
            "Saving to: ‘/tmp/glove.6B.100d.txt’\n",
            "\n",
            "/tmp/glove.6B.100d. 100%[===================>] 331.04M  66.4MB/s    in 5.0s    \n",
            "\n",
            "2020-10-03 08:46:58 (66.4 MB/s) - ‘/tmp/glove.6B.100d.txt’ saved [347116733/347116733]\n",
            "\n"
          ],
          "name": "stdout"
        }
      ]
    },
    {
      "cell_type": "code",
      "metadata": {
        "id": "71NLk_lpFLNt",
        "outputId": "c607765e-b04d-4ab8-bae1-cd6ce54c8324",
        "colab": {
          "base_uri": "https://localhost:8080/",
          "height": 34
        }
      },
      "source": [
        "print(len(embeddings_matrix))\n",
        "# Expected Output\n",
        "# 138859"
      ],
      "execution_count": null,
      "outputs": [
        {
          "output_type": "stream",
          "text": [
            "138171\n"
          ],
          "name": "stdout"
        }
      ]
    },
    {
      "cell_type": "code",
      "metadata": {
        "id": "iKKvbuEBOGFz",
        "outputId": "98e08e66-6e6b-4091-b54b-dee29c27f8c3",
        "colab": {
          "base_uri": "https://localhost:8080/",
          "height": 1000
        }
      },
      "source": [
        "model = tf.keras.Sequential([\n",
        "    tf.keras.layers.Embedding(vocab_size+1, embedding_dim, input_length=max_length, weights=[embeddings_matrix], trainable=False),\n",
        "    # YOUR CODE HERE - experiment with combining different types, such as convolutions and LSTMs\n",
        "    tf.keras.layers.Bidirectional(tf.keras.layers.LSTM(64, return_sequences=True)),\n",
        "    tf.keras.layers.Bidirectional(tf.keras.layers.LSTM(32)),\n",
        "    tf.keras.layers.Dense(24, activation=\"relu\"),\n",
        "    tf.keras.layers.Dense(1, activation=\"sigmoid\")\n",
        "])\n",
        "model.compile(loss=\"binary_crossentropy\", optimizer=\"adam\", metrics=[\"accuracy\"])\n",
        "model.summary()\n",
        "\n",
        "num_epochs = 50\n",
        "history = model.fit(training_sequences, training_labels, epochs=num_epochs, validation_data=(test_sequences, test_labels), verbose=1)\n",
        "\n",
        "print(\"Training Complete\")\n"
      ],
      "execution_count": null,
      "outputs": [
        {
          "output_type": "stream",
          "text": [
            "Model: \"sequential_2\"\n",
            "_________________________________________________________________\n",
            "Layer (type)                 Output Shape              Param #   \n",
            "=================================================================\n",
            "embedding_2 (Embedding)      (None, 16, 100)           13817100  \n",
            "_________________________________________________________________\n",
            "bidirectional_4 (Bidirection (None, 16, 128)           84480     \n",
            "_________________________________________________________________\n",
            "bidirectional_5 (Bidirection (None, 64)                41216     \n",
            "_________________________________________________________________\n",
            "dense_4 (Dense)              (None, 24)                1560      \n",
            "_________________________________________________________________\n",
            "dense_5 (Dense)              (None, 1)                 25        \n",
            "=================================================================\n",
            "Total params: 13,944,381\n",
            "Trainable params: 127,281\n",
            "Non-trainable params: 13,817,100\n",
            "_________________________________________________________________\n",
            "Epoch 1/50\n",
            "4500/4500 [==============================] - 42s 9ms/step - loss: 0.5326 - accuracy: 0.7293 - val_loss: 0.5030 - val_accuracy: 0.7569\n",
            "Epoch 2/50\n",
            "4500/4500 [==============================] - 41s 9ms/step - loss: 0.4811 - accuracy: 0.7658 - val_loss: 0.4724 - val_accuracy: 0.7732\n",
            "Epoch 3/50\n",
            "4500/4500 [==============================] - 41s 9ms/step - loss: 0.4551 - accuracy: 0.7829 - val_loss: 0.4617 - val_accuracy: 0.7788\n",
            "Epoch 4/50\n",
            "4500/4500 [==============================] - 40s 9ms/step - loss: 0.4329 - accuracy: 0.7955 - val_loss: 0.4633 - val_accuracy: 0.7740\n",
            "Epoch 5/50\n",
            "4500/4500 [==============================] - 40s 9ms/step - loss: 0.4095 - accuracy: 0.8086 - val_loss: 0.4716 - val_accuracy: 0.7756\n",
            "Epoch 6/50\n",
            "4500/4500 [==============================] - 40s 9ms/step - loss: 0.3858 - accuracy: 0.8221 - val_loss: 0.4787 - val_accuracy: 0.7709\n",
            "Epoch 7/50\n",
            "4500/4500 [==============================] - 41s 9ms/step - loss: 0.3610 - accuracy: 0.8356 - val_loss: 0.4846 - val_accuracy: 0.7755\n",
            "Epoch 8/50\n",
            "4500/4500 [==============================] - 41s 9ms/step - loss: 0.3353 - accuracy: 0.8503 - val_loss: 0.5159 - val_accuracy: 0.7703\n",
            "Epoch 9/50\n",
            "4500/4500 [==============================] - 42s 9ms/step - loss: 0.3085 - accuracy: 0.8635 - val_loss: 0.5577 - val_accuracy: 0.7661\n",
            "Epoch 10/50\n",
            "4500/4500 [==============================] - 41s 9ms/step - loss: 0.2830 - accuracy: 0.8755 - val_loss: 0.5989 - val_accuracy: 0.7646\n",
            "Epoch 11/50\n",
            "4500/4500 [==============================] - 41s 9ms/step - loss: 0.2580 - accuracy: 0.8870 - val_loss: 0.6410 - val_accuracy: 0.7548\n",
            "Epoch 12/50\n",
            "4500/4500 [==============================] - 40s 9ms/step - loss: 0.2355 - accuracy: 0.8976 - val_loss: 0.6957 - val_accuracy: 0.7573\n",
            "Epoch 13/50\n",
            "4500/4500 [==============================] - 41s 9ms/step - loss: 0.2162 - accuracy: 0.9064 - val_loss: 0.7280 - val_accuracy: 0.7469\n",
            "Epoch 14/50\n",
            "4500/4500 [==============================] - 41s 9ms/step - loss: 0.1966 - accuracy: 0.9161 - val_loss: 0.8064 - val_accuracy: 0.7500\n",
            "Epoch 15/50\n",
            "4500/4500 [==============================] - 42s 9ms/step - loss: 0.1805 - accuracy: 0.9230 - val_loss: 0.8568 - val_accuracy: 0.7494\n",
            "Epoch 16/50\n",
            "4500/4500 [==============================] - 41s 9ms/step - loss: 0.1682 - accuracy: 0.9294 - val_loss: 0.9023 - val_accuracy: 0.7513\n",
            "Epoch 17/50\n",
            "4500/4500 [==============================] - 41s 9ms/step - loss: 0.1544 - accuracy: 0.9350 - val_loss: 1.0385 - val_accuracy: 0.7495\n",
            "Epoch 18/50\n",
            "4500/4500 [==============================] - 41s 9ms/step - loss: 0.1452 - accuracy: 0.9390 - val_loss: 1.0487 - val_accuracy: 0.7498\n",
            "Epoch 19/50\n",
            "4500/4500 [==============================] - 39s 9ms/step - loss: 0.1355 - accuracy: 0.9444 - val_loss: 1.1387 - val_accuracy: 0.7496\n",
            "Epoch 20/50\n",
            "4500/4500 [==============================] - 40s 9ms/step - loss: 0.1263 - accuracy: 0.9480 - val_loss: 1.1578 - val_accuracy: 0.7428\n",
            "Epoch 21/50\n",
            "4500/4500 [==============================] - 40s 9ms/step - loss: 0.1209 - accuracy: 0.9502 - val_loss: 1.1792 - val_accuracy: 0.7444\n",
            "Epoch 22/50\n",
            "4500/4500 [==============================] - 41s 9ms/step - loss: 0.1142 - accuracy: 0.9537 - val_loss: 1.2473 - val_accuracy: 0.7446\n",
            "Epoch 23/50\n",
            "4500/4500 [==============================] - 42s 9ms/step - loss: 0.1090 - accuracy: 0.9559 - val_loss: 1.2137 - val_accuracy: 0.7433\n",
            "Epoch 24/50\n",
            "4500/4500 [==============================] - 40s 9ms/step - loss: 0.1030 - accuracy: 0.9583 - val_loss: 1.2876 - val_accuracy: 0.7469\n",
            "Epoch 25/50\n",
            "4500/4500 [==============================] - 40s 9ms/step - loss: 0.0989 - accuracy: 0.9602 - val_loss: 1.2768 - val_accuracy: 0.7427\n",
            "Epoch 26/50\n",
            "4500/4500 [==============================] - 40s 9ms/step - loss: 0.0963 - accuracy: 0.9616 - val_loss: 1.3614 - val_accuracy: 0.7417\n",
            "Epoch 27/50\n",
            "4500/4500 [==============================] - 41s 9ms/step - loss: 0.0903 - accuracy: 0.9643 - val_loss: 1.3806 - val_accuracy: 0.7425\n",
            "Epoch 28/50\n",
            "4500/4500 [==============================] - 41s 9ms/step - loss: 0.0872 - accuracy: 0.9653 - val_loss: 1.4992 - val_accuracy: 0.7442\n",
            "Epoch 29/50\n",
            "4500/4500 [==============================] - 44s 10ms/step - loss: 0.0857 - accuracy: 0.9660 - val_loss: 1.4448 - val_accuracy: 0.7387\n",
            "Epoch 30/50\n",
            "4500/4500 [==============================] - 42s 9ms/step - loss: 0.0839 - accuracy: 0.9673 - val_loss: 1.4626 - val_accuracy: 0.7427\n",
            "Epoch 31/50\n",
            "4500/4500 [==============================] - 42s 9ms/step - loss: 0.0797 - accuracy: 0.9690 - val_loss: 1.4634 - val_accuracy: 0.7373\n",
            "Epoch 32/50\n",
            "4500/4500 [==============================] - 41s 9ms/step - loss: 0.0775 - accuracy: 0.9698 - val_loss: 1.4782 - val_accuracy: 0.7436\n",
            "Epoch 33/50\n",
            "4500/4500 [==============================] - 42s 9ms/step - loss: 0.0767 - accuracy: 0.9698 - val_loss: 1.4916 - val_accuracy: 0.7421\n",
            "Epoch 34/50\n",
            "4500/4500 [==============================] - 41s 9ms/step - loss: 0.0744 - accuracy: 0.9710 - val_loss: 1.5178 - val_accuracy: 0.7443\n",
            "Epoch 35/50\n",
            "4500/4500 [==============================] - 41s 9ms/step - loss: 0.0731 - accuracy: 0.9715 - val_loss: 1.5362 - val_accuracy: 0.7407\n",
            "Epoch 36/50\n",
            "4500/4500 [==============================] - 41s 9ms/step - loss: 0.0718 - accuracy: 0.9724 - val_loss: 1.5097 - val_accuracy: 0.7402\n",
            "Epoch 37/50\n",
            "4500/4500 [==============================] - 41s 9ms/step - loss: 0.0685 - accuracy: 0.9736 - val_loss: 1.5990 - val_accuracy: 0.7441\n",
            "Epoch 38/50\n",
            "4500/4500 [==============================] - 41s 9ms/step - loss: 0.0695 - accuracy: 0.9728 - val_loss: 1.6061 - val_accuracy: 0.7401\n",
            "Epoch 39/50\n",
            "4500/4500 [==============================] - 41s 9ms/step - loss: 0.0677 - accuracy: 0.9743 - val_loss: 1.5373 - val_accuracy: 0.7398\n",
            "Epoch 40/50\n",
            "4500/4500 [==============================] - 42s 9ms/step - loss: 0.0658 - accuracy: 0.9749 - val_loss: 1.5744 - val_accuracy: 0.7421\n",
            "Epoch 41/50\n",
            "4500/4500 [==============================] - 41s 9ms/step - loss: 0.0647 - accuracy: 0.9752 - val_loss: 1.5119 - val_accuracy: 0.7441\n",
            "Epoch 42/50\n",
            "4500/4500 [==============================] - 40s 9ms/step - loss: 0.0643 - accuracy: 0.9758 - val_loss: 1.5524 - val_accuracy: 0.7454\n",
            "Epoch 43/50\n",
            "4500/4500 [==============================] - 41s 9ms/step - loss: 0.0624 - accuracy: 0.9761 - val_loss: 1.5984 - val_accuracy: 0.7404\n",
            "Epoch 44/50\n",
            "4500/4500 [==============================] - 41s 9ms/step - loss: 0.0627 - accuracy: 0.9758 - val_loss: 1.6004 - val_accuracy: 0.7419\n",
            "Epoch 45/50\n",
            "4500/4500 [==============================] - 41s 9ms/step - loss: 0.0604 - accuracy: 0.9769 - val_loss: 1.5988 - val_accuracy: 0.7433\n",
            "Epoch 46/50\n",
            "4500/4500 [==============================] - 42s 9ms/step - loss: 0.0601 - accuracy: 0.9770 - val_loss: 1.6118 - val_accuracy: 0.7399\n",
            "Epoch 47/50\n",
            "4500/4500 [==============================] - 41s 9ms/step - loss: 0.0596 - accuracy: 0.9773 - val_loss: 1.5877 - val_accuracy: 0.7395\n",
            "Epoch 48/50\n",
            "4500/4500 [==============================] - 43s 9ms/step - loss: 0.0599 - accuracy: 0.9771 - val_loss: 1.5974 - val_accuracy: 0.7374\n",
            "Epoch 49/50\n",
            "4500/4500 [==============================] - 42s 9ms/step - loss: 0.0587 - accuracy: 0.9779 - val_loss: 1.6279 - val_accuracy: 0.7426\n",
            "Epoch 50/50\n",
            "4500/4500 [==============================] - 42s 9ms/step - loss: 0.0569 - accuracy: 0.9782 - val_loss: 1.6384 - val_accuracy: 0.7398\n",
            "Training Complete\n"
          ],
          "name": "stdout"
        }
      ]
    },
    {
      "cell_type": "code",
      "metadata": {
        "id": "qxju4ItJKO8F",
        "outputId": "b95215e4-083c-4659-b8eb-b5160d75d29d",
        "colab": {
          "base_uri": "https://localhost:8080/",
          "height": 607
        }
      },
      "source": [
        "import matplotlib.image  as mpimg\n",
        "import matplotlib.pyplot as plt\n",
        "\n",
        "#-----------------------------------------------------------\n",
        "# Retrieve a list of list results on training and test data\n",
        "# sets for each training epoch\n",
        "#-----------------------------------------------------------\n",
        "acc=history.history['accuracy']\n",
        "val_acc=history.history['val_accuracy']\n",
        "loss=history.history['loss']\n",
        "val_loss=history.history['val_loss']\n",
        "\n",
        "epochs=range(len(acc)) # Get number of epochs\n",
        "\n",
        "#------------------------------------------------\n",
        "# Plot training and validation accuracy per epoch\n",
        "#------------------------------------------------\n",
        "plt.plot(epochs, acc, 'r')\n",
        "plt.plot(epochs, val_acc, 'b')\n",
        "plt.title('Training and validation accuracy')\n",
        "plt.xlabel(\"Epochs\")\n",
        "plt.ylabel(\"Accuracy\")\n",
        "plt.legend([\"Accuracy\", \"Validation Accuracy\"])\n",
        "\n",
        "plt.figure()\n",
        "\n",
        "#------------------------------------------------\n",
        "# Plot training and validation loss per epoch\n",
        "#------------------------------------------------\n",
        "plt.plot(epochs, loss, 'r')\n",
        "plt.plot(epochs, val_loss, 'b')\n",
        "plt.title('Training and validation loss')\n",
        "plt.xlabel(\"Epochs\")\n",
        "plt.ylabel(\"Loss\")\n",
        "plt.legend([\"Loss\", \"Validation Loss\"])\n",
        "\n",
        "plt.figure()\n",
        "\n",
        "\n",
        "# Expected Output\n",
        "# A chart where the validation loss does not increase sharply!"
      ],
      "execution_count": null,
      "outputs": [
        {
          "output_type": "execute_result",
          "data": {
            "text/plain": [
              "<Figure size 432x288 with 0 Axes>"
            ]
          },
          "metadata": {
            "tags": []
          },
          "execution_count": 39
        },
        {
          "output_type": "display_data",
          "data": {
            "image/png": "[encoded data removed]",
            "text/plain": [
              "<Figure size 432x288 with 1 Axes>"
            ]
          },
          "metadata": {
            "tags": [],
            "needs_background": "light"
          }
        },
        {
          "output_type": "display_data",
          "data": {
            "image/png": "[encoded data removed]",
            "text/plain": [
              "<Figure size 432x288 with 1 Axes>"
            ]
          },
          "metadata": {
            "tags": [],
            "needs_background": "light"
          }
        },
        {
          "output_type": "display_data",
          "data": {
            "text/plain": [
              "<Figure size 432x288 with 0 Axes>"
            ]
          },
          "metadata": {
            "tags": []
          }
        }
      ]
    },
    {
      "cell_type": "code",
      "metadata": {
        "id": "2AHqghD1i5eQ"
      },
      "source": [
        ""
      ],
      "execution_count": null,
      "outputs": []
    }
  ]
}