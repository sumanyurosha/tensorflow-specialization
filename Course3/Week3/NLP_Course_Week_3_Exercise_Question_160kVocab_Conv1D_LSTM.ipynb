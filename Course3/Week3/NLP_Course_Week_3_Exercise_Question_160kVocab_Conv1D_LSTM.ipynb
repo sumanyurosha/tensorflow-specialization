{
  "nbformat": 4,
  "nbformat_minor": 0,
  "metadata": {
    "accelerator": "GPU",
    "colab": {
      "name": "Copy of NLP Course - Week 3 Exercise Question.ipynb",
      "provenance": [],
      "include_colab_link": true
    },
    "kernelspec": {
      "display_name": "Python 3",
      "name": "python3"
    }
  },
  "cells": [
    {
      "cell_type": "markdown",
      "metadata": {
        "id": "view-in-github",
        "colab_type": "text"
      },
      "source": [
        "<a href=\"https://colab.research.google.com/github/sumanyurosha/tensorflow-specialization/blob/master/Course3/Week3/NLP_Course_Week_3_Exercise_Question_160kVocab_Conv1D_LSTM.ipynb\" target=\"_parent\"><img src=\"https://colab.research.google.com/assets/colab-badge.svg\" alt=\"Open In Colab\"/></a>"
      ]
    },
    {
      "cell_type": "code",
      "metadata": {
        "id": "zX4Kg8DUTKWO"
      },
      "source": [
        "#@title Licensed under the Apache License, Version 2.0 (the \"License\");\n",
        "# you may not use this file except in compliance with the License.\n",
        "# You may obtain a copy of the License at\n",
        "#\n",
        "# https://www.apache.org/licenses/LICENSE-2.0\n",
        "#\n",
        "# Unless required by applicable law or agreed to in writing, software\n",
        "# distributed under the License is distributed on an \"AS IS\" BASIS,\n",
        "# WITHOUT WARRANTIES OR CONDITIONS OF ANY KIND, either express or implied.\n",
        "# See the License for the specific language governing permissions and\n",
        "# limitations under the License."
      ],
      "execution_count": null,
      "outputs": []
    },
    {
      "cell_type": "code",
      "metadata": {
        "id": "hmA6EzkQJ5jt"
      },
      "source": [
        "import json\n",
        "import tensorflow as tf\n",
        "import csv\n",
        "import random\n",
        "import numpy as np\n",
        "\n",
        "from tensorflow.keras.preprocessing.text import Tokenizer\n",
        "from tensorflow.keras.preprocessing.sequence import pad_sequences\n",
        "from tensorflow.keras.utils import to_categorical\n",
        "from tensorflow.keras import regularizers\n",
        "\n",
        "\n",
        "embedding_dim = 100\n",
        "max_length = 16\n",
        "trunc_type='post'\n",
        "padding_type='post'\n",
        "oov_tok = \"<OOV>\"\n",
        "training_size = 160000\n",
        "#Your dataset size here. Experiment using smaller values (i.e. 16000), but don't forget to train on at least 160000 to see the best effects\n",
        "test_portion=.1\n",
        "\n",
        "corpus = []\n"
      ],
      "execution_count": null,
      "outputs": []
    },
    {
      "cell_type": "code",
      "metadata": {
        "id": "bM0l_dORKqE0",
        "outputId": "6cda27f8-53dd-4458-e5a3-f38bb18c02ca",
        "colab": {
          "base_uri": "https://localhost:8080/",
          "height": 204
        }
      },
      "source": [
        "# Note that I cleaned the Stanford dataset to remove LATIN1 encoding to make it easier for Python CSV reader\n",
        "# You can do that yourself with:\n",
        "# iconv -f LATIN1 -t UTF8 training.1600000.processed.noemoticon.csv -o training_cleaned.csv\n",
        "# I then hosted it on my site to make it easier to use in this notebook\n",
        "\n",
        "!wget --no-check-certificate \\\n",
        "    https://storage.googleapis.com/laurencemoroney-blog.appspot.com/training_cleaned.csv \\\n",
        "    -O /tmp/training_cleaned.csv\n",
        "\n",
        "num_sentences = 0\n",
        "\n",
        "with open(\"/tmp/training_cleaned.csv\") as csvfile:\n",
        "    reader = csv.reader(csvfile, delimiter=',')\n",
        "    for row in reader:\n",
        "      # Your Code here. Create list items where the first item is the text, found in row[5], and the second is the label. Note that the label is a '0' or a '4' in the text. When it's the former, make\n",
        "      # your label to be 0, otherwise 1. Keep a count of the number of sentences in num_sentences\n",
        "        list_item=[]\n",
        "        list_item.append(row[5])\n",
        "        list_item.append(0 if row[0] == '0' else 1)\n",
        "        num_sentences = num_sentences + 1\n",
        "        corpus.append(list_item)\n"
      ],
      "execution_count": null,
      "outputs": [
        {
          "output_type": "stream",
          "text": [
            "--2020-10-03 10:53:09--  https://storage.googleapis.com/laurencemoroney-blog.appspot.com/training_cleaned.csv\n",
            "Resolving storage.googleapis.com (storage.googleapis.com)... 74.125.143.128, 173.194.79.128, 108.177.119.128, ...\n",
            "Connecting to storage.googleapis.com (storage.googleapis.com)|74.125.143.128|:443... connected.\n",
            "HTTP request sent, awaiting response... 200 OK\n",
            "Length: 238942690 (228M) [application/octet-stream]\n",
            "Saving to: ‘/tmp/training_cleaned.csv’\n",
            "\n",
            "/tmp/training_clean 100%[===================>] 227.87M   122MB/s    in 1.9s    \n",
            "\n",
            "2020-10-03 10:53:11 (122 MB/s) - ‘/tmp/training_cleaned.csv’ saved [238942690/238942690]\n",
            "\n"
          ],
          "name": "stdout"
        }
      ]
    },
    {
      "cell_type": "code",
      "metadata": {
        "id": "3kxblBUjEUX-",
        "outputId": "b6241844-ca32-4113-a745-dd0e6fb2663e",
        "colab": {
          "base_uri": "https://localhost:8080/",
          "height": 68
        }
      },
      "source": [
        "print(num_sentences)\n",
        "print(len(corpus))\n",
        "print(corpus[1])\n",
        "\n",
        "# Expected Output:\n",
        "# 1600000\n",
        "# 1600000\n",
        "# [\"is upset that he can't update his Facebook by texting it... and might cry as a result  School today also. Blah!\", 0]"
      ],
      "execution_count": null,
      "outputs": [
        {
          "output_type": "stream",
          "text": [
            "1600000\n",
            "1600000\n",
            "[\"is upset that he can't update his Facebook by texting it... and might cry as a result  School today also. Blah!\", 0]\n"
          ],
          "name": "stdout"
        }
      ]
    },
    {
      "cell_type": "code",
      "metadata": {
        "id": "ohOGz24lsNAD"
      },
      "source": [
        "sentences=[]\n",
        "labels=[]\n",
        "random.shuffle(corpus)\n",
        "for x in range(training_size):\n",
        "    sentences.append(corpus[x][0])\n",
        "    labels.append(corpus[x][1])\n",
        "\n",
        "\n",
        "tokenizer = Tokenizer()\n",
        "tokenizer.fit_on_texts(sentences)\n",
        "\n",
        "word_index = tokenizer.word_index\n",
        "vocab_size=len(word_index)\n",
        "\n",
        "sequences = tokenizer.texts_to_sequences(sentences)\n",
        "padded = pad_sequences(sequences, maxlen=max_length, truncating=trunc_type,\n",
        "                       padding=padding_type)\n",
        "\n",
        "split = int(test_portion * training_size)\n",
        "\n",
        "test_sequences = np.array(padded[:split])\n",
        "training_sequences = np.array(padded[split:])\n",
        "test_labels = np.array(labels[:split])\n",
        "training_labels = np.array(labels[split:])"
      ],
      "execution_count": null,
      "outputs": []
    },
    {
      "cell_type": "code",
      "metadata": {
        "id": "gIrtRem1En3N",
        "outputId": "edd587e8-7929-42e0-94e7-e0cfbc406025",
        "colab": {
          "base_uri": "https://localhost:8080/",
          "height": 51
        }
      },
      "source": [
        "print(vocab_size)\n",
        "print(word_index['i'])\n",
        "# Expected Output\n",
        "# 138858\n",
        "# 1"
      ],
      "execution_count": null,
      "outputs": [
        {
          "output_type": "stream",
          "text": [
            "138316\n",
            "1\n"
          ],
          "name": "stdout"
        }
      ]
    },
    {
      "cell_type": "code",
      "metadata": {
        "id": "C1zdgJkusRh0",
        "outputId": "6988abe0-969a-4c52-db2a-43f808f2c062",
        "colab": {
          "base_uri": "https://localhost:8080/",
          "height": 204
        }
      },
      "source": [
        "# Note this is the 100 dimension version of GloVe from Stanford\n",
        "# I unzipped and hosted it on my site to make this notebook easier\n",
        "!wget --no-check-certificate \\\n",
        "    https://storage.googleapis.com/laurencemoroney-blog.appspot.com/glove.6B.100d.txt \\\n",
        "    -O /tmp/glove.6B.100d.txt\n",
        "embeddings_index = {};\n",
        "with open('/tmp/glove.6B.100d.txt') as f:\n",
        "    for line in f:\n",
        "        values = line.split();\n",
        "        word = values[0];\n",
        "        coefs = np.asarray(values[1:], dtype='float32');\n",
        "        embeddings_index[word] = coefs;\n",
        "\n",
        "embeddings_matrix = np.zeros((vocab_size+1, embedding_dim));\n",
        "for word, i in word_index.items():\n",
        "    embedding_vector = embeddings_index.get(word);\n",
        "    if embedding_vector is not None:\n",
        "        embeddings_matrix[i] = embedding_vector;"
      ],
      "execution_count": null,
      "outputs": [
        {
          "output_type": "stream",
          "text": [
            "--2020-10-03 10:53:24--  https://storage.googleapis.com/laurencemoroney-blog.appspot.com/glove.6B.100d.txt\n",
            "Resolving storage.googleapis.com (storage.googleapis.com)... 108.177.126.128, 108.177.127.128, 173.194.69.128, ...\n",
            "Connecting to storage.googleapis.com (storage.googleapis.com)|108.177.126.128|:443... connected.\n",
            "HTTP request sent, awaiting response... 200 OK\n",
            "Length: 347116733 (331M) [text/plain]\n",
            "Saving to: ‘/tmp/glove.6B.100d.txt’\n",
            "\n",
            "/tmp/glove.6B.100d. 100%[===================>] 331.04M  66.5MB/s    in 5.0s    \n",
            "\n",
            "2020-10-03 10:53:29 (66.5 MB/s) - ‘/tmp/glove.6B.100d.txt’ saved [347116733/347116733]\n",
            "\n"
          ],
          "name": "stdout"
        }
      ]
    },
    {
      "cell_type": "code",
      "metadata": {
        "id": "71NLk_lpFLNt",
        "outputId": "1101fb18-f2ba-4bac-9b3c-92d4cfb0b424",
        "colab": {
          "base_uri": "https://localhost:8080/",
          "height": 34
        }
      },
      "source": [
        "print(len(embeddings_matrix))\n",
        "# Expected Output\n",
        "# 138859"
      ],
      "execution_count": null,
      "outputs": [
        {
          "output_type": "stream",
          "text": [
            "138317\n"
          ],
          "name": "stdout"
        }
      ]
    },
    {
      "cell_type": "code",
      "metadata": {
        "id": "iKKvbuEBOGFz",
        "outputId": "0426280f-e727-4dd0-d70c-6373aa12845c",
        "colab": {
          "base_uri": "https://localhost:8080/",
          "height": 1000
        }
      },
      "source": [
        "model = tf.keras.Sequential([\n",
        "    tf.keras.layers.Embedding(vocab_size+1, embedding_dim, input_length=max_length, weights=[embeddings_matrix], trainable=False),\n",
        "    # YOUR CODE HERE - experiment with combining different types, such as convolutions and LSTMs\n",
        "    tf.keras.layers.Dropout(0.2),\n",
        "    tf.keras.layers.Conv1D(128, 5, activation=\"relu\"),\n",
        "    tf.keras.layers.MaxPool1D(4),\n",
        "    tf.keras.layers.LSTM(64),\n",
        "    tf.keras.layers.Dense(24, activation=\"relu\"),\n",
        "    tf.keras.layers.Dense(1, activation=\"sigmoid\")\n",
        "])\n",
        "model.compile(loss=\"binary_crossentropy\", optimizer=\"adam\", metrics=[\"accuracy\"])\n",
        "model.summary()\n",
        "\n",
        "num_epochs = 50\n",
        "history = model.fit(training_sequences, training_labels, epochs=num_epochs, validation_data=(test_sequences, test_labels), verbose=1)\n",
        "\n",
        "print(\"Training Complete\")\n"
      ],
      "execution_count": null,
      "outputs": [
        {
          "output_type": "stream",
          "text": [
            "Model: \"sequential_3\"\n",
            "_________________________________________________________________\n",
            "Layer (type)                 Output Shape              Param #   \n",
            "=================================================================\n",
            "embedding_3 (Embedding)      (None, 16, 100)           13831700  \n",
            "_________________________________________________________________\n",
            "dropout (Dropout)            (None, 16, 100)           0         \n",
            "_________________________________________________________________\n",
            "conv1d (Conv1D)              (None, 12, 128)           64128     \n",
            "_________________________________________________________________\n",
            "max_pooling1d (MaxPooling1D) (None, 3, 128)            0         \n",
            "_________________________________________________________________\n",
            "lstm_6 (LSTM)                (None, 64)                49408     \n",
            "_________________________________________________________________\n",
            "dense_6 (Dense)              (None, 24)                1560      \n",
            "_________________________________________________________________\n",
            "dense_7 (Dense)              (None, 1)                 25        \n",
            "=================================================================\n",
            "Total params: 13,946,821\n",
            "Trainable params: 115,121\n",
            "Non-trainable params: 13,831,700\n",
            "_________________________________________________________________\n",
            "Epoch 1/50\n",
            "4500/4500 [==============================] - 17s 4ms/step - loss: 0.5669 - accuracy: 0.6975 - val_loss: 0.5286 - val_accuracy: 0.7306\n",
            "Epoch 2/50\n",
            "4500/4500 [==============================] - 17s 4ms/step - loss: 0.5234 - accuracy: 0.7326 - val_loss: 0.5282 - val_accuracy: 0.7287\n",
            "Epoch 3/50\n",
            "4500/4500 [==============================] - 17s 4ms/step - loss: 0.5040 - accuracy: 0.7492 - val_loss: 0.4995 - val_accuracy: 0.7489\n",
            "Epoch 4/50\n",
            "4500/4500 [==============================] - 17s 4ms/step - loss: 0.4893 - accuracy: 0.7578 - val_loss: 0.5005 - val_accuracy: 0.7502\n",
            "Epoch 5/50\n",
            "4500/4500 [==============================] - 17s 4ms/step - loss: 0.4782 - accuracy: 0.7657 - val_loss: 0.4999 - val_accuracy: 0.7529\n",
            "Epoch 6/50\n",
            "4500/4500 [==============================] - 17s 4ms/step - loss: 0.4679 - accuracy: 0.7714 - val_loss: 0.4993 - val_accuracy: 0.7508\n",
            "Epoch 7/50\n",
            "4500/4500 [==============================] - 17s 4ms/step - loss: 0.4597 - accuracy: 0.7772 - val_loss: 0.5020 - val_accuracy: 0.7492\n",
            "Epoch 8/50\n",
            "4500/4500 [==============================] - 17s 4ms/step - loss: 0.4526 - accuracy: 0.7818 - val_loss: 0.5010 - val_accuracy: 0.7531\n",
            "Epoch 9/50\n",
            "4500/4500 [==============================] - 17s 4ms/step - loss: 0.4461 - accuracy: 0.7848 - val_loss: 0.5128 - val_accuracy: 0.7492\n",
            "Epoch 10/50\n",
            "4500/4500 [==============================] - 18s 4ms/step - loss: 0.4414 - accuracy: 0.7876 - val_loss: 0.5033 - val_accuracy: 0.7517\n",
            "Epoch 11/50\n",
            "4500/4500 [==============================] - 16s 4ms/step - loss: 0.4365 - accuracy: 0.7914 - val_loss: 0.5040 - val_accuracy: 0.7491\n",
            "Epoch 12/50\n",
            "4500/4500 [==============================] - 17s 4ms/step - loss: 0.4303 - accuracy: 0.7943 - val_loss: 0.5050 - val_accuracy: 0.7529\n",
            "Epoch 13/50\n",
            "4500/4500 [==============================] - 17s 4ms/step - loss: 0.4283 - accuracy: 0.7957 - val_loss: 0.5082 - val_accuracy: 0.7504\n",
            "Epoch 14/50\n",
            "4500/4500 [==============================] - 16s 4ms/step - loss: 0.4230 - accuracy: 0.7989 - val_loss: 0.5168 - val_accuracy: 0.7501\n",
            "Epoch 15/50\n",
            "4500/4500 [==============================] - 17s 4ms/step - loss: 0.4211 - accuracy: 0.7996 - val_loss: 0.5181 - val_accuracy: 0.7515\n",
            "Epoch 16/50\n",
            "4500/4500 [==============================] - 17s 4ms/step - loss: 0.4179 - accuracy: 0.8016 - val_loss: 0.5150 - val_accuracy: 0.7498\n",
            "Epoch 17/50\n",
            "4500/4500 [==============================] - 17s 4ms/step - loss: 0.4154 - accuracy: 0.8035 - val_loss: 0.5150 - val_accuracy: 0.7477\n",
            "Epoch 18/50\n",
            "4500/4500 [==============================] - 17s 4ms/step - loss: 0.4124 - accuracy: 0.8057 - val_loss: 0.5162 - val_accuracy: 0.7494\n",
            "Epoch 19/50\n",
            "4500/4500 [==============================] - 17s 4ms/step - loss: 0.4112 - accuracy: 0.8067 - val_loss: 0.5131 - val_accuracy: 0.7532\n",
            "Epoch 20/50\n",
            "4500/4500 [==============================] - 17s 4ms/step - loss: 0.4086 - accuracy: 0.8082 - val_loss: 0.5231 - val_accuracy: 0.7501\n",
            "Epoch 21/50\n",
            "4500/4500 [==============================] - 17s 4ms/step - loss: 0.4065 - accuracy: 0.8082 - val_loss: 0.5131 - val_accuracy: 0.7466\n",
            "Epoch 22/50\n",
            "4500/4500 [==============================] - 17s 4ms/step - loss: 0.4053 - accuracy: 0.8087 - val_loss: 0.5242 - val_accuracy: 0.7488\n",
            "Epoch 23/50\n",
            "4500/4500 [==============================] - 17s 4ms/step - loss: 0.4042 - accuracy: 0.8104 - val_loss: 0.5245 - val_accuracy: 0.7494\n",
            "Epoch 24/50\n",
            "4500/4500 [==============================] - 17s 4ms/step - loss: 0.4029 - accuracy: 0.8116 - val_loss: 0.5349 - val_accuracy: 0.7476\n",
            "Epoch 25/50\n",
            "4500/4500 [==============================] - 17s 4ms/step - loss: 0.4001 - accuracy: 0.8136 - val_loss: 0.5333 - val_accuracy: 0.7442\n",
            "Epoch 26/50\n",
            "4500/4500 [==============================] - 17s 4ms/step - loss: 0.4002 - accuracy: 0.8119 - val_loss: 0.5257 - val_accuracy: 0.7446\n",
            "Epoch 27/50\n",
            "4500/4500 [==============================] - 17s 4ms/step - loss: 0.3977 - accuracy: 0.8140 - val_loss: 0.5254 - val_accuracy: 0.7466\n",
            "Epoch 28/50\n",
            "4500/4500 [==============================] - 17s 4ms/step - loss: 0.3975 - accuracy: 0.8137 - val_loss: 0.5293 - val_accuracy: 0.7500\n",
            "Epoch 29/50\n",
            "4500/4500 [==============================] - 17s 4ms/step - loss: 0.3950 - accuracy: 0.8152 - val_loss: 0.5236 - val_accuracy: 0.7484\n",
            "Epoch 30/50\n",
            "4500/4500 [==============================] - 17s 4ms/step - loss: 0.3954 - accuracy: 0.8155 - val_loss: 0.5257 - val_accuracy: 0.7449\n",
            "Epoch 31/50\n",
            "4500/4500 [==============================] - 16s 4ms/step - loss: 0.3939 - accuracy: 0.8162 - val_loss: 0.5359 - val_accuracy: 0.7456\n",
            "Epoch 32/50\n",
            "4500/4500 [==============================] - 17s 4ms/step - loss: 0.3932 - accuracy: 0.8168 - val_loss: 0.5412 - val_accuracy: 0.7470\n",
            "Epoch 33/50\n",
            "4500/4500 [==============================] - 17s 4ms/step - loss: 0.3918 - accuracy: 0.8168 - val_loss: 0.5401 - val_accuracy: 0.7472\n",
            "Epoch 34/50\n",
            "4500/4500 [==============================] - 18s 4ms/step - loss: 0.3914 - accuracy: 0.8173 - val_loss: 0.5336 - val_accuracy: 0.7437\n",
            "Epoch 35/50\n",
            "4500/4500 [==============================] - 17s 4ms/step - loss: 0.3904 - accuracy: 0.8164 - val_loss: 0.5379 - val_accuracy: 0.7465\n",
            "Epoch 36/50\n",
            "4500/4500 [==============================] - 17s 4ms/step - loss: 0.3902 - accuracy: 0.8174 - val_loss: 0.5411 - val_accuracy: 0.7459\n",
            "Epoch 37/50\n",
            "4500/4500 [==============================] - 17s 4ms/step - loss: 0.3896 - accuracy: 0.8196 - val_loss: 0.5377 - val_accuracy: 0.7446\n",
            "Epoch 38/50\n",
            "4500/4500 [==============================] - 17s 4ms/step - loss: 0.3887 - accuracy: 0.8192 - val_loss: 0.5372 - val_accuracy: 0.7466\n",
            "Epoch 39/50\n",
            "4500/4500 [==============================] - 17s 4ms/step - loss: 0.3887 - accuracy: 0.8202 - val_loss: 0.5341 - val_accuracy: 0.7420\n",
            "Epoch 40/50\n",
            "4500/4500 [==============================] - 17s 4ms/step - loss: 0.3875 - accuracy: 0.8207 - val_loss: 0.5460 - val_accuracy: 0.7467\n",
            "Epoch 41/50\n",
            "4500/4500 [==============================] - 17s 4ms/step - loss: 0.3873 - accuracy: 0.8204 - val_loss: 0.5433 - val_accuracy: 0.7423\n",
            "Epoch 42/50\n",
            "4500/4500 [==============================] - 17s 4ms/step - loss: 0.3871 - accuracy: 0.8194 - val_loss: 0.5336 - val_accuracy: 0.7463\n",
            "Epoch 43/50\n",
            "4500/4500 [==============================] - 17s 4ms/step - loss: 0.3857 - accuracy: 0.8201 - val_loss: 0.5383 - val_accuracy: 0.7429\n",
            "Epoch 44/50\n",
            "4500/4500 [==============================] - 17s 4ms/step - loss: 0.3855 - accuracy: 0.8209 - val_loss: 0.5375 - val_accuracy: 0.7444\n",
            "Epoch 45/50\n",
            "4500/4500 [==============================] - 17s 4ms/step - loss: 0.3846 - accuracy: 0.8220 - val_loss: 0.5303 - val_accuracy: 0.7431\n",
            "Epoch 46/50\n",
            "4500/4500 [==============================] - 17s 4ms/step - loss: 0.3834 - accuracy: 0.8226 - val_loss: 0.5322 - val_accuracy: 0.7448\n",
            "Epoch 47/50\n",
            "4500/4500 [==============================] - 17s 4ms/step - loss: 0.3830 - accuracy: 0.8227 - val_loss: 0.5387 - val_accuracy: 0.7444\n",
            "Epoch 48/50\n",
            "4500/4500 [==============================] - 17s 4ms/step - loss: 0.3844 - accuracy: 0.8218 - val_loss: 0.5332 - val_accuracy: 0.7445\n",
            "Epoch 49/50\n",
            "4500/4500 [==============================] - 16s 4ms/step - loss: 0.3829 - accuracy: 0.8238 - val_loss: 0.5429 - val_accuracy: 0.7415\n",
            "Epoch 50/50\n",
            "4500/4500 [==============================] - 17s 4ms/step - loss: 0.3836 - accuracy: 0.8229 - val_loss: 0.5513 - val_accuracy: 0.7423\n",
            "Training Complete\n"
          ],
          "name": "stdout"
        }
      ]
    },
    {
      "cell_type": "code",
      "metadata": {
        "id": "qxju4ItJKO8F",
        "outputId": "c0a178a2-dd7a-4407-9188-a05b740b5a74",
        "colab": {
          "base_uri": "https://localhost:8080/",
          "height": 607
        }
      },
      "source": [
        "import matplotlib.image  as mpimg\n",
        "import matplotlib.pyplot as plt\n",
        "\n",
        "#-----------------------------------------------------------\n",
        "# Retrieve a list of list results on training and test data\n",
        "# sets for each training epoch\n",
        "#-----------------------------------------------------------\n",
        "acc=history.history['accuracy']\n",
        "val_acc=history.history['val_accuracy']\n",
        "loss=history.history['loss']\n",
        "val_loss=history.history['val_loss']\n",
        "\n",
        "epochs=range(len(acc)) # Get number of epochs\n",
        "\n",
        "#------------------------------------------------\n",
        "# Plot training and validation accuracy per epoch\n",
        "#------------------------------------------------\n",
        "plt.plot(epochs, acc, 'r')\n",
        "plt.plot(epochs, val_acc, 'b')\n",
        "plt.title('Training and validation accuracy')\n",
        "plt.xlabel(\"Epochs\")\n",
        "plt.ylabel(\"Accuracy\")\n",
        "plt.legend([\"Accuracy\", \"Validation Accuracy\"])\n",
        "\n",
        "plt.figure()\n",
        "\n",
        "#------------------------------------------------\n",
        "# Plot training and validation loss per epoch\n",
        "#------------------------------------------------\n",
        "plt.plot(epochs, loss, 'r')\n",
        "plt.plot(epochs, val_loss, 'b')\n",
        "plt.title('Training and validation loss')\n",
        "plt.xlabel(\"Epochs\")\n",
        "plt.ylabel(\"Loss\")\n",
        "plt.legend([\"Loss\", \"Validation Loss\"])\n",
        "\n",
        "plt.figure()\n",
        "\n",
        "\n",
        "# Expected Output\n",
        "# A chart where the validation loss does not increase sharply!"
      ],
      "execution_count": null,
      "outputs": [
        {
          "output_type": "execute_result",
          "data": {
            "text/plain": [
              "<Figure size 432x288 with 0 Axes>"
            ]
          },
          "metadata": {
            "tags": []
          },
          "execution_count": 49
        },
        {
          "output_type": "display_data",
          "data": {
            "image/png": "[encoded data removed]",
            "text/plain": [
              "<Figure size 432x288 with 1 Axes>"
            ]
          },
          "metadata": {
            "tags": [],
            "needs_background": "light"
          }
        },
        {
          "output_type": "display_data",
          "data": {
            "image/png": "[encoded data removed]",
            "text/plain": [
              "<Figure size 432x288 with 1 Axes>"
            ]
          },
          "metadata": {
            "tags": [],
            "needs_background": "light"
          }
        },
        {
          "output_type": "display_data",
          "data": {
            "text/plain": [
              "<Figure size 432x288 with 0 Axes>"
            ]
          },
          "metadata": {
            "tags": []
          }
        }
      ]
    },
    {
      "cell_type": "code",
      "metadata": {
        "id": "2AHqghD1i5eQ"
      },
      "source": [
        ""
      ],
      "execution_count": null,
      "outputs": []
    }
  ]
}