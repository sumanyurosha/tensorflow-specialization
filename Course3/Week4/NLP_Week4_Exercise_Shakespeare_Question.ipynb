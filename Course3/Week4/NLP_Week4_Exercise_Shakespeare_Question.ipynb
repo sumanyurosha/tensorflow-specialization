{
  "nbformat": 4,
  "nbformat_minor": 0,
  "metadata": {
    "accelerator": "GPU",
    "colab": {
      "name": "NLP_Week4_Exercise_Shakespeare_Question.ipynb",
      "provenance": [],
      "include_colab_link": true
    },
    "kernelspec": {
      "display_name": "Python 3",
      "name": "python3"
    }
  },
  "cells": [
    {
      "cell_type": "markdown",
      "metadata": {
        "id": "view-in-github",
        "colab_type": "text"
      },
      "source": [
        "<a href=\"https://colab.research.google.com/github/sumanyurosha/tensorflow-specialization/blob/master/Course3/Week4/NLP_Week4_Exercise_Shakespeare_Question.ipynb\" target=\"_parent\"><img src=\"https://colab.research.google.com/assets/colab-badge.svg\" alt=\"Open In Colab\"/></a>"
      ]
    },
    {
      "cell_type": "code",
      "metadata": {
        "id": "zX4Kg8DUTKWO"
      },
      "source": [
        "#@title Licensed under the Apache License, Version 2.0 (the \"License\");\n",
        "# you may not use this file except in compliance with the License.\n",
        "# You may obtain a copy of the License at\n",
        "#\n",
        "# https://www.apache.org/licenses/LICENSE-2.0\n",
        "#\n",
        "# Unless required by applicable law or agreed to in writing, software\n",
        "# distributed under the License is distributed on an \"AS IS\" BASIS,\n",
        "# WITHOUT WARRANTIES OR CONDITIONS OF ANY KIND, either express or implied.\n",
        "# See the License for the specific language governing permissions and\n",
        "# limitations under the License."
      ],
      "execution_count": null,
      "outputs": []
    },
    {
      "cell_type": "code",
      "metadata": {
        "id": "BOwsuGQQY9OL"
      },
      "source": [
        "from tensorflow.keras.preprocessing.sequence import pad_sequences\n",
        "from tensorflow.keras.layers import Embedding, LSTM, Dense, Dropout, Bidirectional\n",
        "from tensorflow.keras.preprocessing.text import Tokenizer\n",
        "from tensorflow.keras.models import Sequential\n",
        "from tensorflow.keras.optimizers import Adam\n",
        "### YOUR CODE HERE\n",
        "from tensorflow.keras.regularizers import l1, l2\n",
        "###\n",
        "import tensorflow.keras.utils as ku \n",
        "import numpy as np "
      ],
      "execution_count": null,
      "outputs": []
    },
    {
      "cell_type": "code",
      "metadata": {
        "id": "PRnDnCW-Z7qv",
        "outputId": "e7a081db-9869-4631-ef5d-339216cc2826",
        "colab": {
          "base_uri": "https://localhost:8080/",
          "height": 204
        }
      },
      "source": [
        "tokenizer = Tokenizer()\n",
        "!wget --no-check-certificate \\\n",
        "    https://storage.googleapis.com/laurencemoroney-blog.appspot.com/sonnets.txt \\\n",
        "    -O /tmp/sonnets.txt\n",
        "data = open('/tmp/sonnets.txt').read()\n",
        "\n",
        "corpus = data.lower().split(\"\\n\")\n",
        "\n",
        "\n",
        "tokenizer.fit_on_texts(corpus)\n",
        "total_words = len(tokenizer.word_index) + 1\n",
        "\n",
        "# create input sequences using list of tokens\n",
        "input_sequences = []\n",
        "for line in corpus:\n",
        "\ttoken_list = tokenizer.texts_to_sequences([line])[0]\n",
        "\tfor i in range(1, len(token_list)):\n",
        "\t\tn_gram_sequence = token_list[:i+1]\n",
        "\t\tinput_sequences.append(n_gram_sequence)\n",
        "\n",
        "\n",
        "# pad sequences \n",
        "max_sequence_len = max([len(x) for x in input_sequences])\n",
        "input_sequences = np.array(pad_sequences(input_sequences, maxlen=max_sequence_len, padding='pre'))\n",
        "\n",
        "# create predictors and label\n",
        "predictors, label = input_sequences[:,:-1],input_sequences[:,-1]\n",
        "\n",
        "label = ku.to_categorical(label, num_classes=total_words)"
      ],
      "execution_count": null,
      "outputs": [
        {
          "output_type": "stream",
          "text": [
            "--2020-10-04 07:07:42--  https://storage.googleapis.com/laurencemoroney-blog.appspot.com/sonnets.txt\n",
            "Resolving storage.googleapis.com (storage.googleapis.com)... 74.125.197.128, 74.125.195.128, 74.125.142.128, ...\n",
            "Connecting to storage.googleapis.com (storage.googleapis.com)|74.125.197.128|:443... connected.\n",
            "HTTP request sent, awaiting response... 200 OK\n",
            "Length: 93578 (91K) [text/plain]\n",
            "Saving to: ‘/tmp/sonnets.txt’\n",
            "\n",
            "\r/tmp/sonnets.txt      0%[                    ]       0  --.-KB/s               \r/tmp/sonnets.txt    100%[===================>]  91.38K  --.-KB/s    in 0.001s  \n",
            "\n",
            "2020-10-04 07:07:42 (94.2 MB/s) - ‘/tmp/sonnets.txt’ saved [93578/93578]\n",
            "\n"
          ],
          "name": "stdout"
        }
      ]
    },
    {
      "cell_type": "code",
      "metadata": {
        "id": "w9vH8Y59ajYL",
        "outputId": "da348988-4f16-47d7-bd23-8d6728fc2549",
        "colab": {
          "base_uri": "https://localhost:8080/",
          "height": 374
        }
      },
      "source": [
        "model = Sequential()\n",
        "model.add(Embedding(total_words, 256, input_length=max_sequence_len-1))\n",
        "model.add(Bidirectional(LSTM(256, return_sequences=True)))\n",
        "model.add(Dropout(0.2))\n",
        "model.add(Bidirectional(LSTM(128)))\n",
        "model.add(Dense(128, activation=\"relu\", kernel_regularizer=l2(0.01)))\n",
        "model.add(Dense(total_words, activation=\"softmax\"))\n",
        "# Pick an optimizer\n",
        "model.compile(loss=\"categorical_crossentropy\", optimizer=\"adam\", metrics=[\"accuracy\"])\n",
        "print(model.summary())\n"
      ],
      "execution_count": null,
      "outputs": [
        {
          "output_type": "stream",
          "text": [
            "Model: \"sequential_2\"\n",
            "_________________________________________________________________\n",
            "Layer (type)                 Output Shape              Param #   \n",
            "=================================================================\n",
            "embedding_2 (Embedding)      (None, 10, 256)           822016    \n",
            "_________________________________________________________________\n",
            "bidirectional_4 (Bidirection (None, 10, 512)           1050624   \n",
            "_________________________________________________________________\n",
            "dropout_2 (Dropout)          (None, 10, 512)           0         \n",
            "_________________________________________________________________\n",
            "bidirectional_5 (Bidirection (None, 256)               656384    \n",
            "_________________________________________________________________\n",
            "dense_4 (Dense)              (None, 128)               32896     \n",
            "_________________________________________________________________\n",
            "dense_5 (Dense)              (None, 3211)              414219    \n",
            "=================================================================\n",
            "Total params: 2,976,139\n",
            "Trainable params: 2,976,139\n",
            "Non-trainable params: 0\n",
            "_________________________________________________________________\n",
            "None\n"
          ],
          "name": "stdout"
        }
      ]
    },
    {
      "cell_type": "code",
      "metadata": {
        "id": "AIg2f1HBxqof",
        "outputId": "efc5c118-d870-44fb-bf98-9815435c32a8",
        "colab": {
          "base_uri": "https://localhost:8080/",
          "height": 1000
        }
      },
      "source": [
        " history = model.fit(predictors, label, epochs=100, verbose=1)"
      ],
      "execution_count": null,
      "outputs": [
        {
          "output_type": "stream",
          "text": [
            "Epoch 1/100\n",
            "484/484 [==============================] - 8s 17ms/step - loss: 7.0561 - accuracy: 0.0228\n",
            "Epoch 2/100\n",
            "484/484 [==============================] - 8s 17ms/step - loss: 6.5230 - accuracy: 0.0222\n",
            "Epoch 3/100\n",
            "484/484 [==============================] - 8s 17ms/step - loss: 6.4244 - accuracy: 0.0240\n",
            "Epoch 4/100\n",
            "484/484 [==============================] - 8s 17ms/step - loss: 6.3294 - accuracy: 0.0277\n",
            "Epoch 5/100\n",
            "484/484 [==============================] - 8s 17ms/step - loss: 6.2337 - accuracy: 0.0298\n",
            "Epoch 6/100\n",
            "484/484 [==============================] - 8s 17ms/step - loss: 6.1618 - accuracy: 0.0322\n",
            "Epoch 7/100\n",
            "484/484 [==============================] - 8s 18ms/step - loss: 6.0965 - accuracy: 0.0389\n",
            "Epoch 8/100\n",
            "484/484 [==============================] - 8s 17ms/step - loss: 6.0405 - accuracy: 0.0392\n",
            "Epoch 9/100\n",
            "484/484 [==============================] - 8s 17ms/step - loss: 5.9797 - accuracy: 0.0438\n",
            "Epoch 10/100\n",
            "484/484 [==============================] - 8s 17ms/step - loss: 5.9239 - accuracy: 0.0464\n",
            "Epoch 11/100\n",
            "484/484 [==============================] - 8s 17ms/step - loss: 5.8614 - accuracy: 0.0480\n",
            "Epoch 12/100\n",
            "484/484 [==============================] - 8s 17ms/step - loss: 5.7936 - accuracy: 0.0531\n",
            "Epoch 13/100\n",
            "484/484 [==============================] - 9s 18ms/step - loss: 5.7215 - accuracy: 0.0567\n",
            "Epoch 14/100\n",
            "484/484 [==============================] - 8s 17ms/step - loss: 5.6570 - accuracy: 0.0591\n",
            "Epoch 15/100\n",
            "484/484 [==============================] - 8s 17ms/step - loss: 5.5908 - accuracy: 0.0622\n",
            "Epoch 16/100\n",
            "484/484 [==============================] - 9s 18ms/step - loss: 5.5252 - accuracy: 0.0649\n",
            "Epoch 17/100\n",
            "484/484 [==============================] - 8s 17ms/step - loss: 5.4573 - accuracy: 0.0687\n",
            "Epoch 18/100\n",
            "484/484 [==============================] - 8s 17ms/step - loss: 5.4017 - accuracy: 0.0720\n",
            "Epoch 19/100\n",
            "484/484 [==============================] - 8s 17ms/step - loss: 5.3375 - accuracy: 0.0757\n",
            "Epoch 20/100\n",
            "484/484 [==============================] - 8s 17ms/step - loss: 5.2784 - accuracy: 0.0799\n",
            "Epoch 21/100\n",
            "484/484 [==============================] - 8s 17ms/step - loss: 5.2136 - accuracy: 0.0863\n",
            "Epoch 22/100\n",
            "484/484 [==============================] - 8s 17ms/step - loss: 5.1586 - accuracy: 0.0907\n",
            "Epoch 23/100\n",
            "484/484 [==============================] - 8s 17ms/step - loss: 5.0885 - accuracy: 0.0925\n",
            "Epoch 24/100\n",
            "484/484 [==============================] - 8s 17ms/step - loss: 5.0307 - accuracy: 0.1001\n",
            "Epoch 25/100\n",
            "484/484 [==============================] - 9s 18ms/step - loss: 4.9654 - accuracy: 0.1065\n",
            "Epoch 26/100\n",
            "484/484 [==============================] - 8s 17ms/step - loss: 4.9027 - accuracy: 0.1132\n",
            "Epoch 27/100\n",
            "484/484 [==============================] - 8s 17ms/step - loss: 4.8500 - accuracy: 0.1165\n",
            "Epoch 28/100\n",
            "484/484 [==============================] - 8s 17ms/step - loss: 4.7831 - accuracy: 0.1267\n",
            "Epoch 29/100\n",
            "484/484 [==============================] - 9s 18ms/step - loss: 4.7139 - accuracy: 0.1332\n",
            "Epoch 30/100\n",
            "484/484 [==============================] - 8s 17ms/step - loss: 4.6455 - accuracy: 0.1400\n",
            "Epoch 31/100\n",
            "484/484 [==============================] - 8s 17ms/step - loss: 4.5839 - accuracy: 0.1465\n",
            "Epoch 32/100\n",
            "484/484 [==============================] - 8s 17ms/step - loss: 4.5345 - accuracy: 0.1528\n",
            "Epoch 33/100\n",
            "484/484 [==============================] - 8s 17ms/step - loss: 4.4604 - accuracy: 0.1601\n",
            "Epoch 34/100\n",
            "484/484 [==============================] - 8s 17ms/step - loss: 4.3931 - accuracy: 0.1693\n",
            "Epoch 35/100\n",
            "484/484 [==============================] - 8s 17ms/step - loss: 4.3387 - accuracy: 0.1765\n",
            "Epoch 36/100\n",
            "484/484 [==============================] - 8s 17ms/step - loss: 4.2746 - accuracy: 0.1821\n",
            "Epoch 37/100\n",
            "484/484 [==============================] - 8s 17ms/step - loss: 4.2214 - accuracy: 0.1852\n",
            "Epoch 38/100\n",
            "484/484 [==============================] - 8s 17ms/step - loss: 4.1574 - accuracy: 0.1965\n",
            "Epoch 39/100\n",
            "484/484 [==============================] - 8s 17ms/step - loss: 4.1136 - accuracy: 0.2020\n",
            "Epoch 40/100\n",
            "484/484 [==============================] - 9s 18ms/step - loss: 4.0566 - accuracy: 0.2093\n",
            "Epoch 41/100\n",
            "484/484 [==============================] - 8s 17ms/step - loss: 3.9919 - accuracy: 0.2202\n",
            "Epoch 42/100\n",
            "484/484 [==============================] - 8s 17ms/step - loss: 3.9412 - accuracy: 0.2227\n",
            "Epoch 43/100\n",
            "484/484 [==============================] - 8s 17ms/step - loss: 3.8727 - accuracy: 0.2341\n",
            "Epoch 44/100\n",
            "484/484 [==============================] - 8s 17ms/step - loss: 3.8171 - accuracy: 0.2452\n",
            "Epoch 45/100\n",
            "484/484 [==============================] - 8s 17ms/step - loss: 3.7714 - accuracy: 0.2497\n",
            "Epoch 46/100\n",
            "484/484 [==============================] - 8s 17ms/step - loss: 3.7596 - accuracy: 0.2496\n",
            "Epoch 47/100\n",
            "484/484 [==============================] - 9s 18ms/step - loss: 3.6931 - accuracy: 0.2638\n",
            "Epoch 48/100\n",
            "484/484 [==============================] - 8s 17ms/step - loss: 3.6290 - accuracy: 0.2759\n",
            "Epoch 49/100\n",
            "484/484 [==============================] - 8s 17ms/step - loss: 3.5759 - accuracy: 0.2824\n",
            "Epoch 50/100\n",
            "484/484 [==============================] - 8s 17ms/step - loss: 3.5213 - accuracy: 0.2924\n",
            "Epoch 51/100\n",
            "484/484 [==============================] - 8s 17ms/step - loss: 3.4792 - accuracy: 0.2996\n",
            "Epoch 52/100\n",
            "484/484 [==============================] - 8s 17ms/step - loss: 3.4284 - accuracy: 0.3106\n",
            "Epoch 53/100\n",
            "484/484 [==============================] - 9s 18ms/step - loss: 3.3823 - accuracy: 0.3170\n",
            "Epoch 54/100\n",
            "484/484 [==============================] - 8s 17ms/step - loss: 3.3452 - accuracy: 0.3242\n",
            "Epoch 55/100\n",
            "484/484 [==============================] - 8s 17ms/step - loss: 3.3007 - accuracy: 0.3353\n",
            "Epoch 56/100\n",
            "484/484 [==============================] - 8s 17ms/step - loss: 3.2356 - accuracy: 0.3469\n",
            "Epoch 57/100\n",
            "484/484 [==============================] - 8s 17ms/step - loss: 3.1936 - accuracy: 0.3578\n",
            "Epoch 58/100\n",
            "484/484 [==============================] - 8s 17ms/step - loss: 3.1685 - accuracy: 0.3586\n",
            "Epoch 59/100\n",
            "484/484 [==============================] - 8s 17ms/step - loss: 3.1096 - accuracy: 0.3723\n",
            "Epoch 60/100\n",
            "484/484 [==============================] - 8s 17ms/step - loss: 3.0686 - accuracy: 0.3829\n",
            "Epoch 61/100\n",
            "484/484 [==============================] - 8s 17ms/step - loss: 3.0282 - accuracy: 0.3887\n",
            "Epoch 62/100\n",
            "484/484 [==============================] - 8s 17ms/step - loss: 2.9764 - accuracy: 0.3970\n",
            "Epoch 63/100\n",
            "484/484 [==============================] - 8s 17ms/step - loss: 2.9542 - accuracy: 0.4039\n",
            "Epoch 64/100\n",
            "484/484 [==============================] - 8s 17ms/step - loss: 2.8939 - accuracy: 0.4184\n",
            "Epoch 65/100\n",
            "484/484 [==============================] - 8s 17ms/step - loss: 2.8616 - accuracy: 0.4265\n",
            "Epoch 66/100\n",
            "484/484 [==============================] - 9s 18ms/step - loss: 2.8176 - accuracy: 0.4361\n",
            "Epoch 67/100\n",
            "484/484 [==============================] - 8s 17ms/step - loss: 2.7793 - accuracy: 0.4429\n",
            "Epoch 68/100\n",
            "484/484 [==============================] - 8s 17ms/step - loss: 2.7391 - accuracy: 0.4472\n",
            "Epoch 69/100\n",
            "484/484 [==============================] - 8s 17ms/step - loss: 2.6833 - accuracy: 0.4651\n",
            "Epoch 70/100\n",
            "484/484 [==============================] - 8s 17ms/step - loss: 2.6585 - accuracy: 0.4677\n",
            "Epoch 71/100\n",
            "484/484 [==============================] - 8s 17ms/step - loss: 2.6372 - accuracy: 0.4715\n",
            "Epoch 72/100\n",
            "484/484 [==============================] - 8s 17ms/step - loss: 2.5901 - accuracy: 0.4843\n",
            "Epoch 73/100\n",
            "484/484 [==============================] - 8s 17ms/step - loss: 2.5424 - accuracy: 0.4963\n",
            "Epoch 74/100\n",
            "484/484 [==============================] - 8s 17ms/step - loss: 2.5070 - accuracy: 0.5043\n",
            "Epoch 75/100\n",
            "484/484 [==============================] - 8s 17ms/step - loss: 2.4718 - accuracy: 0.5145\n",
            "Epoch 76/100\n",
            "484/484 [==============================] - 8s 17ms/step - loss: 2.4376 - accuracy: 0.5184\n",
            "Epoch 77/100\n",
            "484/484 [==============================] - 8s 17ms/step - loss: 2.4314 - accuracy: 0.5271\n",
            "Epoch 78/100\n",
            "484/484 [==============================] - 8s 17ms/step - loss: 2.3867 - accuracy: 0.5340\n",
            "Epoch 79/100\n",
            "484/484 [==============================] - 8s 17ms/step - loss: 2.3925 - accuracy: 0.5350\n",
            "Epoch 80/100\n",
            "484/484 [==============================] - 8s 17ms/step - loss: 2.3388 - accuracy: 0.5451\n",
            "Epoch 81/100\n",
            "484/484 [==============================] - 8s 17ms/step - loss: 2.2947 - accuracy: 0.5572\n",
            "Epoch 82/100\n",
            "484/484 [==============================] - 8s 17ms/step - loss: 2.2569 - accuracy: 0.5658\n",
            "Epoch 83/100\n",
            "484/484 [==============================] - 8s 17ms/step - loss: 2.2101 - accuracy: 0.5756\n",
            "Epoch 84/100\n",
            "484/484 [==============================] - 8s 17ms/step - loss: 2.1884 - accuracy: 0.5816\n",
            "Epoch 85/100\n",
            "484/484 [==============================] - 8s 17ms/step - loss: 2.1578 - accuracy: 0.5898\n",
            "Epoch 86/100\n",
            "484/484 [==============================] - 8s 17ms/step - loss: 2.1378 - accuracy: 0.5969\n",
            "Epoch 87/100\n",
            "484/484 [==============================] - 8s 17ms/step - loss: 2.1265 - accuracy: 0.5970\n",
            "Epoch 88/100\n",
            "484/484 [==============================] - 8s 17ms/step - loss: 2.0611 - accuracy: 0.6123\n",
            "Epoch 89/100\n",
            "484/484 [==============================] - 9s 18ms/step - loss: 2.0379 - accuracy: 0.6180\n",
            "Epoch 90/100\n",
            "484/484 [==============================] - 8s 17ms/step - loss: 2.0511 - accuracy: 0.6142\n",
            "Epoch 91/100\n",
            "484/484 [==============================] - 8s 17ms/step - loss: 2.0021 - accuracy: 0.6249\n",
            "Epoch 92/100\n",
            "484/484 [==============================] - 8s 17ms/step - loss: 1.9775 - accuracy: 0.6319\n",
            "Epoch 93/100\n",
            "484/484 [==============================] - 8s 17ms/step - loss: 1.9411 - accuracy: 0.6403\n",
            "Epoch 94/100\n",
            "484/484 [==============================] - 8s 17ms/step - loss: 1.9213 - accuracy: 0.6413\n",
            "Epoch 95/100\n",
            "484/484 [==============================] - 8s 17ms/step - loss: 1.8780 - accuracy: 0.6548\n",
            "Epoch 96/100\n",
            "484/484 [==============================] - 8s 17ms/step - loss: 1.8589 - accuracy: 0.6588\n",
            "Epoch 97/100\n",
            "484/484 [==============================] - 8s 17ms/step - loss: 1.8368 - accuracy: 0.6649\n",
            "Epoch 98/100\n",
            "484/484 [==============================] - 8s 17ms/step - loss: 1.8207 - accuracy: 0.6711\n",
            "Epoch 99/100\n",
            "484/484 [==============================] - 8s 17ms/step - loss: 1.8099 - accuracy: 0.6671\n",
            "Epoch 100/100\n",
            "484/484 [==============================] - 8s 17ms/step - loss: 1.7830 - accuracy: 0.6767\n"
          ],
          "name": "stdout"
        }
      ]
    },
    {
      "cell_type": "code",
      "metadata": {
        "id": "1fXTEO3GJ282",
        "outputId": "98507e69-5930-4df6-e36a-42bc8985f8fd",
        "colab": {
          "base_uri": "https://localhost:8080/",
          "height": 545
        }
      },
      "source": [
        "import matplotlib.pyplot as plt\n",
        "acc = history.history['accuracy']\n",
        "loss = history.history['loss']\n",
        "\n",
        "epochs = range(len(acc))\n",
        "\n",
        "plt.plot(epochs, acc, 'b', label='Training accuracy')\n",
        "plt.title('Training accuracy')\n",
        "\n",
        "plt.figure()\n",
        "\n",
        "plt.plot(epochs, loss, 'b', label='Training Loss')\n",
        "plt.title('Training loss')\n",
        "plt.legend()\n",
        "\n",
        "plt.show()"
      ],
      "execution_count": null,
      "outputs": [
        {
          "output_type": "display_data",
          "data": {
            "image/png": "[encoded data removed]",
            "text/plain": [
              "<Figure size 432x288 with 1 Axes>"
            ]
          },
          "metadata": {
            "tags": [],
            "needs_background": "light"
          }
        },
        {
          "output_type": "display_data",
          "data": {
            "image/png": "[encoded data removed]",
            "text/plain": [
              "<Figure size 432x288 with 1 Axes>"
            ]
          },
          "metadata": {
            "tags": [],
            "needs_background": "light"
          }
        }
      ]
    },
    {
      "cell_type": "code",
      "metadata": {
        "id": "6Vc6PHgxa6Hm",
        "outputId": "707aeb6f-4725-4cf5-d82f-fe58eaa6b614",
        "colab": {
          "base_uri": "https://localhost:8080/",
          "height": 105
        }
      },
      "source": [
        "seed_text = \"Help me Obi Wan Kenobi, you're my only hope\"\n",
        "next_words = 100\n",
        "  \n",
        "for _ in range(next_words):\n",
        "\ttoken_list = tokenizer.texts_to_sequences([seed_text])[0]\n",
        "\ttoken_list = pad_sequences([token_list], maxlen=max_sequence_len-1, padding='pre')\n",
        "\tpredicted = model.predict_classes(token_list, verbose=0)\n",
        "\toutput_word = \"\"\n",
        "\tfor word, index in tokenizer.word_index.items():\n",
        "\t\tif index == predicted:\n",
        "\t\t\toutput_word = word\n",
        "\t\t\tbreak\n",
        "\tseed_text += \" \" + output_word\n",
        "print(seed_text)"
      ],
      "execution_count": null,
      "outputs": [
        {
          "output_type": "stream",
          "text": [
            "WARNING:tensorflow:From <ipython-input-13-622d307fa19a>:7: Sequential.predict_classes (from tensorflow.python.keras.engine.sequential) is deprecated and will be removed after 2021-01-01.\n",
            "Instructions for updating:\n",
            "Please use instead:* `np.argmax(model.predict(x), axis=-1)`,   if your model does multi-class classification   (e.g. if it uses a `softmax` last-layer activation).* `(model.predict(x) > 0.5).astype(\"int32\")`,   if your model does binary classification   (e.g. if it uses a `sigmoid` last-layer activation).\n",
            "Help me Obi Wan Kenobi, you're my only hope a man by curse in youth again on live good antique moan with youth with lease of most truth on woe ' cold muse though spent ten delight fled fitted pride quite gone to change i grow on young new set erred appetite in less pride still stay my deeds to view more gone to you not fire grow year from thee now told thou viewest ill last forbear with woe words up steal loving blood or errors weed broke with though crown'd with every hide not dwell in masonry day cold muse ' chide thee bear your wit out\n"
          ],
          "name": "stdout"
        }
      ]
    }
  ]
}