{
  "nbformat": 4,
  "nbformat_minor": 0,
  "metadata": {
    "colab": {
      "name": "Lesson3.ipynb",
      "provenance": [],
      "authorship_tag": "ABX9TyPB1GQB/pJ/cGgnCI8JdoB6",
      "include_colab_link": true
    },
    "kernelspec": {
      "name": "python3",
      "display_name": "Python 3"
    }
  },
  "cells": [
    {
      "cell_type": "markdown",
      "metadata": {
        "id": "view-in-github",
        "colab_type": "text"
      },
      "source": [
        "<a href=\"https://colab.research.google.com/github/sumanyurosha/tensorflow-specialization/blob/master/Course3/Week1/Lesson3.ipynb\" target=\"_parent\"><img src=\"https://colab.research.google.com/assets/colab-badge.svg\" alt=\"Open In Colab\"/></a>"
      ]
    },
    {
      "cell_type": "code",
      "metadata": {
        "id": "1vwfjAq8oauM"
      },
      "source": [
        "from tensorflow.keras.preprocessing.text import Tokenizer\n",
        "from tensorflow.keras.preprocessing.sequence import pad_sequences"
      ],
      "execution_count": 6,
      "outputs": []
    },
    {
      "cell_type": "code",
      "metadata": {
        "id": "-w3DnucTpw6n",
        "outputId": "9ada4f19-3704-44c5-d86b-e7c427dfac6f",
        "colab": {
          "base_uri": "https://localhost:8080/",
          "height": 255
        }
      },
      "source": [
        "sentences = [\n",
        "    \"I love my dog\",\n",
        "    \"i love my cat\",\n",
        "    \"You love my dog!\",\n",
        "    \"Do you think, my dog is amazing?\"\n",
        "]\n",
        "\n",
        "tokenizer = Tokenizer(num_words=100, oov_token=\"<OOV>\")\n",
        "tokenizer.fit_on_texts(sentences)\n",
        "word_index = tokenizer.word_index\n",
        "\n",
        "sequences = tokenizer.texts_to_sequences(sentences)\n",
        "\n",
        "padded = pad_sequences(sequences)\n",
        "\n",
        "print(\"\\nword index = \", word_index)\n",
        "print(\"\\nsequences = \", sequences)\n",
        "print(\"\\npadded sequence = \", padded)\n",
        "\n",
        "test_data = [\n",
        "    \"I really love my dog\",\n",
        "    \"my dog loves my mantee\"\n",
        "]\n",
        "\n",
        "test_sequence = tokenizer.texts_to_sequences(test_data)\n",
        "test_padded = pad_sequences(test_sequence)\n",
        "\n",
        "print(\"\\ntest sequence = \", test_sequence)\n",
        "print(\"\\ntest padded = \", test_padded)"
      ],
      "execution_count": 7,
      "outputs": [
        {
          "output_type": "stream",
          "text": [
            "\n",
            "word index =  {'<OOV>': 1, 'my': 2, 'love': 3, 'dog': 4, 'i': 5, 'you': 6, 'cat': 7, 'do': 8, 'think': 9, 'is': 10, 'amazing': 11}\n",
            "\n",
            "sequences =  [[5, 3, 2, 4], [5, 3, 2, 7], [6, 3, 2, 4], [8, 6, 9, 2, 4, 10, 11]]\n",
            "\n",
            "padded sequence =  [[ 0  0  0  5  3  2  4]\n",
            " [ 0  0  0  5  3  2  7]\n",
            " [ 0  0  0  6  3  2  4]\n",
            " [ 8  6  9  2  4 10 11]]\n",
            "\n",
            "test sequence =  [[5, 1, 3, 2, 4], [2, 4, 1, 2, 1]]\n",
            "\n",
            "test padded =  [[5 1 3 2 4]\n",
            " [2 4 1 2 1]]\n"
          ],
          "name": "stdout"
        }
      ]
    },
    {
      "cell_type": "code",
      "metadata": {
        "id": "PvmfwAVZp0Ba"
      },
      "source": [
        ""
      ],
      "execution_count": null,
      "outputs": []
    }
  ]
}