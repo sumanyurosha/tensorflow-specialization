{
  "nbformat": 4,
  "nbformat_minor": 0,
  "metadata": {
    "accelerator": "GPU",
    "colab": {
      "name": "Course 3 - Week 4 - Lesson 2 - Notebook.ipynb",
      "provenance": [],
      "collapsed_sections": [],
      "include_colab_link": true
    },
    "kernelspec": {
      "display_name": "Python 3",
      "name": "python3"
    }
  },
  "cells": [
    {
      "cell_type": "markdown",
      "metadata": {
        "id": "view-in-github",
        "colab_type": "text"
      },
      "source": [
        "<a href=\"https://colab.research.google.com/github/sumanyurosha/tensorflow-specialization/blob/master/Course3/Practice/Week_4_Lesson_2_Notebook.ipynb\" target=\"_parent\"><img src=\"https://colab.research.google.com/assets/colab-badge.svg\" alt=\"Open In Colab\"/></a>"
      ]
    },
    {
      "cell_type": "code",
      "metadata": {
        "id": "zX4Kg8DUTKWO"
      },
      "source": [
        "#@title Licensed under the Apache License, Version 2.0 (the \"License\");\n",
        "# you may not use this file except in compliance with the License.\n",
        "# You may obtain a copy of the License at\n",
        "#\n",
        "# https://www.apache.org/licenses/LICENSE-2.0\n",
        "#\n",
        "# Unless required by applicable law or agreed to in writing, software\n",
        "# distributed under the License is distributed on an \"AS IS\" BASIS,\n",
        "# WITHOUT WARRANTIES OR CONDITIONS OF ANY KIND, either express or implied.\n",
        "# See the License for the specific language governing permissions and\n",
        "# limitations under the License."
      ],
      "execution_count": null,
      "outputs": []
    },
    {
      "cell_type": "code",
      "metadata": {
        "id": "BOwsuGQQY9OL"
      },
      "source": [
        "import tensorflow as tf\n",
        "\n",
        "from tensorflow.keras.preprocessing.sequence import pad_sequences\n",
        "from tensorflow.keras.layers import Embedding, LSTM, Dense, Bidirectional\n",
        "from tensorflow.keras.preprocessing.text import Tokenizer\n",
        "from tensorflow.keras.models import Sequential\n",
        "from tensorflow.keras.optimizers import Adam\n",
        "import numpy as np "
      ],
      "execution_count": 1,
      "outputs": []
    },
    {
      "cell_type": "code",
      "metadata": {
        "colab": {
          "base_uri": "https://localhost:8080/"
        },
        "id": "wND1abfS_dVZ",
        "outputId": "4b4a8628-1e70-4e18-ac38-ad93d1cf56d3"
      },
      "source": [
        "!wget --no-check-certificate \\\r\n",
        "    https://storage.googleapis.com/laurencemoroney-blog.appspot.com/irish-lyrics-eof.txt \\\r\n",
        "    -O /tmp/irish-lyrics-eof.txt"
      ],
      "execution_count": 16,
      "outputs": [
        {
          "output_type": "stream",
          "text": [
            "--2020-12-27 16:18:06--  https://storage.googleapis.com/laurencemoroney-blog.appspot.com/irish-lyrics-eof.txt\n",
            "Resolving storage.googleapis.com (storage.googleapis.com)... 108.177.120.128, 142.250.128.128, 173.194.195.128, ...\n",
            "Connecting to storage.googleapis.com (storage.googleapis.com)|108.177.120.128|:443... connected.\n",
            "HTTP request sent, awaiting response... 200 OK\n",
            "Length: 68970 (67K) [text/plain]\n",
            "Saving to: ‘/tmp/irish-lyrics-eof.txt’\n",
            "\n",
            "\r          /tmp/iris   0%[                    ]       0  --.-KB/s               \r/tmp/irish-lyrics-e 100%[===================>]  67.35K  --.-KB/s    in 0.001s  \n",
            "\n",
            "2020-12-27 16:18:06 (109 MB/s) - ‘/tmp/irish-lyrics-eof.txt’ saved [68970/68970]\n",
            "\n"
          ],
          "name": "stdout"
        }
      ]
    },
    {
      "cell_type": "code",
      "metadata": {
        "id": "PNWhzL8y_ijg"
      },
      "source": [
        "data = open(\"/tmp/irish-lyrics-eof.txt\").read()\r\n",
        "corpus = data.lower().split(\"\\n\")"
      ],
      "execution_count": 17,
      "outputs": []
    },
    {
      "cell_type": "code",
      "metadata": {
        "id": "PRnDnCW-Z7qv",
        "colab": {
          "base_uri": "https://localhost:8080/"
        },
        "outputId": "31a7ae0d-8fba-48b6-8398-cf9a07087646"
      },
      "source": [
        "tokenizer = Tokenizer()\n",
        "\n",
        "tokenizer.fit_on_texts(corpus)\n",
        "total_words = len(tokenizer.word_index) + 1\n",
        "\n",
        "# print(tokenizer.word_index)\n",
        "print(total_words)\n"
      ],
      "execution_count": 18,
      "outputs": [
        {
          "output_type": "stream",
          "text": [
            "2690\n"
          ],
          "name": "stdout"
        }
      ]
    },
    {
      "cell_type": "code",
      "metadata": {
        "id": "soPGVheskaQP"
      },
      "source": [
        "input_sequences = []\n",
        "\n",
        "for line in corpus:\n",
        "    token_list = tokenizer.texts_to_sequences([line])[0]\n",
        "    for i in range(1, len(token_list)):\n",
        "        n_gram_sequence = token_list[:i+1]\n",
        "        input_sequences.append(n_gram_sequence)\n",
        "\n",
        "# padding sequences\n",
        "max_length = max([len(x) for x in input_sequences])\n",
        "padded_sequences = np.array(pad_sequences(input_sequences, maxlen=max_length, padding=\"pre\"))\n",
        "\n",
        "# making inputs and outputs for our dataset\n",
        "xs, labels = padded_sequences[:, :-1], padded_sequences[:, -1]\n",
        "\n",
        "ys = tf.keras.utils.to_categorical(labels, num_classes=total_words)"
      ],
      "execution_count": 19,
      "outputs": []
    },
    {
      "cell_type": "code",
      "metadata": {
        "id": "pJtwVB2NbOAP",
        "colab": {
          "base_uri": "https://localhost:8080/"
        },
        "outputId": "ce501d02-059f-47ba-ce8a-bd23a47793b0"
      },
      "source": [
        "print(tokenizer.word_index['in'])\n",
        "print(tokenizer.word_index['the'])\n",
        "print(tokenizer.word_index['town'])\n",
        "print(tokenizer.word_index['of'])\n",
        "print(tokenizer.word_index['athy'])\n",
        "print(tokenizer.word_index['one'])\n",
        "print(tokenizer.word_index['jeremy'])\n",
        "print(tokenizer.word_index['lanigan'])"
      ],
      "execution_count": 20,
      "outputs": [
        {
          "output_type": "stream",
          "text": [
            "8\n",
            "1\n",
            "71\n",
            "6\n",
            "713\n",
            "39\n",
            "1790\n",
            "1791\n"
          ],
          "name": "stdout"
        }
      ]
    },
    {
      "cell_type": "code",
      "metadata": {
        "id": "49Cv68JOakwv",
        "colab": {
          "base_uri": "https://localhost:8080/"
        },
        "outputId": "8b5e1a6d-875f-43d0-ea76-e1638d00c0c7"
      },
      "source": [
        "print(xs[6])"
      ],
      "execution_count": 21,
      "outputs": [
        {
          "output_type": "stream",
          "text": [
            "[0 0 0 0 0 0 0 0 0 0 0 0 0 0 2]\n"
          ],
          "name": "stdout"
        }
      ]
    },
    {
      "cell_type": "code",
      "metadata": {
        "id": "iY-jwvfgbEF8",
        "colab": {
          "base_uri": "https://localhost:8080/"
        },
        "outputId": "cdb13e8b-c999-449c-fe21-0c0fb4f78194"
      },
      "source": [
        "print(ys[6])"
      ],
      "execution_count": 22,
      "outputs": [
        {
          "output_type": "stream",
          "text": [
            "[0. 0. 0. ... 0. 0. 0.]\n"
          ],
          "name": "stdout"
        }
      ]
    },
    {
      "cell_type": "code",
      "metadata": {
        "id": "wtzlUMYadhKt",
        "colab": {
          "base_uri": "https://localhost:8080/"
        },
        "outputId": "baab5cb3-886e-42ad-9384-619e3200ce8c"
      },
      "source": [
        "print(xs[5])\n",
        "print(ys[5])"
      ],
      "execution_count": 23,
      "outputs": [
        {
          "output_type": "stream",
          "text": [
            "[   0    0    0    0    0    0    0    0    0   51   12   96 1217   48\n",
            "    2]\n",
            "[0. 0. 0. ... 0. 0. 0.]\n"
          ],
          "name": "stdout"
        }
      ]
    },
    {
      "cell_type": "code",
      "metadata": {
        "id": "H4myRpB1c4Gg"
      },
      "source": [
        "# print(tokenizer.word_index)"
      ],
      "execution_count": null,
      "outputs": []
    },
    {
      "cell_type": "code",
      "metadata": {
        "id": "w9vH8Y59ajYL",
        "colab": {
          "base_uri": "https://localhost:8080/"
        },
        "outputId": "9facb46e-19a9-4acc-b03d-f9c503d36052"
      },
      "source": [
        "# define your model\n",
        "model = Sequential()\n",
        "model.add(Embedding(total_words, 100, input_length=max_length-1))\n",
        "model.add(Bidirectional(LSTM(150)))\n",
        "model.add(Dense(total_words, activation=\"softmax\"))\n",
        "\n",
        "model.compile(loss=\"categorical_crossentropy\", optimizer=\"adam\", metrics=[\"accuracy\"])\n",
        "\n",
        "history = model.fit(xs, ys, epochs=100, verbose=1)"
      ],
      "execution_count": 24,
      "outputs": [
        {
          "output_type": "stream",
          "text": [
            "Epoch 1/100\n",
            "377/377 [==============================] - 6s 11ms/step - loss: 6.9916 - accuracy: 0.0576\n",
            "Epoch 2/100\n",
            "377/377 [==============================] - 4s 11ms/step - loss: 6.2371 - accuracy: 0.0744\n",
            "Epoch 3/100\n",
            "377/377 [==============================] - 4s 11ms/step - loss: 5.9847 - accuracy: 0.0787\n",
            "Epoch 4/100\n",
            "377/377 [==============================] - 4s 11ms/step - loss: 5.7150 - accuracy: 0.0930\n",
            "Epoch 5/100\n",
            "377/377 [==============================] - 4s 11ms/step - loss: 5.2890 - accuracy: 0.1142\n",
            "Epoch 6/100\n",
            "377/377 [==============================] - 4s 10ms/step - loss: 4.9050 - accuracy: 0.1339\n",
            "Epoch 7/100\n",
            "377/377 [==============================] - 4s 11ms/step - loss: 4.4367 - accuracy: 0.1696\n",
            "Epoch 8/100\n",
            "377/377 [==============================] - 4s 11ms/step - loss: 4.0323 - accuracy: 0.2074\n",
            "Epoch 9/100\n",
            "377/377 [==============================] - 4s 11ms/step - loss: 3.6239 - accuracy: 0.2624\n",
            "Epoch 10/100\n",
            "377/377 [==============================] - 4s 11ms/step - loss: 3.2342 - accuracy: 0.3294\n",
            "Epoch 11/100\n",
            "377/377 [==============================] - 4s 11ms/step - loss: 2.8958 - accuracy: 0.3943\n",
            "Epoch 12/100\n",
            "377/377 [==============================] - 4s 11ms/step - loss: 2.6090 - accuracy: 0.4545\n",
            "Epoch 13/100\n",
            "377/377 [==============================] - 4s 11ms/step - loss: 2.3497 - accuracy: 0.4990\n",
            "Epoch 14/100\n",
            "377/377 [==============================] - 4s 11ms/step - loss: 2.0980 - accuracy: 0.5571\n",
            "Epoch 15/100\n",
            "377/377 [==============================] - 4s 11ms/step - loss: 1.8915 - accuracy: 0.5975\n",
            "Epoch 16/100\n",
            "377/377 [==============================] - 4s 10ms/step - loss: 1.7275 - accuracy: 0.6342\n",
            "Epoch 17/100\n",
            "377/377 [==============================] - 4s 11ms/step - loss: 1.5601 - accuracy: 0.6713\n",
            "Epoch 18/100\n",
            "377/377 [==============================] - 4s 10ms/step - loss: 1.4396 - accuracy: 0.6945\n",
            "Epoch 19/100\n",
            "377/377 [==============================] - 4s 11ms/step - loss: 1.2937 - accuracy: 0.7306\n",
            "Epoch 20/100\n",
            "377/377 [==============================] - 4s 10ms/step - loss: 1.2055 - accuracy: 0.7484\n",
            "Epoch 21/100\n",
            "377/377 [==============================] - 4s 10ms/step - loss: 1.1056 - accuracy: 0.7689\n",
            "Epoch 22/100\n",
            "377/377 [==============================] - 4s 10ms/step - loss: 1.0233 - accuracy: 0.7823\n",
            "Epoch 23/100\n",
            "377/377 [==============================] - 4s 11ms/step - loss: 0.9564 - accuracy: 0.7977\n",
            "Epoch 24/100\n",
            "377/377 [==============================] - 4s 11ms/step - loss: 0.8808 - accuracy: 0.8145\n",
            "Epoch 25/100\n",
            "377/377 [==============================] - 4s 12ms/step - loss: 0.8324 - accuracy: 0.8225\n",
            "Epoch 26/100\n",
            "377/377 [==============================] - 4s 10ms/step - loss: 0.7989 - accuracy: 0.8268\n",
            "Epoch 27/100\n",
            "377/377 [==============================] - 4s 10ms/step - loss: 0.7164 - accuracy: 0.8360\n",
            "Epoch 28/100\n",
            "377/377 [==============================] - 4s 10ms/step - loss: 0.6970 - accuracy: 0.8418\n",
            "Epoch 29/100\n",
            "377/377 [==============================] - 4s 10ms/step - loss: 0.6887 - accuracy: 0.8425\n",
            "Epoch 30/100\n",
            "377/377 [==============================] - 4s 11ms/step - loss: 0.6476 - accuracy: 0.8470\n",
            "Epoch 31/100\n",
            "377/377 [==============================] - 4s 11ms/step - loss: 0.6292 - accuracy: 0.8491\n",
            "Epoch 32/100\n",
            "377/377 [==============================] - 4s 11ms/step - loss: 0.6206 - accuracy: 0.8478\n",
            "Epoch 33/100\n",
            "377/377 [==============================] - 4s 11ms/step - loss: 0.6200 - accuracy: 0.8450\n",
            "Epoch 34/100\n",
            "377/377 [==============================] - 4s 11ms/step - loss: 0.6062 - accuracy: 0.8507\n",
            "Epoch 35/100\n",
            "377/377 [==============================] - 4s 11ms/step - loss: 0.5744 - accuracy: 0.8573\n",
            "Epoch 36/100\n",
            "377/377 [==============================] - 4s 10ms/step - loss: 0.5674 - accuracy: 0.8539\n",
            "Epoch 37/100\n",
            "377/377 [==============================] - 4s 10ms/step - loss: 0.5759 - accuracy: 0.8536\n",
            "Epoch 38/100\n",
            "377/377 [==============================] - 4s 11ms/step - loss: 0.5685 - accuracy: 0.8551\n",
            "Epoch 39/100\n",
            "377/377 [==============================] - 4s 10ms/step - loss: 0.5528 - accuracy: 0.8527\n",
            "Epoch 40/100\n",
            "377/377 [==============================] - 4s 10ms/step - loss: 0.5552 - accuracy: 0.8523\n",
            "Epoch 41/100\n",
            "377/377 [==============================] - 4s 11ms/step - loss: 0.5268 - accuracy: 0.8577\n",
            "Epoch 42/100\n",
            "377/377 [==============================] - 4s 11ms/step - loss: 0.5175 - accuracy: 0.8582\n",
            "Epoch 43/100\n",
            "377/377 [==============================] - 4s 10ms/step - loss: 0.5378 - accuracy: 0.8520\n",
            "Epoch 44/100\n",
            "377/377 [==============================] - 4s 11ms/step - loss: 0.5366 - accuracy: 0.8530\n",
            "Epoch 45/100\n",
            "377/377 [==============================] - 4s 10ms/step - loss: 0.5253 - accuracy: 0.8552\n",
            "Epoch 46/100\n",
            "377/377 [==============================] - 4s 11ms/step - loss: 0.5205 - accuracy: 0.8539\n",
            "Epoch 47/100\n",
            "377/377 [==============================] - 4s 11ms/step - loss: 0.5196 - accuracy: 0.8560\n",
            "Epoch 48/100\n",
            "377/377 [==============================] - 4s 11ms/step - loss: 0.5142 - accuracy: 0.8591\n",
            "Epoch 49/100\n",
            "377/377 [==============================] - 4s 11ms/step - loss: 0.5008 - accuracy: 0.8627\n",
            "Epoch 50/100\n",
            "377/377 [==============================] - 4s 11ms/step - loss: 0.4942 - accuracy: 0.8616\n",
            "Epoch 51/100\n",
            "377/377 [==============================] - 4s 11ms/step - loss: 0.5209 - accuracy: 0.8538\n",
            "Epoch 52/100\n",
            "377/377 [==============================] - 4s 11ms/step - loss: 0.4977 - accuracy: 0.8595\n",
            "Epoch 53/100\n",
            "377/377 [==============================] - 4s 11ms/step - loss: 0.5128 - accuracy: 0.8567\n",
            "Epoch 54/100\n",
            "377/377 [==============================] - 4s 10ms/step - loss: 0.5014 - accuracy: 0.8572\n",
            "Epoch 55/100\n",
            "377/377 [==============================] - 4s 10ms/step - loss: 0.5112 - accuracy: 0.8557\n",
            "Epoch 56/100\n",
            "377/377 [==============================] - 4s 11ms/step - loss: 0.4948 - accuracy: 0.8570\n",
            "Epoch 57/100\n",
            "377/377 [==============================] - 4s 11ms/step - loss: 0.5002 - accuracy: 0.8564\n",
            "Epoch 58/100\n",
            "377/377 [==============================] - 4s 11ms/step - loss: 0.4758 - accuracy: 0.8616\n",
            "Epoch 59/100\n",
            "377/377 [==============================] - 4s 11ms/step - loss: 0.4914 - accuracy: 0.8601\n",
            "Epoch 60/100\n",
            "377/377 [==============================] - 4s 11ms/step - loss: 0.4866 - accuracy: 0.8597\n",
            "Epoch 61/100\n",
            "377/377 [==============================] - 4s 11ms/step - loss: 0.4907 - accuracy: 0.8589\n",
            "Epoch 62/100\n",
            "377/377 [==============================] - 4s 11ms/step - loss: 0.4981 - accuracy: 0.8561\n",
            "Epoch 63/100\n",
            "377/377 [==============================] - 4s 10ms/step - loss: 0.4891 - accuracy: 0.8597\n",
            "Epoch 64/100\n",
            "377/377 [==============================] - 4s 10ms/step - loss: 0.4952 - accuracy: 0.8536\n",
            "Epoch 65/100\n",
            "377/377 [==============================] - 4s 11ms/step - loss: 0.4860 - accuracy: 0.8592\n",
            "Epoch 66/100\n",
            "377/377 [==============================] - 4s 11ms/step - loss: 0.4767 - accuracy: 0.8601\n",
            "Epoch 67/100\n",
            "377/377 [==============================] - 4s 10ms/step - loss: 0.4612 - accuracy: 0.8636\n",
            "Epoch 68/100\n",
            "377/377 [==============================] - 4s 11ms/step - loss: 0.4692 - accuracy: 0.8574\n",
            "Epoch 69/100\n",
            "377/377 [==============================] - 4s 11ms/step - loss: 0.4840 - accuracy: 0.8582\n",
            "Epoch 70/100\n",
            "377/377 [==============================] - 4s 10ms/step - loss: 0.5011 - accuracy: 0.8536\n",
            "Epoch 71/100\n",
            "377/377 [==============================] - 4s 11ms/step - loss: 0.4699 - accuracy: 0.8610\n",
            "Epoch 72/100\n",
            "377/377 [==============================] - 4s 10ms/step - loss: 0.4645 - accuracy: 0.8611\n",
            "Epoch 73/100\n",
            "377/377 [==============================] - 4s 10ms/step - loss: 0.4524 - accuracy: 0.8668\n",
            "Epoch 74/100\n",
            "377/377 [==============================] - 4s 11ms/step - loss: 0.4896 - accuracy: 0.8540\n",
            "Epoch 75/100\n",
            "377/377 [==============================] - 4s 11ms/step - loss: 0.4853 - accuracy: 0.8543\n",
            "Epoch 76/100\n",
            "377/377 [==============================] - 4s 11ms/step - loss: 0.4668 - accuracy: 0.8623\n",
            "Epoch 77/100\n",
            "377/377 [==============================] - 4s 11ms/step - loss: 0.4892 - accuracy: 0.8522\n",
            "Epoch 78/100\n",
            "377/377 [==============================] - 4s 10ms/step - loss: 0.4800 - accuracy: 0.8582\n",
            "Epoch 79/100\n",
            "377/377 [==============================] - 4s 10ms/step - loss: 0.4791 - accuracy: 0.8533\n",
            "Epoch 80/100\n",
            "377/377 [==============================] - 4s 11ms/step - loss: 0.4520 - accuracy: 0.8630\n",
            "Epoch 81/100\n",
            "377/377 [==============================] - 4s 11ms/step - loss: 0.5006 - accuracy: 0.8502\n",
            "Epoch 82/100\n",
            "377/377 [==============================] - 4s 10ms/step - loss: 0.4705 - accuracy: 0.8585\n",
            "Epoch 83/100\n",
            "377/377 [==============================] - 4s 11ms/step - loss: 0.4729 - accuracy: 0.8564\n",
            "Epoch 84/100\n",
            "377/377 [==============================] - 4s 11ms/step - loss: 0.4513 - accuracy: 0.8653\n",
            "Epoch 85/100\n",
            "377/377 [==============================] - 4s 11ms/step - loss: 0.4557 - accuracy: 0.8610\n",
            "Epoch 86/100\n",
            "377/377 [==============================] - 4s 11ms/step - loss: 0.4669 - accuracy: 0.8570\n",
            "Epoch 87/100\n",
            "377/377 [==============================] - 4s 11ms/step - loss: 0.4435 - accuracy: 0.8622\n",
            "Epoch 88/100\n",
            "377/377 [==============================] - 4s 11ms/step - loss: 0.4738 - accuracy: 0.8568\n",
            "Epoch 89/100\n",
            "377/377 [==============================] - 4s 11ms/step - loss: 0.4559 - accuracy: 0.8597\n",
            "Epoch 90/100\n",
            "377/377 [==============================] - 4s 10ms/step - loss: 0.4537 - accuracy: 0.8650\n",
            "Epoch 91/100\n",
            "377/377 [==============================] - 4s 10ms/step - loss: 0.4585 - accuracy: 0.8614\n",
            "Epoch 92/100\n",
            "377/377 [==============================] - 4s 11ms/step - loss: 0.4615 - accuracy: 0.8593\n",
            "Epoch 93/100\n",
            "377/377 [==============================] - 4s 11ms/step - loss: 0.4420 - accuracy: 0.8660\n",
            "Epoch 94/100\n",
            "377/377 [==============================] - 4s 11ms/step - loss: 0.4702 - accuracy: 0.8545\n",
            "Epoch 95/100\n",
            "377/377 [==============================] - 4s 11ms/step - loss: 0.4461 - accuracy: 0.8652\n",
            "Epoch 96/100\n",
            "377/377 [==============================] - 4s 11ms/step - loss: 0.4575 - accuracy: 0.8571\n",
            "Epoch 97/100\n",
            "377/377 [==============================] - 4s 11ms/step - loss: 0.4620 - accuracy: 0.8581\n",
            "Epoch 98/100\n",
            "377/377 [==============================] - 4s 11ms/step - loss: 0.4656 - accuracy: 0.8586\n",
            "Epoch 99/100\n",
            "377/377 [==============================] - 4s 11ms/step - loss: 0.4715 - accuracy: 0.8556\n",
            "Epoch 100/100\n",
            "377/377 [==============================] - 4s 11ms/step - loss: 0.4570 - accuracy: 0.8603\n"
          ],
          "name": "stdout"
        }
      ]
    },
    {
      "cell_type": "code",
      "metadata": {
        "id": "3YXGelKThoTT"
      },
      "source": [
        "import matplotlib.pyplot as plt\n",
        "\n",
        "\n",
        "def plot_graphs(history, string):\n",
        "  plt.plot(history.history[string])\n",
        "  plt.xlabel(\"Epochs\")\n",
        "  plt.ylabel(string)\n",
        "  plt.show()"
      ],
      "execution_count": 25,
      "outputs": []
    },
    {
      "cell_type": "code",
      "metadata": {
        "id": "poeprYK8h-c7",
        "colab": {
          "base_uri": "https://localhost:8080/",
          "height": 279
        },
        "outputId": "bf3f0e6c-ed3f-4e6b-fdab-8734eea10b9d"
      },
      "source": [
        "plot_graphs(history, 'accuracy')\n"
      ],
      "execution_count": 26,
      "outputs": [
        {
          "output_type": "display_data",
          "data": {
            "image/png": "[encoded data removed]",
            "text/plain": [
              "<Figure size 432x288 with 1 Axes>"
            ]
          },
          "metadata": {
            "tags": [],
            "needs_background": "light"
          }
        }
      ]
    },
    {
      "cell_type": "code",
      "metadata": {
        "id": "6Vc6PHgxa6Hm",
        "colab": {
          "base_uri": "https://localhost:8080/"
        },
        "outputId": "29a1f5a8-f4ab-415a-bb3d-56cf8ff75d79"
      },
      "source": [
        "seed_text = \"Laurence went to dublin\"\n",
        "next_words = 100\n",
        "\n",
        "for _ in range(next_words):\n",
        "    token_list = tokenizer.texts_to_sequences([seed_text])[0]\n",
        "    token_list = pad_sequences([token_list], maxlen=max_length-1, padding=\"pre\")\n",
        "    predicted = model.predict_classes(token_list)\n",
        "    output_word = \"\"\n",
        "    for word, index in tokenizer.word_index.items():\n",
        "        if predicted == index:\n",
        "            output_word = word\n",
        "            break\n",
        "    seed_text += \" \" + output_word\n",
        "\n",
        "print(seed_text)"
      ],
      "execution_count": 27,
      "outputs": [
        {
          "output_type": "stream",
          "text": [
            "/usr/local/lib/python3.6/dist-packages/tensorflow/python/keras/engine/sequential.py:450: UserWarning: `model.predict_classes()` is deprecated and will be removed after 2021-01-01. Please use instead:* `np.argmax(model.predict(x), axis=-1)`,   if your model does multi-class classification   (e.g. if it uses a `softmax` last-layer activation).* `(model.predict(x) > 0.5).astype(\"int32\")`,   if your model does binary classification   (e.g. if it uses a `sigmoid` last-layer activation).\n",
            "  warnings.warn('`model.predict_classes()` is deprecated and '\n"
          ],
          "name": "stderr"
        },
        {
          "output_type": "stream",
          "text": [
            "Laurence went to dublin and now and i asked her to be love you was and go free friends new mountains still more bloomed in killarney pity in fray loud loving boreen other and tree doesnt sat me and down to wild ive warm corporal casey the led prince tree of blarney at fray all summers tree of a fever died died very blarney chop brian play down to the sea is right had they had best and i was a hobble in your eye ever beaming hearted friends for tears for dont until them from fray here until goblins meself youll see me\n"
          ],
          "name": "stdout"
        }
      ]
    },
    {
      "cell_type": "code",
      "metadata": {
        "id": "TWjK_EN2-oyJ"
      },
      "source": [
        ""
      ],
      "execution_count": null,
      "outputs": []
    }
  ]
}