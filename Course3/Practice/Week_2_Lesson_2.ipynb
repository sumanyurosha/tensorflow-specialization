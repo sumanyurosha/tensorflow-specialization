{
  "nbformat": 4,
  "nbformat_minor": 0,
  "metadata": {
    "accelerator": "GPU",
    "colab": {
      "name": "Course 3 - Week 2 - Lesson 2.ipynb",
      "provenance": [],
      "collapsed_sections": [],
      "include_colab_link": true
    },
    "kernelspec": {
      "display_name": "Python 3",
      "name": "python3"
    }
  },
  "cells": [
    {
      "cell_type": "markdown",
      "metadata": {
        "id": "view-in-github",
        "colab_type": "text"
      },
      "source": [
        "<a href=\"https://colab.research.google.com/github/sumanyurosha/tensorflow-specialization/blob/master/Course3/Practice/Week_2_Lesson_2.ipynb\" target=\"_parent\"><img src=\"https://colab.research.google.com/assets/colab-badge.svg\" alt=\"Open In Colab\"/></a>"
      ]
    },
    {
      "cell_type": "code",
      "metadata": {
        "id": "zX4Kg8DUTKWO"
      },
      "source": [
        "#@title Licensed under the Apache License, Version 2.0 (the \"License\");\n",
        "# you may not use this file except in compliance with the License.\n",
        "# You may obtain a copy of the License at\n",
        "#\n",
        "# https://www.apache.org/licenses/LICENSE-2.0\n",
        "#\n",
        "# Unless required by applicable law or agreed to in writing, software\n",
        "# distributed under the License is distributed on an \"AS IS\" BASIS,\n",
        "# WITHOUT WARRANTIES OR CONDITIONS OF ANY KIND, either express or implied.\n",
        "# See the License for the specific language governing permissions and\n",
        "# limitations under the License."
      ],
      "execution_count": null,
      "outputs": []
    },
    {
      "cell_type": "markdown",
      "metadata": {
        "id": "view-in-github"
      },
      "source": [
        "<a href=\"https://colab.research.google.com/github/lmoroney/dlaicourse/blob/master/TensorFlow%20In%20Practice/Course%203%20-%20NLP/Course%203%20-%20Week%202%20-%20Lesson%202.ipynb\" target=\"_parent\"><img src=\"https://colab.research.google.com/assets/colab-badge.svg\" alt=\"Open In Colab\"/></a>"
      ]
    },
    {
      "cell_type": "code",
      "metadata": {
        "id": "4gs9htvM7n_x"
      },
      "source": [
        "# Run this to ensure TensorFlow 2.x is used\n",
        "try:\n",
        "  # %tensorflow_version only exists in Colab.\n",
        "  %tensorflow_version 2.x\n",
        "except Exception:\n",
        "  pass"
      ],
      "execution_count": null,
      "outputs": []
    },
    {
      "cell_type": "code",
      "metadata": {
        "id": "XYYDvoskkE61"
      },
      "source": [
        "import tensorflow as tf\n",
        "from tensorflow import keras"
      ],
      "execution_count": 1,
      "outputs": []
    },
    {
      "cell_type": "code",
      "metadata": {
        "id": "BQVuQrZNkPn9",
        "colab": {
          "base_uri": "https://localhost:8080/"
        },
        "outputId": "2d9c0756-7652-4333-a81e-daa8ac16864f"
      },
      "source": [
        "!wget --no-check-certificate \\\n",
        "    https://storage.googleapis.com/laurencemoroney-blog.appspot.com/sarcasm.json \\\n",
        "    -O /tmp/sarcasm.json\n"
      ],
      "execution_count": 2,
      "outputs": [
        {
          "output_type": "stream",
          "text": [
            "--2020-12-23 18:23:10--  https://storage.googleapis.com/laurencemoroney-blog.appspot.com/sarcasm.json\n",
            "Resolving storage.googleapis.com (storage.googleapis.com)... 172.253.62.128, 142.250.73.240, 172.253.122.128, ...\n",
            "Connecting to storage.googleapis.com (storage.googleapis.com)|172.253.62.128|:443... connected.\n",
            "HTTP request sent, awaiting response... 200 OK\n",
            "Length: 5643545 (5.4M) [application/json]\n",
            "Saving to: ‘/tmp/sarcasm.json’\n",
            "\n",
            "\r/tmp/sarcasm.json     0%[                    ]       0  --.-KB/s               \r/tmp/sarcasm.json   100%[===================>]   5.38M  --.-KB/s    in 0.02s   \n",
            "\n",
            "2020-12-23 18:23:10 (298 MB/s) - ‘/tmp/sarcasm.json’ saved [5643545/5643545]\n",
            "\n"
          ],
          "name": "stdout"
        }
      ]
    },
    {
      "cell_type": "code",
      "metadata": {
        "id": "oaLaaqhNkUPd"
      },
      "source": [
        "import json\n",
        "\n",
        "with open(\"/tmp/sarcasm.json\", \"r\") as f:\n",
        "    data_store = json.load(f)\n",
        "\n",
        "sentences = []\n",
        "labels = []\n",
        "\n",
        "for item in data_store:\n",
        "    sentences.append(item[\"headline\"])\n",
        "    labels.append(item[\"is_sarcastic\"])"
      ],
      "execution_count": 6,
      "outputs": []
    },
    {
      "cell_type": "code",
      "metadata": {
        "colab": {
          "base_uri": "https://localhost:8080/"
        },
        "id": "g0WW8k_K2_qa",
        "outputId": "6e2d81b4-b61e-465f-fd26-9ea15247265f"
      },
      "source": [
        "len(sentences)"
      ],
      "execution_count": 7,
      "outputs": [
        {
          "output_type": "execute_result",
          "data": {
            "text/plain": [
              "26709"
            ]
          },
          "metadata": {
            "tags": []
          },
          "execution_count": 7
        }
      ]
    },
    {
      "cell_type": "code",
      "metadata": {
        "id": "S1sD-7v0kYWk"
      },
      "source": [
        "training_size = 20000\n",
        "vocab_size = 10000\n",
        "embedding_dim = 32\n",
        "max_length = 50\n",
        "trunc_type=\"post\"\n",
        "padding_type=\"post\"\n",
        "oov_token=\"<OOV>\"\n"
      ],
      "execution_count": 8,
      "outputs": []
    },
    {
      "cell_type": "code",
      "metadata": {
        "id": "3u8UB0MCkZ5N"
      },
      "source": [
        "training_sentences = sentences[:training_size]\n",
        "training_labels = labels[:training_size]\n",
        "\n",
        "testing_sentences = sentences[training_size:]\n",
        "testing_labels = labels[training_size:]"
      ],
      "execution_count": 14,
      "outputs": []
    },
    {
      "cell_type": "code",
      "metadata": {
        "id": "hMwWY02c3yvR"
      },
      "source": [
        "from keras.preprocessing.text import Tokenizer\r\n",
        "from keras.preprocessing.sequence import pad_sequences\r\n",
        "\r\n",
        "tokenizer = Tokenizer(num_words=vocab_size, oov_token=oov_token)\r\n",
        "tokenizer.fit_on_texts(training_sentences)\r\n",
        "word_index = tokenizer.word_index\r\n",
        "\r\n",
        "sequences = tokenizer.texts_to_sequences(training_sentences)\r\n",
        "training_padded = pad_sequences(sequences, maxlen=max_length, truncating=trunc_type, padding=padding_type)\r\n",
        "\r\n",
        "test_sequences = tokenizer.texts_to_sequences(testing_sentences)\r\n",
        "testing_padded = pad_sequences(test_sequences, maxlen=max_length, truncating=trunc_type, padding=padding_type)"
      ],
      "execution_count": 15,
      "outputs": []
    },
    {
      "cell_type": "code",
      "metadata": {
        "id": "GrAlWBKf99Ya"
      },
      "source": [
        "# Need this block to get it to work with TensorFlow 2.x\n",
        "import numpy as np\n",
        "\n",
        "training_padded = np.array(training_padded)\n",
        "training_labels = np.array(training_labels)\n",
        "\n",
        "testing_padded = np.array(testing_padded)\n",
        "testing_labels = np.array(testing_labels)\n"
      ],
      "execution_count": 16,
      "outputs": []
    },
    {
      "cell_type": "code",
      "metadata": {
        "id": "FufaT4vlkiDE"
      },
      "source": [
        "model = keras.models.Sequential([\n",
        "    keras.layers.Embedding(vocab_size, embedding_dim, input_length=max_length),\n",
        "    keras.layers.GlobalAvgPool1D(),\n",
        "    keras.layers.Dense(24, activation=\"relu\"),\n",
        "    keras.layers.Dropout(0.3),\n",
        "    keras.layers.Dense(1, activation=\"sigmoid\")\n",
        "])\n",
        "\n",
        "model.compile(loss=\"binary_crossentropy\", optimizer=\"adam\", metrics=[\"accuracy\"])"
      ],
      "execution_count": 27,
      "outputs": []
    },
    {
      "cell_type": "code",
      "metadata": {
        "id": "XfDt1hmYkiys",
        "colab": {
          "base_uri": "https://localhost:8080/"
        },
        "outputId": "334f0d7f-95e2-4c6b-b28d-bb4d5e63e89a"
      },
      "source": [
        "model.summary()\n"
      ],
      "execution_count": 28,
      "outputs": [
        {
          "output_type": "stream",
          "text": [
            "Model: \"sequential_2\"\n",
            "_________________________________________________________________\n",
            "Layer (type)                 Output Shape              Param #   \n",
            "=================================================================\n",
            "embedding_2 (Embedding)      (None, 50, 32)            320000    \n",
            "_________________________________________________________________\n",
            "global_average_pooling1d_2 ( (None, 32)                0         \n",
            "_________________________________________________________________\n",
            "dense_4 (Dense)              (None, 24)                792       \n",
            "_________________________________________________________________\n",
            "dropout (Dropout)            (None, 24)                0         \n",
            "_________________________________________________________________\n",
            "dense_5 (Dense)              (None, 1)                 25        \n",
            "=================================================================\n",
            "Total params: 320,817\n",
            "Trainable params: 320,817\n",
            "Non-trainable params: 0\n",
            "_________________________________________________________________\n"
          ],
          "name": "stdout"
        }
      ]
    },
    {
      "cell_type": "code",
      "metadata": {
        "id": "2DTKQFf1kkyc",
        "colab": {
          "base_uri": "https://localhost:8080/"
        },
        "outputId": "a95cb984-ee65-473b-f770-8ccbce5a3899"
      },
      "source": [
        "num_epochs = 30\n",
        "history = model.fit(training_padded, training_labels, epochs=num_epochs, validation_data=(testing_padded, testing_labels), verbose=1)"
      ],
      "execution_count": 29,
      "outputs": [
        {
          "output_type": "stream",
          "text": [
            "Epoch 1/30\n",
            "625/625 [==============================] - 4s 5ms/step - loss: 0.6693 - accuracy: 0.5737 - val_loss: 0.4365 - val_accuracy: 0.8225\n",
            "Epoch 2/30\n",
            "625/625 [==============================] - 3s 5ms/step - loss: 0.3831 - accuracy: 0.8413 - val_loss: 0.3498 - val_accuracy: 0.8520\n",
            "Epoch 3/30\n",
            "625/625 [==============================] - 3s 5ms/step - loss: 0.2720 - accuracy: 0.8951 - val_loss: 0.3432 - val_accuracy: 0.8544\n",
            "Epoch 4/30\n",
            "625/625 [==============================] - 3s 5ms/step - loss: 0.2176 - accuracy: 0.9203 - val_loss: 0.3538 - val_accuracy: 0.8538\n",
            "Epoch 5/30\n",
            "625/625 [==============================] - 3s 5ms/step - loss: 0.1803 - accuracy: 0.9376 - val_loss: 0.3707 - val_accuracy: 0.8514\n",
            "Epoch 6/30\n",
            "625/625 [==============================] - 3s 5ms/step - loss: 0.1535 - accuracy: 0.9483 - val_loss: 0.3981 - val_accuracy: 0.8505\n",
            "Epoch 7/30\n",
            "625/625 [==============================] - 3s 5ms/step - loss: 0.1316 - accuracy: 0.9548 - val_loss: 0.4276 - val_accuracy: 0.8413\n",
            "Epoch 8/30\n",
            "625/625 [==============================] - 3s 5ms/step - loss: 0.1180 - accuracy: 0.9626 - val_loss: 0.4636 - val_accuracy: 0.8439\n",
            "Epoch 9/30\n",
            "625/625 [==============================] - 3s 5ms/step - loss: 0.1018 - accuracy: 0.9680 - val_loss: 0.4936 - val_accuracy: 0.8398\n",
            "Epoch 10/30\n",
            "625/625 [==============================] - 3s 5ms/step - loss: 0.0949 - accuracy: 0.9730 - val_loss: 0.5426 - val_accuracy: 0.8386\n",
            "Epoch 11/30\n",
            "625/625 [==============================] - 3s 5ms/step - loss: 0.0772 - accuracy: 0.9776 - val_loss: 0.5662 - val_accuracy: 0.8359\n",
            "Epoch 12/30\n",
            "625/625 [==============================] - 3s 5ms/step - loss: 0.0668 - accuracy: 0.9817 - val_loss: 0.6062 - val_accuracy: 0.8331\n",
            "Epoch 13/30\n",
            "625/625 [==============================] - 3s 5ms/step - loss: 0.0612 - accuracy: 0.9831 - val_loss: 0.6734 - val_accuracy: 0.8299\n",
            "Epoch 14/30\n",
            "625/625 [==============================] - 3s 5ms/step - loss: 0.0538 - accuracy: 0.9861 - val_loss: 0.7141 - val_accuracy: 0.8262\n",
            "Epoch 15/30\n",
            "625/625 [==============================] - 3s 5ms/step - loss: 0.0430 - accuracy: 0.9888 - val_loss: 0.7700 - val_accuracy: 0.8258\n",
            "Epoch 16/30\n",
            "625/625 [==============================] - 3s 5ms/step - loss: 0.0421 - accuracy: 0.9884 - val_loss: 0.8123 - val_accuracy: 0.8268\n",
            "Epoch 17/30\n",
            "625/625 [==============================] - 3s 5ms/step - loss: 0.0411 - accuracy: 0.9876 - val_loss: 0.8614 - val_accuracy: 0.8199\n",
            "Epoch 18/30\n",
            "625/625 [==============================] - 3s 5ms/step - loss: 0.0313 - accuracy: 0.9911 - val_loss: 0.9144 - val_accuracy: 0.8244\n",
            "Epoch 19/30\n",
            "625/625 [==============================] - 3s 5ms/step - loss: 0.0296 - accuracy: 0.9916 - val_loss: 1.0348 - val_accuracy: 0.8207\n",
            "Epoch 20/30\n",
            "625/625 [==============================] - 3s 5ms/step - loss: 0.0226 - accuracy: 0.9937 - val_loss: 1.0205 - val_accuracy: 0.8171\n",
            "Epoch 21/30\n",
            "625/625 [==============================] - 3s 5ms/step - loss: 0.0243 - accuracy: 0.9926 - val_loss: 1.1906 - val_accuracy: 0.8168\n",
            "Epoch 22/30\n",
            "625/625 [==============================] - 3s 5ms/step - loss: 0.0227 - accuracy: 0.9928 - val_loss: 1.2287 - val_accuracy: 0.8190\n",
            "Epoch 23/30\n",
            "625/625 [==============================] - 3s 5ms/step - loss: 0.0192 - accuracy: 0.9938 - val_loss: 1.2933 - val_accuracy: 0.8192\n",
            "Epoch 24/30\n",
            "625/625 [==============================] - 3s 5ms/step - loss: 0.0209 - accuracy: 0.9925 - val_loss: 1.3141 - val_accuracy: 0.8155\n",
            "Epoch 25/30\n",
            "625/625 [==============================] - 3s 5ms/step - loss: 0.0164 - accuracy: 0.9948 - val_loss: 1.4798 - val_accuracy: 0.8137\n",
            "Epoch 26/30\n",
            "625/625 [==============================] - 3s 5ms/step - loss: 0.0156 - accuracy: 0.9948 - val_loss: 1.5679 - val_accuracy: 0.8135\n",
            "Epoch 27/30\n",
            "625/625 [==============================] - 3s 6ms/step - loss: 0.0114 - accuracy: 0.9960 - val_loss: 1.6107 - val_accuracy: 0.8159\n",
            "Epoch 28/30\n",
            "625/625 [==============================] - 3s 5ms/step - loss: 0.0128 - accuracy: 0.9950 - val_loss: 1.6582 - val_accuracy: 0.8176\n",
            "Epoch 29/30\n",
            "625/625 [==============================] - 3s 5ms/step - loss: 0.0123 - accuracy: 0.9956 - val_loss: 1.7451 - val_accuracy: 0.8092\n",
            "Epoch 30/30\n",
            "625/625 [==============================] - 3s 5ms/step - loss: 0.0144 - accuracy: 0.9943 - val_loss: 1.7271 - val_accuracy: 0.8147\n"
          ],
          "name": "stdout"
        }
      ]
    },
    {
      "cell_type": "code",
      "metadata": {
        "id": "2HYfBKXjkmU8",
        "colab": {
          "base_uri": "https://localhost:8080/",
          "height": 541
        },
        "outputId": "88855a18-9510-4ab1-aae3-e7fe9767d5a9"
      },
      "source": [
        "import matplotlib.pyplot as plt\n",
        "\n",
        "\n",
        "def plot_graphs(history, string):\n",
        "  plt.plot(history.history[string])\n",
        "  plt.plot(history.history['val_'+string])\n",
        "  plt.xlabel(\"Epochs\")\n",
        "  plt.ylabel(string)\n",
        "  plt.legend([string, 'val_'+string])\n",
        "  plt.show()\n",
        "  \n",
        "plot_graphs(history, \"accuracy\")\n",
        "plot_graphs(history, \"loss\")"
      ],
      "execution_count": 30,
      "outputs": [
        {
          "output_type": "display_data",
          "data": {
            "image/png": "[encoded data removed]",
            "text/plain": [
              "<Figure size 432x288 with 1 Axes>"
            ]
          },
          "metadata": {
            "tags": [],
            "needs_background": "light"
          }
        },
        {
          "output_type": "display_data",
          "data": {
            "image/png": "[encoded data removed]",
            "text/plain": [
              "<Figure size 432x288 with 1 Axes>"
            ]
          },
          "metadata": {
            "tags": [],
            "needs_background": "light"
          }
        }
      ]
    },
    {
      "cell_type": "code",
      "metadata": {
        "id": "7SBdAZAenvzL"
      },
      "source": [
        "reverse_word_index = dict([(value, key) for (key, value) in word_index.items()])\n",
        "\n",
        "def decode_sentence(text):\n",
        "    return ' '.join([reverse_word_index.get(i, '?') for i in text])\n",
        "\n",
        "print(decode_sentence(training_padded[0]))\n",
        "print(training_sentences[2])\n",
        "print(labels[2])"
      ],
      "execution_count": null,
      "outputs": []
    },
    {
      "cell_type": "code",
      "metadata": {
        "id": "c9MqihtEkzQ9"
      },
      "source": [
        "e = model.layers[0]\n",
        "weights = e.get_weights()[0]\n",
        "print(weights.shape) # shape: (vocab_size, embedding_dim)\n"
      ],
      "execution_count": null,
      "outputs": []
    },
    {
      "cell_type": "code",
      "metadata": {
        "id": "LoBXVffknldU"
      },
      "source": [
        "import io\n",
        "\n",
        "out_v = io.open('vecs.tsv', 'w', encoding='utf-8')\n",
        "out_m = io.open('meta.tsv', 'w', encoding='utf-8')\n",
        "for word_num in range(1, vocab_size):\n",
        "  word = reverse_word_index[word_num]\n",
        "  embeddings = weights[word_num]\n",
        "  out_m.write(word + \"\\n\")\n",
        "  out_v.write('\\t'.join([str(x) for x in embeddings]) + \"\\n\")\n",
        "out_v.close()\n",
        "out_m.close()"
      ],
      "execution_count": null,
      "outputs": []
    },
    {
      "cell_type": "code",
      "metadata": {
        "id": "U4eZ5HtVnnEE"
      },
      "source": [
        "try:\n",
        "  from google.colab import files\n",
        "except ImportError:\n",
        "  pass\n",
        "else:\n",
        "  files.download('vecs.tsv')\n",
        "  files.download('meta.tsv')"
      ],
      "execution_count": null,
      "outputs": []
    },
    {
      "cell_type": "code",
      "metadata": {
        "id": "cG8-ArY-qDcz"
      },
      "source": [
        "sentence = [\"granny starting to fear spiders in the garden might be real\", \"game of thrones season finale showing this sunday night\"]\n",
        "sequences = tokenizer.texts_to_sequences(sentence)\n",
        "padded = pad_sequences(sequences, maxlen=max_length, padding=padding_type, truncating=trunc_type)\n",
        "print(model.predict(padded))"
      ],
      "execution_count": null,
      "outputs": []
    }
  ]
}