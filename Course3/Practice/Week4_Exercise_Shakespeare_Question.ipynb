{
  "nbformat": 4,
  "nbformat_minor": 0,
  "metadata": {
    "accelerator": "GPU",
    "colab": {
      "name": "NLP_Week4_Exercise_Shakespeare_Question.ipynb",
      "provenance": [],
      "include_colab_link": true
    },
    "kernelspec": {
      "display_name": "Python 3",
      "name": "python3"
    }
  },
  "cells": [
    {
      "cell_type": "markdown",
      "metadata": {
        "id": "view-in-github",
        "colab_type": "text"
      },
      "source": [
        "<a href=\"https://colab.research.google.com/github/sumanyurosha/tensorflow-specialization/blob/master/Course3/Practice/Week4_Exercise_Shakespeare_Question.ipynb\" target=\"_parent\"><img src=\"https://colab.research.google.com/assets/colab-badge.svg\" alt=\"Open In Colab\"/></a>"
      ]
    },
    {
      "cell_type": "code",
      "metadata": {
        "id": "zX4Kg8DUTKWO"
      },
      "source": [
        "#@title Licensed under the Apache License, Version 2.0 (the \"License\");\n",
        "# you may not use this file except in compliance with the License.\n",
        "# You may obtain a copy of the License at\n",
        "#\n",
        "# https://www.apache.org/licenses/LICENSE-2.0\n",
        "#\n",
        "# Unless required by applicable law or agreed to in writing, software\n",
        "# distributed under the License is distributed on an \"AS IS\" BASIS,\n",
        "# WITHOUT WARRANTIES OR CONDITIONS OF ANY KIND, either express or implied.\n",
        "# See the License for the specific language governing permissions and\n",
        "# limitations under the License."
      ],
      "execution_count": null,
      "outputs": []
    },
    {
      "cell_type": "code",
      "metadata": {
        "id": "BOwsuGQQY9OL"
      },
      "source": [
        "from tensorflow.keras.preprocessing.sequence import pad_sequences\n",
        "from tensorflow.keras.layers import Embedding, LSTM, Dense, Dropout, Bidirectional\n",
        "from tensorflow.keras.preprocessing.text import Tokenizer\n",
        "from tensorflow.keras.models import Sequential\n",
        "from tensorflow.keras.optimizers import Adam\n",
        "### YOUR CODE HERE\n",
        "from tensorflow.keras.regularizers import l1,l2\n",
        "###\n",
        "import tensorflow.keras.utils as ku \n",
        "import numpy as np "
      ],
      "execution_count": 2,
      "outputs": []
    },
    {
      "cell_type": "code",
      "metadata": {
        "id": "PRnDnCW-Z7qv",
        "colab": {
          "base_uri": "https://localhost:8080/"
        },
        "outputId": "afc87f97-a449-4f48-905a-4fcf6bf97ec3"
      },
      "source": [
        "tokenizer = Tokenizer()\n",
        "!wget --no-check-certificate \\\n",
        "    https://storage.googleapis.com/laurencemoroney-blog.appspot.com/sonnets.txt \\\n",
        "    -O /tmp/sonnets.txt\n",
        "data = open('/tmp/sonnets.txt').read()\n",
        "\n",
        "corpus = data.lower().split(\"\\n\")\n",
        "\n",
        "\n",
        "tokenizer.fit_on_texts(corpus)\n",
        "total_words = len(tokenizer.word_index) + 1\n",
        "\n",
        "# create input sequences using list of tokens\n",
        "input_sequences = []\n",
        "for line in corpus:\n",
        "\ttoken_list = tokenizer.texts_to_sequences([line])[0]\n",
        "\tfor i in range(1, len(token_list)):\n",
        "\t\tn_gram_sequence = token_list[:i+1]\n",
        "\t\tinput_sequences.append(n_gram_sequence)\n",
        "\n",
        "\n",
        "# pad sequences \n",
        "max_sequence_len = max([len(x) for x in input_sequences])\n",
        "input_sequences = np.array(pad_sequences(input_sequences, maxlen=max_sequence_len, padding='pre'))\n",
        "\n",
        "# create predictors and label\n",
        "predictors, label = input_sequences[:,:-1],input_sequences[:,-1]\n",
        "\n",
        "label = ku.to_categorical(label, num_classes=total_words)"
      ],
      "execution_count": 3,
      "outputs": [
        {
          "output_type": "stream",
          "text": [
            "--2020-12-29 16:25:07--  https://storage.googleapis.com/laurencemoroney-blog.appspot.com/sonnets.txt\n",
            "Resolving storage.googleapis.com (storage.googleapis.com)... 74.125.197.128, 74.125.195.128, 74.125.142.128, ...\n",
            "Connecting to storage.googleapis.com (storage.googleapis.com)|74.125.197.128|:443... connected.\n",
            "HTTP request sent, awaiting response... 200 OK\n",
            "Length: 93578 (91K) [text/plain]\n",
            "Saving to: ‘/tmp/sonnets.txt’\n",
            "\n",
            "\r/tmp/sonnets.txt      0%[                    ]       0  --.-KB/s               \r/tmp/sonnets.txt    100%[===================>]  91.38K  --.-KB/s    in 0.001s  \n",
            "\n",
            "2020-12-29 16:25:07 (156 MB/s) - ‘/tmp/sonnets.txt’ saved [93578/93578]\n",
            "\n"
          ],
          "name": "stdout"
        }
      ]
    },
    {
      "cell_type": "code",
      "metadata": {
        "colab": {
          "base_uri": "https://localhost:8080/"
        },
        "id": "TDQR875_aGay",
        "outputId": "f67002b7-6028-4660-d9ea-1d71800526bd"
      },
      "source": [
        "max_sequence_len"
      ],
      "execution_count": 20,
      "outputs": [
        {
          "output_type": "execute_result",
          "data": {
            "text/plain": [
              "11"
            ]
          },
          "metadata": {
            "tags": []
          },
          "execution_count": 20
        }
      ]
    },
    {
      "cell_type": "code",
      "metadata": {
        "id": "w9vH8Y59ajYL",
        "colab": {
          "base_uri": "https://localhost:8080/"
        },
        "outputId": "820341b9-83aa-4c97-e3f7-182e2b3c5b8a"
      },
      "source": [
        "model = Sequential()\n",
        "model.add(Embedding(total_words, 256, input_length=max_sequence_len - 1))\n",
        "model.add(LSTM(256, return_sequences=True))\n",
        "model.add(Dropout(0.3))\n",
        "model.add(LSTM(128))\n",
        "model.add(Dense(128, kernel_regularizer=\"l2\", activation=\"relu\"))\n",
        "model.add(Dense(total_words, activation=\"softmax\"))\n",
        "# Pick an optimizer\n",
        "model.compile(loss=\"categorical_crossentropy\", optimizer=\"adam\", metrics=[\"accuracy\"])\n",
        "print(model.summary())\n"
      ],
      "execution_count": 31,
      "outputs": [
        {
          "output_type": "stream",
          "text": [
            "Model: \"sequential_12\"\n",
            "_________________________________________________________________\n",
            "Layer (type)                 Output Shape              Param #   \n",
            "=================================================================\n",
            "embedding_12 (Embedding)     (None, 10, 256)           822016    \n",
            "_________________________________________________________________\n",
            "lstm_24 (LSTM)               (None, 10, 256)           525312    \n",
            "_________________________________________________________________\n",
            "dropout_12 (Dropout)         (None, 10, 256)           0         \n",
            "_________________________________________________________________\n",
            "lstm_25 (LSTM)               (None, 128)               197120    \n",
            "_________________________________________________________________\n",
            "dense_20 (Dense)             (None, 128)               16512     \n",
            "_________________________________________________________________\n",
            "dense_21 (Dense)             (None, 3211)              414219    \n",
            "=================================================================\n",
            "Total params: 1,975,179\n",
            "Trainable params: 1,975,179\n",
            "Non-trainable params: 0\n",
            "_________________________________________________________________\n",
            "None\n"
          ],
          "name": "stdout"
        }
      ]
    },
    {
      "cell_type": "code",
      "metadata": {
        "id": "AIg2f1HBxqof",
        "colab": {
          "base_uri": "https://localhost:8080/"
        },
        "outputId": "0560f2bc-d3e6-45eb-be04-c19904aa43f7"
      },
      "source": [
        " history = model.fit(predictors, label, epochs=100, verbose=1)"
      ],
      "execution_count": 32,
      "outputs": [
        {
          "output_type": "stream",
          "text": [
            "Epoch 1/100\n",
            "484/484 [==============================] - 9s 13ms/step - loss: 7.5086 - accuracy: 0.0203\n",
            "Epoch 2/100\n",
            "484/484 [==============================] - 7s 14ms/step - loss: 6.5466 - accuracy: 0.0213\n",
            "Epoch 3/100\n",
            "484/484 [==============================] - 7s 14ms/step - loss: 6.4399 - accuracy: 0.0212\n",
            "Epoch 4/100\n",
            "484/484 [==============================] - 6s 13ms/step - loss: 6.3695 - accuracy: 0.0233\n",
            "Epoch 5/100\n",
            "484/484 [==============================] - 6s 13ms/step - loss: 6.3401 - accuracy: 0.0221\n",
            "Epoch 6/100\n",
            "484/484 [==============================] - 6s 13ms/step - loss: 6.2788 - accuracy: 0.0274\n",
            "Epoch 7/100\n",
            "484/484 [==============================] - 6s 12ms/step - loss: 6.1880 - accuracy: 0.0335\n",
            "Epoch 8/100\n",
            "484/484 [==============================] - 6s 12ms/step - loss: 6.1325 - accuracy: 0.0363\n",
            "Epoch 9/100\n",
            "484/484 [==============================] - 6s 12ms/step - loss: 6.0183 - accuracy: 0.0417\n",
            "Epoch 10/100\n",
            "484/484 [==============================] - 6s 13ms/step - loss: 5.9750 - accuracy: 0.0437\n",
            "Epoch 11/100\n",
            "484/484 [==============================] - 6s 13ms/step - loss: 5.9152 - accuracy: 0.0447\n",
            "Epoch 12/100\n",
            "484/484 [==============================] - 6s 13ms/step - loss: 5.8444 - accuracy: 0.0466\n",
            "Epoch 13/100\n",
            "484/484 [==============================] - 6s 13ms/step - loss: 5.7788 - accuracy: 0.0540\n",
            "Epoch 14/100\n",
            "484/484 [==============================] - 6s 13ms/step - loss: 5.7143 - accuracy: 0.0542\n",
            "Epoch 15/100\n",
            "484/484 [==============================] - 6s 13ms/step - loss: 5.6753 - accuracy: 0.0589\n",
            "Epoch 16/100\n",
            "484/484 [==============================] - 6s 13ms/step - loss: 5.5629 - accuracy: 0.0665\n",
            "Epoch 17/100\n",
            "484/484 [==============================] - 6s 13ms/step - loss: 5.5138 - accuracy: 0.0706\n",
            "Epoch 18/100\n",
            "484/484 [==============================] - 6s 12ms/step - loss: 5.4367 - accuracy: 0.0755\n",
            "Epoch 19/100\n",
            "484/484 [==============================] - 6s 12ms/step - loss: 5.3581 - accuracy: 0.0766\n",
            "Epoch 20/100\n",
            "484/484 [==============================] - 6s 13ms/step - loss: 5.3028 - accuracy: 0.0863\n",
            "Epoch 21/100\n",
            "484/484 [==============================] - 6s 13ms/step - loss: 5.1966 - accuracy: 0.0964\n",
            "Epoch 22/100\n",
            "484/484 [==============================] - 6s 13ms/step - loss: 5.1865 - accuracy: 0.0981\n",
            "Epoch 23/100\n",
            "484/484 [==============================] - 7s 14ms/step - loss: 5.1020 - accuracy: 0.1008\n",
            "Epoch 24/100\n",
            "484/484 [==============================] - 6s 13ms/step - loss: 5.0380 - accuracy: 0.1136\n",
            "Epoch 25/100\n",
            "484/484 [==============================] - 6s 13ms/step - loss: 4.9566 - accuracy: 0.1186\n",
            "Epoch 26/100\n",
            "484/484 [==============================] - 6s 13ms/step - loss: 4.9059 - accuracy: 0.1259\n",
            "Epoch 27/100\n",
            "484/484 [==============================] - 6s 13ms/step - loss: 4.8176 - accuracy: 0.1335\n",
            "Epoch 28/100\n",
            "484/484 [==============================] - 6s 13ms/step - loss: 4.7532 - accuracy: 0.1372\n",
            "Epoch 29/100\n",
            "484/484 [==============================] - 6s 12ms/step - loss: 4.6919 - accuracy: 0.1410\n",
            "Epoch 30/100\n",
            "484/484 [==============================] - 6s 12ms/step - loss: 4.6212 - accuracy: 0.1539\n",
            "Epoch 31/100\n",
            "484/484 [==============================] - 6s 12ms/step - loss: 4.5810 - accuracy: 0.1589\n",
            "Epoch 32/100\n",
            "484/484 [==============================] - 6s 13ms/step - loss: 4.5656 - accuracy: 0.1656\n",
            "Epoch 33/100\n",
            "484/484 [==============================] - 7s 14ms/step - loss: 4.4698 - accuracy: 0.1729\n",
            "Epoch 34/100\n",
            "484/484 [==============================] - 7s 13ms/step - loss: 4.4288 - accuracy: 0.1815\n",
            "Epoch 35/100\n",
            "484/484 [==============================] - 6s 13ms/step - loss: 4.3674 - accuracy: 0.1851\n",
            "Epoch 36/100\n",
            "484/484 [==============================] - 7s 14ms/step - loss: 4.3357 - accuracy: 0.1929\n",
            "Epoch 37/100\n",
            "484/484 [==============================] - 6s 13ms/step - loss: 4.2570 - accuracy: 0.2004\n",
            "Epoch 38/100\n",
            "484/484 [==============================] - 6s 13ms/step - loss: 4.1995 - accuracy: 0.2140\n",
            "Epoch 39/100\n",
            "484/484 [==============================] - 6s 13ms/step - loss: 4.1827 - accuracy: 0.2113\n",
            "Epoch 40/100\n",
            "484/484 [==============================] - 6s 12ms/step - loss: 4.1112 - accuracy: 0.2198\n",
            "Epoch 41/100\n",
            "484/484 [==============================] - 6s 12ms/step - loss: 4.0570 - accuracy: 0.2267\n",
            "Epoch 42/100\n",
            "484/484 [==============================] - 6s 12ms/step - loss: 4.0255 - accuracy: 0.2294\n",
            "Epoch 43/100\n",
            "484/484 [==============================] - 6s 12ms/step - loss: 3.9700 - accuracy: 0.2409\n",
            "Epoch 44/100\n",
            "484/484 [==============================] - 6s 13ms/step - loss: 3.8835 - accuracy: 0.2559\n",
            "Epoch 45/100\n",
            "484/484 [==============================] - 6s 13ms/step - loss: 3.8661 - accuracy: 0.2550\n",
            "Epoch 46/100\n",
            "484/484 [==============================] - 6s 13ms/step - loss: 3.8367 - accuracy: 0.2588\n",
            "Epoch 47/100\n",
            "484/484 [==============================] - 7s 14ms/step - loss: 3.7777 - accuracy: 0.2669\n",
            "Epoch 48/100\n",
            "484/484 [==============================] - 6s 13ms/step - loss: 3.7624 - accuracy: 0.2709\n",
            "Epoch 49/100\n",
            "484/484 [==============================] - 6s 13ms/step - loss: 3.6886 - accuracy: 0.2824\n",
            "Epoch 50/100\n",
            "484/484 [==============================] - 6s 13ms/step - loss: 3.6988 - accuracy: 0.2876\n",
            "Epoch 51/100\n",
            "484/484 [==============================] - 6s 13ms/step - loss: 3.5978 - accuracy: 0.3029\n",
            "Epoch 52/100\n",
            "484/484 [==============================] - 7s 14ms/step - loss: 3.5490 - accuracy: 0.3110\n",
            "Epoch 53/100\n",
            "484/484 [==============================] - 6s 13ms/step - loss: 3.5097 - accuracy: 0.3098\n",
            "Epoch 54/100\n",
            "484/484 [==============================] - 6s 13ms/step - loss: 3.4816 - accuracy: 0.3181\n",
            "Epoch 55/100\n",
            "484/484 [==============================] - 6s 13ms/step - loss: 3.4760 - accuracy: 0.3224\n",
            "Epoch 56/100\n",
            "484/484 [==============================] - 6s 13ms/step - loss: 3.4102 - accuracy: 0.3342\n",
            "Epoch 57/100\n",
            "484/484 [==============================] - 6s 13ms/step - loss: 3.3569 - accuracy: 0.3435\n",
            "Epoch 58/100\n",
            "484/484 [==============================] - 7s 14ms/step - loss: 3.3371 - accuracy: 0.3412\n",
            "Epoch 59/100\n",
            "484/484 [==============================] - 7s 14ms/step - loss: 3.3095 - accuracy: 0.3457\n",
            "Epoch 60/100\n",
            "484/484 [==============================] - 6s 13ms/step - loss: 3.2397 - accuracy: 0.3610\n",
            "Epoch 61/100\n",
            "484/484 [==============================] - 6s 13ms/step - loss: 3.2336 - accuracy: 0.3641\n",
            "Epoch 62/100\n",
            "484/484 [==============================] - 6s 13ms/step - loss: 3.1845 - accuracy: 0.3742\n",
            "Epoch 63/100\n",
            "484/484 [==============================] - 6s 13ms/step - loss: 3.1435 - accuracy: 0.3843\n",
            "Epoch 64/100\n",
            "484/484 [==============================] - 6s 13ms/step - loss: 3.1264 - accuracy: 0.3863\n",
            "Epoch 65/100\n",
            "484/484 [==============================] - 6s 13ms/step - loss: 3.0708 - accuracy: 0.3973\n",
            "Epoch 66/100\n",
            "484/484 [==============================] - 6s 13ms/step - loss: 3.0414 - accuracy: 0.4029\n",
            "Epoch 67/100\n",
            "484/484 [==============================] - 6s 13ms/step - loss: 2.9942 - accuracy: 0.4109\n",
            "Epoch 68/100\n",
            "484/484 [==============================] - 6s 13ms/step - loss: 2.9894 - accuracy: 0.4113\n",
            "Epoch 69/100\n",
            "484/484 [==============================] - 6s 13ms/step - loss: 2.9312 - accuracy: 0.4285\n",
            "Epoch 70/100\n",
            "484/484 [==============================] - 6s 13ms/step - loss: 2.8997 - accuracy: 0.4260\n",
            "Epoch 71/100\n",
            "484/484 [==============================] - 6s 13ms/step - loss: 2.8955 - accuracy: 0.4315\n",
            "Epoch 72/100\n",
            "484/484 [==============================] - 6s 13ms/step - loss: 2.9073 - accuracy: 0.4270\n",
            "Epoch 73/100\n",
            "484/484 [==============================] - 6s 13ms/step - loss: 2.8119 - accuracy: 0.4524\n",
            "Epoch 74/100\n",
            "484/484 [==============================] - 6s 13ms/step - loss: 2.8038 - accuracy: 0.4533\n",
            "Epoch 75/100\n",
            "484/484 [==============================] - 6s 13ms/step - loss: 2.7518 - accuracy: 0.4652\n",
            "Epoch 76/100\n",
            "484/484 [==============================] - 6s 13ms/step - loss: 2.7467 - accuracy: 0.4608\n",
            "Epoch 77/100\n",
            "484/484 [==============================] - 6s 13ms/step - loss: 2.7121 - accuracy: 0.4694\n",
            "Epoch 78/100\n",
            "484/484 [==============================] - 6s 13ms/step - loss: 2.6674 - accuracy: 0.4809\n",
            "Epoch 79/100\n",
            "484/484 [==============================] - 6s 13ms/step - loss: 2.6555 - accuracy: 0.4854\n",
            "Epoch 80/100\n",
            "484/484 [==============================] - 6s 13ms/step - loss: 2.6351 - accuracy: 0.4862\n",
            "Epoch 81/100\n",
            "484/484 [==============================] - 6s 13ms/step - loss: 2.6125 - accuracy: 0.4889\n",
            "Epoch 82/100\n",
            "484/484 [==============================] - 6s 13ms/step - loss: 2.5895 - accuracy: 0.4982\n",
            "Epoch 83/100\n",
            "484/484 [==============================] - 6s 13ms/step - loss: 2.5425 - accuracy: 0.5135\n",
            "Epoch 84/100\n",
            "484/484 [==============================] - 6s 13ms/step - loss: 2.5381 - accuracy: 0.5085\n",
            "Epoch 85/100\n",
            "484/484 [==============================] - 6s 13ms/step - loss: 2.5338 - accuracy: 0.5168\n",
            "Epoch 86/100\n",
            "484/484 [==============================] - 6s 13ms/step - loss: 2.4603 - accuracy: 0.5310\n",
            "Epoch 87/100\n",
            "484/484 [==============================] - 6s 13ms/step - loss: 2.4557 - accuracy: 0.5237\n",
            "Epoch 88/100\n",
            "484/484 [==============================] - 6s 13ms/step - loss: 2.4643 - accuracy: 0.5259\n",
            "Epoch 89/100\n",
            "484/484 [==============================] - 6s 13ms/step - loss: 2.3784 - accuracy: 0.5433\n",
            "Epoch 90/100\n",
            "484/484 [==============================] - 6s 13ms/step - loss: 2.3748 - accuracy: 0.5435\n",
            "Epoch 91/100\n",
            "484/484 [==============================] - 6s 13ms/step - loss: 2.3431 - accuracy: 0.5588\n",
            "Epoch 92/100\n",
            "484/484 [==============================] - 6s 13ms/step - loss: 2.3467 - accuracy: 0.5481\n",
            "Epoch 93/100\n",
            "484/484 [==============================] - 6s 13ms/step - loss: 2.3263 - accuracy: 0.5518\n",
            "Epoch 94/100\n",
            "484/484 [==============================] - 6s 13ms/step - loss: 2.2907 - accuracy: 0.5626\n",
            "Epoch 95/100\n",
            "484/484 [==============================] - 6s 13ms/step - loss: 2.2485 - accuracy: 0.5685\n",
            "Epoch 96/100\n",
            "484/484 [==============================] - 6s 13ms/step - loss: 2.2580 - accuracy: 0.5688\n",
            "Epoch 97/100\n",
            "484/484 [==============================] - 6s 13ms/step - loss: 2.2224 - accuracy: 0.5873\n",
            "Epoch 98/100\n",
            "484/484 [==============================] - 7s 14ms/step - loss: 2.2053 - accuracy: 0.5851\n",
            "Epoch 99/100\n",
            "484/484 [==============================] - 6s 13ms/step - loss: 2.2156 - accuracy: 0.5788\n",
            "Epoch 100/100\n",
            "484/484 [==============================] - 7s 14ms/step - loss: 2.1918 - accuracy: 0.5922\n"
          ],
          "name": "stdout"
        }
      ]
    },
    {
      "cell_type": "code",
      "metadata": {
        "id": "1fXTEO3GJ282",
        "colab": {
          "base_uri": "https://localhost:8080/",
          "height": 545
        },
        "outputId": "00882f33-705b-4ade-85e5-019bc9abbabf"
      },
      "source": [
        "import matplotlib.pyplot as plt\n",
        "acc = history.history['accuracy']\n",
        "loss = history.history['loss']\n",
        "\n",
        "epochs = range(len(acc))\n",
        "\n",
        "plt.plot(epochs, acc, 'b', label='Training accuracy')\n",
        "plt.title('Training accuracy')\n",
        "\n",
        "plt.figure()\n",
        "\n",
        "plt.plot(epochs, loss, 'b', label='Training Loss')\n",
        "plt.title('Training loss')\n",
        "plt.legend()\n",
        "\n",
        "plt.show()"
      ],
      "execution_count": 33,
      "outputs": [
        {
          "output_type": "display_data",
          "data": {
            "image/png": "[encoded data removed]",
            "text/plain": [
              "<Figure size 432x288 with 1 Axes>"
            ]
          },
          "metadata": {
            "tags": [],
            "needs_background": "light"
          }
        },
        {
          "output_type": "display_data",
          "data": {
            "image/png": "[encoded data removed]",
            "text/plain": [
              "<Figure size 432x288 with 1 Axes>"
            ]
          },
          "metadata": {
            "tags": [],
            "needs_background": "light"
          }
        }
      ]
    },
    {
      "cell_type": "code",
      "metadata": {
        "id": "6Vc6PHgxa6Hm",
        "colab": {
          "base_uri": "https://localhost:8080/"
        },
        "outputId": "2e05ceb4-71ff-4163-a51f-381664eb3dd3"
      },
      "source": [
        "seed_text = \"Help me Obi Wan Kenobi, you're my only hope\"\n",
        "next_words = 100\n",
        "  \n",
        "for _ in range(next_words):\n",
        "\ttoken_list = tokenizer.texts_to_sequences([seed_text])[0]\n",
        "\ttoken_list = pad_sequences([token_list], maxlen=max_sequence_len-1, padding='pre')\n",
        "\tpredicted = model.predict_classes(token_list, verbose=0)\n",
        "\toutput_word = \"\"\n",
        "\tfor word, index in tokenizer.word_index.items():\n",
        "\t\tif index == predicted:\n",
        "\t\t\toutput_word = word\n",
        "\t\t\tbreak\n",
        "\tseed_text += \" \" + output_word\n",
        "print(seed_text)"
      ],
      "execution_count": 34,
      "outputs": [
        {
          "output_type": "stream",
          "text": [
            "/usr/local/lib/python3.6/dist-packages/tensorflow/python/keras/engine/sequential.py:450: UserWarning: `model.predict_classes()` is deprecated and will be removed after 2021-01-01. Please use instead:* `np.argmax(model.predict(x), axis=-1)`,   if your model does multi-class classification   (e.g. if it uses a `softmax` last-layer activation).* `(model.predict(x) > 0.5).astype(\"int32\")`,   if your model does binary classification   (e.g. if it uses a `sigmoid` last-layer activation).\n",
            "  warnings.warn('`model.predict_classes()` is deprecated and '\n"
          ],
          "name": "stderr"
        },
        {
          "output_type": "stream",
          "text": [
            "Help me Obi Wan Kenobi, you're my only hope with their sit taken ' near esteem'd gone another decay show show good plea unknown heir end foes chary taken commits crime look'd of thief re pain lies come where set men's sight sight made night kiss pain show their face delight prove men end dead near keep men speed win find men undivided thief approve go on his prepare morrow cause of thy face delight must come gone back away their pain thee thee thee be old part more so bright by wrongs strange mother down appear end care there go some mad kind set decay end men night\n"
          ],
          "name": "stdout"
        }
      ]
    },
    {
      "cell_type": "code",
      "metadata": {
        "id": "W7dR2VYnYPsx"
      },
      "source": [
        ""
      ],
      "execution_count": null,
      "outputs": []
    }
  ]
}