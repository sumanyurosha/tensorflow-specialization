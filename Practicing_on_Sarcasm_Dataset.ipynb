{
  "nbformat": 4,
  "nbformat_minor": 0,
  "metadata": {
    "colab": {
      "name": "Practicing on Sarcasm Dataset.ipynb",
      "provenance": [],
      "authorship_tag": "ABX9TyMN73C1e36RdC1A6TzghW8w",
      "include_colab_link": true
    },
    "kernelspec": {
      "name": "python3",
      "display_name": "Python 3"
    },
    "accelerator": "GPU"
  },
  "cells": [
    {
      "cell_type": "markdown",
      "metadata": {
        "id": "view-in-github",
        "colab_type": "text"
      },
      "source": [
        "<a href=\"https://colab.research.google.com/github/sumanyurosha/tensorflow-specialization/blob/master/Practicing_on_Sarcasm_Dataset.ipynb\" target=\"_parent\"><img src=\"https://colab.research.google.com/assets/colab-badge.svg\" alt=\"Open In Colab\"/></a>"
      ]
    },
    {
      "cell_type": "markdown",
      "metadata": {
        "id": "9k_9Ldw64rFI"
      },
      "source": [
        "# **1. Downloading the Sarcasm Dataset**"
      ]
    },
    {
      "cell_type": "code",
      "metadata": {
        "id": "5uqTYe7q2XkM",
        "outputId": "9a08fb20-17a9-439b-d25b-9e25d16ab36f",
        "colab": {
          "base_uri": "https://localhost:8080/"
        }
      },
      "source": [
        "\n",
        "!wget --no-check-certificate \\\n",
        "    https://storage.googleapis.com/laurencemoroney-blog.appspot.com/sarcasm.json \\\n",
        "    -O /tmp/sarcasm.json"
      ],
      "execution_count": 3,
      "outputs": [
        {
          "output_type": "stream",
          "text": [
            "--2020-10-29 18:26:12--  https://storage.googleapis.com/laurencemoroney-blog.appspot.com/sarcasm.json\n",
            "Resolving storage.googleapis.com (storage.googleapis.com)... 74.125.195.128, 74.125.142.128, 173.194.202.128, ...\n",
            "Connecting to storage.googleapis.com (storage.googleapis.com)|74.125.195.128|:443... connected.\n",
            "HTTP request sent, awaiting response... 200 OK\n",
            "Length: 5643545 (5.4M) [application/json]\n",
            "Saving to: ‘/tmp/sarcasm.json’\n",
            "\n",
            "\r/tmp/sarcasm.json     0%[                    ]       0  --.-KB/s               \r/tmp/sarcasm.json   100%[===================>]   5.38M  --.-KB/s    in 0.03s   \n",
            "\n",
            "2020-10-29 18:26:12 (201 MB/s) - ‘/tmp/sarcasm.json’ saved [5643545/5643545]\n",
            "\n"
          ],
          "name": "stdout"
        }
      ]
    },
    {
      "cell_type": "code",
      "metadata": {
        "id": "rY_n8aHE4w7G"
      },
      "source": [
        "import json\n",
        "\n",
        "with open(\"/tmp/sarcasm.json\") as f:\n",
        "    datastore = json.load(f)"
      ],
      "execution_count": 4,
      "outputs": []
    },
    {
      "cell_type": "markdown",
      "metadata": {
        "id": "iZl_OsPb5n7I"
      },
      "source": [
        "# **2. Data Preprocessing**"
      ]
    },
    {
      "cell_type": "code",
      "metadata": {
        "id": "shtz-vrS5BSQ",
        "outputId": "d9c8a967-cdb0-4949-c937-68e9b18212fb",
        "colab": {
          "base_uri": "https://localhost:8080/"
        }
      },
      "source": [
        "headlines = []\n",
        "urls = []\n",
        "labels = []\n",
        "\n",
        "for item in datastore:\n",
        "    headlines.append(item[\"headline\"])\n",
        "    urls.append(item[\"article_link\"])\n",
        "    labels.append(item[\"is_sarcastic\"])\n",
        "\n",
        "\n",
        "print(\"Size of dataset: {}\".format(len(headlines)))"
      ],
      "execution_count": 5,
      "outputs": [
        {
          "output_type": "stream",
          "text": [
            "Size of dataset: 26709\n"
          ],
          "name": "stdout"
        }
      ]
    },
    {
      "cell_type": "code",
      "metadata": {
        "id": "sO6a98Re6IjO",
        "outputId": "0cf989e2-5d04-43c1-8993-7b4fddb25ff8",
        "colab": {
          "base_uri": "https://localhost:8080/"
        }
      },
      "source": [
        "headlines[:5]"
      ],
      "execution_count": 6,
      "outputs": [
        {
          "output_type": "execute_result",
          "data": {
            "text/plain": [
              "[\"former versace store clerk sues over secret 'black code' for minority shoppers\",\n",
              " \"the 'roseanne' revival catches up to our thorny political mood, for better and worse\",\n",
              " \"mom starting to fear son's web series closest thing she will have to grandchild\",\n",
              " 'boehner just wants wife to listen, not come up with alternative debt-reduction ideas',\n",
              " 'j.k. rowling wishes snape happy birthday in the most magical way']"
            ]
          },
          "metadata": {
            "tags": []
          },
          "execution_count": 6
        }
      ]
    },
    {
      "cell_type": "code",
      "metadata": {
        "id": "7gnNnNOv6RNS",
        "outputId": "bbe703c5-fa84-4b0c-9029-8469c0caa631",
        "colab": {
          "base_uri": "https://localhost:8080/"
        }
      },
      "source": [
        "labels[:5]"
      ],
      "execution_count": 7,
      "outputs": [
        {
          "output_type": "execute_result",
          "data": {
            "text/plain": [
              "[0, 0, 1, 1, 0]"
            ]
          },
          "metadata": {
            "tags": []
          },
          "execution_count": 7
        }
      ]
    },
    {
      "cell_type": "code",
      "metadata": {
        "id": "-yIsUlO40F69"
      },
      "source": [
        "oov_token = \"<OOV>\"\n",
        "training_size = 20000\n",
        "vocab_size = 10000\n",
        "embedding_dim = 256\n",
        "trunc_type = \"post\"\n",
        "pad_type = \"post\""
      ],
      "execution_count": 14,
      "outputs": []
    },
    {
      "cell_type": "code",
      "metadata": {
        "id": "H091AqRB5kjx",
        "outputId": "8a3a585e-b8d5-470b-9caf-a2b0cd4ad0a0",
        "colab": {
          "base_uri": "https://localhost:8080/"
        }
      },
      "source": [
        "import tensorflow as tf\n",
        "import numpy as np\n",
        "from tensorflow import keras\n",
        "from keras.preprocessing.text import Tokenizer\n",
        "from keras.preprocessing.sequence import pad_sequences\n",
        "\n",
        "tokenizer = Tokenizer(num_words=vocab_size, oov_token=oov_token)\n",
        "tokenizer.fit_on_texts(headlines)\n",
        "\n",
        "sequences = tokenizer.texts_to_sequences(headlines)\n",
        "padded_sequences = pad_sequences(sequences, padding=pad_type, truncating=trunc_type)\n",
        "\n",
        "max_len = len(padded_sequences[0])\n",
        "print(max_len)\n",
        "\n",
        "print(\"Headline : {}\".format(headlines[0]))\n",
        "print(\"Tokenized Sequence : {}\".format(sequences[0]))\n",
        "print(\"Padded Sequence : {}\".format(padded_sequences[0]))"
      ],
      "execution_count": 9,
      "outputs": [
        {
          "output_type": "stream",
          "text": [
            "40\n",
            "Headline : former versace store clerk sues over secret 'black code' for minority shoppers\n",
            "Tokenized Sequence : [308, 1, 679, 3337, 2298, 48, 382, 2576, 1, 6, 2577, 8434]\n",
            "Padded Sequence : [ 308    1  679 3337 2298   48  382 2576    1    6 2577 8434    0    0\n",
            "    0    0    0    0    0    0    0    0    0    0    0    0    0    0\n",
            "    0    0    0    0    0    0    0    0    0    0    0    0]\n"
          ],
          "name": "stdout"
        }
      ]
    },
    {
      "cell_type": "code",
      "metadata": {
        "id": "i85WHn0U7Mfq",
        "outputId": "7a505f3c-4960-4ffa-e089-61f1a69d92c6",
        "colab": {
          "base_uri": "https://localhost:8080/"
        }
      },
      "source": [
        "train_padded = np.array(padded_sequences[:training_size])\n",
        "valid_padded = np.array(padded_sequences[training_size:])\n",
        "\n",
        "train_labels = np.array(labels[:training_size])\n",
        "valid_labels = np.array(labels[training_size:])\n",
        "\n",
        "print(len(train_padded))\n",
        "print(len(valid_padded))"
      ],
      "execution_count": 10,
      "outputs": [
        {
          "output_type": "stream",
          "text": [
            "20000\n",
            "6709\n"
          ],
          "name": "stdout"
        }
      ]
    },
    {
      "cell_type": "code",
      "metadata": {
        "id": "oFbgsNOl2qei"
      },
      "source": [
        "import matplotlib.pyplot as plt\n",
        "\n",
        "def plot_graph(history, string):\n",
        "    plt.xlabel(\"Epochs\")\n",
        "    plt.ylabel(string)\n",
        "    plt.plot(history.history[string])\n",
        "    plt.plot(history.history[\"val_\" + string])\n",
        "    plt.legend([string, \"val_\" + string])\n",
        "    plt.show()"
      ],
      "execution_count": 11,
      "outputs": []
    },
    {
      "cell_type": "markdown",
      "metadata": {
        "id": "rlS1qo3d6YZ6"
      },
      "source": [
        "# **Model with Multiple LSTM Layers**"
      ]
    },
    {
      "cell_type": "code",
      "metadata": {
        "id": "uPp6WFHA6cxy",
        "outputId": "59eebb22-928e-4624-95a1-4e142d93b923",
        "colab": {
          "base_uri": "https://localhost:8080/"
        }
      },
      "source": [
        "from keras.regularizers import L2\n",
        "\n",
        "model = keras.models.Sequential([\n",
        "    keras.layers.Embedding(vocab_size, embedding_dim, input_length=max_len),\n",
        "    keras.layers.Dropout(0.3),\n",
        "    keras.layers.LSTM(64, return_sequences=True, dropout=0.2),\n",
        "    keras.layers.LSTM(32, dropout=0.2 ),\n",
        "    keras.layers.Dropout(0.3),\n",
        "    keras.layers.Dense(1, activation=\"sigmoid\")\n",
        "])\n",
        "\n",
        "model.summary()\n",
        "\n",
        "model.compile(loss=\"binary_crossentropy\", optimizer=\"adam\",\n",
        "              metrics=[\"accuracy\"])\n",
        "\n",
        "history = model.fit(train_padded, train_labels, epochs=5, \n",
        "                    validation_data=(valid_padded, valid_labels), verbose=1)"
      ],
      "execution_count": 16,
      "outputs": [
        {
          "output_type": "stream",
          "text": [
            "Model: \"sequential_2\"\n",
            "_________________________________________________________________\n",
            "Layer (type)                 Output Shape              Param #   \n",
            "=================================================================\n",
            "embedding_2 (Embedding)      (None, 40, 256)           2560000   \n",
            "_________________________________________________________________\n",
            "dropout_4 (Dropout)          (None, 40, 256)           0         \n",
            "_________________________________________________________________\n",
            "lstm_4 (LSTM)                (None, 40, 64)            82176     \n",
            "_________________________________________________________________\n",
            "lstm_5 (LSTM)                (None, 32)                12416     \n",
            "_________________________________________________________________\n",
            "dropout_5 (Dropout)          (None, 32)                0         \n",
            "_________________________________________________________________\n",
            "dense_2 (Dense)              (None, 1)                 33        \n",
            "=================================================================\n",
            "Total params: 2,654,625\n",
            "Trainable params: 2,654,625\n",
            "Non-trainable params: 0\n",
            "_________________________________________________________________\n",
            "Epoch 1/5\n",
            "625/625 [==============================] - 19s 31ms/step - loss: 0.5473 - accuracy: 0.7220 - val_loss: 0.4835 - val_accuracy: 0.8092\n",
            "Epoch 2/5\n",
            "625/625 [==============================] - 19s 30ms/step - loss: 0.4332 - accuracy: 0.8332 - val_loss: 0.4841 - val_accuracy: 0.8077\n",
            "Epoch 3/5\n",
            "625/625 [==============================] - 19s 30ms/step - loss: 0.5038 - accuracy: 0.7480 - val_loss: 0.5551 - val_accuracy: 0.7296\n",
            "Epoch 4/5\n",
            "625/625 [==============================] - 19s 30ms/step - loss: 0.5226 - accuracy: 0.7479 - val_loss: 0.5788 - val_accuracy: 0.6542\n",
            "Epoch 5/5\n",
            "625/625 [==============================] - 19s 30ms/step - loss: 0.5555 - accuracy: 0.6837 - val_loss: 0.5657 - val_accuracy: 0.6804\n"
          ],
          "name": "stdout"
        }
      ]
    },
    {
      "cell_type": "code",
      "metadata": {
        "id": "8j7Z1jXz8_ug",
        "outputId": "e2e93640-d48f-4a58-c924-482f9f66178f",
        "colab": {
          "base_uri": "https://localhost:8080/",
          "height": 541
        }
      },
      "source": [
        "plot_graph(history, \"accuracy\")\n",
        "plot_graph(history, \"loss\")"
      ],
      "execution_count": 13,
      "outputs": [
        {
          "output_type": "display_data",
          "data": {
            "image/png": "[encoded data removed]",
            "text/plain": [
              "<Figure size 432x288 with 1 Axes>"
            ]
          },
          "metadata": {
            "tags": [],
            "needs_background": "light"
          }
        },
        {
          "output_type": "display_data",
          "data": {
            "image/png": "[encoded data removed]",
            "text/plain": [
              "<Figure size 432x288 with 1 Axes>"
            ]
          },
          "metadata": {
            "tags": [],
            "needs_background": "light"
          }
        }
      ]
    },
    {
      "cell_type": "code",
      "metadata": {
        "id": "EECOGPs3X6S8",
        "outputId": "3ac0127f-84f1-4dbd-f863-f3d0eb2308a3",
        "colab": {
          "base_uri": "https://localhost:8080/"
        }
      },
      "source": [
        "from keras.regularizers import L2\n",
        "\n",
        "model = keras.models.Sequential([\n",
        "    keras.layers.Embedding(vocab_size, embedding_dim, input_length=max_len),\n",
        "    keras.layers.Conv1D(32, 5),\n",
        "    keras.layers.LSTM(1024, return_sequences=True, dropout=0.2),\n",
        "    keras.layers.Dropout(0.3),\n",
        "    keras.layers.Dense(1, activation=\"sigmoid\")\n",
        "])\n",
        "\n",
        "model.summary()\n",
        "\n",
        "model.compile(loss=\"binary_crossentropy\", optimizer=\"adam\",\n",
        "              metrics=[\"accuracy\"])\n",
        "\n",
        "history = model.fit(train_padded, train_labels, epochs=20, \n",
        "                    validation_data=(valid_padded, valid_labels), verbose=1)"
      ],
      "execution_count": 17,
      "outputs": [
        {
          "output_type": "stream",
          "text": [
            "Model: \"sequential_3\"\n",
            "_________________________________________________________________\n",
            "Layer (type)                 Output Shape              Param #   \n",
            "=================================================================\n",
            "embedding_3 (Embedding)      (None, 40, 256)           2560000   \n",
            "_________________________________________________________________\n",
            "conv1d (Conv1D)              (None, 36, 32)            40992     \n",
            "_________________________________________________________________\n",
            "lstm_6 (LSTM)                (None, 36, 1024)          4329472   \n",
            "_________________________________________________________________\n",
            "dropout_6 (Dropout)          (None, 36, 1024)          0         \n",
            "_________________________________________________________________\n",
            "dense_3 (Dense)              (None, 36, 1)             1025      \n",
            "=================================================================\n",
            "Total params: 6,931,489\n",
            "Trainable params: 6,931,489\n",
            "Non-trainable params: 0\n",
            "_________________________________________________________________\n",
            "Epoch 1/20\n",
            "625/625 [==============================] - 25s 40ms/step - loss: 0.4895 - accuracy: 0.7730 - val_loss: 0.3912 - val_accuracy: 0.8314\n",
            "Epoch 2/20\n",
            "625/625 [==============================] - 24s 38ms/step - loss: 0.2486 - accuracy: 0.8980 - val_loss: 0.3948 - val_accuracy: 0.8434\n",
            "Epoch 3/20\n",
            "625/625 [==============================] - 24s 38ms/step - loss: 0.1388 - accuracy: 0.9490 - val_loss: 0.4528 - val_accuracy: 0.8417\n",
            "Epoch 4/20\n",
            "625/625 [==============================] - 24s 38ms/step - loss: 0.0789 - accuracy: 0.9719 - val_loss: 0.5252 - val_accuracy: 0.8421\n",
            "Epoch 5/20\n",
            "625/625 [==============================] - 24s 38ms/step - loss: 0.0419 - accuracy: 0.9856 - val_loss: 0.6688 - val_accuracy: 0.8345\n",
            "Epoch 6/20\n",
            "625/625 [==============================] - 23s 38ms/step - loss: 0.0267 - accuracy: 0.9914 - val_loss: 0.7572 - val_accuracy: 0.8375\n",
            "Epoch 7/20\n",
            "625/625 [==============================] - 24s 38ms/step - loss: 0.0161 - accuracy: 0.9945 - val_loss: 0.9107 - val_accuracy: 0.8313\n",
            "Epoch 8/20\n",
            "625/625 [==============================] - 24s 38ms/step - loss: 0.0152 - accuracy: 0.9951 - val_loss: 0.7804 - val_accuracy: 0.8313\n",
            "Epoch 9/20\n",
            "625/625 [==============================] - 23s 38ms/step - loss: 0.0148 - accuracy: 0.9950 - val_loss: 0.8516 - val_accuracy: 0.8341\n",
            "Epoch 10/20\n",
            "625/625 [==============================] - 24s 38ms/step - loss: 0.0129 - accuracy: 0.9956 - val_loss: 0.9954 - val_accuracy: 0.8311\n",
            "Epoch 11/20\n",
            "625/625 [==============================] - 24s 38ms/step - loss: 0.0091 - accuracy: 0.9970 - val_loss: 1.1315 - val_accuracy: 0.8271\n",
            "Epoch 12/20\n",
            "625/625 [==============================] - 24s 38ms/step - loss: 0.0059 - accuracy: 0.9981 - val_loss: 1.2071 - val_accuracy: 0.8262\n",
            "Epoch 13/20\n",
            "625/625 [==============================] - 24s 38ms/step - loss: 0.0044 - accuracy: 0.9984 - val_loss: 1.3558 - val_accuracy: 0.8252\n",
            "Epoch 14/20\n",
            "625/625 [==============================] - 24s 38ms/step - loss: 0.0064 - accuracy: 0.9978 - val_loss: 1.1298 - val_accuracy: 0.8243\n",
            "Epoch 15/20\n",
            "625/625 [==============================] - 24s 38ms/step - loss: 0.0051 - accuracy: 0.9982 - val_loss: 1.1775 - val_accuracy: 0.8221\n",
            "Epoch 16/20\n",
            "625/625 [==============================] - 24s 38ms/step - loss: 0.0079 - accuracy: 0.9975 - val_loss: 1.0847 - val_accuracy: 0.8253\n",
            "Epoch 17/20\n",
            "625/625 [==============================] - 24s 38ms/step - loss: 0.0046 - accuracy: 0.9985 - val_loss: 1.1911 - val_accuracy: 0.8218\n",
            "Epoch 18/20\n",
            "625/625 [==============================] - 24s 38ms/step - loss: 0.0064 - accuracy: 0.9977 - val_loss: 1.0964 - val_accuracy: 0.8277\n",
            "Epoch 19/20\n",
            "625/625 [==============================] - 24s 38ms/step - loss: 0.0037 - accuracy: 0.9988 - val_loss: 1.3292 - val_accuracy: 0.8204\n",
            "Epoch 20/20\n",
            "625/625 [==============================] - 24s 38ms/step - loss: 0.0024 - accuracy: 0.9991 - val_loss: 1.5150 - val_accuracy: 0.8214\n"
          ],
          "name": "stdout"
        }
      ]
    },
    {
      "cell_type": "code",
      "metadata": {
        "id": "tQOfMCuQTi6K",
        "outputId": "271337c7-596f-43eb-ffe8-299ebe9b4653",
        "colab": {
          "base_uri": "https://localhost:8080/",
          "height": 952
        }
      },
      "source": [
        "bidirectional_model = keras.models.Sequential([\n",
        "    keras.layers.Embedding(vocab_size, embedding_dim, input_length=max_len),\n",
        "    keras.layers.Dropout(0.3),\n",
        "    keras.layers.Bidirectional(keras.layers.LSTM(512, return_sequences=True,\n",
        "                                                 dropout=0.2)),\n",
        "    keras.layers.Bidirectional(keras.layers.LSTM(512, return_sequences=True,\n",
        "                                                 dropout=0.2)),\n",
        "    keras.layers.Dropout(0.3),\n",
        "    keras.layers.Dense(1, activation=\"sigmoid\"),\n",
        "])\n",
        "\n",
        "bidirectional_model.summary()\n",
        "\n",
        "bidirectional_model.compile(loss=\"binary_crossentropy\", optimizer=\"adam\",\n",
        "                            metrics=[\"accuracy\"])\n",
        "\n",
        "history = bidirectional_model.fit(train_padded, train_labels, epochs=20, \n",
        "          validation_data=(valid_padded, valid_labels), verbose=1)"
      ],
      "execution_count": 18,
      "outputs": [
        {
          "output_type": "stream",
          "text": [
            "Model: \"sequential_4\"\n",
            "_________________________________________________________________\n",
            "Layer (type)                 Output Shape              Param #   \n",
            "=================================================================\n",
            "embedding_4 (Embedding)      (None, 40, 256)           2560000   \n",
            "_________________________________________________________________\n",
            "dropout_7 (Dropout)          (None, 40, 256)           0         \n",
            "_________________________________________________________________\n",
            "bidirectional (Bidirectional (None, 40, 1024)          3149824   \n",
            "_________________________________________________________________\n",
            "bidirectional_1 (Bidirection (None, 40, 1024)          6295552   \n",
            "_________________________________________________________________\n",
            "dropout_8 (Dropout)          (None, 40, 1024)          0         \n",
            "_________________________________________________________________\n",
            "dense_4 (Dense)              (None, 40, 1)             1025      \n",
            "=================================================================\n",
            "Total params: 12,006,401\n",
            "Trainable params: 12,006,401\n",
            "Non-trainable params: 0\n",
            "_________________________________________________________________\n",
            "Epoch 1/20\n",
            "625/625 [==============================] - 38s 61ms/step - loss: 0.4658 - accuracy: 0.7809 - val_loss: 0.3791 - val_accuracy: 0.8451\n",
            "Epoch 2/20\n",
            "625/625 [==============================] - 36s 58ms/step - loss: 0.2827 - accuracy: 0.8866 - val_loss: 0.3563 - val_accuracy: 0.8488\n",
            "Epoch 3/20\n",
            "625/625 [==============================] - 37s 59ms/step - loss: 0.2108 - accuracy: 0.9186 - val_loss: 0.4227 - val_accuracy: 0.8496\n",
            "Epoch 4/20\n",
            "625/625 [==============================] - 37s 59ms/step - loss: 0.1357 - accuracy: 0.9503 - val_loss: 0.4247 - val_accuracy: 0.8498\n",
            "Epoch 5/20\n",
            "625/625 [==============================] - 37s 59ms/step - loss: 0.0877 - accuracy: 0.9703 - val_loss: 0.4594 - val_accuracy: 0.8439\n",
            "Epoch 6/20\n",
            "625/625 [==============================] - 37s 59ms/step - loss: 0.0595 - accuracy: 0.9796 - val_loss: 0.6621 - val_accuracy: 0.8397\n",
            "Epoch 7/20\n",
            "625/625 [==============================] - 37s 58ms/step - loss: 0.0396 - accuracy: 0.9862 - val_loss: 0.7179 - val_accuracy: 0.8415\n",
            "Epoch 8/20\n",
            "360/625 [================>.............] - ETA: 14s - loss: 0.0271 - accuracy: 0.9915"
          ],
          "name": "stdout"
        },
        {
          "output_type": "error",
          "ename": "KeyboardInterrupt",
          "evalue": "ignored",
          "traceback": [
            "\u001b[0;31m---------------------------------------------------------------------------\u001b[0m",
            "\u001b[0;31mKeyboardInterrupt\u001b[0m                         Traceback (most recent call last)",
            "\u001b[0;32m<ipython-input-18-02402416c552>\u001b[0m in \u001b[0;36m<module>\u001b[0;34m()\u001b[0m\n\u001b[1;32m     16\u001b[0m \u001b[0;34m\u001b[0m\u001b[0m\n\u001b[1;32m     17\u001b[0m history = bidirectional_model.fit(train_padded, train_labels, epochs=20, \n\u001b[0;32m---> 18\u001b[0;31m           validation_data=(valid_padded, valid_labels), verbose=1)\n\u001b[0m",
            "\u001b[0;32m/usr/local/lib/python3.6/dist-packages/tensorflow/python/keras/engine/training.py\u001b[0m in \u001b[0;36m_method_wrapper\u001b[0;34m(self, *args, **kwargs)\u001b[0m\n\u001b[1;32m    106\u001b[0m   \u001b[0;32mdef\u001b[0m \u001b[0m_method_wrapper\u001b[0m\u001b[0;34m(\u001b[0m\u001b[0mself\u001b[0m\u001b[0;34m,\u001b[0m \u001b[0;34m*\u001b[0m\u001b[0margs\u001b[0m\u001b[0;34m,\u001b[0m \u001b[0;34m**\u001b[0m\u001b[0mkwargs\u001b[0m\u001b[0;34m)\u001b[0m\u001b[0;34m:\u001b[0m\u001b[0;34m\u001b[0m\u001b[0;34m\u001b[0m\u001b[0m\n\u001b[1;32m    107\u001b[0m     \u001b[0;32mif\u001b[0m \u001b[0;32mnot\u001b[0m \u001b[0mself\u001b[0m\u001b[0;34m.\u001b[0m\u001b[0m_in_multi_worker_mode\u001b[0m\u001b[0;34m(\u001b[0m\u001b[0;34m)\u001b[0m\u001b[0;34m:\u001b[0m  \u001b[0;31m# pylint: disable=protected-access\u001b[0m\u001b[0;34m\u001b[0m\u001b[0;34m\u001b[0m\u001b[0m\n\u001b[0;32m--> 108\u001b[0;31m       \u001b[0;32mreturn\u001b[0m \u001b[0mmethod\u001b[0m\u001b[0;34m(\u001b[0m\u001b[0mself\u001b[0m\u001b[0;34m,\u001b[0m \u001b[0;34m*\u001b[0m\u001b[0margs\u001b[0m\u001b[0;34m,\u001b[0m \u001b[0;34m**\u001b[0m\u001b[0mkwargs\u001b[0m\u001b[0;34m)\u001b[0m\u001b[0;34m\u001b[0m\u001b[0;34m\u001b[0m\u001b[0m\n\u001b[0m\u001b[1;32m    109\u001b[0m \u001b[0;34m\u001b[0m\u001b[0m\n\u001b[1;32m    110\u001b[0m     \u001b[0;31m# Running inside `run_distribute_coordinator` already.\u001b[0m\u001b[0;34m\u001b[0m\u001b[0;34m\u001b[0m\u001b[0;34m\u001b[0m\u001b[0m\n",
            "\u001b[0;32m/usr/local/lib/python3.6/dist-packages/tensorflow/python/keras/engine/training.py\u001b[0m in \u001b[0;36mfit\u001b[0;34m(self, x, y, batch_size, epochs, verbose, callbacks, validation_split, validation_data, shuffle, class_weight, sample_weight, initial_epoch, steps_per_epoch, validation_steps, validation_batch_size, validation_freq, max_queue_size, workers, use_multiprocessing)\u001b[0m\n\u001b[1;32m   1096\u001b[0m                 batch_size=batch_size):\n\u001b[1;32m   1097\u001b[0m               \u001b[0mcallbacks\u001b[0m\u001b[0;34m.\u001b[0m\u001b[0mon_train_batch_begin\u001b[0m\u001b[0;34m(\u001b[0m\u001b[0mstep\u001b[0m\u001b[0;34m)\u001b[0m\u001b[0;34m\u001b[0m\u001b[0;34m\u001b[0m\u001b[0m\n\u001b[0;32m-> 1098\u001b[0;31m               \u001b[0mtmp_logs\u001b[0m \u001b[0;34m=\u001b[0m \u001b[0mtrain_function\u001b[0m\u001b[0;34m(\u001b[0m\u001b[0miterator\u001b[0m\u001b[0;34m)\u001b[0m\u001b[0;34m\u001b[0m\u001b[0;34m\u001b[0m\u001b[0m\n\u001b[0m\u001b[1;32m   1099\u001b[0m               \u001b[0;32mif\u001b[0m \u001b[0mdata_handler\u001b[0m\u001b[0;34m.\u001b[0m\u001b[0mshould_sync\u001b[0m\u001b[0;34m:\u001b[0m\u001b[0;34m\u001b[0m\u001b[0;34m\u001b[0m\u001b[0m\n\u001b[1;32m   1100\u001b[0m                 \u001b[0mcontext\u001b[0m\u001b[0;34m.\u001b[0m\u001b[0masync_wait\u001b[0m\u001b[0;34m(\u001b[0m\u001b[0;34m)\u001b[0m\u001b[0;34m\u001b[0m\u001b[0;34m\u001b[0m\u001b[0m\n",
            "\u001b[0;32m/usr/local/lib/python3.6/dist-packages/tensorflow/python/eager/def_function.py\u001b[0m in \u001b[0;36m__call__\u001b[0;34m(self, *args, **kwds)\u001b[0m\n\u001b[1;32m    778\u001b[0m       \u001b[0;32melse\u001b[0m\u001b[0;34m:\u001b[0m\u001b[0;34m\u001b[0m\u001b[0;34m\u001b[0m\u001b[0m\n\u001b[1;32m    779\u001b[0m         \u001b[0mcompiler\u001b[0m \u001b[0;34m=\u001b[0m \u001b[0;34m\"nonXla\"\u001b[0m\u001b[0;34m\u001b[0m\u001b[0;34m\u001b[0m\u001b[0m\n\u001b[0;32m--> 780\u001b[0;31m         \u001b[0mresult\u001b[0m \u001b[0;34m=\u001b[0m \u001b[0mself\u001b[0m\u001b[0;34m.\u001b[0m\u001b[0m_call\u001b[0m\u001b[0;34m(\u001b[0m\u001b[0;34m*\u001b[0m\u001b[0margs\u001b[0m\u001b[0;34m,\u001b[0m \u001b[0;34m**\u001b[0m\u001b[0mkwds\u001b[0m\u001b[0;34m)\u001b[0m\u001b[0;34m\u001b[0m\u001b[0;34m\u001b[0m\u001b[0m\n\u001b[0m\u001b[1;32m    781\u001b[0m \u001b[0;34m\u001b[0m\u001b[0m\n\u001b[1;32m    782\u001b[0m       \u001b[0mnew_tracing_count\u001b[0m \u001b[0;34m=\u001b[0m \u001b[0mself\u001b[0m\u001b[0;34m.\u001b[0m\u001b[0m_get_tracing_count\u001b[0m\u001b[0;34m(\u001b[0m\u001b[0;34m)\u001b[0m\u001b[0;34m\u001b[0m\u001b[0;34m\u001b[0m\u001b[0m\n",
            "\u001b[0;32m/usr/local/lib/python3.6/dist-packages/tensorflow/python/eager/def_function.py\u001b[0m in \u001b[0;36m_call\u001b[0;34m(self, *args, **kwds)\u001b[0m\n\u001b[1;32m    805\u001b[0m       \u001b[0;31m# In this case we have created variables on the first call, so we run the\u001b[0m\u001b[0;34m\u001b[0m\u001b[0;34m\u001b[0m\u001b[0;34m\u001b[0m\u001b[0m\n\u001b[1;32m    806\u001b[0m       \u001b[0;31m# defunned version which is guaranteed to never create variables.\u001b[0m\u001b[0;34m\u001b[0m\u001b[0;34m\u001b[0m\u001b[0;34m\u001b[0m\u001b[0m\n\u001b[0;32m--> 807\u001b[0;31m       \u001b[0;32mreturn\u001b[0m \u001b[0mself\u001b[0m\u001b[0;34m.\u001b[0m\u001b[0m_stateless_fn\u001b[0m\u001b[0;34m(\u001b[0m\u001b[0;34m*\u001b[0m\u001b[0margs\u001b[0m\u001b[0;34m,\u001b[0m \u001b[0;34m**\u001b[0m\u001b[0mkwds\u001b[0m\u001b[0;34m)\u001b[0m  \u001b[0;31m# pylint: disable=not-callable\u001b[0m\u001b[0;34m\u001b[0m\u001b[0;34m\u001b[0m\u001b[0m\n\u001b[0m\u001b[1;32m    808\u001b[0m     \u001b[0;32melif\u001b[0m \u001b[0mself\u001b[0m\u001b[0;34m.\u001b[0m\u001b[0m_stateful_fn\u001b[0m \u001b[0;32mis\u001b[0m \u001b[0;32mnot\u001b[0m \u001b[0;32mNone\u001b[0m\u001b[0;34m:\u001b[0m\u001b[0;34m\u001b[0m\u001b[0;34m\u001b[0m\u001b[0m\n\u001b[1;32m    809\u001b[0m       \u001b[0;31m# Release the lock early so that multiple threads can perform the call\u001b[0m\u001b[0;34m\u001b[0m\u001b[0;34m\u001b[0m\u001b[0;34m\u001b[0m\u001b[0m\n",
            "\u001b[0;32m/usr/local/lib/python3.6/dist-packages/tensorflow/python/eager/function.py\u001b[0m in \u001b[0;36m__call__\u001b[0;34m(self, *args, **kwargs)\u001b[0m\n\u001b[1;32m   2827\u001b[0m     \u001b[0;32mwith\u001b[0m \u001b[0mself\u001b[0m\u001b[0;34m.\u001b[0m\u001b[0m_lock\u001b[0m\u001b[0;34m:\u001b[0m\u001b[0;34m\u001b[0m\u001b[0;34m\u001b[0m\u001b[0m\n\u001b[1;32m   2828\u001b[0m       \u001b[0mgraph_function\u001b[0m\u001b[0;34m,\u001b[0m \u001b[0margs\u001b[0m\u001b[0;34m,\u001b[0m \u001b[0mkwargs\u001b[0m \u001b[0;34m=\u001b[0m \u001b[0mself\u001b[0m\u001b[0;34m.\u001b[0m\u001b[0m_maybe_define_function\u001b[0m\u001b[0;34m(\u001b[0m\u001b[0margs\u001b[0m\u001b[0;34m,\u001b[0m \u001b[0mkwargs\u001b[0m\u001b[0;34m)\u001b[0m\u001b[0;34m\u001b[0m\u001b[0;34m\u001b[0m\u001b[0m\n\u001b[0;32m-> 2829\u001b[0;31m     \u001b[0;32mreturn\u001b[0m \u001b[0mgraph_function\u001b[0m\u001b[0;34m.\u001b[0m\u001b[0m_filtered_call\u001b[0m\u001b[0;34m(\u001b[0m\u001b[0margs\u001b[0m\u001b[0;34m,\u001b[0m \u001b[0mkwargs\u001b[0m\u001b[0;34m)\u001b[0m  \u001b[0;31m# pylint: disable=protected-access\u001b[0m\u001b[0;34m\u001b[0m\u001b[0;34m\u001b[0m\u001b[0m\n\u001b[0m\u001b[1;32m   2830\u001b[0m \u001b[0;34m\u001b[0m\u001b[0m\n\u001b[1;32m   2831\u001b[0m   \u001b[0;34m@\u001b[0m\u001b[0mproperty\u001b[0m\u001b[0;34m\u001b[0m\u001b[0;34m\u001b[0m\u001b[0m\n",
            "\u001b[0;32m/usr/local/lib/python3.6/dist-packages/tensorflow/python/eager/function.py\u001b[0m in \u001b[0;36m_filtered_call\u001b[0;34m(self, args, kwargs, cancellation_manager)\u001b[0m\n\u001b[1;32m   1846\u001b[0m                            resource_variable_ops.BaseResourceVariable))],\n\u001b[1;32m   1847\u001b[0m         \u001b[0mcaptured_inputs\u001b[0m\u001b[0;34m=\u001b[0m\u001b[0mself\u001b[0m\u001b[0;34m.\u001b[0m\u001b[0mcaptured_inputs\u001b[0m\u001b[0;34m,\u001b[0m\u001b[0;34m\u001b[0m\u001b[0;34m\u001b[0m\u001b[0m\n\u001b[0;32m-> 1848\u001b[0;31m         cancellation_manager=cancellation_manager)\n\u001b[0m\u001b[1;32m   1849\u001b[0m \u001b[0;34m\u001b[0m\u001b[0m\n\u001b[1;32m   1850\u001b[0m   \u001b[0;32mdef\u001b[0m \u001b[0m_call_flat\u001b[0m\u001b[0;34m(\u001b[0m\u001b[0mself\u001b[0m\u001b[0;34m,\u001b[0m \u001b[0margs\u001b[0m\u001b[0;34m,\u001b[0m \u001b[0mcaptured_inputs\u001b[0m\u001b[0;34m,\u001b[0m \u001b[0mcancellation_manager\u001b[0m\u001b[0;34m=\u001b[0m\u001b[0;32mNone\u001b[0m\u001b[0;34m)\u001b[0m\u001b[0;34m:\u001b[0m\u001b[0;34m\u001b[0m\u001b[0;34m\u001b[0m\u001b[0m\n",
            "\u001b[0;32m/usr/local/lib/python3.6/dist-packages/tensorflow/python/eager/function.py\u001b[0m in \u001b[0;36m_call_flat\u001b[0;34m(self, args, captured_inputs, cancellation_manager)\u001b[0m\n\u001b[1;32m   1922\u001b[0m       \u001b[0;31m# No tape is watching; skip to running the function.\u001b[0m\u001b[0;34m\u001b[0m\u001b[0;34m\u001b[0m\u001b[0;34m\u001b[0m\u001b[0m\n\u001b[1;32m   1923\u001b[0m       return self._build_call_outputs(self._inference_function.call(\n\u001b[0;32m-> 1924\u001b[0;31m           ctx, args, cancellation_manager=cancellation_manager))\n\u001b[0m\u001b[1;32m   1925\u001b[0m     forward_backward = self._select_forward_and_backward_functions(\n\u001b[1;32m   1926\u001b[0m         \u001b[0margs\u001b[0m\u001b[0;34m,\u001b[0m\u001b[0;34m\u001b[0m\u001b[0;34m\u001b[0m\u001b[0m\n",
            "\u001b[0;32m/usr/local/lib/python3.6/dist-packages/tensorflow/python/eager/function.py\u001b[0m in \u001b[0;36mcall\u001b[0;34m(self, ctx, args, cancellation_manager)\u001b[0m\n\u001b[1;32m    548\u001b[0m               \u001b[0minputs\u001b[0m\u001b[0;34m=\u001b[0m\u001b[0margs\u001b[0m\u001b[0;34m,\u001b[0m\u001b[0;34m\u001b[0m\u001b[0;34m\u001b[0m\u001b[0m\n\u001b[1;32m    549\u001b[0m               \u001b[0mattrs\u001b[0m\u001b[0;34m=\u001b[0m\u001b[0mattrs\u001b[0m\u001b[0;34m,\u001b[0m\u001b[0;34m\u001b[0m\u001b[0;34m\u001b[0m\u001b[0m\n\u001b[0;32m--> 550\u001b[0;31m               ctx=ctx)\n\u001b[0m\u001b[1;32m    551\u001b[0m         \u001b[0;32melse\u001b[0m\u001b[0;34m:\u001b[0m\u001b[0;34m\u001b[0m\u001b[0;34m\u001b[0m\u001b[0m\n\u001b[1;32m    552\u001b[0m           outputs = execute.execute_with_cancellation(\n",
            "\u001b[0;32m/usr/local/lib/python3.6/dist-packages/tensorflow/python/eager/execute.py\u001b[0m in \u001b[0;36mquick_execute\u001b[0;34m(op_name, num_outputs, inputs, attrs, ctx, name)\u001b[0m\n\u001b[1;32m     58\u001b[0m     \u001b[0mctx\u001b[0m\u001b[0;34m.\u001b[0m\u001b[0mensure_initialized\u001b[0m\u001b[0;34m(\u001b[0m\u001b[0;34m)\u001b[0m\u001b[0;34m\u001b[0m\u001b[0;34m\u001b[0m\u001b[0m\n\u001b[1;32m     59\u001b[0m     tensors = pywrap_tfe.TFE_Py_Execute(ctx._handle, device_name, op_name,\n\u001b[0;32m---> 60\u001b[0;31m                                         inputs, attrs, num_outputs)\n\u001b[0m\u001b[1;32m     61\u001b[0m   \u001b[0;32mexcept\u001b[0m \u001b[0mcore\u001b[0m\u001b[0;34m.\u001b[0m\u001b[0m_NotOkStatusException\u001b[0m \u001b[0;32mas\u001b[0m \u001b[0me\u001b[0m\u001b[0;34m:\u001b[0m\u001b[0;34m\u001b[0m\u001b[0;34m\u001b[0m\u001b[0m\n\u001b[1;32m     62\u001b[0m     \u001b[0;32mif\u001b[0m \u001b[0mname\u001b[0m \u001b[0;32mis\u001b[0m \u001b[0;32mnot\u001b[0m \u001b[0;32mNone\u001b[0m\u001b[0;34m:\u001b[0m\u001b[0;34m\u001b[0m\u001b[0;34m\u001b[0m\u001b[0m\n",
            "\u001b[0;31mKeyboardInterrupt\u001b[0m: "
          ]
        }
      ]
    },
    {
      "cell_type": "code",
      "metadata": {
        "id": "1-VFC-l4WJgX"
      },
      "source": [
        "plot_graph(history, \"accuracy\")\n",
        "plot_graph(history, \"loss\")"
      ],
      "execution_count": null,
      "outputs": []
    },
    {
      "cell_type": "code",
      "metadata": {
        "id": "zmaB35eRY8Q2"
      },
      "source": [
        ""
      ],
      "execution_count": null,
      "outputs": []
    }
  ]
}